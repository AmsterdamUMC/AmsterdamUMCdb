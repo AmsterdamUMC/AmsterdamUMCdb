{
  "nbformat": 4,
  "nbformat_minor": 0,
  "metadata": {
    "kernelspec": {
      "display_name": "Python 3",
      "language": "python",
      "name": "python3"
    },
    "language_info": {
      "codemirror_mode": {
        "name": "ipython",
        "version": 3
      },
      "file_extension": ".py",
      "mimetype": "text/x-python",
      "name": "python",
      "nbconvert_exporter": "python",
      "pygments_lexer": "ipython3",
      "version": "3.7.4"
    },
    "colab": {
      "name": "freetextitems.ipynb",
      "provenance": []
    }
  },
  "cells": [
    {
      "cell_type": "markdown",
      "metadata": {
        "id": "VA-mvbVU6izX",
        "colab_type": "text"
      },
      "source": [
        "<img src=\"https://github.com/AmsterdamUMC/AmsterdamUMCdb/raw/master/img/logo_amds.png\" alt=\"Logo\" style=\"width: 128px;\"/>\n",
        "\n",
        "# AmsterdamUMCdb - Freely Accessible ICU Database\n",
        "\n",
        "version 1.0.1 January 2020  \n",
        "Copyright &copy; 2003-2020 Amsterdam UMC - Amsterdam Medical Data Science"
      ]
    },
    {
      "cell_type": "markdown",
      "metadata": {
        "azdata_cell_guid": "4a40ac09-522e-41f3-991b-d42bf3f5ec7d",
        "id": "nMuyp3076izZ",
        "colab_type": "text"
      },
      "source": [
        "# <a id='freetextitems'></a>freetextitems table\n",
        "The *freetextitems* table contains all observations, including laboratory results, that store text (non-numeric) data. Personal data, including references to hospital staff have been removed. All items have an associated admissionid from the [admissions](admissions.ipynb#admissions) table.\n",
        "\n",
        "## Fields\n",
        "\n",
        "|Name|Type|Description|\n",
        "|:---|:---|:---|\n",
        "|admissionid|integer|links the items with the admissionid in the [admissions](admissions.ipynb#admissions) table|\n",
        "|itemid|integer|id to identify the type of result|\n",
        "|[item](#item)|string|type of result|\n",
        "|[value](#value)|string|value of this text result|\n",
        "|[comment](#comment)|string|comment associated with this result|\n",
        "|measuredat|integer|time associated with this result in milliseconds since the first admission. Negative results imply that the sample was drawn before the first ICU admission|\n",
        "|registeredat|integer|time the result was saved to the database in milliseconds since the first admission. Negative results imply that the sample was drawn before the first ICU admission.|\n",
        "|registeredby|string|user group that updated the result ('System')|\n",
        "|updatedat|integer|time the result was updated, in milliseconds since the first admission|\n",
        "|updatedby|string|user group that updated the result ('System')|\n",
        "|islabresult|bit|determines wheter the observation is a labresult. Currently, only freetext labresults have been released|"
      ]
    },
    {
      "cell_type": "markdown",
      "metadata": {
        "id": "70z0zlv06izZ",
        "colab_type": "text"
      },
      "source": [
        "<h2>Example Python and SQL scripts</h2>"
      ]
    },
    {
      "cell_type": "markdown",
      "metadata": {
        "id": "HvtWCDHK6iza",
        "colab_type": "text"
      },
      "source": [
        "## Imports"
      ]
    },
    {
      "cell_type": "code",
      "metadata": {
        "id": "pUa8SrAa6izb",
        "colab_type": "code",
        "outputId": "acc4bf30-7afa-474b-eaaf-6d8a2aa607de",
        "colab": {
          "base_uri": "https://localhost:8080/",
          "height": 213
        }
      },
      "source": [
        "%matplotlib inline\n",
        "#gets the module from the repository for use in Colab\n",
        "import os.path\n",
        "try:\n",
        "  if not os.path.isfile('amsterdamumcdb.py'):\n",
        "    !wget https://raw.githubusercontent.com/AmsterdamUMC/AmsterdamUMCdb/master/tables/amsterdamumcdb.py\n",
        "finally:\n",
        "    import amsterdamumcdb\n",
        "\n",
        "import pandas as pd\n",
        "import numpy as np\n",
        "\n",
        "import matplotlib.pyplot as plt\n",
        "import matplotlib.gridspec as gridspec\n",
        "import matplotlib as mpl\n",
        "\n",
        "import io\n",
        "from IPython.display import display, HTML, Markdown\n",
        "\n",
        "# Imports for accessing Datathon data using Google BigQuery.\n",
        "from google.colab import auth\n",
        "from google.cloud import bigquery"
      ],
      "execution_count": 1,
      "outputs": [
        {
          "output_type": "stream",
          "text": [
            "--2020-01-30 20:05:33--  https://raw.githubusercontent.com/AmsterdamUMC/AmsterdamUMCdb/master/tables/amsterdamumcdb.py\n",
            "Resolving raw.githubusercontent.com (raw.githubusercontent.com)... 151.101.0.133, 151.101.64.133, 151.101.128.133, ...\n",
            "Connecting to raw.githubusercontent.com (raw.githubusercontent.com)|151.101.0.133|:443... connected.\n",
            "HTTP request sent, awaiting response... 200 OK\n",
            "Length: 2899 (2.8K) [text/plain]\n",
            "Saving to: ‘amsterdamumcdb.py’\n",
            "\n",
            "\ramsterdamumcdb.py     0%[                    ]       0  --.-KB/s               \ramsterdamumcdb.py   100%[===================>]   2.83K  --.-KB/s    in 0s      \n",
            "\n",
            "2020-01-30 20:05:33 (58.9 MB/s) - ‘amsterdamumcdb.py’ saved [2899/2899]\n",
            "\n"
          ],
          "name": "stdout"
        }
      ]
    },
    {
      "cell_type": "markdown",
      "metadata": {
        "id": "wYSmXrfo6ize",
        "colab_type": "text"
      },
      "source": [
        "## Display settings"
      ]
    },
    {
      "cell_type": "code",
      "metadata": {
        "id": "MnRbWFdl6izf",
        "colab_type": "code",
        "colab": {}
      },
      "source": [
        "#matplotlib settings for image size\n",
        "#needs to be in a different cell from %matplotlib inline\n",
        "plt.style.use('seaborn-darkgrid')\n",
        "plt.rcParams[\"figure.dpi\"] = 144\n",
        "plt.rcParams[\"figure.figsize\"] = [8, 6]\n",
        "plt.rcParams[\"font.size\"] = 12\n",
        "\n",
        "pd.options.display.max_columns = None\n",
        "pd.options.display.max_rows = None\n",
        "pd.options.display.max_colwidth = 1000"
      ],
      "execution_count": 0,
      "outputs": []
    },
    {
      "cell_type": "markdown",
      "metadata": {
        "id": "RQ7bfZxz6izh",
        "colab_type": "text"
      },
      "source": [
        "## Connection settings"
      ]
    },
    {
      "cell_type": "code",
      "metadata": {
        "id": "kqcr97ii6izi",
        "colab_type": "code",
        "colab": {}
      },
      "source": [
        "auth.authenticate_user()\n",
        "\n",
        "project_id='milandaticu2020'\n",
        "os.environ[\"GOOGLE_CLOUD_PROJECT\"]=project_id\n",
        "os.environ[\"GOOGLE_CLOUD_PROJECT\"]\n",
        "\n",
        "config = {'query': \n",
        "          {'defaultDataset': {\n",
        "              \"datasetId\": 'amsterdamumcdb_v_1_0_1', \n",
        "              \"projectId\": 'amsterdamumcdb-data' \n",
        "              }\n",
        "           }\n",
        "          }"
      ],
      "execution_count": 0,
      "outputs": []
    },
    {
      "cell_type": "markdown",
      "metadata": {
        "id": "KbBg5Pwj6izk",
        "colab_type": "text"
      },
      "source": [
        "## Overview of all fields"
      ]
    },
    {
      "cell_type": "code",
      "metadata": {
        "azdata_cell_guid": "af0db8dd-df4e-4305-b2ac-f10e8fefe9b4",
        "id": "E2__TH_86izl",
        "colab_type": "code",
        "outputId": "1e90782c-ceec-481f-fb42-27d9bdc0cfd0",
        "colab": {
          "base_uri": "https://localhost:8080/",
          "height": 371
        }
      },
      "source": [
        "sql = \"\"\"\n",
        "SELECT * FROM freetextitems\n",
        "\"\"\"\n",
        "display(Markdown(\"``` mysql\\n\" + sql + \"\\n```\"))\n",
        "freetexitems = pd.read_gbq(sql, configuration=config)\n",
        "freetexitems.head(10)"
      ],
      "execution_count": 4,
      "outputs": [
        {
          "output_type": "display_data",
          "data": {
            "text/markdown": "``` mysql\n\nSELECT * FROM freetextitems\n\n```",
            "text/plain": [
              "<IPython.core.display.Markdown object>"
            ]
          },
          "metadata": {
            "tags": []
          }
        },
        {
          "output_type": "execute_result",
          "data": {
            "text/html": [
              "<div>\n",
              "<style scoped>\n",
              "    .dataframe tbody tr th:only-of-type {\n",
              "        vertical-align: middle;\n",
              "    }\n",
              "\n",
              "    .dataframe tbody tr th {\n",
              "        vertical-align: top;\n",
              "    }\n",
              "\n",
              "    .dataframe thead th {\n",
              "        text-align: right;\n",
              "    }\n",
              "</style>\n",
              "<table border=\"1\" class=\"dataframe\">\n",
              "  <thead>\n",
              "    <tr style=\"text-align: right;\">\n",
              "      <th></th>\n",
              "      <th>admissionid</th>\n",
              "      <th>itemid</th>\n",
              "      <th>item</th>\n",
              "      <th>value</th>\n",
              "      <th>comment</th>\n",
              "      <th>measuredat</th>\n",
              "      <th>registeredat</th>\n",
              "      <th>registeredby</th>\n",
              "      <th>updatedat</th>\n",
              "      <th>updatedby</th>\n",
              "      <th>islabresult</th>\n",
              "    </tr>\n",
              "  </thead>\n",
              "  <tbody>\n",
              "    <tr>\n",
              "      <th>0</th>\n",
              "      <td>23069</td>\n",
              "      <td>17586</td>\n",
              "      <td>Nuchter?</td>\n",
              "      <td>volgt</td>\n",
              "      <td>None</td>\n",
              "      <td>-1899</td>\n",
              "      <td>-18000000</td>\n",
              "      <td>Systeem</td>\n",
              "      <td>85760804</td>\n",
              "      <td>None</td>\n",
              "      <td>1</td>\n",
              "    </tr>\n",
              "    <tr>\n",
              "      <th>1</th>\n",
              "      <td>22</td>\n",
              "      <td>17586</td>\n",
              "      <td>Nuchter?</td>\n",
              "      <td>onbekend</td>\n",
              "      <td>None</td>\n",
              "      <td>-190860000</td>\n",
              "      <td>-190860000</td>\n",
              "      <td>Systeem</td>\n",
              "      <td>244443</td>\n",
              "      <td>Systeem</td>\n",
              "      <td>1</td>\n",
              "    </tr>\n",
              "    <tr>\n",
              "      <th>2</th>\n",
              "      <td>36</td>\n",
              "      <td>17586</td>\n",
              "      <td>Nuchter?</td>\n",
              "      <td>onbekend</td>\n",
              "      <td>None</td>\n",
              "      <td>-29820000</td>\n",
              "      <td>-29820000</td>\n",
              "      <td>Systeem</td>\n",
              "      <td>22829090</td>\n",
              "      <td>Systeem</td>\n",
              "      <td>1</td>\n",
              "    </tr>\n",
              "    <tr>\n",
              "      <th>3</th>\n",
              "      <td>135</td>\n",
              "      <td>17586</td>\n",
              "      <td>Nuchter?</td>\n",
              "      <td>onbekend</td>\n",
              "      <td>None</td>\n",
              "      <td>290700000</td>\n",
              "      <td>290700000</td>\n",
              "      <td>Systeem</td>\n",
              "      <td>652461643</td>\n",
              "      <td>Systeem</td>\n",
              "      <td>1</td>\n",
              "    </tr>\n",
              "    <tr>\n",
              "      <th>4</th>\n",
              "      <td>144</td>\n",
              "      <td>17586</td>\n",
              "      <td>Nuchter?</td>\n",
              "      <td>onbekend</td>\n",
              "      <td>None</td>\n",
              "      <td>660960000</td>\n",
              "      <td>660960000</td>\n",
              "      <td>Systeem</td>\n",
              "      <td>861006000</td>\n",
              "      <td>Systeem</td>\n",
              "      <td>1</td>\n",
              "    </tr>\n",
              "    <tr>\n",
              "      <th>5</th>\n",
              "      <td>194</td>\n",
              "      <td>17586</td>\n",
              "      <td>Nuchter?</td>\n",
              "      <td>onbekend</td>\n",
              "      <td>None</td>\n",
              "      <td>-18840000</td>\n",
              "      <td>-18840000</td>\n",
              "      <td>Systeem</td>\n",
              "      <td>201989566</td>\n",
              "      <td>Systeem</td>\n",
              "      <td>1</td>\n",
              "    </tr>\n",
              "    <tr>\n",
              "      <th>6</th>\n",
              "      <td>204</td>\n",
              "      <td>17586</td>\n",
              "      <td>Nuchter?</td>\n",
              "      <td>onbekend</td>\n",
              "      <td>None</td>\n",
              "      <td>-1899</td>\n",
              "      <td>-47100000</td>\n",
              "      <td>Systeem</td>\n",
              "      <td>2301956</td>\n",
              "      <td>None</td>\n",
              "      <td>1</td>\n",
              "    </tr>\n",
              "    <tr>\n",
              "      <th>7</th>\n",
              "      <td>246</td>\n",
              "      <td>17586</td>\n",
              "      <td>Nuchter?</td>\n",
              "      <td>onbekend</td>\n",
              "      <td>None</td>\n",
              "      <td>-1173780000</td>\n",
              "      <td>-1173780000</td>\n",
              "      <td>Systeem</td>\n",
              "      <td>323563</td>\n",
              "      <td>Systeem</td>\n",
              "      <td>1</td>\n",
              "    </tr>\n",
              "    <tr>\n",
              "      <th>8</th>\n",
              "      <td>251</td>\n",
              "      <td>17586</td>\n",
              "      <td>Nuchter?</td>\n",
              "      <td>onbekend</td>\n",
              "      <td>None</td>\n",
              "      <td>-194100000</td>\n",
              "      <td>-194100000</td>\n",
              "      <td>Systeem</td>\n",
              "      <td>150190</td>\n",
              "      <td>Systeem</td>\n",
              "      <td>1</td>\n",
              "    </tr>\n",
              "    <tr>\n",
              "      <th>9</th>\n",
              "      <td>269</td>\n",
              "      <td>17586</td>\n",
              "      <td>Nuchter?</td>\n",
              "      <td>onbekend</td>\n",
              "      <td>None</td>\n",
              "      <td>-524100000</td>\n",
              "      <td>-524100000</td>\n",
              "      <td>Systeem</td>\n",
              "      <td>158903</td>\n",
              "      <td>Systeem</td>\n",
              "      <td>1</td>\n",
              "    </tr>\n",
              "  </tbody>\n",
              "</table>\n",
              "</div>"
            ],
            "text/plain": [
              "   admissionid  itemid      item     value comment  measuredat  registeredat  \\\n",
              "0        23069   17586  Nuchter?     volgt    None       -1899     -18000000   \n",
              "1           22   17586  Nuchter?  onbekend    None  -190860000    -190860000   \n",
              "2           36   17586  Nuchter?  onbekend    None   -29820000     -29820000   \n",
              "3          135   17586  Nuchter?  onbekend    None   290700000     290700000   \n",
              "4          144   17586  Nuchter?  onbekend    None   660960000     660960000   \n",
              "5          194   17586  Nuchter?  onbekend    None   -18840000     -18840000   \n",
              "6          204   17586  Nuchter?  onbekend    None       -1899     -47100000   \n",
              "7          246   17586  Nuchter?  onbekend    None -1173780000   -1173780000   \n",
              "8          251   17586  Nuchter?  onbekend    None  -194100000    -194100000   \n",
              "9          269   17586  Nuchter?  onbekend    None  -524100000    -524100000   \n",
              "\n",
              "  registeredby  updatedat updatedby  islabresult  \n",
              "0      Systeem   85760804      None            1  \n",
              "1      Systeem     244443   Systeem            1  \n",
              "2      Systeem   22829090   Systeem            1  \n",
              "3      Systeem  652461643   Systeem            1  \n",
              "4      Systeem  861006000   Systeem            1  \n",
              "5      Systeem  201989566   Systeem            1  \n",
              "6      Systeem    2301956      None            1  \n",
              "7      Systeem     323563   Systeem            1  \n",
              "8      Systeem     150190   Systeem            1  \n",
              "9      Systeem     158903   Systeem            1  "
            ]
          },
          "metadata": {
            "tags": []
          },
          "execution_count": 4
        }
      ]
    },
    {
      "cell_type": "code",
      "metadata": {
        "scrolled": false,
        "id": "RL6_OP4H6izo",
        "colab_type": "code",
        "outputId": "fe100061-4a9e-434e-97e7-8c085e73c238",
        "colab": {
          "base_uri": "https://localhost:8080/",
          "height": 293
        }
      },
      "source": [
        "freetexitems.describe()"
      ],
      "execution_count": 5,
      "outputs": [
        {
          "output_type": "execute_result",
          "data": {
            "text/html": [
              "<div>\n",
              "<style scoped>\n",
              "    .dataframe tbody tr th:only-of-type {\n",
              "        vertical-align: middle;\n",
              "    }\n",
              "\n",
              "    .dataframe tbody tr th {\n",
              "        vertical-align: top;\n",
              "    }\n",
              "\n",
              "    .dataframe thead th {\n",
              "        text-align: right;\n",
              "    }\n",
              "</style>\n",
              "<table border=\"1\" class=\"dataframe\">\n",
              "  <thead>\n",
              "    <tr style=\"text-align: right;\">\n",
              "      <th></th>\n",
              "      <th>admissionid</th>\n",
              "      <th>itemid</th>\n",
              "      <th>measuredat</th>\n",
              "      <th>registeredat</th>\n",
              "      <th>updatedat</th>\n",
              "      <th>islabresult</th>\n",
              "    </tr>\n",
              "  </thead>\n",
              "  <tbody>\n",
              "    <tr>\n",
              "      <th>count</th>\n",
              "      <td>653040.000000</td>\n",
              "      <td>653040.000000</td>\n",
              "      <td>6.530400e+05</td>\n",
              "      <td>6.530400e+05</td>\n",
              "      <td>6.530400e+05</td>\n",
              "      <td>653040.0</td>\n",
              "    </tr>\n",
              "    <tr>\n",
              "      <th>mean</th>\n",
              "      <td>11767.901989</td>\n",
              "      <td>11861.028791</td>\n",
              "      <td>5.434522e+09</td>\n",
              "      <td>5.456993e+09</td>\n",
              "      <td>6.068839e+09</td>\n",
              "      <td>1.0</td>\n",
              "    </tr>\n",
              "    <tr>\n",
              "      <th>std</th>\n",
              "      <td>6768.990150</td>\n",
              "      <td>1179.085839</td>\n",
              "      <td>2.750823e+10</td>\n",
              "      <td>2.755847e+10</td>\n",
              "      <td>2.792045e+10</td>\n",
              "      <td>0.0</td>\n",
              "    </tr>\n",
              "    <tr>\n",
              "      <th>min</th>\n",
              "      <td>0.000000</td>\n",
              "      <td>10765.000000</td>\n",
              "      <td>-5.172246e+10</td>\n",
              "      <td>-5.172246e+10</td>\n",
              "      <td>-3.061021e+08</td>\n",
              "      <td>1.0</td>\n",
              "    </tr>\n",
              "    <tr>\n",
              "      <th>25%</th>\n",
              "      <td>6054.000000</td>\n",
              "      <td>11646.000000</td>\n",
              "      <td>9.000000e+06</td>\n",
              "      <td>9.720000e+06</td>\n",
              "      <td>5.914922e+07</td>\n",
              "      <td>1.0</td>\n",
              "    </tr>\n",
              "    <tr>\n",
              "      <th>50%</th>\n",
              "      <td>11713.500000</td>\n",
              "      <td>11646.000000</td>\n",
              "      <td>2.208600e+08</td>\n",
              "      <td>2.235600e+08</td>\n",
              "      <td>3.506514e+08</td>\n",
              "      <td>1.0</td>\n",
              "    </tr>\n",
              "    <tr>\n",
              "      <th>75%</th>\n",
              "      <td>17684.000000</td>\n",
              "      <td>11646.000000</td>\n",
              "      <td>1.187400e+09</td>\n",
              "      <td>1.192800e+09</td>\n",
              "      <td>1.401325e+09</td>\n",
              "      <td>1.0</td>\n",
              "    </tr>\n",
              "    <tr>\n",
              "      <th>max</th>\n",
              "      <td>23551.000000</td>\n",
              "      <td>21207.000000</td>\n",
              "      <td>3.916534e+11</td>\n",
              "      <td>3.916534e+11</td>\n",
              "      <td>3.916539e+11</td>\n",
              "      <td>1.0</td>\n",
              "    </tr>\n",
              "  </tbody>\n",
              "</table>\n",
              "</div>"
            ],
            "text/plain": [
              "         admissionid         itemid    measuredat  registeredat     updatedat  \\\n",
              "count  653040.000000  653040.000000  6.530400e+05  6.530400e+05  6.530400e+05   \n",
              "mean    11767.901989   11861.028791  5.434522e+09  5.456993e+09  6.068839e+09   \n",
              "std      6768.990150    1179.085839  2.750823e+10  2.755847e+10  2.792045e+10   \n",
              "min         0.000000   10765.000000 -5.172246e+10 -5.172246e+10 -3.061021e+08   \n",
              "25%      6054.000000   11646.000000  9.000000e+06  9.720000e+06  5.914922e+07   \n",
              "50%     11713.500000   11646.000000  2.208600e+08  2.235600e+08  3.506514e+08   \n",
              "75%     17684.000000   11646.000000  1.187400e+09  1.192800e+09  1.401325e+09   \n",
              "max     23551.000000   21207.000000  3.916534e+11  3.916534e+11  3.916539e+11   \n",
              "\n",
              "       islabresult  \n",
              "count     653040.0  \n",
              "mean           1.0  \n",
              "std            0.0  \n",
              "min            1.0  \n",
              "25%            1.0  \n",
              "50%            1.0  \n",
              "75%            1.0  \n",
              "max            1.0  "
            ]
          },
          "metadata": {
            "tags": []
          },
          "execution_count": 5
        }
      ]
    },
    {
      "cell_type": "markdown",
      "metadata": {
        "id": "s7KMus2W6izq",
        "colab_type": "text"
      },
      "source": [
        "## <a id='item'></a> item"
      ]
    },
    {
      "cell_type": "code",
      "metadata": {
        "scrolled": false,
        "id": "Nzjl9bJ46izr",
        "colab_type": "code",
        "outputId": "47196c95-8842-4d4d-8742-776e43b10119",
        "colab": {
          "base_uri": "https://localhost:8080/",
          "height": 219
        }
      },
      "source": [
        "sql = \"\"\"\n",
        "SELECT item, value, comment\n",
        "FROM freetextitems\n",
        "WHERE LOWER(item) LIKE '%coombs%'\n",
        "\"\"\"\n",
        "display(Markdown(\"``` mysql\\n\" + sql + \"\\n```\"))\n",
        "df = pd.read_gbq(sql, configuration=config)\n",
        "df.head()"
      ],
      "execution_count": 6,
      "outputs": [
        {
          "output_type": "display_data",
          "data": {
            "text/markdown": "``` mysql\n\nSELECT item, value, comment\nFROM freetextitems\nWHERE LOWER(item) LIKE '%coombs%'\n\n```",
            "text/plain": [
              "<IPython.core.display.Markdown object>"
            ]
          },
          "metadata": {
            "tags": []
          }
        },
        {
          "output_type": "execute_result",
          "data": {
            "text/html": [
              "<div>\n",
              "<style scoped>\n",
              "    .dataframe tbody tr th:only-of-type {\n",
              "        vertical-align: middle;\n",
              "    }\n",
              "\n",
              "    .dataframe tbody tr th {\n",
              "        vertical-align: top;\n",
              "    }\n",
              "\n",
              "    .dataframe thead th {\n",
              "        text-align: right;\n",
              "    }\n",
              "</style>\n",
              "<table border=\"1\" class=\"dataframe\">\n",
              "  <thead>\n",
              "    <tr style=\"text-align: right;\">\n",
              "      <th></th>\n",
              "      <th>item</th>\n",
              "      <th>value</th>\n",
              "      <th>comment</th>\n",
              "    </tr>\n",
              "  </thead>\n",
              "  <tbody>\n",
              "    <tr>\n",
              "      <th>0</th>\n",
              "      <td>Dir.Coombs conclusie (bloed)</td>\n",
              "      <td>volgt</td>\n",
              "      <td>None</td>\n",
              "    </tr>\n",
              "    <tr>\n",
              "      <th>1</th>\n",
              "      <td>Dir.Coombs conclusie (bloed)</td>\n",
              "      <td>volgt</td>\n",
              "      <td>None</td>\n",
              "    </tr>\n",
              "    <tr>\n",
              "      <th>2</th>\n",
              "      <td>Dir.Coombs conclusie (bloed)</td>\n",
              "      <td>volgt</td>\n",
              "      <td>6956</td>\n",
              "    </tr>\n",
              "    <tr>\n",
              "      <th>3</th>\n",
              "      <td>Dir.Coombs conclusie (bloed)</td>\n",
              "      <td>Poly AHG = negatief</td>\n",
              "      <td>None</td>\n",
              "    </tr>\n",
              "    <tr>\n",
              "      <th>4</th>\n",
              "      <td>Dir.Coombs conclusie (bloed)</td>\n",
              "      <td>Poly AHG = negatief</td>\n",
              "      <td>None</td>\n",
              "    </tr>\n",
              "  </tbody>\n",
              "</table>\n",
              "</div>"
            ],
            "text/plain": [
              "                           item                value comment\n",
              "0  Dir.Coombs conclusie (bloed)                volgt    None\n",
              "1  Dir.Coombs conclusie (bloed)                volgt    None\n",
              "2  Dir.Coombs conclusie (bloed)                volgt    6956\n",
              "3  Dir.Coombs conclusie (bloed)  Poly AHG = negatief    None\n",
              "4  Dir.Coombs conclusie (bloed)  Poly AHG = negatief    None"
            ]
          },
          "metadata": {
            "tags": []
          },
          "execution_count": 6
        }
      ]
    },
    {
      "cell_type": "markdown",
      "metadata": {
        "id": "Xty54OGi6izt",
        "colab_type": "text"
      },
      "source": [
        "## <a id='value'></a> value"
      ]
    },
    {
      "cell_type": "code",
      "metadata": {
        "id": "nWm52__u6izu",
        "colab_type": "code",
        "outputId": "d12d348d-361e-48ba-e2d6-18e646fac4f0",
        "colab": {
          "base_uri": "https://localhost:8080/",
          "height": 371
        }
      },
      "source": [
        "sql = \"\"\"\n",
        "SELECT DISTINCT value\n",
        "FROM freetextitems\n",
        "\"\"\"\n",
        "display(Markdown(\"``` mysql\\n\" + sql + \"\\n```\"))\n",
        "df = pd.read_gbq(sql, configuration=config)\n",
        "df.head(10)"
      ],
      "execution_count": 7,
      "outputs": [
        {
          "output_type": "display_data",
          "data": {
            "text/markdown": "``` mysql\n\nSELECT DISTINCT value\nFROM freetextitems\n\n```",
            "text/plain": [
              "<IPython.core.display.Markdown object>"
            ]
          },
          "metadata": {
            "tags": []
          }
        },
        {
          "output_type": "execute_result",
          "data": {
            "text/html": [
              "<div>\n",
              "<style scoped>\n",
              "    .dataframe tbody tr th:only-of-type {\n",
              "        vertical-align: middle;\n",
              "    }\n",
              "\n",
              "    .dataframe tbody tr th {\n",
              "        vertical-align: top;\n",
              "    }\n",
              "\n",
              "    .dataframe thead th {\n",
              "        text-align: right;\n",
              "    }\n",
              "</style>\n",
              "<table border=\"1\" class=\"dataframe\">\n",
              "  <thead>\n",
              "    <tr style=\"text-align: right;\">\n",
              "      <th></th>\n",
              "      <th>value</th>\n",
              "    </tr>\n",
              "  </thead>\n",
              "  <tbody>\n",
              "    <tr>\n",
              "      <th>0</th>\n",
              "      <td>volgt</td>\n",
              "    </tr>\n",
              "    <tr>\n",
              "      <th>1</th>\n",
              "      <td>onbekend</td>\n",
              "    </tr>\n",
              "    <tr>\n",
              "      <th>2</th>\n",
              "      <td>Pat. is nuchter</td>\n",
              "    </tr>\n",
              "    <tr>\n",
              "      <th>3</th>\n",
              "      <td>Pat.is niet nuchter</td>\n",
              "    </tr>\n",
              "    <tr>\n",
              "      <th>4</th>\n",
              "      <td>Negatief</td>\n",
              "    </tr>\n",
              "    <tr>\n",
              "      <th>5</th>\n",
              "      <td>Positief</td>\n",
              "    </tr>\n",
              "    <tr>\n",
              "      <th>6</th>\n",
              "      <td>ntb</td>\n",
              "    </tr>\n",
              "    <tr>\n",
              "      <th>7</th>\n",
              "      <td>opm</td>\n",
              "    </tr>\n",
              "    <tr>\n",
              "      <th>8</th>\n",
              "      <td>vve</td>\n",
              "    </tr>\n",
              "    <tr>\n",
              "      <th>9</th>\n",
              "      <td>Dubieus</td>\n",
              "    </tr>\n",
              "  </tbody>\n",
              "</table>\n",
              "</div>"
            ],
            "text/plain": [
              "                 value\n",
              "0                volgt\n",
              "1             onbekend\n",
              "2      Pat. is nuchter\n",
              "3  Pat.is niet nuchter\n",
              "4             Negatief\n",
              "5             Positief\n",
              "6                  ntb\n",
              "7                  opm\n",
              "8                  vve\n",
              "9              Dubieus"
            ]
          },
          "metadata": {
            "tags": []
          },
          "execution_count": 7
        }
      ]
    },
    {
      "cell_type": "code",
      "metadata": {
        "id": "AYmbnCGw6izw",
        "colab_type": "code",
        "outputId": "29f8b3e9-a04b-4068-cb03-c4d6b2610922",
        "colab": {
          "base_uri": "https://localhost:8080/",
          "height": 775
        }
      },
      "source": [
        "sql = \"\"\"\n",
        "SELECT item, COUNT(item) AS Number_of_results\n",
        "FROM freetextitems\n",
        "WHERE NOT itemid = 11646 -- not a real result: location of bloodsample: arterial, venous, etc.\n",
        "GROUP BY item\n",
        "ORDER BY Number_of_results DESC\n",
        "LIMIT 20\n",
        "\"\"\"\n",
        "display(Markdown(\"``` mysql\\n\" + sql + \"\\n```\"))\n",
        "df = pd.read_gbq(sql, configuration=config)\n",
        "cm = plt.get_cmap('RdPu')\n",
        "color_step = int(-255/len(df.index))\n",
        "ax = df.plot.barh(x=df.columns[0],y=df.columns[1], legend=False,color=cm(range(255,1,color_step)))\n",
        "ax.set(xlabel=df.columns[1])\n",
        "ax.xaxis.set_major_formatter(mpl.ticker.StrMethodFormatter('{x:,.0f}'))"
      ],
      "execution_count": 8,
      "outputs": [
        {
          "output_type": "display_data",
          "data": {
            "text/markdown": "``` mysql\n\nSELECT item, COUNT(item) AS Number_of_results\nFROM freetextitems\nWHERE NOT itemid = 11646 -- not a real result: location of bloodsample: arterial, venous, etc.\nGROUP BY item\nORDER BY Number_of_results DESC\nLIMIT 20\n\n```",
            "text/plain": [
              "<IPython.core.display.Markdown object>"
            ]
          },
          "metadata": {
            "tags": []
          }
        },
        {
          "output_type": "display_data",
          "data": {
            "image/png": "[encoded data removed]",
            "text/plain": [
              "<Figure size 1152x864 with 1 Axes>"
            ]
          },
          "metadata": {
            "tags": []
          }
        }
      ]
    },
    {
      "cell_type": "code",
      "metadata": {
        "id": "XobVONFb6izy",
        "colab_type": "code",
        "outputId": "0c6415db-222c-4ed0-dc75-16223631eb09",
        "colab": {
          "base_uri": "https://localhost:8080/",
          "height": 371
        }
      },
      "source": [
        "sql = \"\"\"\n",
        "SELECT DISTINCT value, COUNT(item) AS Number_of_results\n",
        "FROM freetextitems\n",
        "WHERE itemid = 11646 -- location of bloodsample: arterial, venous, etc.\n",
        "GROUP BY value\n",
        "ORDER BY Number_of_results DESC\n",
        "\"\"\"\n",
        "display(Markdown(\"``` mysql\\n\" + sql + \"\\n```\"))\n",
        "df = pd.read_gbq(sql, configuration=config)\n",
        "df.head(10)"
      ],
      "execution_count": 9,
      "outputs": [
        {
          "output_type": "display_data",
          "data": {
            "text/markdown": "``` mysql\n\nSELECT DISTINCT value, COUNT(item) AS Number_of_results\nFROM freetextitems\nWHERE itemid = 11646 -- location of bloodsample: arterial, venous, etc.\nGROUP BY value\nORDER BY Number_of_results DESC\n\n```",
            "text/plain": [
              "<IPython.core.display.Markdown object>"
            ]
          },
          "metadata": {
            "tags": []
          }
        },
        {
          "output_type": "execute_result",
          "data": {
            "text/html": [
              "<div>\n",
              "<style scoped>\n",
              "    .dataframe tbody tr th:only-of-type {\n",
              "        vertical-align: middle;\n",
              "    }\n",
              "\n",
              "    .dataframe tbody tr th {\n",
              "        vertical-align: top;\n",
              "    }\n",
              "\n",
              "    .dataframe thead th {\n",
              "        text-align: right;\n",
              "    }\n",
              "</style>\n",
              "<table border=\"1\" class=\"dataframe\">\n",
              "  <thead>\n",
              "    <tr style=\"text-align: right;\">\n",
              "      <th></th>\n",
              "      <th>value</th>\n",
              "      <th>Number_of_results</th>\n",
              "    </tr>\n",
              "  </thead>\n",
              "  <tbody>\n",
              "    <tr>\n",
              "      <th>0</th>\n",
              "      <td>ART.</td>\n",
              "      <td>248873</td>\n",
              "    </tr>\n",
              "    <tr>\n",
              "      <th>1</th>\n",
              "      <td>Art.</td>\n",
              "      <td>242680</td>\n",
              "    </tr>\n",
              "    <tr>\n",
              "      <th>2</th>\n",
              "      <td>Ven.</td>\n",
              "      <td>7364</td>\n",
              "    </tr>\n",
              "    <tr>\n",
              "      <th>3</th>\n",
              "      <td>GEM.VEN.</td>\n",
              "      <td>5020</td>\n",
              "    </tr>\n",
              "    <tr>\n",
              "      <th>4</th>\n",
              "      <td>Gem. ven.</td>\n",
              "      <td>3556</td>\n",
              "    </tr>\n",
              "    <tr>\n",
              "      <th>5</th>\n",
              "      <td>VEN.</td>\n",
              "      <td>3387</td>\n",
              "    </tr>\n",
              "    <tr>\n",
              "      <th>6</th>\n",
              "      <td>volgt</td>\n",
              "      <td>2500</td>\n",
              "    </tr>\n",
              "    <tr>\n",
              "      <th>7</th>\n",
              "      <td>Vervalt</td>\n",
              "      <td>1465</td>\n",
              "    </tr>\n",
              "    <tr>\n",
              "      <th>8</th>\n",
              "      <td>ZIE-OPM</td>\n",
              "      <td>817</td>\n",
              "    </tr>\n",
              "    <tr>\n",
              "      <th>9</th>\n",
              "      <td>CAP.</td>\n",
              "      <td>164</td>\n",
              "    </tr>\n",
              "  </tbody>\n",
              "</table>\n",
              "</div>"
            ],
            "text/plain": [
              "       value  Number_of_results\n",
              "0       ART.             248873\n",
              "1       Art.             242680\n",
              "2       Ven.               7364\n",
              "3   GEM.VEN.               5020\n",
              "4  Gem. ven.               3556\n",
              "5       VEN.               3387\n",
              "6      volgt               2500\n",
              "7    Vervalt               1465\n",
              "8    ZIE-OPM                817\n",
              "9       CAP.                164"
            ]
          },
          "metadata": {
            "tags": []
          },
          "execution_count": 9
        }
      ]
    },
    {
      "cell_type": "code",
      "metadata": {
        "id": "aa45C27p6iz0",
        "colab_type": "code",
        "outputId": "96145ba7-d46c-4fdf-89af-99be335df73b",
        "colab": {
          "base_uri": "https://localhost:8080/",
          "height": 870
        }
      },
      "source": [
        "sql = \"\"\"\n",
        "SELECT DISTINCT value, COUNT(item) AS Number_of_results\n",
        "FROM freetextitems\n",
        "WHERE itemid = 11646 -- location of bloodsample: arterial, venous, etc.\n",
        "GROUP BY value\n",
        "ORDER BY Number_of_results DESC\n",
        "LIMIT 5\n",
        "\"\"\"\n",
        "display(Markdown(\"``` mysql\\n\" + sql + \"\\n```\"))\n",
        "df = pd.read_gbq(sql, configuration=config)\n",
        "cm = plt.get_cmap('RdPu')\n",
        "color_step = int(-255/len(df.index))\n",
        "ax = df.plot.bar(x=df.columns[0],y=df.columns[1], legend=False,color=cm(range(255,1,color_step)))\n",
        "ax.set(ylabel=df.columns[1])\n",
        "ax.yaxis.set_major_formatter(mpl.ticker.StrMethodFormatter('{x:,.0f}'))"
      ],
      "execution_count": 10,
      "outputs": [
        {
          "output_type": "display_data",
          "data": {
            "text/markdown": "``` mysql\n\nSELECT DISTINCT value, COUNT(item) AS Number_of_results\nFROM freetextitems\nWHERE itemid = 11646 -- location of bloodsample: arterial, venous, etc.\nGROUP BY value\nORDER BY Number_of_results DESC\nLIMIT 5\n\n```",
            "text/plain": [
              "<IPython.core.display.Markdown object>"
            ]
          },
          "metadata": {
            "tags": []
          }
        },
        {
          "output_type": "display_data",
          "data": {
            "image/png": "[encoded data removed]",
            "text/plain": [
              "<Figure size 1152x864 with 1 Axes>"
            ]
          },
          "metadata": {
            "tags": []
          }
        }
      ]
    },
    {
      "cell_type": "markdown",
      "metadata": {
        "id": "XMwWGZ3l6iz2",
        "colab_type": "text"
      },
      "source": [
        "## <a id='comment'></a> comment"
      ]
    },
    {
      "cell_type": "code",
      "metadata": {
        "scrolled": false,
        "id": "14s558Vl6iz3",
        "colab_type": "code",
        "outputId": "43763ab0-9033-4e91-ee15-3991a96b2359",
        "colab": {
          "base_uri": "https://localhost:8080/",
          "height": 219
        }
      },
      "source": [
        "sql = \"\"\"\n",
        "SELECT DISTINCT comment\n",
        "FROM freetextitems\n",
        "\"\"\"\n",
        "display(Markdown(\"``` mysql\\n\" + sql + \"\\n```\"))\n",
        "df = pd.read_gbq(sql, configuration=config)\n",
        "df.head()"
      ],
      "execution_count": 11,
      "outputs": [
        {
          "output_type": "display_data",
          "data": {
            "text/markdown": "``` mysql\n\nSELECT DISTINCT comment\nFROM freetextitems\n\n```",
            "text/plain": [
              "<IPython.core.display.Markdown object>"
            ]
          },
          "metadata": {
            "tags": []
          }
        },
        {
          "output_type": "execute_result",
          "data": {
            "text/html": [
              "<div>\n",
              "<style scoped>\n",
              "    .dataframe tbody tr th:only-of-type {\n",
              "        vertical-align: middle;\n",
              "    }\n",
              "\n",
              "    .dataframe tbody tr th {\n",
              "        vertical-align: top;\n",
              "    }\n",
              "\n",
              "    .dataframe thead th {\n",
              "        text-align: right;\n",
              "    }\n",
              "</style>\n",
              "<table border=\"1\" class=\"dataframe\">\n",
              "  <thead>\n",
              "    <tr style=\"text-align: right;\">\n",
              "      <th></th>\n",
              "      <th>comment</th>\n",
              "    </tr>\n",
              "  </thead>\n",
              "  <tbody>\n",
              "    <tr>\n",
              "      <th>0</th>\n",
              "      <td>None</td>\n",
              "    </tr>\n",
              "    <tr>\n",
              "      <th>1</th>\n",
              "      <td>Tijdens dialyse</td>\n",
              "    </tr>\n",
              "    <tr>\n",
              "      <th>2</th>\n",
              "      <td>Opmerking verwijderd</td>\n",
              "    </tr>\n",
              "    <tr>\n",
              "      <th>3</th>\n",
              "      <td>visit 1</td>\n",
              "    </tr>\n",
              "    <tr>\n",
              "      <th>4</th>\n",
              "      <td>Buizen achtergelaten voor afname door arts</td>\n",
              "    </tr>\n",
              "  </tbody>\n",
              "</table>\n",
              "</div>"
            ],
            "text/plain": [
              "                                      comment\n",
              "0                                        None\n",
              "1                             Tijdens dialyse\n",
              "2                        Opmerking verwijderd\n",
              "3                                     visit 1\n",
              "4  Buizen achtergelaten voor afname door arts"
            ]
          },
          "metadata": {
            "tags": []
          },
          "execution_count": 11
        }
      ]
    }
  ]
}