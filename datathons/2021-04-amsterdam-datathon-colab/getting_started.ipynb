{
 "cells": [
  {
   "cell_type": "markdown",
   "metadata": {
    "id": "wObiuw_qeCNN"
   },
   "source": [
    "<img src=\"https://www.esicm.org/wp-content/uploads/2021/02/Plan-de-travail-4-copie-7@3x-150x150.png\" alt=\"Logo\" width=128px/>\n",
    "\n",
    "<img src=\"https://github.com/AmsterdamUMC/AmsterdamUMCdb/blob/master/img/logo_amds.png?raw=1\" alt=\"Logo\" width=128px/>\n",
    "\n",
    "# 3rd Critical Care Datathon 2021 on AmsterdamUMCdb - Freely Accessible ICU Database\n",
    "\n",
    "version 1.0.2 March 2020  \n",
    "Copyright &copy; 2003-2021 Amsterdam UMC - Amsterdam Medical Data Science"
   ]
  },
  {
   "cell_type": "markdown",
   "metadata": {
    "id": "1PnaJ30vgG--"
   },
   "source": [
    "## Introduction\n",
    "To make the most of your time during the datathon, access to AmsterdamUMCdb will be provided using Google BigQuery using Google Colaboratory as the main coding environment. This removes the necessity to download AmsterdamUMCdb, setting up a database system and installing a coding environment.\n",
    "\n",
    "This tutorial for datathons using AmsterdamUMCdb is based on the original Google BigQuery tutorial on [Colab](https://colab.research.google.com/notebooks/bigquery.ipynb)."
   ]
  },
  {
   "cell_type": "markdown",
   "metadata": {
    "id": "xZ1tnVEJftjU"
   },
   "source": [
    "## Before you Begin\n",
    "Ensure you have a working Google account and verify that the e-mail address used when registering for the Datathon has been associated with this account. If you already have a Google account, you can add secondary e-mail adresses [here](https://myaccount.google.com/alternateemail), or alternatively create another Google account using the e-mail adress used during registration of the Datathon.\n",
    "\n",
    "If you don't have any experience in using Jupyter notebooks and/or Python, it is recommended to familiarize yourself with the [basics](https://colab.research.google.com/notebooks/intro.ipynb)."
   ]
  },
  {
   "cell_type": "markdown",
   "metadata": {
    "id": "32awzQGzkIST"
   },
   "source": [
    "## Running Colab\n",
    "Open Colab with the **getting-started** notebook from the official AmsterdamUMCdb GitHub repository: [![Open In Colab](https://colab.research.google.com/assets/colab-badge.svg)](https://colab.research.google.com/github/AmsterdamUMC/AmsterdamUMCdb/blob/master/datathons/2021-amsterdam/getting-started.ipynb)\n",
    "\n",
    "**Important**: when following this tutorial, make sure to follow *all* steps and to run the **code cells** using the **Play** button or by pressing `Ctrl-Enter`"
   ]
  },
  {
   "cell_type": "markdown",
   "metadata": {
    "id": "PB_NEmEZtLpg"
   },
   "source": [
    "## Provide your credentials to access the AmsterdamUMCdb dataset on Google BigQuery\n",
    "Authenticate your credentials with Google Cloud Platform and set the default Google Cloud project id for running query jobs. Run the cell, follow the generated link, and paste the verification code in the provided box:"
   ]
  },
  {
   "cell_type": "code",
   "execution_count": null,
   "metadata": {
    "colab": {
     "base_uri": "https://localhost:8080/"
    },
    "id": "v0L2i-Nnp7_R",
    "outputId": "875d6efe-7e14-4b56-aa5d-0a43dbef2dcf"
   },
   "outputs": [],
   "source": [
    "import os\n",
    "from google.colab import auth\n",
    "\n",
    "#sets the project id\n",
    "PROJECT_ID = 'esicmdatathon2021'\n",
    "DATASET_PROJECT_ID = 'amsterdamumcdb-data'\n",
    "DATASET_ID = 'ams102'\n",
    "LOCATION = 'eu'\n",
    "\n",
    "#all libraries check this environment variable, so set it:\n",
    "os.environ[\"GOOGLE_CLOUD_PROJECT\"] = PROJECT_ID\n",
    "\n",
    "auth.authenticate_user()\n",
    "print('Authenticated')"
   ]
  },
  {
   "cell_type": "markdown",
   "metadata": {
    "id": "UMKGkkZEPVRu"
   },
   "source": [
    "# Enable data table display\n",
    "\n",
    "Colab includes the ``google.colab.data_table`` package that can be used to display large pandas dataframes as an interactive data table. This is especially useful when working with the `numericitems` table from AmsterdamUMCdb. It can be enabled with:"
   ]
  },
  {
   "cell_type": "code",
   "execution_count": null,
   "metadata": {
    "id": "LMNA-vBHPyHz"
   },
   "outputs": [],
   "source": [
    "%load_ext google.colab.data_table"
   ]
  },
  {
   "cell_type": "markdown",
   "metadata": {
    "id": "F8Q_gnmFwyxW"
   },
   "source": [
    "# Running your first query on AmsterdamUMCdb\n",
    "BigQuery provides different ways to query the dataset:\n",
    "- **magics**: the `google.cloud.bigquery` library  includes a *magic* command which runs a query and either displays the result or saves it to a Pandas DataFrame`. The main advantage to this technique is that it improves readability of SQL code by syntax highlighting. Its main limitation: it requires a separate cell for the query, so cannot be combined with other Python code in the same code cell.\n",
    "\n",
    "Let's query the `admissions` table using magics."
   ]
  },
  {
   "cell_type": "markdown",
   "metadata": {
    "id": "Z7XIzHD3SMpc"
   },
   "source": [
    "### Sets the default query job configuration for magics"
   ]
  },
  {
   "cell_type": "code",
   "execution_count": null,
   "metadata": {
    "id": "MC7nOYOCKFvQ"
   },
   "outputs": [],
   "source": [
    "from google.cloud.bigquery import magics\n",
    "from google.cloud import bigquery\n",
    "\n",
    "#sets the default query job configuration\n",
    "config = bigquery.job.QueryJobConfig(default_dataset=DATASET_PROJECT_ID + \".\" + DATASET_ID)\n",
    "magics.context.default_query_job_config = config\n",
    "\n",
    "#sets client options job configuration\n",
    "client_options = {}\n",
    "client_options['location'] = LOCATION\n",
    "magics.context.bigquery_client_options = client_options"
   ]
  },
  {
   "cell_type": "markdown",
   "metadata": {
    "id": "qZT2xJMD1kpz"
   },
   "source": [
    "### Queries the admission table and displays all admissions without copying the data to a Pandas dataframe"
   ]
  },
  {
   "cell_type": "code",
   "execution_count": null,
   "metadata": {
    "colab": {
     "base_uri": "https://localhost:8080/",
     "height": 610
    },
    "id": "DMxOKQ3vJplj",
    "outputId": "f2ffce57-b38f-437b-cc93-ee0977ba31ed"
   },
   "outputs": [],
   "source": [
    "%%bigquery\n",
    "SELECT * FROM admissions\n",
    "LIMIT 100"
   ]
  },
  {
   "cell_type": "markdown",
   "metadata": {
    "id": "H9wwX7aO0ROL"
   },
   "source": [
    "### Query the admission table and copy the data to the `admissions` Pandas dataframe:"
   ]
  },
  {
   "cell_type": "code",
   "execution_count": null,
   "metadata": {
    "id": "cLh05lDpJ4wj"
   },
   "outputs": [],
   "source": [
    "%%bigquery admissions\n",
    "SELECT * FROM admissions"
   ]
  },
  {
   "cell_type": "markdown",
   "metadata": {
    "id": "zbvWkl5p0ERl"
   },
   "source": [
    "### Display the first 100 rows of the admissions dataframe."
   ]
  },
  {
   "cell_type": "code",
   "execution_count": null,
   "metadata": {
    "colab": {
     "base_uri": "https://localhost:8080/",
     "height": 610
    },
    "id": "xgopBClCKs_0",
    "outputId": "554880f9-94bc-47d7-fae3-d3cdb144a4b5"
   },
   "outputs": [],
   "source": [
    "admissions.head(100)"
   ]
  },
  {
   "cell_type": "code",
   "execution_count": null,
   "metadata": {
    "id": "t5BCT09xXuNE"
   },
   "outputs": [],
   "source": [
    "%%bigquery numericitems\n",
    "SELECT * FROM numericitems\n",
    "WHERE itemid = 6640\n",
    "LIMIT 10"
   ]
  },
  {
   "cell_type": "code",
   "execution_count": null,
   "metadata": {
    "colab": {
     "base_uri": "https://localhost:8080/",
     "height": 189
    },
    "id": "jy2SLeTSX7az",
    "outputId": "444d5e2e-66ff-495a-d683-ea6212b5e576"
   },
   "outputs": [],
   "source": [
    "numericitems.head()"
   ]
  },
  {
   "cell_type": "markdown",
   "metadata": {
    "id": "fkhbyGaXKs_6"
   },
   "source": [
    "# Query AmsterdamUMCdb through google-cloud-bigquery\n",
    "\n",
    "Alternatively, we can manually invoke the `biqquery` Python module. The examples used the previously defined `PROJECT_ID` (cell #4).\n",
    "\n",
    "See [BigQuery documentation](https://cloud.google.com/bigquery/docs) and [library reference documentation](https://googlecloudplatform.github.io/google-cloud-python/latest/bigquery/usage.html)."
   ]
  },
  {
   "cell_type": "markdown",
   "metadata": {
    "id": "UFVuZjtNTKI9"
   },
   "source": [
    "### Sets the default query job configuration for google-cloud-bigquery client"
   ]
  },
  {
   "cell_type": "code",
   "execution_count": null,
   "metadata": {
    "id": "alCUc9QYTGQT"
   },
   "outputs": [],
   "source": [
    "from google.cloud import bigquery\n",
    "\n",
    "#BigQuery requires a separate config to prevent the 'BadRequest: 400 Cannot explicitly modify anonymous table' error message\n",
    "job_config = bigquery.job.QueryJobConfig()\n",
    "\n",
    "#sets default client settings by re-using the previously defined config\n",
    "client = bigquery.Client(project=PROJECT_ID, location=LOCATION, default_query_job_config=def_config)"
   ]
  },
  {
   "cell_type": "markdown",
   "metadata": {
    "id": "lK-9fSClKtAB"
   },
   "source": [
    "### Get all patients and group by age group"
   ]
  },
  {
   "cell_type": "code",
   "execution_count": null,
   "metadata": {
    "colab": {
     "base_uri": "https://localhost:8080/",
     "height": 210
    },
    "id": "ONI1Xo0-KtAD",
    "outputId": "61ca5264-442f-4726-919b-a640b7879cea"
   },
   "outputs": [],
   "source": [
    "age_groups = client.query('''\n",
    "SELECT agegroup\n",
    "    , COUNT(*) AS Number_of_admissions -- COUNT(*) counts everything including NULL\n",
    "FROM admissions\n",
    "GROUP BY agegroup\n",
    "ORDER BY agegroup ASC\n",
    "''', job_config=job_config).to_dataframe()\n",
    "\n",
    "age_groups"
   ]
  },
  {
   "cell_type": "markdown",
   "metadata": {
    "id": "Bu2C7iWMKtAM"
   },
   "source": [
    "### Show a plot\n",
    "Uses the Pandas built-in functions to plot a bar chart."
   ]
  },
  {
   "cell_type": "code",
   "execution_count": null,
   "metadata": {
    "colab": {
     "base_uri": "https://localhost:8080/",
     "height": 315
    },
    "id": "IDHAGsRN7xhX",
    "outputId": "f3a2a6c9-a20e-40a8-e15a-8f9856ffb674"
   },
   "outputs": [],
   "source": [
    "age_groups.plot(kind='bar', x='agegroup')"
   ]
  },
  {
   "cell_type": "code",
   "execution_count": null,
   "metadata": {
    "colab": {
     "base_uri": "https://localhost:8080/",
     "height": 189
    },
    "id": "uW2pnYRKZ8ZL",
    "outputId": "c46bc404-b017-4901-8506-b78deb21445d"
   },
   "outputs": [],
   "source": [
    "numids = client.query('''\n",
    "SELECT itemid, item\n",
    "    , COUNT(*) AS number_of_samples -- COUNT(*) counts everything including NULL\n",
    "FROM numericitems\n",
    "GROUP BY itemid, item\n",
    "ORDER BY number_of_samples DESC\n",
    "''', job_config=job_config).to_dataframe()\n",
    "\n",
    "numids.head()"
   ]
  },
  {
   "cell_type": "markdown",
   "metadata": {
    "id": "oKNxsRvuKtAz"
   },
   "source": [
    "# Query AmsterdamUMCdb through pandas-gbq\n",
    "\n",
    "The third option is to to query the dataset using the Pandas `pandas-gbq` library. Especially when you already have been using the `pandas.read_sql` function it's relatively straightforward to modify your existing code to be compatible with BigQuery.\n",
    "\n",
    "[Pandas GBQ Documentation](https://pandas.pydata.org/pandas-docs/stable/generated/pandas.read_gbq.html)"
   ]
  },
  {
   "cell_type": "markdown",
   "metadata": {
    "id": "jiLDjtXhVUQr"
   },
   "source": [
    "### Sets the default query job configuration for pandas-gbq"
   ]
  },
  {
   "cell_type": "code",
   "execution_count": null,
   "metadata": {
    "id": "r2SfaHSCTyWT"
   },
   "outputs": [],
   "source": [
    "import pandas as pd\n",
    "\n",
    "config_gbq = {'query': \n",
    "          {'defaultDataset': {\n",
    "              \"datasetId\": DATASET_ID, \n",
    "              \"projectId\": DATASET_PROJECT_ID\n",
    "              },\n",
    "           'Location': LOCATION}\n",
    "           }"
   ]
  },
  {
   "cell_type": "markdown",
   "metadata": {
    "id": "u85mBlSx_lgm"
   },
   "source": [
    "### Get all lactate values"
   ]
  },
  {
   "cell_type": "markdown",
   "metadata": {
    "id": "XNZMP8JTWjX5"
   },
   "source": [
    "### Creates a dictionary of all numericitems"
   ]
  },
  {
   "cell_type": "code",
   "execution_count": null,
   "metadata": {
    "colab": {
     "base_uri": "https://localhost:8080/",
     "height": 189
    },
    "id": "W-SHrV_wV2ry",
    "outputId": "98bf4a00-01e9-4fee-8bf0-f1632220054f"
   },
   "outputs": [],
   "source": [
    "numericitems_itemids = pd.read_gbq('''\n",
    "  SELECT DISTINCT itemid, item, unitid, unit \n",
    "  FROM numericitems\n",
    "''', configuration=config_gbq)\n",
    "numericitems_itemids.head()"
   ]
  },
  {
   "cell_type": "markdown",
   "metadata": {
    "id": "-nh7HYk9YSkQ"
   },
   "source": [
    "### Get all itemids matching lactate"
   ]
  },
  {
   "cell_type": "code",
   "execution_count": null,
   "metadata": {
    "colab": {
     "base_uri": "https://localhost:8080/",
     "height": 257
    },
    "id": "xYID1Df_YZ0I",
    "outputId": "f3b8a6ed-49b5-40a6-c3cb-8ae720cb7d9a"
   },
   "outputs": [],
   "source": [
    "lactate_ids = numericitems_itemids[numericitems_itemids['item'].str.contains('lact', regex=True, case=False)]\n",
    "lactate_ids"
   ]
  },
  {
   "cell_type": "markdown",
   "metadata": {
    "id": "zB8EEALbY5pH"
   },
   "source": [
    "### Get lactate values for all patients"
   ]
  },
  {
   "cell_type": "code",
   "execution_count": null,
   "metadata": {
    "colab": {
     "base_uri": "https://localhost:8080/",
     "height": 189
    },
    "id": "dWf7KIxjKtA0",
    "outputId": "b3500430-11b5-4964-fa59-4be10d906507"
   },
   "outputs": [],
   "source": [
    "lactate = pd.read_gbq('''\n",
    "  SELECT *\n",
    "  FROM numericitems\n",
    "  WHERE itemid = 10053\t--Lactaat (bloed)\n",
    "''', configuration=config_gbq)\n",
    "lactate.head()"
   ]
  },
  {
   "cell_type": "markdown",
   "metadata": {
    "id": "RJnIWOxUaz4n"
   },
   "source": [
    "### Plot lactate values using default pandas histogram function"
   ]
  },
  {
   "cell_type": "code",
   "execution_count": null,
   "metadata": {
    "colab": {
     "base_uri": "https://localhost:8080/",
     "height": 283
    },
    "id": "cZu-1pwvZbH0",
    "outputId": "f137ab91-1944-4add-db75-6279259853d1"
   },
   "outputs": [],
   "source": [
    "lactate['value'].hist()"
   ]
  },
  {
   "cell_type": "markdown",
   "metadata": {
    "id": "T-amWUw7Z2I3"
   },
   "source": [
    "### Plot lactate values using outlier aware histogram from AmsterdamUMCdb library"
   ]
  },
  {
   "cell_type": "code",
   "execution_count": null,
   "metadata": {
    "colab": {
     "base_uri": "https://localhost:8080/"
    },
    "id": "kefpJwsNZ0sf",
    "outputId": "43cb6272-0f74-45a3-a96e-0681f6f1126f"
   },
   "outputs": [],
   "source": [
    "#gets the amsterdamumcdb package from PiPy repository for use in Colab\n",
    "!pip install amsterdamumcdb\n",
    "import amsterdamumcdb as adb"
   ]
  },
  {
   "cell_type": "code",
   "execution_count": null,
   "metadata": {
    "colab": {
     "base_uri": "https://localhost:8080/",
     "height": 265
    },
    "id": "Im3ZsL0qaPEo",
    "outputId": "3cbaa462-2a59-4fb5-c97b-756f5b25e05a"
   },
   "outputs": [],
   "source": [
    "adb.outliers_histogram(data=lactate['value']).show()"
   ]
  },
  {
   "cell_type": "code",
   "execution_count": null,
   "metadata": {
    "colab": {
     "base_uri": "https://localhost:8080/",
     "height": 265
    },
    "id": "I0kbmAGobQ28",
    "outputId": "7f816bb3-ab6f-4695-b9e7-bd90d4b590e4"
   },
   "outputs": [],
   "source": [
    "adb.outliers_histogram(data=lactate['value'], z_treshold=16).show()"
   ]
  },
  {
   "cell_type": "code",
   "execution_count": null,
   "metadata": {
    "colab": {
     "base_uri": "https://localhost:8080/",
     "height": 610
    },
    "id": "MOJe8eSkb8IG",
    "outputId": "b0f71b86-bc3f-4386-f4a4-d1858b093451"
   },
   "outputs": [],
   "source": [
    "lactate[lactate['value'] > 15].sort_values('value', ascending=False)"
   ]
  },
  {
   "cell_type": "markdown",
   "metadata": {
    "id": "t8psY-fWcgk-"
   },
   "source": [
    "This table demonstrates that the top 3 highest values are most likely data entry errors. The are also manually documented, instead of filed by the system (Dutch: 'Systeem')"
   ]
  },
  {
   "cell_type": "markdown",
   "metadata": {
    "id": "AyQKITV8zAwn"
   },
   "source": [
    "# Finding relevant parameters"
   ]
  },
  {
   "cell_type": "markdown",
   "metadata": {
    "id": "NOErgOoqzlMr"
   },
   "source": [
    "The `amsterdamumcdb` package provides the `get_dictionary()` function that retreives a DataFrame containing all items and itemids in AmsterdamUMCdb. In combination with BiqQueries DataTables it's possible to quickly locate an item of interest. Since AmsterdamUMCdb originated from a real Dutch ICU database, the original item names are in Dutch. For common ICU parameters, translations have been provided. Full mapping to LOINC and SNOMED CT is currently in progress."
   ]
  },
  {
   "cell_type": "code",
   "execution_count": null,
   "metadata": {
    "colab": {
     "base_uri": "https://localhost:8080/",
     "height": 824
    },
    "id": "bDZuCQGX0vO9",
    "outputId": "33a13c1f-0590-439d-e3ff-9ea5f2338cc3"
   },
   "outputs": [],
   "source": [
    "dictionary = adb.get_dictionary()\n",
    "dictionary"
   ]
  },
  {
   "cell_type": "markdown",
   "metadata": {
    "id": "dNxcvZ7x4L56"
   },
   "source": [
    "## Steroids"
   ]
  },
  {
   "cell_type": "code",
   "execution_count": null,
   "metadata": {
    "colab": {
     "base_uri": "https://localhost:8080/",
     "height": 307
    },
    "id": "qhmVlTOX2zNo",
    "outputId": "dff2d063-bf2d-4af3-dfb0-f1416d039ed6"
   },
   "outputs": [],
   "source": [
    "steroids = pd.read_gbq('''\n",
    "  SELECT *\n",
    "  FROM drugitems\n",
    "  WHERE itemid IN (\n",
    "    --intravenous\n",
    "    7106\t--Hydrocortison (Solu Cortef)\n",
    "    ,6995\t--Dexamethason\n",
    "    ,6922\t--Prednisolon (Prednison)\n",
    "    ,6922\t--Prednisolon (Prednison)\n",
    "    ,8132\t--Methylprednisolon (Solu-Medrol)\t\n",
    "\n",
    "    --non intravenous\n",
    "    ,10628\t--Fludrocortison (Florinef)\n",
    "    ,6995\t--Dexamethason\n",
    "    ,7106\t--Hydrocortison (Solu Cortef)\n",
    "    ,9130\t--Prednisonum\n",
    "  )\n",
    "''', configuration=config_gbq)\n",
    "steroids.head()"
   ]
  },
  {
   "cell_type": "markdown",
   "metadata": {
    "id": "sNayORNr6aAJ"
   },
   "source": [
    "## Atrial Fibrillation"
   ]
  },
  {
   "cell_type": "code",
   "execution_count": null,
   "metadata": {
    "colab": {
     "base_uri": "https://localhost:8080/",
     "height": 189
    },
    "id": "AsaWD1B44JJC",
    "outputId": "5cfb1d50-4b52-47bb-fa8b-882e6135b08f"
   },
   "outputs": [],
   "source": [
    "afib = pd.read_gbq('''\n",
    "  SELECT *\n",
    "  FROM listitems\n",
    "  WHERE itemid = 6671\t--Hartritme\n",
    "  AND valueid = 13\t--Atr fib\n",
    "''', configuration=config_gbq)\n",
    "afib.head()"
   ]
  },
  {
   "cell_type": "markdown",
   "metadata": {
    "id": "WpaXmtD0dJWe"
   },
   "source": [
    "## Conclusion\n",
    "This finalizes our tutorial on accessing AmsterdamUMCdb using BigQuery. \n",
    "\n",
    "What next?\n",
    "- Have a look at the AmsterdamUMCdb [wiki](https://github.com/AmsterdamUMC/AmsterdamUMCdb/wiki).\n",
    "- Check the [table specific Jupyter Notebooks](https://github.com/AmsterdamUMC/AmsterdamUMCdb/tree/master/tables) for more in depth examples of the specific tables."
   ]
  }
 ],
 "metadata": {
  "colab": {
   "collapsed_sections": [],
   "name": "getting-started.ipynb",
   "provenance": []
  },
  "kernelspec": {
   "display_name": "Python 3",
   "language": "python",
   "name": "python3"
  },
  "language_info": {
   "codemirror_mode": {
    "name": "ipython",
    "version": 3
   },
   "file_extension": ".py",
   "mimetype": "text/x-python",
   "name": "python",
   "nbconvert_exporter": "python",
   "pygments_lexer": "ipython3",
   "version": "3.7.4"
  }
 },
 "nbformat": 4,
 "nbformat_minor": 1
}
