{
 "nbformat": 4,
 "nbformat_minor": 0,
 "metadata": {
  "colab": {
   "name": "getting_started.ipynb",
   "provenance": [],
   "collapsed_sections": []
  },
  "kernelspec": {
   "display_name": "Python 3",
   "language": "python",
   "name": "python3"
  },
  "language_info": {
   "codemirror_mode": {
    "name": "ipython",
    "version": 3
   },
   "file_extension": ".py",
   "mimetype": "text/x-python",
   "name": "python",
   "nbconvert_exporter": "python",
   "pygments_lexer": "ipython3",
   "version": "3.7.4"
  }
 },
 "cells": [
  {
   "cell_type": "markdown",
   "metadata": {
    "id": "wObiuw_qeCNN"
   },
   "source": [
    "<img src=\"https://github.com/AmsterdamUMC/AmsterdamUMCdb/blob/master/img/logo_esicm_datathon_2021.png?raw=1\" alt=\"Logo Datathon\" width=128px/>\n",
    "\n",
    "<img src=\"https://github.com/AmsterdamUMC/AmsterdamUMCdb/blob/master/img/logo_amds.png?raw=1\" alt=\"Logo AMDS\" width=128px/>\n",
    "\n",
    "# 3rd Critical Care Datathon 2021 on AmsterdamUMCdb - Freely Accessible ICU Database\n",
    "\n",
    "AmsterdamUMCdb version 1.0.2 March 2020  \n",
    "Copyright &copy; 2003-2021 Amsterdam UMC - Amsterdam Medical Data Science"
   ]
  },
  {
   "cell_type": "markdown",
   "metadata": {
    "id": "1PnaJ30vgG--"
   },
   "source": [
    "# Introduction\n",
    "To make the most of your time during the datathon, access to AmsterdamUMCdb will be provided using Google BigQuery with Google Colaboratory as the main coding environment. This removes the necessity to download AmsterdamUMCdb, setting up a database system and installing a coding environment.\n",
    "\n",
    "This tutorial for datathons using AmsterdamUMCdb is based on the original Google BigQuery tutorial on [Colab](https://colab.research.google.com/notebooks/bigquery.ipynb)."
   ]
  },
  {
   "cell_type": "markdown",
   "metadata": {
    "id": "32awzQGzkIST"
   },
   "source": [
    "# Running Colab\n",
    "If not done already, please open Colab with this **getting_started** notebook from the official AmsterdamUMCdb GitHub repository: [![Open In Colab](https://colab.research.google.com/assets/colab-badge.svg)](https://colab.research.google.com/github/AmsterdamUMC/AmsterdamUMCdb/blob/master/datathons/2021-04-amsterdam-datathon-colab/getting_started.ipynb)\n",
    "\n",
    "**Important**: when following this tutorial, make sure to follow *all* steps and to run the **code cells** using the **Play** button or by pressing `Ctrl-Enter`"
   ]
  },
  {
   "cell_type": "markdown",
   "metadata": {
    "id": "xZ1tnVEJftjU"
   },
   "source": [
    "# Before you Begin\n",
    "Ensure you have a working Google account and verify that the e-mail address used when registering for the Datathon has been associated with this account. If you already have a Google account, you can add secondary e-mail adresses [here](https://myaccount.google.com/alternateemail), or alternatively create another Google account using the e-mail adress used during registration of the Datathon.\n",
    "\n",
    "If you don't have any experience in using Jupyter notebooks and/or Python, it is recommended to familiarize yourself with the [basics](https://colab.research.google.com/notebooks/intro.ipynb).\n",
    "\n",
    "# Accessing the database\n",
    "Provided you have signed the end user license agreement, you will have free access to the data from AmsterdamUMCdb through the Google Cloud Platform.\n",
    "\n",
    "To explore and query the database you need to create a Google Cloud Platform project. Users are offered a free tier of 1 TB (2<sup>40</sup> bytes) per month for queries and in addition \\$300 credit for free for use on the Google Cloud Platform (currently: \\$6.00 per TB). In the unlikely case this is not sufficient, please contact us and we will work with you to find a solution.\n",
    "\n",
    "# Signing up for Google Cloud Platform\n",
    "- To sign up for the free tier and free credits, please visit the Google Cloud Platform: https://cloud.google.com/.\n",
    "- Click **Get started for free**.\n",
    "- Log in with the Google account you used when registering for the datathon.\n",
    "- In Step 1 of 2: agree to the **Terms of Service** and select **Continue**. \n",
    "- In Step 2 of 2: You will be required to add some additional information, including a payment method to make sure you are not a robot. Don't worry you won't be charged unless you manually upgrade to a paid account. Depending on your payment provider, you may have an additional step to verify the payment method.\n",
    "- Finally press **Start my free trial**. You are good to go.\n",
    "\n",
    "# Retrieving your Google Cloud Project ID\n",
    "- At the top of the screen, select **My First Project** or [create a new one](https://console.cloud.google.com/projectcreate). Please write down the Project ID in the cell below (\"Insert text here\") and **Run** the cell to store the value."
   ]
  },
  {
   "cell_type": "code",
   "metadata": {
    "cellView": "form",
    "id": "hQnpY5Kpm5rT"
   },
   "source": [
    "#sets the project id\n",
    "PROJECT_ID = \"\" #@param {type:\"string\"}"
   ],
   "execution_count": null,
   "outputs": []
  },
  {
   "cell_type": "markdown",
   "metadata": {
    "id": "PB_NEmEZtLpg"
   },
   "source": [
    "# Provide your credentials to access the AmsterdamUMCdb dataset on Google BigQuery\n",
    "Authenticate your credentials with Google Cloud Platform and set your default Google Cloud Project ID as an environment variable for running query jobs. Run the cell, follow the generated link, and paste the verification code in the provided box:"
   ]
  },
  {
   "cell_type": "code",
   "metadata": {
    "id": "v0L2i-Nnp7_R"
   },
   "source": [
    "import os\n",
    "from google.colab import auth\n",
    "\n",
    "#sets dateset\n",
    "DATASET_PROJECT_ID = 'amsterdamumcdb-data'\n",
    "DATASET_ID = 'ams102'\n",
    "LOCATION = 'eu'\n",
    "\n",
    "#all libraries check this environment variable, so set it:\n",
    "os.environ[\"GOOGLE_CLOUD_PROJECT\"] = PROJECT_ID\n",
    "\n",
    "auth.authenticate_user()\n",
    "print('Authenticated')"
   ],
   "execution_count": null,
   "outputs": []
  },
  {
   "cell_type": "markdown",
   "metadata": {
    "id": "-PV_G3CkZsDX"
   },
   "source": [
    "# Google BigQuery costs\n",
    "Since BiqQuery uses a [columnar data structure](https://en.wikipedia.org/wiki/Column-oriented_DBMS), Google will charge you according to the columns selected and the size of the data in those columns. Especially in the data exploration phase, it is prudent to query only the columns you will be actually needing for the analysis.\n",
    "\n",
    "`SELECT * FROM numerictems` will process about 10 GiB data, where as\n",
    "\n",
    "`SELECT admissionid, itemid, value, unitid, measuredat FROM numerictems` will process only 2.5 GiB.\n",
    "\n",
    "**Important**: `LIMIT` or `WHERE` clauses do not have **any** effect on reducing the amount of data processed, and thus charged. These clauses will only limit the number of records returned by the query.\n",
    "\n",
    "# Available documentation for AmsterdamUMCdb tables.\n",
    "Additional information including sample Python code in Jupyter Notebooks and [SQL](https://github.com/AmsterdamUMC/AmsterdamUMCdb/tree/master/amsterdamumcdb/sql) is available from the official [AmsterdamUMCdb GitHub repository](https://github.com/AmsterdamUMC/AmsterdamUMCdb) and [wiki](https://github.com/AmsterdamUMC/AmsterdamUMCdb/wiki). \n",
    "\n",
    "Table | Wiki | Example code\n",
    ":- | :--| -:\n",
    "admissions|https://github.com/AmsterdamUMC/AmsterdamUMCdb/wiki/admissions | [![Open In Colab](https://colab.research.google.com/assets/colab-badge.svg)](https://colab.research.google.com/github/AmsterdamUMC/AmsterdamUMCdb/blob/master/tables/admissions.ipynb) \n",
    "drugitems|https://github.com/AmsterdamUMC/AmsterdamUMCdb/wiki/drugitems|[![Open In Colab](https://colab.research.google.com/assets/colab-badge.svg)](https://colab.research.google.com/github/AmsterdamUMC/AmsterdamUMCdb/blob/master/tables/drugitems.ipynb) \n",
    "freetextitems|https://github.com/AmsterdamUMC/AmsterdamUMCdb/wiki/freetextitems|[![Open In Colab](https://colab.research.google.com/assets/colab-badge.svg)](https://colab.research.google.com/github/AmsterdamUMC/AmsterdamUMCdb/blob/master/tables/freetextitems.ipynb)\n",
    "listitems|https://github.com/AmsterdamUMC/AmsterdamUMCdb/wiki/lisitems|[![Open In Colab](https://colab.research.google.com/assets/colab-badge.svg)](https://colab.research.google.com/github/AmsterdamUMC/AmsterdamUMCdb/blob/master/tables/listitems.ipynb)\n",
    "numericitems|https://github.com/AmsterdamUMC/AmsterdamUMCdb/wiki/numericitems|[![Open In Colab](https://colab.research.google.com/assets/colab-badge.svg)](https://colab.research.google.com/github/AmsterdamUMC/AmsterdamUMCdb/blob/master/tables/numericitems.ipynb)\n",
    "procedureorderitems|https://github.com/AmsterdamUMC/AmsterdamUMCdb/wiki/procedureorderitems|[![Open In Colab](https://colab.research.google.com/assets/colab-badge.svg)](https://colab.research.google.com/github/AmsterdamUMC/AmsterdamUMCdb/blob/master/tables/procedureorderitems.ipynb)\n",
    "processitems|https://github.com/AmsterdamUMC/AmsterdamUMCdb/wiki/processitems|[![Open In Colab](https://colab.research.google.com/assets/colab-badge.svg)](https://colab.research.google.com/github/AmsterdamUMC/AmsterdamUMCdb/blob/master/tables/processitems.ipynb)\n",
    "\n",
    "**Note**: In contrast to the publicly available version of AmsterdamUMCdb, we have moved *unvalidated* (device) data (`registeredby IS NULL`) from the `numericitems` table to a separate table `unvalidatednumericitems` to reduce query costs when unvalidated device data is not needed. However, depending on the chosen solution, you may need to combine the data from both tables."
   ]
  },
  {
   "cell_type": "markdown",
   "metadata": {
    "id": "UMKGkkZEPVRu"
   },
   "source": [
    "# Enable data table display\n",
    "\n",
    "Colab includes the `google.colab.data_table` package that can be used to display Pandas dataframes as an interactive data table (limitations: `max_rows = 20000`, `max_columns = 20`). This is especially useful when exploring the  tables or dictionary from AmsterdamUMCdb. It can be enabled with:"
   ]
  },
  {
   "cell_type": "code",
   "metadata": {
    "id": "LMNA-vBHPyHz"
   },
   "source": [
    "%load_ext google.colab.data_table"
   ],
   "execution_count": null,
   "outputs": []
  },
  {
   "cell_type": "markdown",
   "metadata": {
    "id": "F8Q_gnmFwyxW"
   },
   "source": [
    "# Running your first query on AmsterdamUMCdb\n",
    "BigQuery provides different ways to query the dataset:\n",
    "- **magics**: the `google.cloud.bigquery` library  includes a *magic* command which runs a query and either displays the result or saves it to a Pandas DataFrame`. The main advantage of this technique is that it improves readability of SQL code by syntax highlighting. Its main limitation: it requires a separate cell for the query, so cannot be combined with other Python code in the same code cell.\n",
    "\n",
    "Let's query the `admissions` table using magics."
   ]
  },
  {
   "cell_type": "markdown",
   "metadata": {
    "id": "Z7XIzHD3SMpc"
   },
   "source": [
    "## Set the default query job configuration for magics"
   ]
  },
  {
   "cell_type": "code",
   "metadata": {
    "id": "MC7nOYOCKFvQ"
   },
   "source": [
    "from google.cloud.bigquery import magics\n",
    "from google.cloud import bigquery\n",
    "\n",
    "#sets the default query job configuration\n",
    "def_config = bigquery.job.QueryJobConfig(default_dataset=DATASET_PROJECT_ID + \".\" + DATASET_ID)\n",
    "magics.context.default_query_job_config = def_config\n",
    "\n",
    "#sets client options job configuration\n",
    "client_options = {}\n",
    "client_options['location'] = LOCATION\n",
    "magics.context.bigquery_client_options = client_options"
   ],
   "execution_count": null,
   "outputs": []
  },
  {
   "cell_type": "markdown",
   "metadata": {
    "id": "H9wwX7aO0ROL"
   },
   "source": [
    "## Query the admission table and copy the data to the `admissions` Pandas dataframe:\n",
    "\n",
    "The admissions table contains the ICU admissions of all patients in AmsterdamUMCdb. More information can be found here: [![Open In Colab](https://colab.research.google.com/assets/colab-badge.svg)](https://colab.research.google.com/github/AmsterdamUMC/AmsterdamUMCdb/blob/master/tables/admissions.ipynb)\n",
    "\n",
    "Since this is a relatively small table, it is acceptable to use `SELECT *`. "
   ]
  },
  {
   "cell_type": "code",
   "metadata": {
    "id": "cLh05lDpJ4wj"
   },
   "source": [
    "%%bigquery admissions\n",
    "SELECT * FROM admissions"
   ],
   "execution_count": null,
   "outputs": []
  },
  {
   "cell_type": "markdown",
   "metadata": {
    "id": "zbvWkl5p0ERl"
   },
   "source": [
    "## Display the first 1000 rows of the `admissions` dataframe."
   ]
  },
  {
   "cell_type": "code",
   "metadata": {
    "id": "xgopBClCKs_0"
   },
   "source": [
    "admissions.head(1000)"
   ],
   "execution_count": null,
   "outputs": []
  },
  {
   "cell_type": "markdown",
   "metadata": {
    "id": "fkhbyGaXKs_6"
   },
   "source": [
    "# Query AmsterdamUMCdb through google-cloud-bigquery\n",
    "\n",
    "Alternatively, we can manually invoke the `biqquery` Python module. The examples used the previously entered `PROJECT_ID`.\n",
    "\n",
    "See [BigQuery documentation](https://cloud.google.com/bigquery/docs) and [library reference documentation](https://googlecloudplatform.github.io/google-cloud-python/latest/bigquery/usage.html)."
   ]
  },
  {
   "cell_type": "markdown",
   "metadata": {
    "id": "UFVuZjtNTKI9"
   },
   "source": [
    "## Set the default query job configuration for google-cloud-bigquery client"
   ]
  },
  {
   "cell_type": "code",
   "metadata": {
    "id": "alCUc9QYTGQT"
   },
   "source": [
    "from google.cloud import bigquery\n",
    "\n",
    "#BigQuery requires a separate config to prevent the 'BadRequest: 400 Cannot explicitly modify anonymous table' error message\n",
    "job_config = bigquery.job.QueryJobConfig()\n",
    "\n",
    "#sets default client settings by re-using the previously defined config\n",
    "client = bigquery.Client(project=PROJECT_ID, location=LOCATION, default_query_job_config=def_config)"
   ],
   "execution_count": null,
   "outputs": []
  },
  {
   "cell_type": "markdown",
   "metadata": {
    "id": "lK-9fSClKtAB"
   },
   "source": [
    "## Get all patients and group by age group"
   ]
  },
  {
   "cell_type": "code",
   "metadata": {
    "id": "ONI1Xo0-KtAD"
   },
   "source": [
    "age_groups = client.query(\n",
    "    '''\n",
    "    SELECT \n",
    "      agegroup\n",
    "      , COUNT(*) AS number_of_admissions -- COUNT(*) counts everything including NULL\n",
    "    FROM admissions\n",
    "    GROUP BY agegroup\n",
    "    ORDER BY agegroup ASC\n",
    "    '''\n",
    "    , job_config=job_config).to_dataframe()\n",
    "\n",
    "age_groups"
   ],
   "execution_count": null,
   "outputs": []
  },
  {
   "cell_type": "markdown",
   "metadata": {
    "id": "Bu2C7iWMKtAM"
   },
   "source": [
    "## Show a plot\n",
    "Uses the Pandas built-in functions to plot a bar chart."
   ]
  },
  {
   "cell_type": "code",
   "metadata": {
    "id": "IDHAGsRN7xhX"
   },
   "source": [
    "# modifies the pyplot back-end of Pandas to increase render resolution\n",
    "import matplotlib.pyplot as plt\n",
    "plt.style.use('seaborn-darkgrid')\n",
    "plt.rcParams[\"figure.dpi\"] = 144\n",
    "\n",
    "age_groups.plot(kind='bar', x='agegroup')"
   ],
   "execution_count": null,
   "outputs": []
  },
  {
   "cell_type": "markdown",
   "metadata": {
    "id": "oKNxsRvuKtAz"
   },
   "source": [
    "# Query AmsterdamUMCdb through pandas-gbq\n",
    "\n",
    "The third option is to to query the dataset using the Pandas `pandas-gbq` library. Especially when you are familiar with the `pandas.read_sql` function, it's relatively straightforward to modify your existing code to be compatible with BigQuery.\n",
    "\n",
    "[Pandas GBQ Documentation](https://pandas.pydata.org/pandas-docs/stable/generated/pandas.read_gbq.html)"
   ]
  },
  {
   "cell_type": "markdown",
   "metadata": {
    "id": "jiLDjtXhVUQr"
   },
   "source": [
    "## Set the default query job configuration for pandas-gbq"
   ]
  },
  {
   "cell_type": "code",
   "metadata": {
    "id": "r2SfaHSCTyWT"
   },
   "source": [
    "import pandas as pd\n",
    "\n",
    "config_gbq = {'query': \n",
    "          {'defaultDataset': {\n",
    "              \"datasetId\": DATASET_ID, \n",
    "              \"projectId\": DATASET_PROJECT_ID\n",
    "              },\n",
    "           'Location': LOCATION}\n",
    "           }"
   ],
   "execution_count": null,
   "outputs": []
  },
  {
   "cell_type": "markdown",
   "metadata": {
    "id": "EugFLkz8pBHC"
   },
   "source": [
    "## Retrieve the medical specialty associated with each admission"
   ]
  },
  {
   "cell_type": "code",
   "metadata": {
    "id": "ACMiQMFdv4Bh"
   },
   "source": [
    "specialties = pd.read_gbq(\n",
    "    '''\n",
    "    SELECT specialty, COUNT(*) AS number_of_admissions\n",
    "    FROM admissions\n",
    "    GROUP BY specialty\n",
    "    ORDER BY number_of_admissions DESC \n",
    "    '''\n",
    "    , configuration=config_gbq)\n",
    "specialties.plot(kind='bar', x='specialty')"
   ],
   "execution_count": null,
   "outputs": []
  },
  {
   "cell_type": "markdown",
   "metadata": {
    "id": "VsuwBUtrg5a8"
   },
   "source": [
    "# The challenges\n",
    "## Track 1: Atrial fibrillation in the ICU: When, why, who?\n",
    "New atrial fibrillation is common in critical illness and has important haemodynamic and possibly neurological consequences. This track in the datathon invites teams to use data to investigate this. Clinical questions might include: Who will get it and when? Is it avoidable? What are its consequences? Can you predict and understand this better with data?\n",
    "\n",
    "## Track 2: Steroids: Should I, shouldn’t I?\n",
    "The debate about steroids in sepsis and septic shock will probably go on forever. In this track, teams are asked to look at their use and impact. Questions might address issues such as how well do they actually work? When should they be started, at what dose and in who? RCTs address the population- but can you use data to address the individual?\n",
    "\n",
    "## Track 3: Lactate: Friend, foe or just inevitable?\n",
    "Everyone knows that lactate is a predictor of outcome. But its origins are metabolically complicated and how much does it just represent physiological stress? Do we really need to measure it (so much)? Questions for this track could include what predicts lactate increase and decrease? What individual treatment strategies might affect lactate levels and how effective are they? Are there individuals or circumstances where it’s measurement is crucial (or situations where it is unnecessary)?\n",
    "\n"
   ]
  },
  {
   "cell_type": "markdown",
   "metadata": {
    "id": "aa5jI637xCvH"
   },
   "source": [
    "# Getting the data you need\n",
    "The `amsterdamumcdb` package provides the `get_dictionary()` function that returns a DataFrame containing all items and itemids in AmsterdamUMCdb. In combination with BiqQuery DataTables, it's possible to quickly locate an item of interest. Since AmsterdamUMCdb originated from a real Dutch ICU database, the original item names are in Dutch. For common ICU parameters, translations have been provided. Full mapping to [LOINC](https://decor.nictiz.nl/art-decor/loinc) and [SNOMED CT](https://decor.nictiz.nl/art-decor/snomed-ct) is currently in progress, but we are happy to take [pull requests](https://github.com/AmsterdamUMC/AmsterdamUMCdb/pulls) for the [dictionary.csv](https://github.com/AmsterdamUMC/AmsterdamUMCdb/blob/master/amsterdamumcdb/dictionary/dictionary.csv) file, if you have any improvements to the file."
   ]
  },
  {
   "cell_type": "markdown",
   "metadata": {
    "id": "riKnnGLe0ynk"
   },
   "source": [
    "## Install the AmsterdamUMCdb package"
   ]
  },
  {
   "cell_type": "code",
   "metadata": {
    "id": "kefpJwsNZ0sf"
   },
   "source": [
    "#get the amsterdamumcdb package from PiPy repository for use in Colab\n",
    "!pip install amsterdamumcdb\n",
    "import amsterdamumcdb as adb"
   ],
   "execution_count": null,
   "outputs": []
  },
  {
   "cell_type": "markdown",
   "metadata": {
    "id": "csx_BSWT1Uil"
   },
   "source": [
    "## Load the AmsterdamUMCdb dictionary. \n",
    "Use the **Filter** button to quickly browse through the dictionary."
   ]
  },
  {
   "cell_type": "code",
   "metadata": {
    "id": "KVbGQ9ubvf_R"
   },
   "source": [
    "dictionary = adb.get_dictionary()\n",
    "dictionary"
   ],
   "execution_count": null,
   "outputs": []
  },
  {
   "cell_type": "markdown",
   "metadata": {
    "id": "rDJ5CfRK3NBm"
   },
   "source": [
    "# Example: Lactate\n",
    "Lactate, a laboratory measurement, can be found in the `numericitems` table. More information on `numericitems`:  [![Open In Colab](https://colab.research.google.com/assets/colab-badge.svg)](https://colab.research.google.com/github/AmsterdamUMC/AmsterdamUMCdb/blob/master/tables/numericitems.ipynb)\n",
    "\n",
    "Since this is a large table, it is highly recommended to only process the required columns."
   ]
  },
  {
   "cell_type": "markdown",
   "metadata": {
    "id": "u85mBlSx_lgm"
   },
   "source": [
    "## Get all lactate itemids"
   ]
  },
  {
   "cell_type": "code",
   "metadata": {
    "id": "xYID1Df_YZ0I"
   },
   "source": [
    "lactate_ids = dictionary[dictionary['item'].str.contains(r'la[ck]taat|lactate', regex=True, case=False)]\n",
    "lactate_ids"
   ],
   "execution_count": null,
   "outputs": []
  },
  {
   "cell_type": "markdown",
   "metadata": {
    "id": "zB8EEALbY5pH"
   },
   "source": [
    "## Get lactate values for all patients"
   ]
  },
  {
   "cell_type": "code",
   "metadata": {
    "id": "dWf7KIxjKtA0"
   },
   "source": [
    "lactate = pd.read_gbq(\n",
    "    '''\n",
    "    SELECT admissionid, itemid, value, unitid, measuredat, registeredby\n",
    "    FROM numericitems\n",
    "    WHERE itemid IN (\n",
    "      10053\t--Lactaat (bloed)\n",
    "      ,6837 --Laktaat\n",
    "      ,9580 --Laktaat Astrup\n",
    "    )\n",
    "    '''\n",
    "    , configuration=config_gbq)\n",
    "lactate.head(1000)"
   ],
   "execution_count": null,
   "outputs": []
  },
  {
   "cell_type": "markdown",
   "metadata": {
    "id": "RJnIWOxUaz4n"
   },
   "source": [
    "### Plot lactate values using default pandas histogram function"
   ]
  },
  {
   "cell_type": "code",
   "metadata": {
    "id": "cZu-1pwvZbH0"
   },
   "source": [
    "lactate['value'].hist()"
   ],
   "execution_count": null,
   "outputs": []
  },
  {
   "cell_type": "markdown",
   "metadata": {
    "id": "T-amWUw7Z2I3"
   },
   "source": [
    "### Plot lactate values using outlier aware histogram from AmsterdamUMCdb library"
   ]
  },
  {
   "cell_type": "code",
   "metadata": {
    "id": "Im3ZsL0qaPEo"
   },
   "source": [
    "adb.outliers_histogram(data=lactate['value']).show()"
   ],
   "execution_count": null,
   "outputs": []
  },
  {
   "cell_type": "code",
   "metadata": {
    "id": "I0kbmAGobQ28"
   },
   "source": [
    "adb.outliers_histogram(data=lactate['value'], z_threshold=16).show()"
   ],
   "execution_count": null,
   "outputs": []
  },
  {
   "cell_type": "code",
   "metadata": {
    "id": "MOJe8eSkb8IG"
   },
   "source": [
    "lactate[lactate['value'] > 15].sort_values('value', ascending=False)"
   ],
   "execution_count": null,
   "outputs": []
  },
  {
   "cell_type": "markdown",
   "metadata": {
    "id": "t8psY-fWcgk-"
   },
   "source": [
    "This table demonstrates that the top 6 highest values are most likely data entry errors. They were also manually documented, instead of filed by the system (Dutch: 'Systeem')"
   ]
  },
  {
   "cell_type": "markdown",
   "metadata": {
    "id": "dNxcvZ7x4L56"
   },
   "source": [
    "## Example: Steroids\n",
    "Steroids, or more specifically [corticosteroids](https://www.whocc.no/atc_ddd_index/?code=H02AB&showdescription=yes), are commonly prescribed drugs in the ICU. All medication administration can be found in the `drugitems` table. Please thoroughly read the documentation, since interpretation of medication administration records is prone to errors. In addition it recommended to keep most columns available for data analysis/exploration, with the exception of columns that contain redundant data (e.g. human readable names). More information on `drugitems`: [![Open In Colab](https://colab.research.google.com/assets/colab-badge.svg)](https://colab.research.google.com/github/AmsterdamUMC/AmsterdamUMCdb/blob/master/tables/drugitems.ipynb)"
   ]
  },
  {
   "cell_type": "code",
   "metadata": {
    "id": "qhmVlTOX2zNo"
   },
   "source": [
    "steroids = pd.read_gbq(\n",
    "    '''\n",
    "    SELECT \n",
    "      admissionid\n",
    "      --,orderid\n",
    "      --,ordercategoryid\n",
    "      --ordercategory\n",
    "      ,itemid\n",
    "      --,item\n",
    "      ,isadditive\n",
    "      ,isconditional\n",
    "      ,rate\n",
    "      ,rateunit\n",
    "      --,rateunitid\n",
    "      --,ratetimeunitid\n",
    "      ,doserateperkg\n",
    "      ,dose\n",
    "      ,doseunit\n",
    "      ,doserateunit\n",
    "      --,doseunitid\n",
    "      --,doserateunitid\n",
    "      ,administered\n",
    "      ,administeredunit\n",
    "      --,administeredunitid\n",
    "      ,action\n",
    "      ,start\n",
    "      ,stop\n",
    "      ,duration\n",
    "      --,solutionitemid\n",
    "      --,solutionitem\n",
    "      --,solutionadministered\n",
    "      --,solutionadministeredunit\n",
    "      ,fluidin\n",
    "      ,iscontinuous\n",
    "    FROM drugitems\n",
    "    WHERE itemid IN (\n",
    "      --intravenous\n",
    "      7106\t--Hydrocortison (Solu Cortef)\n",
    "      ,6995\t--Dexamethason\n",
    "      ,6922\t--Prednisolon (Prednison)\n",
    "      ,6922\t--Prednisolon (Prednison)\n",
    "      ,8132\t--Methylprednisolon (Solu-Medrol)\t\n",
    "\n",
    "      --non intravenous\n",
    "      ,6995\t--Dexamethason\n",
    "      ,7106\t--Hydrocortison (Solu Cortef)\n",
    "      ,9130\t--Prednisonum\n",
    "    )\n",
    "    '''\n",
    "    , configuration=config_gbq)\n",
    "steroids.head(1000)"
   ],
   "execution_count": null,
   "outputs": []
  },
  {
   "cell_type": "markdown",
   "metadata": {
    "id": "sNayORNr6aAJ"
   },
   "source": [
    "## Example: Atrial Fibrillation\n",
    "Atrial fibrillation is a common rhythm disorder in the ICU. It has been documented as a categorical (list) value in the `listitems` table as part of the `Hartritme` (heart rhytm) item. Listitems contains both validated as well as unvalidated device data (`registeredby IS NULL`). With `SELECT *` 3.0 GB of data will be processed. This can be reduced to < 1.0 GB by removing unneeded columns, e.g. item and value strings and some metadata.\n",
    "\n",
    "More information on `listitems`: [![Open In Colab](https://colab.research.google.com/assets/colab-badge.svg)](https://colab.research.google.com/github/AmsterdamUMC/AmsterdamUMCdb/blob/master/tables/listitems.ipynb)"
   ]
  },
  {
   "cell_type": "code",
   "metadata": {
    "id": "AsaWD1B44JJC"
   },
   "source": [
    "afib = pd.read_gbq(\n",
    "    '''\n",
    "    SELECT\n",
    "      admissionid\n",
    "      ,itemid\n",
    "      --,item\n",
    "      ,valueid\n",
    "      --,value\n",
    "      ,measuredat\n",
    "      --,registeredat\n",
    "      --,registeredby\n",
    "      --,updatedat\n",
    "      --,updatedby\n",
    "      --,islabresult\n",
    "    FROM listitems\n",
    "    WHERE \n",
    "      itemid = 6671\t--Hartritme\n",
    "      AND valueid = 13\t--Atr fib\n",
    "    '''\n",
    "    , configuration=config_gbq)\n",
    "afib.head(1000)"
   ],
   "execution_count": null,
   "outputs": []
  },
  {
   "cell_type": "markdown",
   "metadata": {
    "id": "WpaXmtD0dJWe"
   },
   "source": [
    "## Conclusion\n",
    "This finalizes our tutorial on accessing AmsterdamUMCdb using BigQuery. \n",
    "\n",
    "### What's next?\n",
    "- Have a look at the AmsterdamUMCdb [wiki](https://github.com/AmsterdamUMC/AmsterdamUMCdb/wiki).\n",
    "- Check more in depth examples for all tables, including those not mentioned in this tutorial:\n",
    "\n",
    "Table | Wiki | Example code\n",
    ":- | :--| -:\n",
    "admissions|https://github.com/AmsterdamUMC/AmsterdamUMCdb/wiki/admissions | [![Open In Colab](https://colab.research.google.com/assets/colab-badge.svg)](https://colab.research.google.com/github/AmsterdamUMC/AmsterdamUMCdb/blob/master/tables/admissions.ipynb) \n",
    "drugitems|https://github.com/AmsterdamUMC/AmsterdamUMCdb/wiki/drugitems|[![Open In Colab](https://colab.research.google.com/assets/colab-badge.svg)](https://colab.research.google.com/github/AmsterdamUMC/AmsterdamUMCdb/blob/master/tables/drugitems.ipynb) \n",
    "freetextitems|https://github.com/AmsterdamUMC/AmsterdamUMCdb/wiki/freetextitems|[![Open In Colab](https://colab.research.google.com/assets/colab-badge.svg)](https://colab.research.google.com/github/AmsterdamUMC/AmsterdamUMCdb/blob/master/tables/freetextitems.ipynb)\n",
    "listitems|https://github.com/AmsterdamUMC/AmsterdamUMCdb/wiki/lisitems|[![Open In Colab](https://colab.research.google.com/assets/colab-badge.svg)](https://colab.research.google.com/github/AmsterdamUMC/AmsterdamUMCdb/blob/master/tables/listitems.ipynb)\n",
    "numericitems|https://github.com/AmsterdamUMC/AmsterdamUMCdb/wiki/numericitems|[![Open In Colab](https://colab.research.google.com/assets/colab-badge.svg)](https://colab.research.google.com/github/AmsterdamUMC/AmsterdamUMCdb/blob/master/tables/numericitems.ipynb)\n",
    "procedureorderitems|https://github.com/AmsterdamUMC/AmsterdamUMCdb/wiki/procedureorderitems|[![Open In Colab](https://colab.research.google.com/assets/colab-badge.svg)](https://colab.research.google.com/github/AmsterdamUMC/AmsterdamUMCdb/blob/master/tables/procedureorderitems.ipynb)\n",
    "processitems|https://github.com/AmsterdamUMC/AmsterdamUMCdb/wiki/processitems|[![Open In Colab](https://colab.research.google.com/assets/colab-badge.svg)](https://colab.research.google.com/github/AmsterdamUMC/AmsterdamUMCdb/blob/master/tables/processitems.ipynb)\n",
    "\n",
    "- Start a discussion with your Team members on how to approach the challenge.\n"
   ]
  }
 ]
}