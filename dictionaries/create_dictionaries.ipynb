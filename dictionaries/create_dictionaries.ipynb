{
 "cells": [
  {
   "cell_type": "markdown",
   "metadata": {},
   "source": [
    "<img src=\"https://raw.githubusercontent.com/AmsterdamUMC/AmsterdamUMCdb/master/img/logo_amds.png\" alt=\"Logo\" style=\"width: 128px;\"/>\n",
    "\n",
    "# AmsterdamUMCdb Dictionaries\n",
    "\n",
    "Copyright &copy; 2003-2020 Amsterdam UMC - Amsterdam Medical Data Science"
   ]
  },
  {
   "cell_type": "markdown",
   "metadata": {},
   "source": [
    "# Dictionaries\n",
    "Creates lists of all available parameters. Especially useful in the data exploration phase. The Dutch version of [SNOMED CT](https://browser.ihtsdotools.org/) can be used as a starting point for (official) translations to English medical terms.\n",
    "\n",
    "**To do**: mapping with [SNOMED CT](https://browser.ihtsdotools.org/), [LOINC](https://search.loinc.org/searchLOINC/), etc."
   ]
  },
  {
   "cell_type": "markdown",
   "metadata": {},
   "source": [
    "## Imports"
   ]
  },
  {
   "cell_type": "code",
   "execution_count": 1,
   "metadata": {},
   "outputs": [],
   "source": [
    "%matplotlib inline\n",
    "import psycopg2\n",
    "import pandas as pd\n",
    "import numpy as np\n",
    "import re\n",
    "\n",
    "import matplotlib.pyplot as plt\n",
    "import matplotlib.gridspec as gridspec\n",
    "import matplotlib as mpl\n",
    "\n",
    "import io\n",
    "from IPython.display import display, HTML, Markdown"
   ]
  },
  {
   "cell_type": "markdown",
   "metadata": {},
   "source": [
    "## Display settings"
   ]
  },
  {
   "cell_type": "code",
   "execution_count": 2,
   "metadata": {},
   "outputs": [],
   "source": [
    "#matplotlib settings for image size\n",
    "#needs to be in a different cell from %matplotlib inline\n",
    "plt.style.use('seaborn-darkgrid')\n",
    "plt.rcParams[\"figure.dpi\"] = 288\n",
    "plt.rcParams[\"figure.figsize\"] = [16, 12]\n",
    "plt.rcParams[\"font.size\"] = 12\n",
    "\n",
    "pd.options.display.max_columns = None\n",
    "pd.options.display.max_rows = None\n",
    "pd.options.display.max_colwidth = 1000"
   ]
  },
  {
   "cell_type": "markdown",
   "metadata": {},
   "source": [
    "## Connection settings"
   ]
  },
  {
   "cell_type": "code",
   "execution_count": 3,
   "metadata": {},
   "outputs": [],
   "source": [
    "#Modify config.ini in the root folder of the repository to change the settings to connect to your postgreSQL database\n",
    "import configparser\n",
    "import os\n",
    "config = configparser.ConfigParser()\n",
    "\n",
    "if os.path.isfile('../config.ini'):\n",
    "    config.read('../config.ini')\n",
    "else:\n",
    "    config.read('../config.SAMPLE.ini')\n",
    "\n",
    "#Open a connection to the postgres database:\n",
    "con = psycopg2.connect(database=config['psycopg2']['database'], \n",
    "                       user=config['psycopg2']['username'], password=config['psycopg2']['password'], \n",
    "                       host=config['psycopg2']['host'], port=config['psycopg2']['port'])\n",
    "con.set_client_encoding('WIN1252') #Uses code page for Dutch accented characters.\n",
    "con.set_session(autocommit=True)\n",
    "\n",
    "cursor = con.cursor()\n",
    "cursor.execute('SET SCHEMA \\'amsterdamumcdb\\''); #set search_path to amsterdamumcdb schema"
   ]
  },
  {
   "cell_type": "markdown",
   "metadata": {},
   "source": [
    "## drugitems\n",
    "- itemid\n",
    "- item\n",
    "- ordercategoryid\n",
    "- ordercategory"
   ]
  },
  {
   "cell_type": "code",
   "execution_count": 4,
   "metadata": {},
   "outputs": [
    {
     "data": {
      "text/html": [
       "<div>\n",
       "<style scoped>\n",
       "    .dataframe tbody tr th:only-of-type {\n",
       "        vertical-align: middle;\n",
       "    }\n",
       "\n",
       "    .dataframe tbody tr th {\n",
       "        vertical-align: top;\n",
       "    }\n",
       "\n",
       "    .dataframe thead th {\n",
       "        text-align: right;\n",
       "    }\n",
       "</style>\n",
       "<table border=\"1\" class=\"dataframe\">\n",
       "  <thead>\n",
       "    <tr style=\"text-align: right;\">\n",
       "      <th></th>\n",
       "      <th>itemid</th>\n",
       "      <th>item</th>\n",
       "      <th>ordercategoryid</th>\n",
       "      <th>ordercategory</th>\n",
       "    </tr>\n",
       "  </thead>\n",
       "  <tbody>\n",
       "    <tr>\n",
       "      <th>0</th>\n",
       "      <td>6799</td>\n",
       "      <td>Abciximab (Reopro)</td>\n",
       "      <td>25</td>\n",
       "      <td>Injecties Haematologisch</td>\n",
       "    </tr>\n",
       "    <tr>\n",
       "      <th>1</th>\n",
       "      <td>6799</td>\n",
       "      <td>Abciximab (Reopro)</td>\n",
       "      <td>65</td>\n",
       "      <td>2. Spuitpompen</td>\n",
       "    </tr>\n",
       "    <tr>\n",
       "      <th>2</th>\n",
       "      <td>6802</td>\n",
       "      <td>Acenocoumarol (Sintrom mitis)</td>\n",
       "      <td>32</td>\n",
       "      <td>Niet iv Overig</td>\n",
       "    </tr>\n",
       "    <tr>\n",
       "      <th>3</th>\n",
       "      <td>6804</td>\n",
       "      <td>Acetazolamide (Diamox)</td>\n",
       "      <td>24</td>\n",
       "      <td>Injecties Circulatie/Diuretica</td>\n",
       "    </tr>\n",
       "    <tr>\n",
       "      <th>4</th>\n",
       "      <td>6804</td>\n",
       "      <td>Acetazolamide (Diamox)</td>\n",
       "      <td>27</td>\n",
       "      <td>Injecties Overig</td>\n",
       "    </tr>\n",
       "  </tbody>\n",
       "</table>\n",
       "</div>"
      ],
      "text/plain": [
       "   itemid                           item  ordercategoryid  \\\n",
       "0    6799             Abciximab (Reopro)               25   \n",
       "1    6799             Abciximab (Reopro)               65   \n",
       "2    6802  Acenocoumarol (Sintrom mitis)               32   \n",
       "3    6804         Acetazolamide (Diamox)               24   \n",
       "4    6804         Acetazolamide (Diamox)               27   \n",
       "\n",
       "                    ordercategory  \n",
       "0        Injecties Haematologisch  \n",
       "1                  2. Spuitpompen  \n",
       "2                  Niet iv Overig  \n",
       "3  Injecties Circulatie/Diuretica  \n",
       "4                Injecties Overig  "
      ]
     },
     "execution_count": 4,
     "metadata": {},
     "output_type": "execute_result"
    }
   ],
   "source": [
    "sql_drugitems_itemids = \"\"\"\n",
    "SELECT DISTINCT itemid, item, ordercategoryid, ordercategory\n",
    "FROM drugitems\n",
    "\"\"\"\n",
    "drugitems_itemids = pd.read_sql(sql_drugitems_itemids,con)\n",
    "drugitems_itemids.head()"
   ]
  },
  {
   "cell_type": "code",
   "execution_count": 5,
   "metadata": {},
   "outputs": [],
   "source": [
    "drugitems_itemids.to_csv('drugitems_itemids.csv', index=False)"
   ]
  },
  {
   "cell_type": "markdown",
   "metadata": {},
   "source": [
    "## freetextitems\n",
    "- itemid\n",
    "- itemids"
   ]
  },
  {
   "cell_type": "code",
   "execution_count": 6,
   "metadata": {},
   "outputs": [
    {
     "data": {
      "text/html": [
       "<div>\n",
       "<style scoped>\n",
       "    .dataframe tbody tr th:only-of-type {\n",
       "        vertical-align: middle;\n",
       "    }\n",
       "\n",
       "    .dataframe tbody tr th {\n",
       "        vertical-align: top;\n",
       "    }\n",
       "\n",
       "    .dataframe thead th {\n",
       "        text-align: right;\n",
       "    }\n",
       "</style>\n",
       "<table border=\"1\" class=\"dataframe\">\n",
       "  <thead>\n",
       "    <tr style=\"text-align: right;\">\n",
       "      <th></th>\n",
       "      <th>itemid</th>\n",
       "      <th>item</th>\n",
       "    </tr>\n",
       "  </thead>\n",
       "  <tbody>\n",
       "    <tr>\n",
       "      <th>0</th>\n",
       "      <td>14220</td>\n",
       "      <td>PORF-typ (verz. urine)</td>\n",
       "    </tr>\n",
       "    <tr>\n",
       "      <th>1</th>\n",
       "      <td>17663</td>\n",
       "      <td>Oxalaat kristallen (urine)</td>\n",
       "    </tr>\n",
       "    <tr>\n",
       "      <th>2</th>\n",
       "      <td>17939</td>\n",
       "      <td>Volgnummer MoDiag (bloed)</td>\n",
       "    </tr>\n",
       "    <tr>\n",
       "      <th>3</th>\n",
       "      <td>17368</td>\n",
       "      <td>HSV DNA PCR (blaasjesv.)</td>\n",
       "    </tr>\n",
       "    <tr>\n",
       "      <th>4</th>\n",
       "      <td>15694</td>\n",
       "      <td>JAK2 V617F (bloed)</td>\n",
       "    </tr>\n",
       "  </tbody>\n",
       "</table>\n",
       "</div>"
      ],
      "text/plain": [
       "   itemid                        item\n",
       "0   14220      PORF-typ (verz. urine)\n",
       "1   17663  Oxalaat kristallen (urine)\n",
       "2   17939   Volgnummer MoDiag (bloed)\n",
       "3   17368    HSV DNA PCR (blaasjesv.)\n",
       "4   15694          JAK2 V617F (bloed)"
      ]
     },
     "execution_count": 6,
     "metadata": {},
     "output_type": "execute_result"
    }
   ],
   "source": [
    "sql_freetextitems_itemids = \"\"\"\n",
    "SELECT DISTINCT itemid, item\n",
    "FROM freetextitems\n",
    "\"\"\"\n",
    "freetextitems_itemids = pd.read_sql(sql_freetextitems_itemids,con)\n",
    "freetextitems_itemids.head()"
   ]
  },
  {
   "cell_type": "code",
   "execution_count": 7,
   "metadata": {},
   "outputs": [],
   "source": [
    "freetextitems_itemids.to_csv('freetextitems_itemids.csv', index=False)"
   ]
  },
  {
   "cell_type": "markdown",
   "metadata": {},
   "source": [
    "## listitems\n",
    "- itemid\n",
    "- item\n",
    "- value\n",
    "- valueid"
   ]
  },
  {
   "cell_type": "code",
   "execution_count": 8,
   "metadata": {},
   "outputs": [
    {
     "data": {
      "text/html": [
       "<div>\n",
       "<style scoped>\n",
       "    .dataframe tbody tr th:only-of-type {\n",
       "        vertical-align: middle;\n",
       "    }\n",
       "\n",
       "    .dataframe tbody tr th {\n",
       "        vertical-align: top;\n",
       "    }\n",
       "\n",
       "    .dataframe thead th {\n",
       "        text-align: right;\n",
       "    }\n",
       "</style>\n",
       "<table border=\"1\" class=\"dataframe\">\n",
       "  <thead>\n",
       "    <tr style=\"text-align: right;\">\n",
       "      <th></th>\n",
       "      <th>itemid</th>\n",
       "      <th>item</th>\n",
       "      <th>valueid</th>\n",
       "      <th>value</th>\n",
       "    </tr>\n",
       "  </thead>\n",
       "  <tbody>\n",
       "    <tr>\n",
       "      <th>0</th>\n",
       "      <td>6658</td>\n",
       "      <td>IABP Frequentie</td>\n",
       "      <td>1</td>\n",
       "      <td>1:1</td>\n",
       "    </tr>\n",
       "    <tr>\n",
       "      <th>1</th>\n",
       "      <td>6658</td>\n",
       "      <td>IABP Frequentie</td>\n",
       "      <td>2</td>\n",
       "      <td>1:2</td>\n",
       "    </tr>\n",
       "    <tr>\n",
       "      <th>2</th>\n",
       "      <td>6658</td>\n",
       "      <td>IABP Frequentie</td>\n",
       "      <td>3</td>\n",
       "      <td>1:3</td>\n",
       "    </tr>\n",
       "    <tr>\n",
       "      <th>3</th>\n",
       "      <td>6658</td>\n",
       "      <td>IABP Frequentie</td>\n",
       "      <td>4</td>\n",
       "      <td>Uit</td>\n",
       "    </tr>\n",
       "    <tr>\n",
       "      <th>4</th>\n",
       "      <td>6671</td>\n",
       "      <td>Hartritme</td>\n",
       "      <td>1</td>\n",
       "      <td>NSR</td>\n",
       "    </tr>\n",
       "  </tbody>\n",
       "</table>\n",
       "</div>"
      ],
      "text/plain": [
       "   itemid             item  valueid value\n",
       "0    6658  IABP Frequentie        1   1:1\n",
       "1    6658  IABP Frequentie        2   1:2\n",
       "2    6658  IABP Frequentie        3   1:3\n",
       "3    6658  IABP Frequentie        4   Uit\n",
       "4    6671        Hartritme        1   NSR"
      ]
     },
     "execution_count": 8,
     "metadata": {},
     "output_type": "execute_result"
    }
   ],
   "source": [
    "sql_listitems_itemids = \"\"\"\n",
    "SELECT DISTINCT itemid, item, valueid, value \n",
    "FROM listitems\n",
    "\"\"\"            \n",
    "listitems_itemids = pd.read_sql(sql_listitems_itemids,con)\n",
    "listitems_itemids.head()"
   ]
  },
  {
   "cell_type": "code",
   "execution_count": 9,
   "metadata": {},
   "outputs": [],
   "source": [
    "listitems_itemids.to_csv('listitems_itemids.csv', index=False)"
   ]
  },
  {
   "cell_type": "markdown",
   "metadata": {},
   "source": [
    "## numericitems\n",
    "- itemid\n",
    "- item\n",
    "- unitid\n",
    "- unit"
   ]
  },
  {
   "cell_type": "code",
   "execution_count": 10,
   "metadata": {},
   "outputs": [
    {
     "data": {
      "text/html": [
       "<div>\n",
       "<style scoped>\n",
       "    .dataframe tbody tr th:only-of-type {\n",
       "        vertical-align: middle;\n",
       "    }\n",
       "\n",
       "    .dataframe tbody tr th {\n",
       "        vertical-align: top;\n",
       "    }\n",
       "\n",
       "    .dataframe thead th {\n",
       "        text-align: right;\n",
       "    }\n",
       "</style>\n",
       "<table border=\"1\" class=\"dataframe\">\n",
       "  <thead>\n",
       "    <tr style=\"text-align: right;\">\n",
       "      <th></th>\n",
       "      <th>itemid</th>\n",
       "      <th>item</th>\n",
       "      <th>unitid</th>\n",
       "      <th>unit</th>\n",
       "    </tr>\n",
       "  </thead>\n",
       "  <tbody>\n",
       "    <tr>\n",
       "      <th>0</th>\n",
       "      <td>6637</td>\n",
       "      <td>Opname gewicht</td>\n",
       "      <td>12</td>\n",
       "      <td>kg</td>\n",
       "    </tr>\n",
       "    <tr>\n",
       "      <th>1</th>\n",
       "      <td>6638</td>\n",
       "      <td>Huidig gewicht</td>\n",
       "      <td>12</td>\n",
       "      <td>kg</td>\n",
       "    </tr>\n",
       "    <tr>\n",
       "      <th>2</th>\n",
       "      <td>6640</td>\n",
       "      <td>Hartfrequentie</td>\n",
       "      <td>15</td>\n",
       "      <td>/min</td>\n",
       "    </tr>\n",
       "    <tr>\n",
       "      <th>3</th>\n",
       "      <td>6641</td>\n",
       "      <td>ABP systolisch</td>\n",
       "      <td>173</td>\n",
       "      <td>mmHg</td>\n",
       "    </tr>\n",
       "    <tr>\n",
       "      <th>4</th>\n",
       "      <td>6642</td>\n",
       "      <td>ABP gemiddeld</td>\n",
       "      <td>173</td>\n",
       "      <td>mmHg</td>\n",
       "    </tr>\n",
       "  </tbody>\n",
       "</table>\n",
       "</div>"
      ],
      "text/plain": [
       "   itemid            item  unitid  unit\n",
       "0    6637  Opname gewicht      12    kg\n",
       "1    6638  Huidig gewicht      12    kg\n",
       "2    6640  Hartfrequentie      15  /min\n",
       "3    6641  ABP systolisch     173  mmHg\n",
       "4    6642   ABP gemiddeld     173  mmHg"
      ]
     },
     "execution_count": 10,
     "metadata": {},
     "output_type": "execute_result"
    }
   ],
   "source": [
    "sql_numericitems_itemids = \"\"\"\n",
    "SELECT DISTINCT itemid, item, unitid, unit \n",
    "FROM numericitems\n",
    "\"\"\"\n",
    "numericitems_itemids = pd.read_sql(sql_numericitems_itemids,con)\n",
    "numericitems_itemids.head()"
   ]
  },
  {
   "cell_type": "code",
   "execution_count": 11,
   "metadata": {},
   "outputs": [],
   "source": [
    "numericitems_itemids.to_csv('numericitems_itemids.csv', index=False)"
   ]
  },
  {
   "cell_type": "markdown",
   "metadata": {},
   "source": [
    "## procedureorderitems\n",
    "- itemid\n",
    "- item\n",
    "- ordercategoryid\n",
    "- ordercategoryname"
   ]
  },
  {
   "cell_type": "code",
   "execution_count": 12,
   "metadata": {},
   "outputs": [
    {
     "data": {
      "text/html": [
       "<div>\n",
       "<style scoped>\n",
       "    .dataframe tbody tr th:only-of-type {\n",
       "        vertical-align: middle;\n",
       "    }\n",
       "\n",
       "    .dataframe tbody tr th {\n",
       "        vertical-align: top;\n",
       "    }\n",
       "\n",
       "    .dataframe thead th {\n",
       "        text-align: right;\n",
       "    }\n",
       "</style>\n",
       "<table border=\"1\" class=\"dataframe\">\n",
       "  <thead>\n",
       "    <tr style=\"text-align: right;\">\n",
       "      <th></th>\n",
       "      <th>itemid</th>\n",
       "      <th>item</th>\n",
       "      <th>ordercategoryid</th>\n",
       "      <th>ordercategoryname</th>\n",
       "    </tr>\n",
       "  </thead>\n",
       "  <tbody>\n",
       "    <tr>\n",
       "      <th>0</th>\n",
       "      <td>7921</td>\n",
       "      <td>ECG</td>\n",
       "      <td>81</td>\n",
       "      <td>Opdr. Circulatie</td>\n",
       "    </tr>\n",
       "    <tr>\n",
       "      <th>1</th>\n",
       "      <td>7922</td>\n",
       "      <td>X-Thorax</td>\n",
       "      <td>82</td>\n",
       "      <td>Opdr. Respiratie</td>\n",
       "    </tr>\n",
       "    <tr>\n",
       "      <th>2</th>\n",
       "      <td>7922</td>\n",
       "      <td>X-Thorax</td>\n",
       "      <td>103</td>\n",
       "      <td>Opdr. Radiologie</td>\n",
       "    </tr>\n",
       "    <tr>\n",
       "      <th>3</th>\n",
       "      <td>7928</td>\n",
       "      <td>Uitzuigen</td>\n",
       "      <td>82</td>\n",
       "      <td>Opdr. Respiratie</td>\n",
       "    </tr>\n",
       "    <tr>\n",
       "      <th>4</th>\n",
       "      <td>7949</td>\n",
       "      <td>Filter CVVH wisselen</td>\n",
       "      <td>105</td>\n",
       "      <td>Opdr. CVVH</td>\n",
       "    </tr>\n",
       "  </tbody>\n",
       "</table>\n",
       "</div>"
      ],
      "text/plain": [
       "   itemid                  item  ordercategoryid ordercategoryname\n",
       "0    7921                   ECG               81  Opdr. Circulatie\n",
       "1    7922              X-Thorax               82  Opdr. Respiratie\n",
       "2    7922              X-Thorax              103  Opdr. Radiologie\n",
       "3    7928             Uitzuigen               82  Opdr. Respiratie\n",
       "4    7949  Filter CVVH wisselen              105        Opdr. CVVH"
      ]
     },
     "execution_count": 12,
     "metadata": {},
     "output_type": "execute_result"
    }
   ],
   "source": [
    "sql_procedureorderitems_itemids = \"\"\"\n",
    "SELECT DISTINCT itemid, item, ordercategoryid, ordercategoryname\n",
    "FROM procedureorderitems\n",
    "ORDER BY itemid\n",
    "\"\"\"\n",
    "procedureorderitems_itemids = pd.read_sql(sql_procedureorderitems_itemids,con)\n",
    "procedureorderitems_itemids.head()"
   ]
  },
  {
   "cell_type": "code",
   "execution_count": 13,
   "metadata": {},
   "outputs": [],
   "source": [
    "procedureorderitems_itemids.to_csv('procedureorderitems_itemids.csv', index=False)"
   ]
  },
  {
   "cell_type": "markdown",
   "metadata": {},
   "source": [
    "## processitems\n",
    "- itemid\n",
    "- item"
   ]
  },
  {
   "cell_type": "code",
   "execution_count": 14,
   "metadata": {},
   "outputs": [
    {
     "data": {
      "text/html": [
       "<div>\n",
       "<style scoped>\n",
       "    .dataframe tbody tr th:only-of-type {\n",
       "        vertical-align: middle;\n",
       "    }\n",
       "\n",
       "    .dataframe tbody tr th {\n",
       "        vertical-align: top;\n",
       "    }\n",
       "\n",
       "    .dataframe thead th {\n",
       "        text-align: right;\n",
       "    }\n",
       "</style>\n",
       "<table border=\"1\" class=\"dataframe\">\n",
       "  <thead>\n",
       "    <tr style=\"text-align: right;\">\n",
       "      <th></th>\n",
       "      <th>itemid</th>\n",
       "      <th>item</th>\n",
       "    </tr>\n",
       "  </thead>\n",
       "  <tbody>\n",
       "    <tr>\n",
       "      <th>0</th>\n",
       "      <td>7926</td>\n",
       "      <td>Mobiliseren</td>\n",
       "    </tr>\n",
       "    <tr>\n",
       "      <th>1</th>\n",
       "      <td>7927</td>\n",
       "      <td>Buikligging</td>\n",
       "    </tr>\n",
       "    <tr>\n",
       "      <th>2</th>\n",
       "      <td>9159</td>\n",
       "      <td>Arterielijn Radialis</td>\n",
       "    </tr>\n",
       "    <tr>\n",
       "      <th>3</th>\n",
       "      <td>9160</td>\n",
       "      <td>Arterielijn Femoralis</td>\n",
       "    </tr>\n",
       "    <tr>\n",
       "      <th>4</th>\n",
       "      <td>9161</td>\n",
       "      <td>Dialyselijn Femoralis</td>\n",
       "    </tr>\n",
       "  </tbody>\n",
       "</table>\n",
       "</div>"
      ],
      "text/plain": [
       "   itemid                   item\n",
       "0    7926            Mobiliseren\n",
       "1    7927            Buikligging\n",
       "2    9159   Arterielijn Radialis\n",
       "3    9160  Arterielijn Femoralis\n",
       "4    9161  Dialyselijn Femoralis"
      ]
     },
     "execution_count": 14,
     "metadata": {},
     "output_type": "execute_result"
    }
   ],
   "source": [
    "sql_processitems_itemids = \"\"\"\n",
    "SELECT DISTINCT itemid, item\n",
    "FROM processitems\n",
    "ORDER BY itemid\n",
    "\"\"\"\n",
    "processitems_itemids = pd.read_sql(sql_processitems_itemids,con)\n",
    "processitems_itemids.head()"
   ]
  },
  {
   "cell_type": "code",
   "execution_count": 15,
   "metadata": {},
   "outputs": [],
   "source": [
    "processitems_itemids.to_csv('processitems_itemids.csv', index=False)"
   ]
  }
 ],
 "metadata": {
  "kernelspec": {
   "display_name": "Python 3",
   "language": "python",
   "name": "python3"
  },
  "language_info": {
   "codemirror_mode": {
    "name": "ipython",
    "version": 3
   },
   "file_extension": ".py",
   "mimetype": "text/x-python",
   "name": "python",
   "nbconvert_exporter": "python",
   "pygments_lexer": "ipython3",
   "version": "3.7.4"
  }
 },
 "nbformat": 4,
 "nbformat_minor": 2
}
