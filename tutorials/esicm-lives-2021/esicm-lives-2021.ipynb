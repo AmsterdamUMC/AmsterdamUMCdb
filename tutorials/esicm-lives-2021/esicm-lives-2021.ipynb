{
 "cells": [
  {
   "cell_type": "markdown",
   "metadata": {},
   "source": [
    "<table><tr>\n",
    "<td>\n",
    "    <img src=\"https://www.esicm.org/wp-content/uploads/2021/05/ESICM_LIVES-2021-vignette-01-300x300.png\" alt=\"Logo\" width=128px/>\n",
    "</td>\n",
    "<td>\n",
    "    <img src=\"https://github.com/AmsterdamUMC/AmsterdamUMCdb/blob/master/img/logo_amds.png?raw=1\" alt=\"Logo\" width=128px/>\n",
    "</td>\n",
    "</tr></table>\n",
    "\n",
    "# ESICM LIVES 2021: How to start using AmsterdamUMCdb\n",
    "\n",
    "version 1.0.2 March 2020  \n",
    "Copyright &copy; 2003-2021 Amsterdam UMC - Amsterdam Medical Data Science"
   ]
  },
  {
   "cell_type": "markdown",
   "metadata": {},
   "source": [
    "## Introduction\n",
    "This tutorial was written to get you started in exploring the data in AmsterdamUMCdb for data science and machine learning projects. The tutorial is available from the [AmsterdamUMCdb GitHub repository](https://github.com/AmsterdamUMC/AmsterdamUMCdb/tree/master/tutorials/esicm-lives-2021)."
   ]
  },
  {
   "cell_type": "markdown",
   "metadata": {},
   "source": [
    "## AmsterdamUMCdb\n",
    "* First European freely accessible ICU database November 2019\n",
    "* Joint Data Science Initiative of ESICM and SCCM\n",
    "* 23,106 ICU admissions from 2003 to 2016 \n",
    "* Tertiary referral academic medical center ICU \n",
    "* High-resolution clinical data\n",
    "* Fully GDPR (EU) and HIPAA (US) compliant\n",
    "\n",
    "<table><tr>\n",
    "<td>\n",
    "    <img src=\"esicm.png\" alt=\"Logo\" width=128px/>\n",
    "</td>\n",
    "<td>\n",
    "    <img src=\"sccm.png\" alt=\"Logo\" width=256px/>\n",
    "</td>\n",
    "</tr></table>\n"
   ]
  },
  {
   "cell_type": "markdown",
   "metadata": {},
   "source": [
    "## Data Lake\n",
    "<img src=\"datalake.png\" alt=\"Logo\" width=1024px/>"
   ]
  },
  {
   "cell_type": "markdown",
   "metadata": {},
   "source": [
    "## Tables\n",
    "<img src=\"table_relations.png\" alt=\"Logo\" width=1024px/>"
   ]
  },
  {
   "cell_type": "markdown",
   "metadata": {},
   "source": [
    "## Manuscript\n",
    "Thoral, P. J., et al. Sharing ICU Patient Data Responsibly Under the Society of Critical Care Medicine/European Society of Intensive Care Medicine Joint Data Science Collaboration: The Amsterdam University Medical Centers Database (AmsterdamUMCdb) Example. Crit Care Med. 2021 Jun 1;49(6):e563-e577. doi: [10.1097/CCM.0000000000004916](https://doi.org/10.1097/CCM.0000000000004916)."
   ]
  },
  {
   "cell_type": "markdown",
   "metadata": {},
   "source": [
    "## Available documentation for AmsterdamUMCdb tables.\n",
    "Additional information including sample Python code in Jupyter Notebooks and [SQL](https://github.com/AmsterdamUMC/AmsterdamUMCdb/tree/master/amsterdamumcdb/sql) is available from the official [AmsterdamUMCdb GitHub repository](https://github.com/AmsterdamUMC/AmsterdamUMCdb) and [wiki](https://github.com/AmsterdamUMC/AmsterdamUMCdb/wiki). \n",
    "\n",
    "Table | Wiki | Example code\n",
    ":- | :--| -:\n",
    "admissions|https://github.com/AmsterdamUMC/AmsterdamUMCdb/wiki/admissions | [![Open In Colab](https://colab.research.google.com/assets/colab-badge.svg)](https://colab.research.google.com/github/AmsterdamUMC/AmsterdamUMCdb/blob/master/tables/admissions.ipynb) \n",
    "drugitems|https://github.com/AmsterdamUMC/AmsterdamUMCdb/wiki/drugitems|[![Open In Colab](https://colab.research.google.com/assets/colab-badge.svg)](https://colab.research.google.com/github/AmsterdamUMC/AmsterdamUMCdb/blob/master/tables/drugitems.ipynb) \n",
    "freetextitems|https://github.com/AmsterdamUMC/AmsterdamUMCdb/wiki/freetextitems|[![Open In Colab](https://colab.research.google.com/assets/colab-badge.svg)](https://colab.research.google.com/github/AmsterdamUMC/AmsterdamUMCdb/blob/master/tables/freetextitems.ipynb)\n",
    "listitems|https://github.com/AmsterdamUMC/AmsterdamUMCdb/wiki/lisitems|[![Open In Colab](https://colab.research.google.com/assets/colab-badge.svg)](https://colab.research.google.com/github/AmsterdamUMC/AmsterdamUMCdb/blob/master/tables/listitems.ipynb)\n",
    "numericitems|https://github.com/AmsterdamUMC/AmsterdamUMCdb/wiki/numericitems|[![Open In Colab](https://colab.research.google.com/assets/colab-badge.svg)](https://colab.research.google.com/github/AmsterdamUMC/AmsterdamUMCdb/blob/master/tables/numericitems.ipynb)\n",
    "procedureorderitems|https://github.com/AmsterdamUMC/AmsterdamUMCdb/wiki/procedureorderitems|[![Open In Colab](https://colab.research.google.com/assets/colab-badge.svg)](https://colab.research.google.com/github/AmsterdamUMC/AmsterdamUMCdb/blob/master/tables/procedureorderitems.ipynb)\n",
    "processitems|https://github.com/AmsterdamUMC/AmsterdamUMCdb/wiki/processitems|[![Open In Colab](https://colab.research.google.com/assets/colab-badge.svg)](https://colab.research.google.com/github/AmsterdamUMC/AmsterdamUMCdb/blob/master/tables/processitems.ipynb)"
   ]
  },
  {
   "cell_type": "markdown",
   "metadata": {},
   "source": [
    "## Requesting Access\n",
    "- Go to [Amsterdam Medical Data Science](https://amsterdammedicaldatascience.nl/) website\n",
    "1. Complete a required training course.\n",
    "2. Fill out and sign the combined Access and End User License form.\n",
    "3. Submit your application"
   ]
  },
  {
   "cell_type": "markdown",
   "metadata": {},
   "source": [
    "## Setup AmsterdamUMCdb\n",
    "Recommended to install using the [setup guide](https://github.com/AmsterdamUMC/AmsterdamUMCdb/wiki/Setup-AmsterdamUMCdb).\n",
    "\n",
    "1. Install a Python distribution\n",
    "2. Install PostgreSQL\n",
    "3. Install psycopg2 module\n",
    "4. Clone the AmsterdamUMCdb GitHub respository\n",
    "5. Download the database files\n",
    "6. Create database tables\n",
    "7. Verify the database\n",
    "8. Create database table indices\n",
    "9. Jupyter Notebooks"
   ]
  },
  {
   "cell_type": "markdown",
   "metadata": {},
   "source": [
    "# Example Python and SQL scripts"
   ]
  },
  {
   "cell_type": "markdown",
   "metadata": {},
   "source": [
    "## Imports"
   ]
  },
  {
   "cell_type": "code",
   "execution_count": null,
   "metadata": {},
   "outputs": [],
   "source": [
    "%matplotlib inline\n",
    "import amsterdamumcdb as adb\n",
    "import psycopg2\n",
    "import pandas as pd\n",
    "import numpy as np\n",
    "\n",
    "import matplotlib.pyplot as plt"
   ]
  },
  {
   "cell_type": "markdown",
   "metadata": {},
   "source": [
    "## Display settings"
   ]
  },
  {
   "cell_type": "code",
   "execution_count": null,
   "metadata": {},
   "outputs": [],
   "source": [
    "#matplotlib settings for image size\n",
    "#needs to be in a different cell from %matplotlib inline\n",
    "plt.style.use('seaborn-darkgrid')\n",
    "plt.rcParams[\"figure.dpi\"] = 72\n",
    "\n",
    "pd.options.display.max_columns = None\n",
    "pd.options.display.max_colwidth = 1000"
   ]
  },
  {
   "cell_type": "markdown",
   "metadata": {},
   "source": [
    "## Connection settings"
   ]
  },
  {
   "cell_type": "code",
   "execution_count": null,
   "metadata": {},
   "outputs": [],
   "source": [
    "#Modify config.ini in the root folder of the repository to change the settings to connect to your postgreSQL database\n",
    "import configparser\n",
    "import os\n",
    "config = configparser.ConfigParser()\n",
    "\n",
    "if os.path.isfile('../../config.ini'):\n",
    "    config.read('../../config.ini')\n",
    "else:\n",
    "    config.read('../../config.SAMPLE.ini')\n",
    "\n",
    "#Open a connection to the postgres database:\n",
    "con = psycopg2.connect(database=config['psycopg2']['database'], \n",
    "                       user=config['psycopg2']['username'], password=config['psycopg2']['password'], \n",
    "                       host=config['psycopg2']['host'], port=config['psycopg2']['port'])\n",
    "con.set_client_encoding('WIN1252') #Uses code page for Dutch accented characters.\n",
    "con.set_session(autocommit=True)\n",
    "\n",
    "cursor = con.cursor()\n",
    "cursor.execute('SET SCHEMA \\'amsterdamumcdb\\''); #set search_path to amsterdamumcdb schema"
   ]
  },
  {
   "cell_type": "markdown",
   "metadata": {},
   "source": [
    "## admissions table"
   ]
  },
  {
   "cell_type": "code",
   "execution_count": null,
   "metadata": {},
   "outputs": [],
   "source": [
    "#since this is a small table we can load all data\n",
    "sql = \"\"\"\n",
    "SELECT * FROM admissions\n",
    "\"\"\"\n",
    "admissions = pd.read_sql(sql,con)\n",
    "admissions"
   ]
  },
  {
   "cell_type": "markdown",
   "metadata": {},
   "source": [
    "### <a id='agegroup'></a>age groups"
   ]
  },
  {
   "cell_type": "code",
   "execution_count": null,
   "metadata": {},
   "outputs": [],
   "source": [
    "sql = \"\"\"\n",
    "SELECT agegroup\n",
    "    , COUNT(*) AS \"Number of admissions\" -- COUNT(*) counts everything including NULL\n",
    "FROM admissions\n",
    "GROUP BY agegroup\n",
    "ORDER BY agegroup ASC\n",
    "\"\"\"\n",
    "age_groups = pd.read_sql(sql,con)\n",
    "age_groups"
   ]
  },
  {
   "cell_type": "code",
   "execution_count": null,
   "metadata": {
    "scrolled": false
   },
   "outputs": [],
   "source": [
    "sql = \"\"\"\n",
    "SELECT agegroup\n",
    "    , COUNT(*) AS \"Number of admissions\" -- COUNT(*) counts everything including NULL\n",
    "FROM admissions\n",
    "GROUP BY agegroup\n",
    "ORDER BY agegroup ASC\n",
    "\"\"\"\n",
    "age_groups = pd.read_sql(sql,con)\n",
    "age_groups.plot.bar(x='agegroup')"
   ]
  },
  {
   "cell_type": "markdown",
   "metadata": {},
   "source": [
    "## <a id='specialty'></a>medical specialty"
   ]
  },
  {
   "cell_type": "code",
   "execution_count": null,
   "metadata": {},
   "outputs": [],
   "source": [
    "sql = \"\"\"\n",
    "SELECT specialty\n",
    "    , COUNT(*) as AdmissionsPerSpecialty -- COUNT(*) counts everything including NULL\n",
    "FROM admissions\n",
    "GROUP BY specialty\n",
    "ORDER BY AdmissionsPerSpecialty DESC\n",
    "\"\"\"\n",
    "specialty = pd.read_sql(sql,con)\n",
    "specialty.head(10)"
   ]
  },
  {
   "cell_type": "markdown",
   "metadata": {},
   "source": [
    "# AmsterdamUMCdb package\n",
    "The `amsterdamumcdb` package contains some utility functions used in the Notebooks on GitHub. The package can be installed from the Python Package Index respository (PiPy) by running:\n",
    "\n",
    "> pip install amsterdamumcdb"
   ]
  },
  {
   "cell_type": "code",
   "execution_count": null,
   "metadata": {},
   "outputs": [],
   "source": [
    "dictionary = adb.get_dictionary()\n",
    "dictionary"
   ]
  },
  {
   "cell_type": "markdown",
   "metadata": {},
   "source": [
    "## numericitems table: lactate"
   ]
  },
  {
   "cell_type": "markdown",
   "metadata": {},
   "source": [
    "### Get all lactate itemids"
   ]
  },
  {
   "cell_type": "code",
   "execution_count": null,
   "metadata": {},
   "outputs": [],
   "source": [
    "lactate_ids = dictionary[dictionary['item'].str.contains(r'la[ck]taat|lactate', regex=True, case=False)]\n",
    "lactate_ids"
   ]
  },
  {
   "cell_type": "markdown",
   "metadata": {},
   "source": [
    "### Get lactate values for all patients"
   ]
  },
  {
   "cell_type": "code",
   "execution_count": null,
   "metadata": {},
   "outputs": [],
   "source": [
    "sql = \"\"\"\n",
    "SELECT admissionid, itemid, item, value, unitid, unit, measuredat, registeredby\n",
    "FROM numericitems\n",
    "WHERE itemid IN (\n",
    "    10053 --Lactaat (bloed)\n",
    "    ,6837 --Laktaat\n",
    "    ,9580 --Laktaat Astrup\n",
    ")\n",
    "\"\"\"\n",
    "lactate = pd.read_sql(sql,con)\n",
    "lactate"
   ]
  },
  {
   "cell_type": "markdown",
   "metadata": {},
   "source": [
    "### Plot lactate values using default pandas histogram function"
   ]
  },
  {
   "cell_type": "code",
   "execution_count": null,
   "metadata": {},
   "outputs": [],
   "source": [
    "lactate['value'].hist()"
   ]
  },
  {
   "cell_type": "markdown",
   "metadata": {},
   "source": [
    "### Plot lactate values using outlier aware histogram from AmsterdamUMCdb library\n",
    "Additional information on [GitHub](https://github.com/AmsterdamUMC/AmsterdamUMCdb#amsterdamumcdboutliers_histogramdata-z_threshold40-lowernone-uppernone-binsnone-binwidthnone-maxbinsnone)."
   ]
  },
  {
   "cell_type": "code",
   "execution_count": null,
   "metadata": {},
   "outputs": [],
   "source": [
    "adb.outliers_histogram(data=lactate['value']).show()"
   ]
  },
  {
   "cell_type": "code",
   "execution_count": null,
   "metadata": {},
   "outputs": [],
   "source": [
    "adb.outliers_histogram(data=lactate['value'], z_threshold=16).show()"
   ]
  },
  {
   "cell_type": "code",
   "execution_count": null,
   "metadata": {},
   "outputs": [],
   "source": [
    "lactate[lactate['value'] > 15].sort_values('value', ascending=False)"
   ]
  },
  {
   "cell_type": "markdown",
   "metadata": {},
   "source": [
    "## drugitems table: steroids\n",
    "Steroids, or more specifically [corticosteroids](https://www.whocc.no/atc_ddd_index/?code=H02AB&showdescription=yes), are commonly prescribed drugs in the ICU. All medication administration can be found in the `drugitems` table. Please thoroughly read the documentation, since interpretation of medication administration records is prone to errors. In addition it recommended to keep most columns available for data analysis/exploration, with the exception of columns that contain redundant data (e.g. human readable names). More information on [drugitems](../tables/drugitems.ipynb)."
   ]
  },
  {
   "cell_type": "code",
   "execution_count": null,
   "metadata": {},
   "outputs": [],
   "source": [
    "steroid_ids = dictionary[dictionary['item'].str.contains(r'hydrocort', regex=True, case=False)]\n",
    "steroid_ids"
   ]
  },
  {
   "cell_type": "code",
   "execution_count": null,
   "metadata": {},
   "outputs": [],
   "source": [
    "sql = \"\"\"\n",
    "SELECT \n",
    "    admissionid\n",
    "    ,itemid\n",
    "    ,item\n",
    "    ,rate\n",
    "    ,rateunit\n",
    "    ,doserateperkg\n",
    "    ,dose\n",
    "    ,doseunit\n",
    "    ,doserateunit\n",
    "    ,administered\n",
    "    ,administeredunit\n",
    "    ,action\n",
    "    ,start\n",
    "    ,stop\n",
    "    ,duration\n",
    "    ,fluidin\n",
    "    ,iscontinuous\n",
    "FROM drugitems\n",
    "WHERE itemid IN (\n",
    "    --intravenous\n",
    "    7106   --Hydrocortison (Solu Cortef)\n",
    "    ,6995  --Dexamethason\n",
    "    ,6922  --Prednisolon (Prednison)\n",
    "    ,6922  --Prednisolon (Prednison)\n",
    "    ,8132  --Methylprednisolon (Solu-Medrol)\n",
    "\n",
    "    --non intravenous\n",
    "    ,6995  --Dexamethason\n",
    "    ,7106  --Hydrocortison (Solu Cortef)\n",
    "    ,9130  --Prednisonum\n",
    ")\n",
    "\"\"\"\n",
    "steroids = pd.read_sql(sql, con)\n",
    "steroids"
   ]
  },
  {
   "cell_type": "markdown",
   "metadata": {},
   "source": [
    "## Patient selection"
   ]
  },
  {
   "cell_type": "code",
   "execution_count": null,
   "metadata": {},
   "outputs": [],
   "source": [
    "import amsterdamumcdb_charts as charts\n",
    "diags = charts.get_admissiondiags(con)\n",
    "diags"
   ]
  },
  {
   "cell_type": "markdown",
   "metadata": {},
   "source": [
    "### Example: renal replacement therapy and length of stay >= seven days"
   ]
  },
  {
   "cell_type": "code",
   "execution_count": null,
   "metadata": {},
   "outputs": [],
   "source": [
    "diags[(diags['crrt'] == True) & (diags['lengthofstay'] >= 7*24)]"
   ]
  },
  {
   "cell_type": "code",
   "execution_count": null,
   "metadata": {},
   "outputs": [],
   "source": [
    "charts.show_chart(23382, con)"
   ]
  },
  {
   "cell_type": "markdown",
   "metadata": {},
   "source": [
    "### Random patient chart"
   ]
  },
  {
   "cell_type": "code",
   "execution_count": null,
   "metadata": {},
   "outputs": [],
   "source": [
    "random_admission = admissions.sample()['admissionid'].values[0]\n",
    "charts.show_chart(random_admission, con)"
   ]
  },
  {
   "cell_type": "markdown",
   "metadata": {},
   "source": [
    "## Use case: predicting ICU readmission risk and mortality after ICU discharge"
   ]
  },
  {
   "cell_type": "markdown",
   "metadata": {},
   "source": [
    "Thoral, Patrick J. et al. Explainable Machine Learning on AmsterdamUMCdb for ICU Discharge Decision Support: Uniting Intensivists and Data Scientists, *Critical Care Explorations*: September 2021 - Volume 3 - Issue 9 - p e0529\n",
    "doi: [10.1097/CCE.0000000000000529](https://doi.org/10.1097/CCE.0000000000000529)\n",
    "\n",
    "![](risk_timeline.jpg)\n",
    "![](risk_dashboard.jpg)"
   ]
  },
  {
   "cell_type": "code",
   "execution_count": null,
   "metadata": {},
   "outputs": [],
   "source": []
  }
 ],
 "metadata": {
  "kernelspec": {
   "display_name": "Python 3",
   "language": "python",
   "name": "python3"
  },
  "language_info": {
   "codemirror_mode": {
    "name": "ipython",
    "version": 3
   },
   "file_extension": ".py",
   "mimetype": "text/x-python",
   "name": "python",
   "nbconvert_exporter": "python",
   "pygments_lexer": "ipython3",
   "version": "3.8.8"
  }
 },
 "nbformat": 4,
 "nbformat_minor": 2
}
