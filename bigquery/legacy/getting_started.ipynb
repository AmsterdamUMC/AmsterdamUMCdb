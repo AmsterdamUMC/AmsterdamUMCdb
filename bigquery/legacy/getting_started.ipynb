{
  "cells": [
    {
      "cell_type": "markdown",
      "metadata": {
        "id": "wObiuw_qeCNN"
      },
      "source": [
        "<img src=\"https://github.com/AmsterdamUMC/AmsterdamUMCdb/blob/master/img/logo_c4i_square.png?raw=1\" alt=\"Logo C4I\" width=128px/>\n",
        "\n",
        "<img src=\"https://github.com/AmsterdamUMC/AmsterdamUMCdb/blob/master/img/logo_amds.png?raw=1\" alt=\"Logo AMDS\" width=128px/>\n",
        "\n",
        "# AmsterdamUMCdb with Google BigQuery and Colaboratory\n",
        "## AmsterdamUMCdb - Freely Accessible ICU Database\n",
        "\n",
        "AmsterdamUMCdb version 1.0.2 March 2020  \n",
        "Copyright &copy; 2003-2023 Amsterdam UMC - Amsterdam Medical Data Science\n",
        "\n",
        "# Introduction\n",
        "To encourage rapid data exploration and model development, access to AmsterdamUMCdb is also available using Google BigQuery with Google Colaboratory ('Colab') as the main coding environment. This removes the necessity of downloading the AmsterdamUMCdb csv files, setting up a database system and installing a coding environment.\n",
        "\n",
        "This tutorial for using AmsterdamUMCdb on BigQuery was based on the original Google BigQuery tutorial on [Colab](https://colab.research.google.com/notebooks/bigquery.ipynb).\n",
        "\n",
        "# Running Colab\n",
        "If not done already, please open Colab with this **getting_started** notebook from the official AmsterdamUMCdb GitHub repository: [![Open In Colab](https://colab.research.google.com/assets/colab-badge.svg)](https://colab.research.google.com/github/AmsterdamUMC/AmsterdamUMCdb/blob/master/bigquery/getting_started.ipynb)\n",
        "\n",
        "**Important**: when following this tutorial, make sure to follow *all* steps and to run the **code cells** using the **Play** button or by pressing `Ctrl-Enter`\n",
        "\n",
        "# Before you Begin\n",
        "Ensure you have a working Google account and verify that the e-mail address used when applying for access has been associated with this account. If you already have a Google account, you can add secondary e-mail addresses [here](https://myaccount.google.com/alternateemail), or alternatively create another Google account using the e-mail address used in the application form.\n",
        "\n",
        "If you don't have any experience in using Jupyter notebooks and/or Python, it is recommended to familiarize yourself with the [basics](https://colab.research.google.com/notebooks/intro.ipynb).\n",
        "\n",
        "# Accessing the database\n",
        "Provided you have signed the end user license agreement, you will have free access to the data from AmsterdamUMCdb through the Google Cloud Platform.\n",
        "\n",
        "To explore and query the database you need to create a Google Cloud Platform project. For new users, Google offers a free tier of 1 TB (2<sup>40</sup> bytes) per month for queries and in addition \\$300 credit for free for use on the Google Cloud Platform (currently: \\$6.00 per TB). In the unlikely event, this amount is not sufficient during a datathon or course, please contact us and we will work with you to find a solution.\n",
        "\n",
        "# Signing up for Google Cloud Platform\n",
        "- To sign up for the free tier and free credits, please visit the Google Cloud Platform: https://cloud.google.com/.\n",
        "- Click **Get started for free**.\n",
        "- Log in with the Google account you used when registering for the datathon.\n",
        "- In Step 1 of 2: agree to the **Terms of Service** and select **Continue**. \n",
        "- In Step 2 of 2: You will be required to add some additional information, including a payment method to make sure you are not a robot. Don't worry you won't be charged unless you manually upgrade to a paid account. Depending on your payment provider, you may have an additional step to verify the payment method.\n",
        "- Finally press **Start my free trial**. You are good to go.\n",
        "\n"
      ]
    },
    {
      "cell_type": "markdown",
      "metadata": {
        "id": "dnF5AaxGGhDq"
      },
      "source": [
        "<a name=\"cell-project-id\"></a>\n",
        "# Retrieving your Google Cloud Project ID\n",
        "- At the top of the screen, select **My First Project** or [create a new one](https://console.cloud.google.com/projectcreate). Please write down the Project ID in the cell below (\"Insert text here\") and **Run** the cell to store the value."
      ]
    },
    {
      "cell_type": "code",
      "execution_count": null,
      "metadata": {
        "id": "hQnpY5Kpm5rT"
      },
      "outputs": [],
      "source": [
        "# sets *your* project id\n",
        "PROJECT_ID = \"\" #@param {type:\"string\"}"
      ]
    },
    {
      "cell_type": "markdown",
      "metadata": {
        "id": "Ybi3I6p9d0Kp"
      },
      "source": [
        "# Sets the default BigQuery dataset for accessing AmsterdamUMCdb\n",
        "\n",
        "If you have received instructions to use a specific BigQuery instance, change the default settings here. Otherwise use these default values."
      ]
    },
    {
      "cell_type": "code",
      "execution_count": null,
      "metadata": {
        "id": "5lVy6FoueMZn"
      },
      "outputs": [],
      "source": [
        "# sets default dataset for AmsterdamUMCdb \n",
        "DATASET_PROJECT_ID = 'amsterdamumcdb' #@param {type:\"string\"}\n",
        "DATASET_ID = 'version1_0_2' #@param {type:\"string\"}\n",
        "LOCATION = 'eu' #@param {type:\"string\"}"
      ]
    },
    {
      "cell_type": "markdown",
      "metadata": {
        "id": "PB_NEmEZtLpg"
      },
      "source": [
        "# Provide your credentials to access the AmsterdamUMCdb dataset on Google BigQuery\n",
        "Authenticate your credentials with Google Cloud Platform and set your default Google Cloud Project ID as an environment variable for running query jobs. \n",
        "\n",
        "1. Run the cell. The `Allow this notebook to access your Google credentials?` prompt appears. Select `Allow`. \n",
        "2. In the `Sign in - Google Accounts` dialog, use the account you registered during the AmsterdamUMCdb application process and select `Allow` again."
      ]
    },
    {
      "cell_type": "code",
      "execution_count": null,
      "metadata": {
        "id": "v0L2i-Nnp7_R"
      },
      "outputs": [],
      "source": [
        "import os\n",
        "from google.colab import auth\n",
        "\n",
        "# all libraries check this environment variable, so set it:\n",
        "os.environ[\"GOOGLE_CLOUD_PROJECT\"] = PROJECT_ID\n",
        "\n",
        "auth.authenticate_user()\n",
        "print('Authenticated')"
      ]
    },
    {
      "cell_type": "markdown",
      "metadata": {
        "id": "-PV_G3CkZsDX"
      },
      "source": [
        "# Google BigQuery costs\n",
        "Since BiqQuery uses a [columnar data structure](https://en.wikipedia.org/wiki/Column-oriented_DBMS), Google will charge you according to the columns selected and the size of the data in those columns. Especially in the data exploration phase, it is prudent to query only the columns you will be actually needing for the analysis.\n",
        "\n",
        "`SELECT * FROM numericitems` will process about 10 GiB data, where as\n",
        "\n",
        "`SELECT admissionid, itemid, value, unitid, measuredat FROM numericitems` will process only 2.5 GiB.\n",
        "\n",
        "**Important**: `LIMIT` or `WHERE` clauses do not have **any** effect on reducing the amount of data processed, and thus charged. These clauses will only limit the number of records returned by the query.\n",
        "\n",
        "# Available documentation for AmsterdamUMCdb tables.\n",
        "Additional information including sample Python code in Jupyter Notebooks and [SQL](https://github.com/AmsterdamUMC/AmsterdamUMCdb/tree/master/amsterdamumcdb/sql) is available from the official [AmsterdamUMCdb GitHub repository](https://github.com/AmsterdamUMC/AmsterdamUMCdb) and [wiki](https://github.com/AmsterdamUMC/AmsterdamUMCdb/wiki). \n",
        "\n",
        "Table | Wiki | Example code\n",
        ":- | :--| -:\n",
        "admissions|https://github.com/AmsterdamUMC/AmsterdamUMCdb/wiki/admissions | [![Open In Colab](https://colab.research.google.com/assets/colab-badge.svg)](https://colab.research.google.com/github/AmsterdamUMC/AmsterdamUMCdb/blob/master/tables/admissions.ipynb) \n",
        "drugitems|https://github.com/AmsterdamUMC/AmsterdamUMCdb/wiki/drugitems|[![Open In Colab](https://colab.research.google.com/assets/colab-badge.svg)](https://colab.research.google.com/github/AmsterdamUMC/AmsterdamUMCdb/blob/master/tables/drugitems.ipynb) \n",
        "freetextitems|https://github.com/AmsterdamUMC/AmsterdamUMCdb/wiki/freetextitems|[![Open In Colab](https://colab.research.google.com/assets/colab-badge.svg)](https://colab.research.google.com/github/AmsterdamUMC/AmsterdamUMCdb/blob/master/tables/freetextitems.ipynb)\n",
        "listitems|https://github.com/AmsterdamUMC/AmsterdamUMCdb/wiki/lisitems|[![Open In Colab](https://colab.research.google.com/assets/colab-badge.svg)](https://colab.research.google.com/github/AmsterdamUMC/AmsterdamUMCdb/blob/master/tables/listitems.ipynb)\n",
        "numericitems|https://github.com/AmsterdamUMC/AmsterdamUMCdb/wiki/numericitems|[![Open In Colab](https://colab.research.google.com/assets/colab-badge.svg)](https://colab.research.google.com/github/AmsterdamUMC/AmsterdamUMCdb/blob/master/tables/numericitems.ipynb)\n",
        "procedureorderitems|https://github.com/AmsterdamUMC/AmsterdamUMCdb/wiki/procedureorderitems|[![Open In Colab](https://colab.research.google.com/assets/colab-badge.svg)](https://colab.research.google.com/github/AmsterdamUMC/AmsterdamUMCdb/blob/master/tables/procedureorderitems.ipynb)\n",
        "processitems|https://github.com/AmsterdamUMC/AmsterdamUMCdb/wiki/processitems|[![Open In Colab](https://colab.research.google.com/assets/colab-badge.svg)](https://colab.research.google.com/github/AmsterdamUMC/AmsterdamUMCdb/blob/master/tables/processitems.ipynb)\n",
        "\n",
        "\n",
        "**Note**: In contrast to the downloadable version of AmsterdamUMCdb, we have moved *unvalidated* (device)\n",
        "data (`registeredby IS NULL`) from the `numericitems` and `listitems` table to separate\n",
        "tables (`numericitems_unvalidated` and `listitems_unvalidated` respectively) to reduce query costs and memory\n",
        "consumption when unvalidated device data is not needed. However, depending on the chosen solution, you may need to\n",
        "combine the data from both tables. For an example to combine data from the tables see: [Get validated and unvalidated tidal volume values for all patients](#union-all)."
      ]
    },
    {
      "cell_type": "markdown",
      "metadata": {
        "id": "1m9L8PWsGqjB"
      },
      "source": [
        "# Enable data table display\n",
        "\n",
        "Colab includes the `google.colab.data_table` package that can be used to display Pandas dataframes as an interactive data table (default limits: `max_rows = 20000`, `max_columns = 20`). This is especially useful when exploring the  tables or dictionary from AmsterdamUMCdb. It can be enabled with:"
      ]
    },
    {
      "cell_type": "code",
      "execution_count": null,
      "metadata": {
        "id": "LMNA-vBHPyHz"
      },
      "outputs": [],
      "source": [
        "%load_ext google.colab.data_table\n",
        "from google.colab.data_table import DataTable\n",
        "\n",
        "# change default limits: \n",
        "DataTable.max_columns = 50\n",
        "DataTable.max_rows = 30000"
      ]
    },
    {
      "cell_type": "markdown",
      "metadata": {
        "id": "F8Q_gnmFwyxW"
      },
      "source": [
        "# Running your first query on AmsterdamUMCdb\n",
        "BigQuery provides different ways to query the dataset:\n",
        "- **magics**: the `google.cloud.bigquery` library  includes a *magic* command which runs a query and either displays the result or saves it to a Pandas DataFrame`. The main advantage of this technique is that it improves readability of SQL code by syntax highlighting. Its main limitation: it requires a separate cell for the query, so cannot be combined with other Python code in the same code cell.\n",
        "\n",
        "Let's query the `admissions` table using magics.\n"
      ]
    },
    {
      "cell_type": "markdown",
      "metadata": {
        "id": "Bpsujp7-GxTZ"
      },
      "source": [
        "\n",
        "## Set the default query job configuration for magics"
      ]
    },
    {
      "cell_type": "code",
      "execution_count": null,
      "metadata": {
        "id": "MC7nOYOCKFvQ"
      },
      "outputs": [],
      "source": [
        "from google.cloud.bigquery import magics\n",
        "from google.cloud import bigquery\n",
        "\n",
        "# sets the default query job configuration\n",
        "def_config = bigquery.job.QueryJobConfig(default_dataset=DATASET_PROJECT_ID + \".\" + DATASET_ID)\n",
        "magics.context.default_query_job_config = def_config"
      ]
    },
    {
      "cell_type": "markdown",
      "metadata": {
        "id": "H9wwX7aO0ROL"
      },
      "source": [
        "## Query the admission table and copy the data to the `admissions` Pandas dataframe:\n",
        "\n",
        "The admissions table contains the ICU admissions of all patients in AmsterdamUMCdb. More information can be found here: [![Open In Colab](https://colab.research.google.com/assets/colab-badge.svg)](https://colab.research.google.com/github/AmsterdamUMC/AmsterdamUMCdb/blob/master/tables/admissions.ipynb)\n",
        "\n",
        "Since this is a relatively small table, it is acceptable to use `SELECT *`. \n",
        "\n",
        "**Note**: Should an error occur while running the query, please see \n",
        "the AmsterdamUMCdb BigQuery [Frequently Asked Questions](https://github.com/AmsterdamUMC/AmsterdamUMCdb/wiki/bigquery#faq)."
      ]
    },
    {
      "cell_type": "code",
      "execution_count": null,
      "metadata": {
        "id": "cLh05lDpJ4wj"
      },
      "outputs": [],
      "source": [
        "%%bigquery admissions\n",
        "SELECT * FROM admissions"
      ]
    },
    {
      "cell_type": "markdown",
      "metadata": {
        "id": "zbvWkl5p0ERl"
      },
      "source": [
        "## Display the `admissions` dataframe."
      ]
    },
    {
      "cell_type": "code",
      "execution_count": null,
      "metadata": {
        "id": "xgopBClCKs_0"
      },
      "outputs": [],
      "source": [
        "admissions"
      ]
    },
    {
      "cell_type": "markdown",
      "metadata": {
        "id": "fkhbyGaXKs_6"
      },
      "source": [
        "# Query AmsterdamUMCdb through google-cloud-bigquery\n",
        "\n",
        "Alternatively, we can manually invoke the `biqquery` Python module. The following examples re-use the previously entered `PROJECT_ID` from [Retrieving your Google Cloud Project ID](#cell-project-id). For more information, see [BigQuery documentation](https://cloud.google.com/bigquery/docs) and [library reference documentation](https://googleapis.dev/python/bigquery/latest/index.html)."
      ]
    },
    {
      "cell_type": "markdown",
      "metadata": {
        "id": "Be02EMbNHRML"
      },
      "source": [
        "\n",
        "## Set the default query job configuration for google-cloud-bigquery client"
      ]
    },
    {
      "cell_type": "code",
      "execution_count": null,
      "metadata": {
        "id": "alCUc9QYTGQT"
      },
      "outputs": [],
      "source": [
        "from google.cloud import bigquery\n",
        "\n",
        "# BigQuery requires a separate config to prevent the 'BadRequest: 400 Cannot explicitly modify anonymous table' error message\n",
        "job_config = bigquery.job.QueryJobConfig()\n",
        "\n",
        "# sets default client settings by re-using the previously defined config\n",
        "client = bigquery.Client(project=PROJECT_ID, location=LOCATION, default_query_job_config=def_config)"
      ]
    },
    {
      "cell_type": "markdown",
      "metadata": {
        "id": "lK-9fSClKtAB"
      },
      "source": [
        "## Get all patients and group by age group"
      ]
    },
    {
      "cell_type": "code",
      "execution_count": null,
      "metadata": {
        "id": "ONI1Xo0-KtAD"
      },
      "outputs": [],
      "source": [
        "age_groups = client.query(\n",
        "    '''\n",
        "    SELECT \n",
        "      agegroup\n",
        "      , COUNT(*) AS number_of_admissions -- COUNT(*) counts everything including NULL\n",
        "    FROM admissions\n",
        "    GROUP BY agegroup\n",
        "    ORDER BY agegroup ASC\n",
        "    '''\n",
        "    , job_config=job_config).to_dataframe()\n",
        "\n",
        "age_groups"
      ]
    },
    {
      "cell_type": "markdown",
      "metadata": {
        "id": "Bu2C7iWMKtAM"
      },
      "source": [
        "## Show a plot\n",
        "Uses the Pandas built-in functions to plot a bar chart."
      ]
    },
    {
      "cell_type": "code",
      "execution_count": null,
      "metadata": {
        "id": "IDHAGsRN7xhX"
      },
      "outputs": [],
      "source": [
        "# modifies the pyplot back-end of Pandas to increase render resolution\n",
        "import matplotlib.pyplot as plt\n",
        "plt.style.use('seaborn-v0_8-darkgrid')\n",
        "plt.rcParams[\"figure.dpi\"] = 144\n",
        "\n",
        "age_groups.plot(kind='bar', x='agegroup')"
      ]
    },
    {
      "cell_type": "markdown",
      "metadata": {
        "id": "oKNxsRvuKtAz"
      },
      "source": [
        "# Query AmsterdamUMCdb through pandas-gbq\n",
        "\n",
        "The third option is to query the dataset using the Pandas `pandas-gbq` library. Especially when you are already familiar with the `pandas.read_sql` function, it's relatively straightforward to modify your existing code to be compatible with BigQuery. For more information, see [Pandas GBQ Documentation](https://pandas.pydata.org/pandas-docs/stable/reference/api/pandas.read_gbq.html).\n",
        "\n",
        "\n",
        "**Note**: The `use_bqstorage_api=True` statement enables the Google Cloud BigQuery Storage API that improves the performance of copying data from BiqQuery to pandas DataFrames in the Colab environment (~around 16 times). While the usage of the Storage Read API is being charged separately, Google currently offers a free tier of 300 TB per month. However, you may choose to remove the option from the command."
      ]
    },
    {
      "cell_type": "markdown",
      "metadata": {
        "id": "jiLDjtXhVUQr"
      },
      "source": [
        "## Set the default query job configuration for pandas-gbq"
      ]
    },
    {
      "cell_type": "code",
      "execution_count": null,
      "metadata": {
        "id": "r2SfaHSCTyWT"
      },
      "outputs": [],
      "source": [
        "import pandas as pd\n",
        "\n",
        "config_gbq = {'query': \n",
        "          {'defaultDataset': {\n",
        "              \"datasetId\": DATASET_ID, \n",
        "              \"projectId\": DATASET_PROJECT_ID\n",
        "              },\n",
        "           'Location': LOCATION}\n",
        "           }"
      ]
    },
    {
      "cell_type": "markdown",
      "metadata": {
        "id": "EugFLkz8pBHC"
      },
      "source": [
        "## Retrieve the medical specialty associated with each admission"
      ]
    },
    {
      "cell_type": "code",
      "execution_count": null,
      "metadata": {
        "id": "ACMiQMFdv4Bh"
      },
      "outputs": [],
      "source": [
        "specialties = pd.read_gbq(\n",
        "    '''\n",
        "    SELECT specialty, COUNT(*) AS number_of_admissions\n",
        "    FROM admissions\n",
        "    GROUP BY specialty\n",
        "    ORDER BY number_of_admissions DESC \n",
        "    '''\n",
        "    , configuration=config_gbq, use_bqstorage_api=True)\n",
        "specialties.plot(kind='bar', x='specialty')"
      ]
    },
    {
      "cell_type": "markdown",
      "metadata": {
        "id": "aa5jI637xCvH"
      },
      "source": [
        "# Getting the data you need\n",
        "The `amsterdamumcdb` package provides the `get_dictionary()` function that returns a DataFrame containing all `item`s and `itemid`s in AmsterdamUMCdb. In combination with BigQuery DataTables, it's possible to quickly locate an item of interest. Since AmsterdamUMCdb originated from a real Dutch ICU database, the original item names are in Dutch. For common ICU parameters, English translations have been provided as `item_en` and `category_en`. In addition, as part of the `ICUnity` project in preparation for the [The Dutch ICU Data Warehouse](https://www.icudata.nl/index-en.html) a number of commonly used items have been mapped to [LOINC](https://decor.nictiz.nl/art-decor/loinc), [SNOMED CT](https://decor.nictiz.nl/art-decor/snomed-ct) or [ATC](https://www.whocc.no/atc_ddd_index/) with data in the `vocabulary_id`, `vocabulary_concept_code`, `vocabulary_concept_name` columns. The mapping process is still very much work in progress, but we are happy to take [pull requests](https://github.com/AmsterdamUMC/AmsterdamUMCdb/pulls) for the [dictionary.csv](https://github.com/AmsterdamUMC/AmsterdamUMCdb/blob/master/amsterdamumcdb/dictionary/dictionary.csv) file, if you have any additions."
      ]
    },
    {
      "cell_type": "markdown",
      "metadata": {
        "id": "riKnnGLe0ynk"
      },
      "source": [
        "## Install the AmsterdamUMCdb package"
      ]
    },
    {
      "cell_type": "code",
      "execution_count": null,
      "metadata": {
        "id": "kefpJwsNZ0sf"
      },
      "outputs": [],
      "source": [
        "# get the amsterdamumcdb package from PyPI repository for use in Colab\n",
        "!pip install amsterdamumcdb\n",
        "import amsterdamumcdb as adb"
      ]
    },
    {
      "cell_type": "markdown",
      "metadata": {
        "id": "csx_BSWT1Uil"
      },
      "source": [
        "## Load the AmsterdamUMCdb dictionary. \n",
        "Use the **Filter** button to quickly browse through the dictionary."
      ]
    },
    {
      "cell_type": "code",
      "execution_count": null,
      "metadata": {
        "id": "KVbGQ9ubvf_R"
      },
      "outputs": [],
      "source": [
        "dictionary = adb.get_dictionary()\n",
        "dictionary"
      ]
    },
    {
      "cell_type": "markdown",
      "metadata": {
        "id": "rDJ5CfRK3NBm"
      },
      "source": [
        "# Example: Lactate\n",
        "Lactate, a laboratory measurement, can be found in the `numericitems` table. More information on `numericitems`:  [![Open In Colab](https://colab.research.google.com/assets/colab-badge.svg)](https://colab.research.google.com/github/AmsterdamUMC/AmsterdamUMCdb/blob/master/tables/numericitems.ipynb)\n",
        "\n",
        "Since this is a large table, it is highly recommended to only process the required columns."
      ]
    },
    {
      "cell_type": "markdown",
      "metadata": {
        "id": "vK3dtu4eBtt4"
      },
      "source": [
        "# Selecting relevant features\n"
      ]
    },
    {
      "cell_type": "markdown",
      "metadata": {
        "id": "u85mBlSx_lgm"
      },
      "source": [
        "## Get all lactate itemids"
      ]
    },
    {
      "cell_type": "code",
      "execution_count": null,
      "metadata": {
        "id": "xYID1Df_YZ0I"
      },
      "outputs": [],
      "source": [
        "lactate_ids = dictionary[dictionary['item'].str.contains(r'la[ck]taat|lactate', regex=True, case=False)]\n",
        "lactate_ids"
      ]
    },
    {
      "cell_type": "markdown",
      "metadata": {
        "id": "zB8EEALbY5pH"
      },
      "source": [
        "## Get lactate values for all patients"
      ]
    },
    {
      "cell_type": "code",
      "execution_count": null,
      "metadata": {
        "id": "dWf7KIxjKtA0"
      },
      "outputs": [],
      "source": [
        "lactate = pd.read_gbq(\n",
        "    '''\n",
        "    SELECT admissionid, itemid, value, unitid, measuredat, registeredby\n",
        "    FROM numericitems\n",
        "    WHERE itemid IN (\n",
        "      10053\t--Lactaat (bloed)\n",
        "      ,6837 --Laktaat\n",
        "      ,9580 --Laktaat Astrup\n",
        "    )\n",
        "    '''\n",
        "    , configuration=config_gbq, use_bqstorage_api=True)\n",
        "\n",
        "#show number of records in the dataframe\n",
        "print(f'Number of lactate values: {len(lactate)}')\n",
        "\n",
        "#show first 1000 items\n",
        "lactate.head(1000)"
      ]
    },
    {
      "cell_type": "markdown",
      "metadata": {
        "id": "RJnIWOxUaz4n"
      },
      "source": [
        "### Plot lactate values using default pandas histogram function"
      ]
    },
    {
      "cell_type": "code",
      "execution_count": null,
      "metadata": {
        "id": "cZu-1pwvZbH0"
      },
      "outputs": [],
      "source": [
        "lactate['value'].hist()"
      ]
    },
    {
      "cell_type": "markdown",
      "metadata": {
        "id": "T-amWUw7Z2I3"
      },
      "source": [
        "### Plot lactate values using outlier aware histogram from AmsterdamUMCdb library"
      ]
    },
    {
      "cell_type": "code",
      "execution_count": null,
      "metadata": {
        "id": "Im3ZsL0qaPEo"
      },
      "outputs": [],
      "source": [
        "adb.outliers_histogram(data=lactate['value']).show()"
      ]
    },
    {
      "cell_type": "code",
      "execution_count": null,
      "metadata": {
        "id": "I0kbmAGobQ28"
      },
      "outputs": [],
      "source": [
        "adb.outliers_histogram(data=lactate['value'], z_threshold=16).show()"
      ]
    },
    {
      "cell_type": "code",
      "execution_count": null,
      "metadata": {
        "id": "MOJe8eSkb8IG"
      },
      "outputs": [],
      "source": [
        "lactate[lactate['value'] > 15].sort_values('value', ascending=False)"
      ]
    },
    {
      "cell_type": "markdown",
      "metadata": {
        "id": "t8psY-fWcgk-"
      },
      "source": [
        "This table demonstrates that the top 6 highest values are most likely data entry errors. They were also manually documented, instead of filed by the system (Dutch: 'Systeem')"
      ]
    },
    {
      "cell_type": "markdown",
      "metadata": {
        "id": "qOUSyOqs6F9_"
      },
      "source": [
        "## Example: Acute kidney injury: creatinine\n",
        "Creatinine, a laboratory measurement that reflects kidney function, can be found in the `numericitems` table. More information on `numericitems`:  [![Open In Colab](https://colab.research.google.com/assets/colab-badge.svg)](https://colab.research.google.com/github/AmsterdamUMC/AmsterdamUMCdb/blob/master/tables/numericitems.ipynb)"
      ]
    },
    {
      "cell_type": "markdown",
      "metadata": {
        "id": "luqh57VF6F9_"
      },
      "source": [
        "### Get all creatinine itemids"
      ]
    },
    {
      "cell_type": "code",
      "execution_count": null,
      "metadata": {
        "id": "uO72Wy4l6F9_"
      },
      "outputs": [],
      "source": [
        "dictionary[dictionary['item'].str.contains(r'[ck]reat', regex=True, case=False)]"
      ]
    },
    {
      "cell_type": "markdown",
      "metadata": {
        "id": "XC-F0GP_6F-A"
      },
      "source": [
        "### Get creatinine values for all patients"
      ]
    },
    {
      "cell_type": "code",
      "execution_count": null,
      "metadata": {
        "id": "Bnn_qdLA6F-A"
      },
      "outputs": [],
      "source": [
        "creat = pd.read_gbq(\n",
        "    '''\n",
        "    SELECT \n",
        "        admissionid\n",
        "        , itemid\n",
        "        , value\n",
        "        , unitid\n",
        "        , measuredat\n",
        "        , registeredby\n",
        "    FROM numericitems\n",
        "    WHERE itemid IN (\n",
        "        6836  --Kreatinine\n",
        "        , 9941  --Kreatinine (bloed)\n",
        "        , 14216  --KREAT enzym. (bloed)\n",
        "    )\n",
        "    '''\n",
        "    , configuration=config_gbq, use_bqstorage_api=True)\n",
        "\n",
        "#show number of records in the dataframe\n",
        "print(f'Number of creatinine values: {len(creat)}')\n",
        "\n",
        "#show first 1000 items\n",
        "creat.head(1000)"
      ]
    },
    {
      "cell_type": "markdown",
      "metadata": {
        "id": "6I8KPu9J6F-A"
      },
      "source": [
        "### Plot creatinine values using default pandas histogram function"
      ]
    },
    {
      "cell_type": "code",
      "execution_count": null,
      "metadata": {
        "id": "WrtpX_b_6F-A"
      },
      "outputs": [],
      "source": [
        "creat['value'].hist()"
      ]
    },
    {
      "cell_type": "markdown",
      "metadata": {
        "id": "GS86TS3c6F-A"
      },
      "source": [
        "### Plot creatinine values using outlier aware histogram from AmsterdamUMCdb library"
      ]
    },
    {
      "cell_type": "code",
      "execution_count": null,
      "metadata": {
        "id": "_VceoljZ6F-A"
      },
      "outputs": [],
      "source": [
        "adb.outliers_histogram(data=creat['value']).show()"
      ]
    },
    {
      "cell_type": "code",
      "execution_count": null,
      "metadata": {
        "id": "DHREBlQI6F-A"
      },
      "outputs": [],
      "source": [
        "adb.outliers_histogram(data=creat['value'], z_threshold=16).show()"
      ]
    },
    {
      "cell_type": "code",
      "execution_count": null,
      "metadata": {
        "id": "eEWVsUPM6F-A"
      },
      "outputs": [],
      "source": [
        "creat[creat['value'] > 500].sort_values('value', ascending=False)"
      ]
    },
    {
      "cell_type": "code",
      "execution_count": null,
      "metadata": {
        "id": "5FBrBPyfs4TF"
      },
      "outputs": [],
      "source": [
        "creat_patient = pd.read_gbq(\n",
        "    '''\n",
        "    SELECT \n",
        "        admissionid\n",
        "        , itemid\n",
        "        , value\n",
        "        , unitid\n",
        "        , measuredat\n",
        "        , FORMAT('day %d: %02d:%02d'\n",
        "            , CAST(FLOOR(measuredat/(1000*60*60*24)) AS INT) --days\n",
        "            , CAST(FLOOR(MOD(measuredat, (1000*60*60*24))/(1000*60*60)) AS INT) --hours\n",
        "            , CAST(FLOOR(MOD(measuredat, (1000*60*60))/(1000*60)) AS INT) --minutes\n",
        "        ) AS days_hours_minutes\n",
        "        , registeredby\n",
        "    FROM numericitems\n",
        "    WHERE itemid IN (\n",
        "        6836  --Kreatinine\n",
        "        , 9941  --Kreatinine (bloed)\n",
        "        , 14216  --KREAT enzym. (bloed)\n",
        "    )\n",
        "        AND admissionid = 1583\n",
        "    ORDER BY measuredat\n",
        "    '''\n",
        "    , configuration=config_gbq, use_bqstorage_api=True)\n",
        "creat_patient"
      ]
    },
    {
      "cell_type": "markdown",
      "metadata": {
        "id": "80NxVzxL6F-B"
      },
      "source": [
        "This table demonstrates that the highest value is most likely a data entry error: it was manually documented, instead of filed by the system (Dutch: 'Systeem')"
      ]
    },
    {
      "cell_type": "markdown",
      "metadata": {
        "id": "uLQWgerns4TF"
      },
      "source": [
        "## Example: Acute kidney injury: urine output\n",
        "Urine output reflects kidney function as well, and can also be found in the `numericitems` table. Urine output is manually entered by nurses every 1-2 hours after emptying the urine collection bag."
      ]
    },
    {
      "cell_type": "markdown",
      "metadata": {
        "id": "Yzi_kV-js4TF"
      },
      "source": [
        "### Get itemids related to urine output.\n",
        "The category can be helpful when searching for the correct itemid."
      ]
    },
    {
      "cell_type": "code",
      "execution_count": null,
      "metadata": {
        "id": "y7Ju6Hfos4TF"
      },
      "outputs": [],
      "source": [
        "dictionary[dictionary['item'].str.contains(r'urine', regex=True, case=False)]"
      ]
    },
    {
      "cell_type": "markdown",
      "metadata": {
        "id": "nsGzViegs4TG"
      },
      "source": [
        "### Get urine output measurements for all patients"
      ]
    },
    {
      "cell_type": "code",
      "execution_count": null,
      "metadata": {
        "id": "Bdd-8sP0s4TG"
      },
      "outputs": [],
      "source": [
        "urine_output = pd.read_gbq(\n",
        "    '''\n",
        "    SELECT \n",
        "        admissionid\n",
        "        , itemid\n",
        "        , value\n",
        "        , unitid\n",
        "        , measuredat\n",
        "        , registeredby\n",
        "    FROM numericitems\n",
        "    WHERE itemid IN (\n",
        "        8794  --UrineCAD\n",
        "        , 8796  --UrineSupraPubis\n",
        "        , 8798 --UrineSpontaan\n",
        "        , 8800 --UrineIncontinentie\n",
        "        , 8803 --UrineUP\n",
        "        , 10743 --Nefrodrain li Uit\n",
        "        , 10745 --Nefrodrain re Uit\n",
        "        , 19921 --UrineSplint Li\n",
        "        , 19922 --UrineSplint Re\n",
        "    )\n",
        "    '''\n",
        "    , configuration=config_gbq, use_bqstorage_api=True)\n",
        "#show number of records in the dataframe\n",
        "print(f'Number of urine output values: {len(urine_output)}')\n",
        "\n",
        "#show first 1000 items\n",
        "urine_output.head(1000)"
      ]
    },
    {
      "cell_type": "markdown",
      "metadata": {
        "id": "sNayORNr6aAJ"
      },
      "source": [
        "## Example: Mechanical ventilation: ventilation mode\n",
        "There are different ways (modes) to mechanically ventilate patients. Patients that don't have any underlying breathing effort will be ventilated in a *control* mode. When patients recover (and sedative medication has been stopped or reduced) they will be ventilated in a *support* mode. Ventilation modes are documented as a categorical (list) value in the `listitems` table. The `listitems` table contains only validated data. Unvalidated device data (`registeredby IS NULL`) can be found in the `listitems_unvalidated` table. `listitems` have a `value` (text string) as wel as a `valueid`. Both are available from the dictionary.\n",
        "\n",
        "More information on `listitems`: [![Open In Colab](https://colab.research.google.com/assets/colab-badge.svg)](https://colab.research.google.com/github/AmsterdamUMC/AmsterdamUMCdb/blob/master/tables/listitems.ipynb)"
      ]
    },
    {
      "cell_type": "markdown",
      "metadata": {
        "id": "wAnnuAu3s4TH"
      },
      "source": [
        "### Get itemids related to ventilation mode"
      ]
    },
    {
      "cell_type": "code",
      "execution_count": null,
      "metadata": {
        "id": "vLlXbp6Es4TH"
      },
      "outputs": [],
      "source": [
        "dictionary[dictionary['item_en'].str.contains(r'vent.*mode', regex=True, case=False).fillna(False)]"
      ]
    },
    {
      "cell_type": "code",
      "execution_count": null,
      "metadata": {
        "id": "7Unj1FAl6Uc7"
      },
      "outputs": [],
      "source": [
        "ventmode = pd.read_gbq(\n",
        "    '''\n",
        "    SELECT\n",
        "        admissionid\n",
        "        , itemid\n",
        "        , item\n",
        "        , valueid\n",
        "        , value\n",
        "        , measuredat\n",
        "        --, registeredat\n",
        "        --, registeredby\n",
        "        --, updatedat\n",
        "        --, updatedby\n",
        "    FROM listitems\n",
        "    WHERE itemid IN (\n",
        "        6685  --Type Beademing Evita 4\n",
        "        , 9534  --Type beademing Evita\n",
        "        , 12290  --Ventilatie Mode (Set) Servo-i ventilator\n",
        "    )\n",
        "    '''\n",
        "    , configuration=config_gbq, use_bqstorage_api=True)\n",
        "\n",
        "#show number of records in the dataframe\n",
        "print(f'Number of ventilation mode values: {len(ventmode)}')\n",
        "\n",
        "#show first 1000 items\n",
        "ventmode.head(1000)"
      ]
    },
    {
      "cell_type": "markdown",
      "metadata": {
        "id": "rL3YIrvAs4TH"
      },
      "source": [
        "## Example: Mechanical ventilation: tidal volume (measurement or setting)\n",
        "Tidal volume, the amount of air passed into and out of the lungs during one ventilation cycle ('artificial breath'), is an important parameter in mechanical ventilation. Together with `respiratory rate`, tidal volume determines minute ventilation (`minute ventilation` = `tidal volume` * `respiratory rate`). [A landmark trial](https://doi.org/10.1056/NEJM200005043421801) has shown that ventilating patients with 6 ml/kg ideal body weight (IBW) instead of 12 ml/kg IBW leads to better outcomes for patients with [Acute Respiratory Distress Syndrome (ARDS)](https://en.wikipedia.org/wiki/Acute_respiratory_distress_syndrome). Depending on the ventilation mode, the tidal volume may be set or will be determined by other parameters (e.g. pressure)."
      ]
    },
    {
      "cell_type": "markdown",
      "metadata": {
        "id": "quUsgA8ls4TI"
      },
      "source": [
        "### Get itemids related to tidal volume"
      ]
    },
    {
      "cell_type": "code",
      "execution_count": null,
      "metadata": {
        "id": "emW-Rqz2s4TI"
      },
      "outputs": [],
      "source": [
        "dictionary[dictionary['item'].str.contains(r'teug|tidal', regex=True, case=False)]"
      ]
    },
    {
      "cell_type": "markdown",
      "metadata": {
        "id": "tK4ajgNhs4TI"
      },
      "source": [
        "### Get *validated* tidal volume values for all patients\n"
      ]
    },
    {
      "cell_type": "code",
      "execution_count": null,
      "metadata": {
        "id": "Hsbb2KlHs4TI"
      },
      "outputs": [],
      "source": [
        "tidal_volume = pd.read_gbq(\n",
        "    '''\n",
        "    SELECT\n",
        "        admissionid\n",
        "        , itemid\n",
        "        , value\n",
        "        , measuredat\n",
        "        --, registeredat\n",
        "        , registeredby\n",
        "        --, updatedat\n",
        "        --, updatedby\n",
        "        --, islabresult\n",
        "    FROM numericitems --only validated values\n",
        "    WHERE itemid IN (\n",
        "        8851  --Tidal Volume (Set)\n",
        "        , 9646  --Tidal Volume (set)(2)\n",
        "        , 12275  --Exp. tidal volume\n",
        "        , 12277  --Insp. tidal volume\n",
        "        , 12291\t--Teugvolume (Set)\n",
        "        , 12358 --Exp. tidal volume (2)\n",
        "        , 12360  --Insp. tidal volume (2)\n",
        "    )\n",
        "    '''\n",
        "    , configuration=config_gbq, use_bqstorage_api=True)\n",
        "\n",
        "#show number of records in the dataframe\n",
        "print(f'Number of tidal volume values: {len(tidal_volume)}')\n",
        "\n",
        "#show first 1000 items\n",
        "tidal_volume.head(1000)"
      ]
    },
    {
      "cell_type": "code",
      "execution_count": null,
      "metadata": {
        "id": "DXxhEv4qs4TI"
      },
      "outputs": [],
      "source": [
        "adb.outliers_histogram(data=tidal_volume['value']).show()"
      ]
    },
    {
      "cell_type": "markdown",
      "metadata": {
        "id": "XzPfGKuis4TI"
      },
      "source": [
        "<a name=\"union-all\"></a>\n",
        "### Get *validated* and *unvalidated* tidal volume values for all patients\n",
        "To get both validated and unvalidated tidal volume values, you will need to `UNION ALL` the `numericitems` and `numericitems_unvalidated` tables. Please be aware that adding the `numericitems_unvalidated` table to your dataset in this example, will increase the number of bytes processed from 3.4 to 30.4 GB, so make sure your approach really requires *unvalidated*  data."
      ]
    },
    {
      "cell_type": "code",
      "execution_count": null,
      "metadata": {
        "id": "JqjrldQQs4TI"
      },
      "outputs": [],
      "source": [
        "tidal_volume_all = pd.read_gbq(\n",
        "    '''\n",
        "    SELECT\n",
        "        admissionid\n",
        "        , itemid\n",
        "        , value\n",
        "        , measuredat\n",
        "        --, registeredat\n",
        "        , registeredby\n",
        "        --, updatedat\n",
        "        --, updatedby\n",
        "        --, islabresult\n",
        "    FROM (\n",
        "      SELECT * FROM numericitems\n",
        "      UNION ALL  \n",
        "      SELECT * FROM numericitems_unvalidated\n",
        "    )--all values\n",
        "    WHERE itemid IN (\n",
        "        8851  --Tidal Volume (Set)\n",
        "        , 9646  --Tidal Volume (set)(2)\n",
        "        , 12275  --Exp. tidal volume\n",
        "        , 12277  --Insp. tidal volume\n",
        "        , 12291\t--Teugvolume (Set)\n",
        "        , 12358 --Exp. tidal volume (2)\n",
        "        , 12360  --Insp. tidal volume (2)\n",
        "    )\n",
        "    '''\n",
        "    , configuration=config_gbq, use_bqstorage_api=True)\n",
        "\n",
        "#show number of records in the dataframe\n",
        "print(f'Number of tidal volume values (including unvalidated): {len(tidal_volume_all)}')\n",
        "\n",
        "#show first 1000 items\n",
        "tidal_volume_all.head(1000)"
      ]
    },
    {
      "cell_type": "code",
      "execution_count": null,
      "metadata": {
        "id": "3LdqT-QUs4TJ"
      },
      "outputs": [],
      "source": [
        "adb.outliers_histogram(data=tidal_volume_all['value']).show()"
      ]
    },
    {
      "cell_type": "markdown",
      "metadata": {
        "id": "WpaXmtD0dJWe"
      },
      "source": [
        "## Conclusion\n",
        "This finalizes our tutorial on accessing AmsterdamUMCdb using BigQuery. \n",
        "\n",
        "### What's next?\n",
        "- Have a look at the AmsterdamUMCdb [wiki](https://github.com/AmsterdamUMC/AmsterdamUMCdb/wiki).\n",
        "- Check more in depth examples for all tables, including those not mentioned in this tutorial:\n",
        "\n",
        "Table | Wiki | Example code\n",
        ":- | :--| -:\n",
        "admissions|https://github.com/AmsterdamUMC/AmsterdamUMCdb/wiki/admissions | [![Open In Colab](https://colab.research.google.com/assets/colab-badge.svg)](https://colab.research.google.com/github/AmsterdamUMC/AmsterdamUMCdb/blob/master/tables/admissions.ipynb) \n",
        "drugitems|https://github.com/AmsterdamUMC/AmsterdamUMCdb/wiki/drugitems|[![Open In Colab](https://colab.research.google.com/assets/colab-badge.svg)](https://colab.research.google.com/github/AmsterdamUMC/AmsterdamUMCdb/blob/master/tables/drugitems.ipynb) \n",
        "freetextitems|https://github.com/AmsterdamUMC/AmsterdamUMCdb/wiki/freetextitems|[![Open In Colab](https://colab.research.google.com/assets/colab-badge.svg)](https://colab.research.google.com/github/AmsterdamUMC/AmsterdamUMCdb/blob/master/tables/freetextitems.ipynb)\n",
        "listitems|https://github.com/AmsterdamUMC/AmsterdamUMCdb/wiki/lisitems|[![Open In Colab](https://colab.research.google.com/assets/colab-badge.svg)](https://colab.research.google.com/github/AmsterdamUMC/AmsterdamUMCdb/blob/master/tables/listitems.ipynb)\n",
        "numericitems|https://github.com/AmsterdamUMC/AmsterdamUMCdb/wiki/numericitems|[![Open In Colab](https://colab.research.google.com/assets/colab-badge.svg)](https://colab.research.google.com/github/AmsterdamUMC/AmsterdamUMCdb/blob/master/tables/numericitems.ipynb)\n",
        "procedureorderitems|https://github.com/AmsterdamUMC/AmsterdamUMCdb/wiki/procedureorderitems|[![Open In Colab](https://colab.research.google.com/assets/colab-badge.svg)](https://colab.research.google.com/github/AmsterdamUMC/AmsterdamUMCdb/blob/master/tables/procedureorderitems.ipynb)\n",
        "processitems|https://github.com/AmsterdamUMC/AmsterdamUMCdb/wiki/processitems|[![Open In Colab](https://colab.research.google.com/assets/colab-badge.svg)](https://colab.research.google.com/github/AmsterdamUMC/AmsterdamUMCdb/blob/master/tables/processitems.ipynb)\n",
        "\n",
        "- Examine the [concepts](https://github.com/AmsterdamUMC/AmsterdamUMCdb/tree/master/concepts) for definitions related to diagnoses, life support systems, including mechanical ventilation and renal replacement therapy, and ICU scoring systems.\n",
        "- And remember: medical data science is always a joint effort of disciplines, so start a discussion with your colleagues or team members early on how to approach your clinical problem.\n"
      ]
    }
  ],
  "metadata": {
    "colab": {
      "provenance": []
    },
    "kernelspec": {
      "display_name": "Python 3",
      "language": "python",
      "name": "python3"
    },
    "language_info": {
      "codemirror_mode": {
        "name": "ipython",
        "version": 3
      },
      "file_extension": ".py",
      "mimetype": "text/x-python",
      "name": "python",
      "nbconvert_exporter": "python",
      "pygments_lexer": "ipython3",
      "version": "3.7.4"
    }
  },
  "nbformat": 4,
  "nbformat_minor": 0
}