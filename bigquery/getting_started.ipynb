{
  "cells": [
    {
      "cell_type": "markdown",
      "metadata": {
        "id": "wObiuw_qeCNN"
      },
      "source": [
        "<img src=\"https://github.com/AmsterdamUMC/AmsterdamUMCdb/blob/master/img/logo_c4i_square.png?raw=1\" alt=\"Logo C4I\" width=128px/>\n",
        "\n",
        "<img src=\"https://github.com/AmsterdamUMC/AmsterdamUMCdb/blob/master/img/logo_amds.png?raw=1\" alt=\"Logo AMDS\" width=128px/>\n",
        "\n",
        "# AmsterdamUMCdb with Google BigQuery and Colaboratory\n",
        "## AmsterdamUMCdb - Freely Accessible ICU Database\n",
        "\n",
        "AmsterdamUMCdb version 1.5.0 May 2024  \n",
        "Copyright &copy; 2003-2024 Amsterdam UMC - Amsterdam Medical Data Science\n",
        "\n",
        "# Introduction\n",
        "To encourage rapid data exploration and model development, access to AmsterdamUMCdb is also available using Google BigQuery with Google Colaboratory ('Colab') as the main coding environment. This removes the necessity of downloading the AmsterdamUMCdb csv files, setting up a database system and installing a coding environment.\n",
        "\n",
        "Recently, AmsterdamUMCdb has been [converted](https://github.com/AmsterdamUMC/AMSTEL) to the [Observational Medical Outcomes Partnership Common Data Model version 5.4](https://ohdsi.github.io/CommonDataModel/cdm54.html) (OMOP CDM 5.4) maintained by the [Observational Health Data Sciences and Informatics](https://www.ohdsi.org/) (OHDSI) community. The transition from the original ('classic') AmsterdamUMCdb data format to the OMOP CDM should improve the reusability of both the data and analyses on the current and future version of database by closely adhering to the [FAIR](https://doi.org/10.1038/sdata.2016.18) (Findable, Accessible, Interoperable and Reusable) principles.\n",
        "\n",
        "This tutorial for using AmsterdamUMCdb on BigQuery was based on the original Google BigQuery tutorial on [Colab](https://colab.research.google.com/notebooks/bigquery.ipynb).\n",
        "\n",
        "# Running Colab\n",
        "If not done already, please open Colab with this **getting_started** notebook from the official AmsterdamUMCdb GitHub repository: [![Open In Colab](https://colab.research.google.com/assets/colab-badge.svg)](https://colab.research.google.com/github/AmsterdamUMC/AmsterdamUMCdb/blob/master/bigquery/getting_started.ipynb)\n",
        "\n",
        "**Important**: when following this tutorial, make sure to follow *all* steps and to run the **code cells** using the **Play** button or by pressing `Ctrl-Enter`\n",
        "\n",
        "# Before you Begin\n",
        "Ensure you have a working Google account and verify that the e-mail address used when applying for access has been associated with this account. If you already have a Google account, you can add secondary e-mail addresses [here](https://myaccount.google.com/alternateemail), or alternatively create another Google account using the e-mail address used in the application form.\n",
        "\n",
        "If you don't have any experience in using Jupyter notebooks and/or Python, it is recommended to familiarize yourself with the [basics](https://colab.research.google.com/notebooks/intro.ipynb).\n",
        "\n",
        "# Accessing the database\n",
        "Provided you have signed the end user license agreement, you will have free access to the data from AmsterdamUMCdb through the Google Cloud Platform.\n",
        "\n",
        "To explore and query the database you need to create a Google Cloud Platform project. For new users, Google offers a free tier of 1 TB (2<sup>40</sup> bytes) per month for queries and in addition \\$300 credit for free for use on the Google Cloud Platform (currently: \\$6.00 per TB). In the unlikely event, this amount is not sufficient during a datathon or course, please contact us and we will work with you to find a solution.\n",
        "\n",
        "# Signing up for Google Cloud Platform\n",
        "- To sign up for the free tier and free credits, please visit the Google Cloud Platform: https://cloud.google.com/.\n",
        "- Click **Get started for free**.\n",
        "- Log in with the Google account you used when registering for the datathon.\n",
        "- In Step 1 of 2: agree to the **Terms of Service** and select **Continue**.\n",
        "- In Step 2 of 2: You will be required to add some additional information, including a payment method to make sure you are not a robot. Don't worry you won't be charged unless you manually upgrade to a paid account. Depending on your payment provider, you may have an additional step to verify the payment method.\n",
        "- Finally press **Start my free trial**. You are good to go.\n",
        "\n"
      ]
    },
    {
      "cell_type": "markdown",
      "metadata": {
        "id": "dnF5AaxGGhDq"
      },
      "source": [
        "<a name=\"cell-project-id\"></a>\n",
        "# Retrieving your Google Cloud Project ID\n",
        "- At the top of the screen, select **My First Project** or [create a new one](https://console.cloud.google.com/projectcreate). Please write down the Project ID in the cell below (\"Insert text here\") and **Run** the cell to store the value."
      ]
    },
    {
      "cell_type": "code",
      "execution_count": null,
      "metadata": {
        "id": "hQnpY5Kpm5rT"
      },
      "outputs": [],
      "source": [
        "# sets *your* project id\n",
        "PROJECT_ID = \"\" #@param {type:\"string\"}"
      ]
    },
    {
      "cell_type": "markdown",
      "metadata": {
        "id": "Ybi3I6p9d0Kp"
      },
      "source": [
        "# Sets the default BigQuery dataset for accessing AmsterdamUMCdb\n",
        "\n",
        "If you have received instructions to use a specific BigQuery instance, change the default settings here. Otherwise use these default values."
      ]
    },
    {
      "cell_type": "code",
      "execution_count": null,
      "metadata": {
        "id": "5lVy6FoueMZn"
      },
      "outputs": [],
      "source": [
        "# sets default dataset for AmsterdamUMCdb\n",
        "DATASET_PROJECT_ID = 'amsterdamumcdb' #@param {type:\"string\"}\n",
        "DATASET_ID = 'version1_5_0' #@param {type:\"string\"}\n",
        "LOCATION = 'eu' #@param {type:\"string\"}"
      ]
    },
    {
      "cell_type": "markdown",
      "metadata": {
        "id": "PB_NEmEZtLpg"
      },
      "source": [
        "# Provide your credentials to access the AmsterdamUMCdb dataset on Google BigQuery\n",
        "Authenticate your credentials with Google Cloud Platform and set your default Google Cloud Project ID as an environment variable for running query jobs.\n",
        "\n",
        "1. Run the cell. The `Allow this notebook to access your Google credentials?` prompt appears. Select `Allow`.\n",
        "2. In the `Sign in - Google Accounts` dialog, use the account you registered during the AmsterdamUMCdb application process and select `Allow` again."
      ]
    },
    {
      "cell_type": "code",
      "execution_count": null,
      "metadata": {
        "id": "v0L2i-Nnp7_R"
      },
      "outputs": [],
      "source": [
        "import os\n",
        "from google.colab import auth\n",
        "\n",
        "# all libraries check this environment variable, so set it:\n",
        "os.environ[\"GOOGLE_CLOUD_PROJECT\"] = PROJECT_ID\n",
        "\n",
        "auth.authenticate_user()\n",
        "print('Authenticated')"
      ]
    },
    {
      "cell_type": "markdown",
      "metadata": {
        "id": "-PV_G3CkZsDX"
      },
      "source": [
        "# Google BigQuery costs\n",
        "Since BiqQuery uses a [columnar data structure](https://en.wikipedia.org/wiki/Column-oriented_DBMS), Google will charge you according to the columns selected and the size of the data in those columns. Especially in the data exploration phase, it is prudent to query only the columns you will be actually needing for the analysis.\n",
        "\n",
        "To help reduce costs, the largest tables that contain device generated data, have been [partitioned](https://cloud.google.com/bigquery/docs/partitioned-tables) by `provider_id`. Unvalidated data (`provider_id IS NULL`) that has been filed up to every minute throughout the ICU stay has been stored in a separate partition. To protect against excessive costs, you are required to specifiy a `WHERE provider_id` clause when accessing these tables.\n",
        "\n",
        "In addition, the tables have also been [clustered](https://cloud.google.com/bigquery/docs/clustered-tables) on `<domain>_concept_id`, `person_id`, and `<domain>_datetime`. By filtering using WHERE on these columns (in the above order), you can reduce the processing costs as well.\n",
        "\n",
        "Some examples:\n",
        "\n",
        "`SELECT * FROM measurements WHERE NOT provider_id IS NULL` will process about 11 GiB data, whereas\n",
        "\n",
        "`SELECT person_id, visit_occurrence_id, measurement_concept_id, measurement_datetime, value_as_number, unit_concept_id FROM measurement WHERE NOT provider_id IS NULL` will process around 5.5 GiB.\n",
        "\n",
        "**Important**: `LIMIT` or `WHERE` clauses on columns that have not been used in partitioning or clustering of the data do not have **any** effect on reducing the amount of data processed, and thus charged. These clauses will only limit the number of records returned by the query.\n",
        "\n",
        "# Available documentation for AmsterdamUMCdb tables.\n",
        "Since the migration to the OMOP Common Data Model, the official documentation for all tables can be found [here](https://ohdsi.github.io/CommonDataModel/cdm54.html)."
      ]
    },
    {
      "cell_type": "markdown",
      "metadata": {
        "id": "1m9L8PWsGqjB"
      },
      "source": [
        "# Enable data table display\n",
        "\n",
        "Colab includes the `google.colab.data_table` package that can be used to display Pandas dataframes as an interactive data table (default limits: `max_rows = 20000`, `max_columns = 20`). This is especially useful when exploring the  tables or dictionary from AmsterdamUMCdb. It can be enabled with:"
      ]
    },
    {
      "cell_type": "code",
      "execution_count": null,
      "metadata": {
        "id": "LMNA-vBHPyHz"
      },
      "outputs": [],
      "source": [
        "%load_ext google.colab.data_table\n",
        "from google.colab.data_table import DataTable\n",
        "\n",
        "# change default limits:\n",
        "DataTable.max_columns = 50\n",
        "DataTable.max_rows = 30000"
      ]
    },
    {
      "cell_type": "markdown",
      "metadata": {
        "id": "F8Q_gnmFwyxW"
      },
      "source": [
        "# Running your first query on AmsterdamUMCdb\n",
        "BigQuery provides different ways to query the dataset:\n",
        "- **magics**: the `bigquery_magics` library includes a `%%bigquery` *magic* command which runs a query and either displays the result or saves it to a Pandas DataFrame. The main advantage of this technique is that it improves readability of SQL code by syntax highlighting. Its main limitation: it requires a separate cell for the query, so cannot be combined with other Python code in the same code cell.\n",
        "\n",
        "Let's query the `person` table using magics.\n"
      ]
    },
    {
      "cell_type": "markdown",
      "metadata": {
        "id": "Bpsujp7-GxTZ"
      },
      "source": [
        "\n",
        "## Set the default query job configuration for magics"
      ]
    },
    {
      "cell_type": "code",
      "execution_count": null,
      "metadata": {
        "id": "MC7nOYOCKFvQ"
      },
      "outputs": [],
      "source": [
        "%load_ext bigquery_magics\n",
        "from bigquery_magics import bigquery_magics\n",
        "from google.cloud import bigquery\n",
        "\n",
        "# sets the default query job configuration\n",
        "def_config = bigquery.job.QueryJobConfig(default_dataset=DATASET_PROJECT_ID + \".\" + DATASET_ID)\n",
        "bigquery_magics.context.default_query_job_config = def_config"
      ]
    },
    {
      "cell_type": "markdown",
      "metadata": {
        "id": "H9wwX7aO0ROL"
      },
      "source": [
        "## Query the `person` table and copy the data to the `persons` Pandas dataframe:\n",
        "\n",
        "The `person` table contains a record for each patient in AmsterdamUMCdb.\n",
        "\n",
        "Since this is a relatively small table, it is acceptable to use `SELECT *`.\n",
        "\n",
        "**Note**: Should an error occur while running the query, please see\n",
        "the AmsterdamUMCdb BigQuery [Frequently Asked Questions](https://github.com/AmsterdamUMC/AmsterdamUMCdb/wiki/bigquery#faq)."
      ]
    },
    {
      "cell_type": "code",
      "execution_count": null,
      "metadata": {
        "id": "cLh05lDpJ4wj"
      },
      "outputs": [],
      "source": [
        "%%bigquery person\n",
        "SELECT * FROM person"
      ]
    },
    {
      "cell_type": "markdown",
      "metadata": {
        "id": "zbvWkl5p0ERl"
      },
      "source": [
        "## Display the `person` dataframe."
      ]
    },
    {
      "cell_type": "code",
      "execution_count": null,
      "metadata": {
        "id": "xgopBClCKs_0"
      },
      "outputs": [],
      "source": [
        "person"
      ]
    },
    {
      "cell_type": "markdown",
      "metadata": {
        "id": "fkhbyGaXKs_6"
      },
      "source": [
        "# Query AmsterdamUMCdb through google-cloud-bigquery\n",
        "\n",
        "Alternatively, we can manually invoke the `biqquery` Python module. The following examples re-use the previously entered `PROJECT_ID` from [Retrieving your Google Cloud Project ID](#cell-project-id). For more information, see [BigQuery documentation](https://cloud.google.com/bigquery/docs) and [library reference documentation](https://googleapis.dev/python/bigquery/latest/index.html)."
      ]
    },
    {
      "cell_type": "markdown",
      "metadata": {
        "id": "Be02EMbNHRML"
      },
      "source": [
        "\n",
        "## Set the default query job configuration for google-cloud-bigquery client"
      ]
    },
    {
      "cell_type": "code",
      "execution_count": null,
      "metadata": {
        "id": "alCUc9QYTGQT"
      },
      "outputs": [],
      "source": [
        "from google.cloud import bigquery\n",
        "\n",
        "# BigQuery requires a separate config to prevent the 'BadRequest: 400 Cannot explicitly modify anonymous table' error message\n",
        "job_config = bigquery.job.QueryJobConfig()\n",
        "\n",
        "# sets default client settings by re-using the previously defined config\n",
        "client = bigquery.Client(project=PROJECT_ID, location=LOCATION, default_query_job_config=def_config)"
      ]
    },
    {
      "cell_type": "markdown",
      "metadata": {
        "id": "lK-9fSClKtAB"
      },
      "source": [
        "## Get all patients and group by year of birth"
      ]
    },
    {
      "cell_type": "code",
      "execution_count": null,
      "metadata": {
        "id": "ONI1Xo0-KtAD"
      },
      "outputs": [],
      "source": [
        "year_of_birth = client.query(\n",
        "    '''\n",
        "    SELECT\n",
        "      year_of_birth\n",
        "      , COUNT(*) AS number_of_admissions -- COUNT(*) counts everything including NULL\n",
        "    FROM person\n",
        "    GROUP BY year_of_birth\n",
        "    ORDER BY year_of_birth ASC\n",
        "    '''\n",
        "    , job_config=job_config).to_dataframe()\n",
        "\n",
        "year_of_birth"
      ]
    },
    {
      "cell_type": "markdown",
      "metadata": {
        "id": "Bu2C7iWMKtAM"
      },
      "source": [
        "## Show a plot\n",
        "Uses the Pandas built-in functions to plot a bar chart."
      ]
    },
    {
      "cell_type": "code",
      "execution_count": null,
      "metadata": {
        "id": "IDHAGsRN7xhX"
      },
      "outputs": [],
      "source": [
        "# modifies the pyplot back-end of Pandas to increase render resolution\n",
        "import matplotlib.pyplot as plt\n",
        "plt.style.use('seaborn-v0_8-darkgrid')\n",
        "plt.rcParams[\"figure.dpi\"] = 144\n",
        "\n",
        "year_of_birth.plot(kind='bar', x='year_of_birth')"
      ]
    },
    {
      "cell_type": "markdown",
      "source": [
        "# Visit_occurrence\n",
        "This table stores information about the ICU admissions. Patients (`person`) can have multiple visit_occurrence records.\n",
        "\n",
        "This table is very similar to the legacy `admissions` table."
      ],
      "metadata": {
        "id": "DdsDLqwYNsUf"
      }
    },
    {
      "cell_type": "code",
      "source": [
        "visit_occurrence = client.query(\n",
        "    '''\n",
        "    SELECT *\n",
        "    FROM visit_occurrence\n",
        "    '''\n",
        "    , job_config=job_config).to_dataframe()\n",
        "\n",
        "visit_occurrence"
      ],
      "metadata": {
        "id": "-yTjctwur-og"
      },
      "execution_count": null,
      "outputs": []
    },
    {
      "cell_type": "code",
      "source": [
        "provider = client.query(\n",
        "    '''\n",
        "    SELECT *\n",
        "    FROM provider\n",
        "    '''\n",
        "    , job_config=job_config).to_dataframe()\n",
        "\n",
        "provider"
      ],
      "metadata": {
        "id": "tFycQP0v4vmI"
      },
      "execution_count": null,
      "outputs": []
    },
    {
      "cell_type": "markdown",
      "source": [
        "## Concept"
      ],
      "metadata": {
        "id": "5bmc_6lT5Y83"
      }
    },
    {
      "cell_type": "code",
      "source": [
        "concept = client.query(\n",
        "    '''\n",
        "    SELECT *\n",
        "    FROM concept\n",
        "    WHERE concept_id = 38004497\n",
        "    '''\n",
        "    , job_config=job_config).to_dataframe()\n",
        "\n",
        "concept"
      ],
      "metadata": {
        "id": "eo5_z9ku5iey"
      },
      "execution_count": null,
      "outputs": []
    },
    {
      "cell_type": "markdown",
      "metadata": {
        "id": "oKNxsRvuKtAz"
      },
      "source": [
        "# Query AmsterdamUMCdb through pandas-gbq\n",
        "\n",
        "The third option is to query the dataset using the Pandas `pandas-gbq` library. Especially when you are already familiar with the `pandas.read_sql` function, it's relatively straightforward to modify your existing code to be compatible with BigQuery. For more information, see [Pandas GBQ Documentation](https://pandas.pydata.org/pandas-docs/stable/reference/api/pandas.read_gbq.html).\n",
        "\n",
        "\n",
        "**Note**: The `use_bqstorage_api=True` statement enables the Google Cloud BigQuery Storage API that improves the performance of copying data from BiqQuery to pandas DataFrames in the Colab environment (~around 16 times). While the usage of the Storage Read API is being charged separately, Google currently offers a free tier of 300 TB per month. However, you may choose to remove the option from the command."
      ]
    },
    {
      "cell_type": "markdown",
      "metadata": {
        "id": "jiLDjtXhVUQr"
      },
      "source": [
        "## Set the default query job configuration for pandas-gbq"
      ]
    },
    {
      "cell_type": "code",
      "execution_count": null,
      "metadata": {
        "id": "r2SfaHSCTyWT"
      },
      "outputs": [],
      "source": [
        "import pandas as pd\n",
        "\n",
        "config_gbq = {'query':\n",
        "          {'defaultDataset': {\n",
        "              \"datasetId\": DATASET_ID,\n",
        "              \"projectId\": DATASET_PROJECT_ID\n",
        "              },\n",
        "           'Location': LOCATION}\n",
        "           }"
      ]
    },
    {
      "cell_type": "markdown",
      "metadata": {
        "id": "EugFLkz8pBHC"
      },
      "source": [
        "## Retrieve the medical specialty associated with each admission"
      ]
    },
    {
      "cell_type": "code",
      "execution_count": null,
      "metadata": {
        "id": "ACMiQMFdv4Bh"
      },
      "outputs": [],
      "source": [
        "specialties = pd.read_gbq(\n",
        "    '''\n",
        "    SELECT concept_name AS specialty, COUNT(*) AS number_of_admissions\n",
        "    FROM visit_occurrence v\n",
        "    LEFT JOIN provider p ON p.provider_id = v.provider_id\n",
        "    LEFT JOIN concept c ON c.concept_id = p.specialty_concept_id\n",
        "\n",
        "    GROUP BY specialty\n",
        "    ORDER BY number_of_admissions DESC\n",
        "    '''\n",
        "    , configuration=config_gbq, use_bqstorage_api=True)\n",
        "specialties.plot(kind='bar', x='specialty')"
      ]
    },
    {
      "cell_type": "markdown",
      "metadata": {
        "id": "aa5jI637xCvH"
      },
      "source": [
        "# Getting the data you need\n",
        "The `amsterdamumcdb` package provides the `get_dictionary()` function that returns a DataFrame containing all codes and (categorical) values ('concepts') of AmsterdamUMCdb. As part of the transformation to the OMOP Common Data Model, most concepts have been mapped to a Standard Concept in the [OMOP Standardized Vocabularies](https://ohdsi.github.io/TheBookOfOhdsi/StandardizedVocabularies.html).\n",
        "\n",
        "The Standardized Vocabularies are a common respository for commonly used vocabularies such as [LOINC](https://decor.nictiz.nl/art-decor/loinc), [SNOMED CT](https://decor.nictiz.nl/art-decor/snomed-ct), [RxNorm](https://mor.nlm.nih.gov/RxNav/) and [ATC](https://www.whocc.no/atc_ddd_index/). The OMOP Standardized Vocabularies are available at [ATHENA](https://athena.ohdsi.org/search-terms/start).\n",
        "\n",
        "**Note for users of the legacy (non-OMOP) versions (≤ 1.0.2) of AmsterdamUMCdb**\n",
        "\n",
        "The original `itemid` is stored as `source_code` and `item` as `source_code_description` in the dictionary. To allow mapping of categorical values from the legacy `listitems` table to standard concepts, the `source_code` was generated using the format `{itemid}-{valueid}`. In addition, the `source_code` from the legacy `drugitems` was generated using the `{itemid}-{ordercategoryid}` format."
      ]
    },
    {
      "cell_type": "markdown",
      "metadata": {
        "id": "riKnnGLe0ynk"
      },
      "source": [
        "## Install the AmsterdamUMCdb package"
      ]
    },
    {
      "cell_type": "code",
      "execution_count": null,
      "metadata": {
        "id": "kefpJwsNZ0sf"
      },
      "outputs": [],
      "source": [
        "# get the amsterdamumcdb package from PyPI repository for use in Colab\n",
        "!pip install amsterdamumcdb\n",
        "import amsterdamumcdb as adb"
      ]
    },
    {
      "cell_type": "markdown",
      "metadata": {
        "id": "csx_BSWT1Uil"
      },
      "source": [
        "## Load the AmsterdamUMCdb dictionary.\n",
        "Use the **Filter** button to quickly browse through the dictionary."
      ]
    },
    {
      "cell_type": "code",
      "execution_count": null,
      "metadata": {
        "id": "KVbGQ9ubvf_R"
      },
      "outputs": [],
      "source": [
        "dictionary = adb.get_dictionary()\n",
        "dictionary = dictionary.convert_dtypes()\n",
        "dictionary"
      ]
    },
    {
      "cell_type": "markdown",
      "metadata": {
        "id": "rDJ5CfRK3NBm"
      },
      "source": [
        "# Selecting relevant features\n"
      ]
    },
    {
      "cell_type": "markdown",
      "source": [
        "## Example: Lactate\n",
        "Lactate, a laboratory measurement, can be found in the `measurement` table.\n",
        "\n",
        "Since this is the largest table of AmsterdamUMCdb (188 GiB), it is highly recommended to correctly filter the query on:\n",
        "- `provider_id` and\n",
        "  - `measurement_concept_id` or\n",
        "  - `measurement_concept_id`/`person_id` or\n",
        "  - `measurement_concept_id`/`person_id`/`measurement_start_time`"
      ],
      "metadata": {
        "id": "ewSFlu1lXeSw"
      }
    },
    {
      "cell_type": "markdown",
      "metadata": {
        "id": "u85mBlSx_lgm"
      },
      "source": [
        "### Get all lactate itemids"
      ]
    },
    {
      "cell_type": "code",
      "execution_count": null,
      "metadata": {
        "id": "xYID1Df_YZ0I"
      },
      "outputs": [],
      "source": [
        "lactate_ids = dictionary[dictionary['concept_name'].str.contains(r'lactate', case=False)]\n",
        "lactate_ids"
      ]
    },
    {
      "cell_type": "markdown",
      "source": [],
      "metadata": {
        "id": "UgmCaYdwXbBX"
      }
    },
    {
      "cell_type": "markdown",
      "metadata": {
        "id": "zB8EEALbY5pH"
      },
      "source": [
        "## Get lactate values for all patients"
      ]
    },
    {
      "cell_type": "code",
      "execution_count": null,
      "metadata": {
        "id": "dWf7KIxjKtA0"
      },
      "outputs": [],
      "source": [
        "lactate = pd.read_gbq(\n",
        "    '''\n",
        "    SELECT\n",
        "      person_id,\n",
        "      visit_occurrence_id,\n",
        "      measurement_concept_id,\n",
        "      measurement_datetime,\n",
        "      measurement_type_concept_id,\n",
        "      value_as_number,\n",
        "      unit_concept_id,\n",
        "      provider_id\n",
        "    FROM measurement\n",
        "    WHERE\n",
        "      NOT provider_id IS NULL -- ignore unvalidated device data\n",
        "      AND measurement_concept_id IN (\n",
        "      3047181,  -- Lactate [Moles/volume] in Blood\n",
        "      3014111,  -- Lactate [Moles/volume] in Serum\n",
        "      3047181   -- Lactate [Moles/volume] in Blood\n",
        "    )\n",
        "    '''\n",
        "    , configuration=config_gbq, use_bqstorage_api=True)\n",
        "\n",
        "#show number of records in the dataframe\n",
        "print(f'Number of lactate values: {len(lactate)}')\n",
        "\n",
        "#show first 1000 items\n",
        "lactate.convert_dtypes().head(1000)"
      ]
    },
    {
      "cell_type": "markdown",
      "metadata": {
        "id": "RJnIWOxUaz4n"
      },
      "source": [
        "### Plot lactate values using default pandas histogram function"
      ]
    },
    {
      "cell_type": "code",
      "execution_count": null,
      "metadata": {
        "id": "cZu-1pwvZbH0"
      },
      "outputs": [],
      "source": [
        "lactate['value'] = lactate['value_as_number'].astype('float')\n",
        "lactate['value'].hist()"
      ]
    },
    {
      "cell_type": "markdown",
      "metadata": {
        "id": "T-amWUw7Z2I3"
      },
      "source": [
        "### Plot lactate values using outlier aware histogram from AmsterdamUMCdb library"
      ]
    },
    {
      "cell_type": "code",
      "execution_count": null,
      "metadata": {
        "id": "Im3ZsL0qaPEo"
      },
      "outputs": [],
      "source": [
        "adb.outliers_histogram(data=lactate['value']).show()"
      ]
    },
    {
      "cell_type": "code",
      "execution_count": null,
      "metadata": {
        "id": "I0kbmAGobQ28"
      },
      "outputs": [],
      "source": [
        "adb.outliers_histogram(data=lactate['value'], z_threshold=16).show()"
      ]
    },
    {
      "cell_type": "code",
      "execution_count": null,
      "metadata": {
        "id": "MOJe8eSkb8IG"
      },
      "outputs": [],
      "source": [
        "lactate[lactate['value'] > 15].sort_values('value', ascending=False)"
      ]
    },
    {
      "cell_type": "markdown",
      "metadata": {
        "id": "t8psY-fWcgk-"
      },
      "source": [
        "This table demonstrates that the top 6 highest values are most likely data entry errors. They were also manually documented in the EHR (`measurement_type_concept_id` = [32817](https://athena.ohdsi.org/search-terms/terms?standardConcept=Standard&invalidReason=Valid&domain=Type+Concept&page=1&pageSize=15&query=32817)), instead of being filed by the Laboratory system (`measurement_type_concept_id` = [32856](https://athena.ohdsi.org/search-terms/terms?standardConcept=Standard&invalidReason=Valid&domain=Type+Concept&page=1&pageSize=15&query=32856&boosts))."
      ]
    },
    {
      "cell_type": "markdown",
      "metadata": {
        "id": "qOUSyOqs6F9_"
      },
      "source": [
        "## Example: Acute kidney injury: creatinine\n",
        "Creatinine, a laboratory measurement that reflects kidney function, can also be found in the `measurement` table."
      ]
    },
    {
      "cell_type": "markdown",
      "metadata": {
        "id": "luqh57VF6F9_"
      },
      "source": [
        "### Get all creatinine itemids"
      ]
    },
    {
      "cell_type": "code",
      "execution_count": null,
      "metadata": {
        "id": "uO72Wy4l6F9_"
      },
      "outputs": [],
      "source": [
        "creatinine_ids = dictionary[dictionary['concept_name'].str.contains(r'creatinine', case=False)]\n",
        "creatinine_ids"
      ]
    },
    {
      "cell_type": "markdown",
      "metadata": {
        "id": "XC-F0GP_6F-A"
      },
      "source": [
        "### Get creatinine values for all patients"
      ]
    },
    {
      "cell_type": "code",
      "execution_count": null,
      "metadata": {
        "id": "Bnn_qdLA6F-A"
      },
      "outputs": [],
      "source": [
        "creatinine = pd.read_gbq(\n",
        "    '''\n",
        "    SELECT\n",
        "      person_id,\n",
        "      visit_occurrence_id,\n",
        "      measurement_concept_id,\n",
        "      measurement_datetime,\n",
        "      measurement_type_concept_id,\n",
        "      value_as_number,\n",
        "      unit_concept_id,\n",
        "      provider_id\n",
        "    FROM measurement\n",
        "    WHERE\n",
        "      NOT provider_id IS NULL -- ignore unvalidated device data\n",
        "      AND measurement_concept_id IN (\n",
        "        3020564 -- Creatinine [Moles/volume] in Serum or Plasma\n",
        "    )\n",
        "    '''\n",
        "    , configuration=config_gbq, use_bqstorage_api=True)\n",
        "\n",
        "#show number of records in the dataframe\n",
        "print(f'Number of creatinine values: {len(creatinine)}')\n",
        "\n",
        "#show first 1000 items\n",
        "creatinine.head(1000)"
      ]
    },
    {
      "cell_type": "markdown",
      "metadata": {
        "id": "6I8KPu9J6F-A"
      },
      "source": [
        "### Plot creatinine values using default pandas histogram function"
      ]
    },
    {
      "cell_type": "code",
      "execution_count": null,
      "metadata": {
        "id": "WrtpX_b_6F-A"
      },
      "outputs": [],
      "source": [
        "creatinine['value'] = creatinine['value_as_number'].astype('float')\n",
        "creatinine['value'].hist()"
      ]
    },
    {
      "cell_type": "markdown",
      "metadata": {
        "id": "GS86TS3c6F-A"
      },
      "source": [
        "### Plot creatinine values using outlier aware histogram from AmsterdamUMCdb library"
      ]
    },
    {
      "cell_type": "code",
      "execution_count": null,
      "metadata": {
        "id": "_VceoljZ6F-A"
      },
      "outputs": [],
      "source": [
        "adb.outliers_histogram(data=creatinine['value']).show()"
      ]
    },
    {
      "cell_type": "code",
      "execution_count": null,
      "metadata": {
        "id": "DHREBlQI6F-A"
      },
      "outputs": [],
      "source": [
        "adb.outliers_histogram(data=creatinine['value'], z_threshold=16).show()"
      ]
    },
    {
      "cell_type": "code",
      "execution_count": null,
      "metadata": {
        "id": "eEWVsUPM6F-A"
      },
      "outputs": [],
      "source": [
        "creatinine[creatinine['value'] > 500].sort_values('value', ascending=False)"
      ]
    },
    {
      "cell_type": "code",
      "execution_count": null,
      "metadata": {
        "id": "5FBrBPyfs4TF"
      },
      "outputs": [],
      "source": [
        "creat_patient = pd.read_gbq(\n",
        "    '''\n",
        "    SELECT\n",
        "      person_id,\n",
        "      visit_occurrence_id,\n",
        "      measurement_concept_id,\n",
        "      measurement_datetime,\n",
        "      measurement_type_concept_id,\n",
        "      CAST(value_as_number AS FLOAT64) as value_as_number,\n",
        "      unit_concept_id,\n",
        "      provider_id\n",
        "    FROM measurement\n",
        "    WHERE\n",
        "      NOT provider_id IS NULL -- ignore unvalidated device data\n",
        "      AND measurement_concept_id IN (\n",
        "        3020564 -- Creatinine [Moles/volume] in Serum or Plasma\n",
        "      )\n",
        "      AND visit_occurrence_id = 1583\n",
        "    ORDER BY measurement_datetime\n",
        "    '''\n",
        "    , configuration=config_gbq, use_bqstorage_api=True)\n",
        "creat_patient"
      ]
    },
    {
      "cell_type": "markdown",
      "metadata": {
        "id": "80NxVzxL6F-B"
      },
      "source": [
        "This table demonstrates that the highest value is most likely a data entry error: it was manually documented, instead of filed by the system (Dutch: 'Systeem')"
      ]
    },
    {
      "cell_type": "markdown",
      "source": [
        "# Tips and Tricks"
      ],
      "metadata": {
        "id": "frfD8cRDa8S5"
      }
    },
    {
      "cell_type": "markdown",
      "source": [
        "# Getting related items\n",
        "Assume you have determined that concept_id `40729817` (Hydrocortisone 100 MG Injectable Solution [Solu-Cortef]) is of interest, but would like to know if other steroids have been used on our unit."
      ],
      "metadata": {
        "id": "qT2NHVgDa6zV"
      }
    },
    {
      "cell_type": "code",
      "source": [
        "ancestors = pd.read_gbq(\n",
        "    '''\n",
        "    SELECT ancestor_concept_id, descendant_concept_id, min_levels_of_separation, concept_name, vocabulary_id, concept_class_id\n",
        "    FROM concept_ancestor\n",
        "    LEFT JOIN concept\n",
        "      ON concept_ancestor.ancestor_concept_id = concept.concept_id\n",
        "    WHERE descendant_concept_id = 40729817 -- Hydrocortisone 100 MG Injectable Solution [Solu-Cortef]\n",
        "    ORDER BY min_levels_of_separation DESC\n",
        "    '''\n",
        "    , configuration=config_gbq, use_bqstorage_api=True)\n",
        "ancestors"
      ],
      "metadata": {
        "id": "se3hGxXjccCa"
      },
      "execution_count": null,
      "outputs": []
    },
    {
      "cell_type": "code",
      "source": [
        "descendants = pd.read_gbq(\n",
        "    '''\n",
        "    SELECT descendant_concept_id\n",
        "    FROM concept_ancestor\n",
        "    WHERE ancestor_concept_id = 21602728 -- Glucocorticoids\n",
        "    '''\n",
        "    , configuration=config_gbq, use_bqstorage_api=True)\n",
        "\n",
        "# filter dictionary on all descendants\n",
        "dictionary[dictionary['concept_id'].isin(descendants['descendant_concept_id'])]"
      ],
      "metadata": {
        "id": "4KT32UnBx9nA"
      },
      "execution_count": null,
      "outputs": []
    },
    {
      "cell_type": "code",
      "source": [
        "corticosteroids = pd.read_gbq(\n",
        "    '''\n",
        "    SELECT *\n",
        "    FROM drug_exposure\n",
        "    WHERE drug_concept_id IN (\n",
        "      40028601,\t-- dexamethasone Oral Tablet\n",
        "      40028260,  -- dexamethasone Injectable Solution\n",
        "      40049700,\t-- hydrocortisone Oral Tablet\n",
        "      40729817,  -- Hydrocortisone 100 MG Injectable Solution [Solu-Cortef]\n",
        "      40073458,\t-- prednisolone Oral Tablet\n",
        "      40073191,\t-- prednisolone Injectable Solution\n",
        "      40060704,  -- methylprednisolone Injectable Solution [Solu-Medrol]\n",
        "      40060704\t-- methylprednisolone Injectable Solution [Solu-Medrol]\n",
        "    )\n",
        "    '''\n",
        "    , configuration=config_gbq, use_bqstorage_api=True)"
      ],
      "metadata": {
        "id": "U646NCNJysUD"
      },
      "execution_count": null,
      "outputs": []
    },
    {
      "cell_type": "markdown",
      "metadata": {
        "id": "WpaXmtD0dJWe"
      },
      "source": [
        "## Conclusion\n",
        "This finalizes our tutorial on accessing AmsterdamUMCdb using BigQuery.\n",
        "\n",
        "### What's next?\n",
        "- Have a look at the AmsterdamUMCdb [wiki](https://github.com/AmsterdamUMC/AmsterdamUMCdb/wiki).\n",
        "- More examples are available for the legacy tables. You can use the dictionary to translate the legacy `source_code`s to `concept_id`s. Future work will update this repository with examples for the OMOP Common Data Model.\n",
        "\n",
        "Table | Wiki | Example code\n",
        ":- | :--| -:\n",
        "admissions|https://github.com/AmsterdamUMC/AmsterdamUMCdb/wiki/admissions | [![Open In Colab](https://colab.research.google.com/assets/colab-badge.svg)](https://colab.research.google.com/github/AmsterdamUMC/AmsterdamUMCdb/blob/master/tables/admissions.ipynb)\n",
        "drugitems|https://github.com/AmsterdamUMC/AmsterdamUMCdb/wiki/drugitems|[![Open In Colab](https://colab.research.google.com/assets/colab-badge.svg)](https://colab.research.google.com/github/AmsterdamUMC/AmsterdamUMCdb/blob/master/tables/drugitems.ipynb)\n",
        "freetextitems|https://github.com/AmsterdamUMC/AmsterdamUMCdb/wiki/freetextitems|[![Open In Colab](https://colab.research.google.com/assets/colab-badge.svg)](https://colab.research.google.com/github/AmsterdamUMC/AmsterdamUMCdb/blob/master/tables/freetextitems.ipynb)\n",
        "listitems|https://github.com/AmsterdamUMC/AmsterdamUMCdb/wiki/lisitems|[![Open In Colab](https://colab.research.google.com/assets/colab-badge.svg)](https://colab.research.google.com/github/AmsterdamUMC/AmsterdamUMCdb/blob/master/tables/listitems.ipynb)\n",
        "numericitems|https://github.com/AmsterdamUMC/AmsterdamUMCdb/wiki/numericitems|[![Open In Colab](https://colab.research.google.com/assets/colab-badge.svg)](https://colab.research.google.com/github/AmsterdamUMC/AmsterdamUMCdb/blob/master/tables/numericitems.ipynb)\n",
        "procedureorderitems|https://github.com/AmsterdamUMC/AmsterdamUMCdb/wiki/procedureorderitems|[![Open In Colab](https://colab.research.google.com/assets/colab-badge.svg)](https://colab.research.google.com/github/AmsterdamUMC/AmsterdamUMCdb/blob/master/tables/procedureorderitems.ipynb)\n",
        "processitems|https://github.com/AmsterdamUMC/AmsterdamUMCdb/wiki/processitems|[![Open In Colab](https://colab.research.google.com/assets/colab-badge.svg)](https://colab.research.google.com/github/AmsterdamUMC/AmsterdamUMCdb/blob/master/tables/processitems.ipynb)\n",
        "\n",
        "- Examine the [concepts](https://github.com/AmsterdamUMC/AmsterdamUMCdb/tree/master/concepts) for definitions related to diagnoses, life support systems, including mechanical ventilation and renal replacement therapy, and ICU scoring systems.\n",
        "- And remember: medical data science is always a joint effort of disciplines, so start a discussion with your colleagues or team members early on how to approach your clinical problem.\n"
      ]
    }
  ],
  "metadata": {
    "colab": {
      "provenance": [],
      "toc_visible": true
    },
    "kernelspec": {
      "display_name": "Python 3",
      "name": "python3"
    },
    "language_info": {
      "codemirror_mode": {
        "name": "ipython",
        "version": 3
      },
      "file_extension": ".py",
      "mimetype": "text/x-python",
      "name": "python",
      "nbconvert_exporter": "python",
      "pygments_lexer": "ipython3",
      "version": "3.7.4"
    }
  },
  "nbformat": 4,
  "nbformat_minor": 0
}