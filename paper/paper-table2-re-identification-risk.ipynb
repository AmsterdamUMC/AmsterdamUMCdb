{
 "cells": [
  {
   "cell_type": "markdown",
   "metadata": {},
   "source": [
    "<img src=\"https://raw.githubusercontent.com/AmsterdamUMC/AmsterdamUMCdb/master/img/logo_amds.png\" alt=\"Logo\" style=\"width: 128px;\"/>\n",
    "\n",
    "# AmsterdamUMCdb Scientific Paper\n",
    "\n",
    "Manuscript submitted for publication. Copyright &copy; 2003-2020 Amsterdam UMC - Amsterdam Medical Data Science"
   ]
  },
  {
   "cell_type": "markdown",
   "metadata": {},
   "source": [
    "## Imports"
   ]
  },
  {
   "cell_type": "code",
   "execution_count": 1,
   "metadata": {},
   "outputs": [],
   "source": [
    "%matplotlib inline\n",
    "import amsterdamumcdb\n",
    "import psycopg2\n",
    "import pandas as pd\n",
    "import numpy as np\n",
    "import re\n",
    "\n",
    "import matplotlib.pyplot as plt\n",
    "import matplotlib.gridspec as gridspec\n",
    "import matplotlib as mpl\n",
    "\n",
    "import io\n",
    "from IPython.display import display, HTML, Markdown"
   ]
  },
  {
   "cell_type": "markdown",
   "metadata": {},
   "source": [
    "## Display settings"
   ]
  },
  {
   "cell_type": "code",
   "execution_count": 2,
   "metadata": {},
   "outputs": [],
   "source": [
    "#matplotlib settings for image size\n",
    "#needs to be in a different cell from %matplotlib inline\n",
    "plt.style.use('seaborn-darkgrid')\n",
    "plt.rcParams[\"figure.dpi\"] = 288\n",
    "plt.rcParams[\"figure.figsize\"] = [16, 12]\n",
    "plt.rcParams[\"font.size\"] = 12\n",
    "\n",
    "pd.options.display.max_columns = None\n",
    "pd.options.display.max_rows = None\n",
    "pd.options.display.max_colwidth = 1000"
   ]
  },
  {
   "cell_type": "markdown",
   "metadata": {},
   "source": [
    "## Connection settings"
   ]
  },
  {
   "cell_type": "code",
   "execution_count": 3,
   "metadata": {},
   "outputs": [],
   "source": [
    "#Modify config.ini in the root folder of the repository to change the settings to connect to your postgreSQL database\n",
    "import configparser\n",
    "import os\n",
    "config = configparser.ConfigParser()\n",
    "\n",
    "if os.path.isfile('../config.ini'):\n",
    "    config.read('../config.ini')\n",
    "else:\n",
    "    config.read('../config.SAMPLE.ini')\n",
    "\n",
    "#Open a connection to the postgres database:\n",
    "con = psycopg2.connect(database=config['psycopg2']['database'], \n",
    "                       user=config['psycopg2']['username'], password=config['psycopg2']['password'], \n",
    "                       host=config['psycopg2']['host'], port=config['psycopg2']['port'])\n",
    "con.set_client_encoding('WIN1252') #Uses code page for Dutch accented characters.\n",
    "con.set_session(autocommit=True)\n",
    "\n",
    "cursor = con.cursor()\n",
    "cursor.execute('SET SCHEMA \\'amsterdamumcdb\\''); #set search_path to amsterdamumcdb schema"
   ]
  },
  {
   "cell_type": "markdown",
   "metadata": {},
   "source": [
    "## Table 2. Assessment of re-identification risk "
   ]
  },
  {
   "cell_type": "markdown",
   "metadata": {},
   "source": [
    "## Load the admissions table\n",
    "Used in calculation prevalence and other estimates"
   ]
  },
  {
   "cell_type": "code",
   "execution_count": 4,
   "metadata": {},
   "outputs": [
    {
     "data": {
      "text/html": [
       "<div>\n",
       "<style scoped>\n",
       "    .dataframe tbody tr th:only-of-type {\n",
       "        vertical-align: middle;\n",
       "    }\n",
       "\n",
       "    .dataframe tbody tr th {\n",
       "        vertical-align: top;\n",
       "    }\n",
       "\n",
       "    .dataframe thead th {\n",
       "        text-align: right;\n",
       "    }\n",
       "</style>\n",
       "<table border=\"1\" class=\"dataframe\">\n",
       "  <thead>\n",
       "    <tr style=\"text-align: right;\">\n",
       "      <th></th>\n",
       "      <th>patientid</th>\n",
       "      <th>admissionid</th>\n",
       "      <th>admissioncount</th>\n",
       "      <th>location</th>\n",
       "      <th>urgency</th>\n",
       "      <th>origin</th>\n",
       "      <th>admittedat</th>\n",
       "      <th>admissionyeargroup</th>\n",
       "      <th>dischargedat</th>\n",
       "      <th>lengthofstay</th>\n",
       "      <th>destination</th>\n",
       "      <th>gender</th>\n",
       "      <th>agegroup</th>\n",
       "      <th>dateofdeath</th>\n",
       "      <th>weightgroup</th>\n",
       "      <th>weightsource</th>\n",
       "      <th>heightgroup</th>\n",
       "      <th>heightsource</th>\n",
       "      <th>specialty</th>\n",
       "    </tr>\n",
       "  </thead>\n",
       "  <tbody>\n",
       "    <tr>\n",
       "      <th>0</th>\n",
       "      <td>0</td>\n",
       "      <td>0</td>\n",
       "      <td>1</td>\n",
       "      <td>IC</td>\n",
       "      <td>0</td>\n",
       "      <td>None</td>\n",
       "      <td>0</td>\n",
       "      <td>2003-2009</td>\n",
       "      <td>148800000</td>\n",
       "      <td>42</td>\n",
       "      <td>16</td>\n",
       "      <td>Vrouw</td>\n",
       "      <td>80+</td>\n",
       "      <td>NaN</td>\n",
       "      <td>60-69</td>\n",
       "      <td>Anamnestisch</td>\n",
       "      <td>160-169</td>\n",
       "      <td>Anamnestisch</td>\n",
       "      <td>Cardiochirurgie</td>\n",
       "    </tr>\n",
       "    <tr>\n",
       "      <th>1</th>\n",
       "      <td>1</td>\n",
       "      <td>1</td>\n",
       "      <td>1</td>\n",
       "      <td>IC</td>\n",
       "      <td>0</td>\n",
       "      <td>None</td>\n",
       "      <td>0</td>\n",
       "      <td>2010-2016</td>\n",
       "      <td>96120000</td>\n",
       "      <td>26</td>\n",
       "      <td>15</td>\n",
       "      <td>Man</td>\n",
       "      <td>60-69</td>\n",
       "      <td>NaN</td>\n",
       "      <td>70-79</td>\n",
       "      <td>Anamnestisch</td>\n",
       "      <td>170-179</td>\n",
       "      <td>Anamnestisch</td>\n",
       "      <td>Cardiochirurgie</td>\n",
       "    </tr>\n",
       "    <tr>\n",
       "      <th>2</th>\n",
       "      <td>2</td>\n",
       "      <td>2</td>\n",
       "      <td>1</td>\n",
       "      <td>IC</td>\n",
       "      <td>1</td>\n",
       "      <td>Eerste Hulp afdeling zelfde ziekenhuis</td>\n",
       "      <td>0</td>\n",
       "      <td>2010-2016</td>\n",
       "      <td>84240000</td>\n",
       "      <td>23</td>\n",
       "      <td>15</td>\n",
       "      <td>Man</td>\n",
       "      <td>60-69</td>\n",
       "      <td>NaN</td>\n",
       "      <td>90-99</td>\n",
       "      <td>Anamnestisch</td>\n",
       "      <td>180-189</td>\n",
       "      <td>Anamnestisch</td>\n",
       "      <td>Cardiochirurgie</td>\n",
       "    </tr>\n",
       "    <tr>\n",
       "      <th>3</th>\n",
       "      <td>4</td>\n",
       "      <td>4</td>\n",
       "      <td>1</td>\n",
       "      <td>IC&amp;MC</td>\n",
       "      <td>0</td>\n",
       "      <td>Verpleegafdeling zelfde ziekenhuis</td>\n",
       "      <td>0</td>\n",
       "      <td>2010-2016</td>\n",
       "      <td>180900000</td>\n",
       "      <td>50</td>\n",
       "      <td>19</td>\n",
       "      <td>Man</td>\n",
       "      <td>70-79</td>\n",
       "      <td>NaN</td>\n",
       "      <td>70-79</td>\n",
       "      <td>Anamnestisch</td>\n",
       "      <td>170-179</td>\n",
       "      <td>Anamnestisch</td>\n",
       "      <td>Cardiochirurgie</td>\n",
       "    </tr>\n",
       "    <tr>\n",
       "      <th>4</th>\n",
       "      <td>5</td>\n",
       "      <td>5</td>\n",
       "      <td>1</td>\n",
       "      <td>IC</td>\n",
       "      <td>1</td>\n",
       "      <td>Eerste Hulp afdeling zelfde ziekenhuis</td>\n",
       "      <td>0</td>\n",
       "      <td>2010-2016</td>\n",
       "      <td>246420000</td>\n",
       "      <td>69</td>\n",
       "      <td>31</td>\n",
       "      <td>Man</td>\n",
       "      <td>50-59</td>\n",
       "      <td>NaN</td>\n",
       "      <td>60-69</td>\n",
       "      <td>Geschat</td>\n",
       "      <td>160-169</td>\n",
       "      <td>Gemeten</td>\n",
       "      <td>Longziekte</td>\n",
       "    </tr>\n",
       "  </tbody>\n",
       "</table>\n",
       "</div>"
      ],
      "text/plain": [
       "   patientid  admissionid  admissioncount location urgency  \\\n",
       "0          0            0               1       IC       0   \n",
       "1          1            1               1       IC       0   \n",
       "2          2            2               1       IC       1   \n",
       "3          4            4               1    IC&MC       0   \n",
       "4          5            5               1       IC       1   \n",
       "\n",
       "                                   origin  admittedat admissionyeargroup  \\\n",
       "0                                    None           0          2003-2009   \n",
       "1                                    None           0          2010-2016   \n",
       "2  Eerste Hulp afdeling zelfde ziekenhuis           0          2010-2016   \n",
       "3      Verpleegafdeling zelfde ziekenhuis           0          2010-2016   \n",
       "4  Eerste Hulp afdeling zelfde ziekenhuis           0          2010-2016   \n",
       "\n",
       "   dischargedat  lengthofstay destination gender agegroup  dateofdeath  \\\n",
       "0     148800000            42          16  Vrouw      80+          NaN   \n",
       "1      96120000            26          15    Man    60-69          NaN   \n",
       "2      84240000            23          15    Man    60-69          NaN   \n",
       "3     180900000            50          19    Man    70-79          NaN   \n",
       "4     246420000            69          31    Man    50-59          NaN   \n",
       "\n",
       "  weightgroup  weightsource heightgroup  heightsource        specialty  \n",
       "0       60-69  Anamnestisch     160-169  Anamnestisch  Cardiochirurgie  \n",
       "1       70-79  Anamnestisch     170-179  Anamnestisch  Cardiochirurgie  \n",
       "2       90-99  Anamnestisch     180-189  Anamnestisch  Cardiochirurgie  \n",
       "3       70-79  Anamnestisch     170-179  Anamnestisch  Cardiochirurgie  \n",
       "4       60-69       Geschat     160-169       Gemeten       Longziekte  "
      ]
     },
     "execution_count": 4,
     "metadata": {},
     "output_type": "execute_result"
    }
   ],
   "source": [
    "admissions = pd.read_sql('SELECT * FROM admissions', con)\n",
    "admissions.head()"
   ]
  },
  {
   "cell_type": "markdown",
   "metadata": {},
   "source": [
    "# <i>k</i>-Anonymity"
   ]
  },
  {
   "cell_type": "markdown",
   "metadata": {},
   "source": [
    "## Researcher with presumed background knowledge:\n",
    "- age (agegroup)\n",
    "- admission year (admissionyeargroup)\n",
    "- gender\n",
    "- survival at discharge (destination/alive)\n",
    "- weight (weightgroup)\n",
    "- height (heightgroup)"
   ]
  },
  {
   "cell_type": "markdown",
   "metadata": {},
   "source": [
    "### Determine equivalence classes and *k*-anonymity "
   ]
  },
  {
   "cell_type": "code",
   "execution_count": 5,
   "metadata": {},
   "outputs": [
    {
     "data": {
      "text/html": [
       "<div>\n",
       "<style scoped>\n",
       "    .dataframe tbody tr th:only-of-type {\n",
       "        vertical-align: middle;\n",
       "    }\n",
       "\n",
       "    .dataframe tbody tr th {\n",
       "        vertical-align: top;\n",
       "    }\n",
       "\n",
       "    .dataframe thead th {\n",
       "        text-align: right;\n",
       "    }\n",
       "</style>\n",
       "<table border=\"1\" class=\"dataframe\">\n",
       "  <thead>\n",
       "    <tr style=\"text-align: right;\">\n",
       "      <th></th>\n",
       "      <th>patientid</th>\n",
       "      <th>admissionid</th>\n",
       "      <th>agegroup</th>\n",
       "      <th>admissionyeargroup</th>\n",
       "      <th>gender</th>\n",
       "      <th>alive</th>\n",
       "      <th>weightgroup</th>\n",
       "      <th>heightgroup</th>\n",
       "      <th>k_anonymity</th>\n",
       "      <th>Pr(re-id)</th>\n",
       "    </tr>\n",
       "  </thead>\n",
       "  <tbody>\n",
       "    <tr>\n",
       "      <th>0</th>\n",
       "      <td>9527</td>\n",
       "      <td>11035</td>\n",
       "      <td>18-39</td>\n",
       "      <td>2003-2009</td>\n",
       "      <td></td>\n",
       "      <td>1</td>\n",
       "      <td>60-69</td>\n",
       "      <td>160-169</td>\n",
       "      <td>2</td>\n",
       "      <td>0.5</td>\n",
       "    </tr>\n",
       "    <tr>\n",
       "      <th>1</th>\n",
       "      <td>14196</td>\n",
       "      <td>16454</td>\n",
       "      <td>18-39</td>\n",
       "      <td>2003-2009</td>\n",
       "      <td></td>\n",
       "      <td>1</td>\n",
       "      <td>60-69</td>\n",
       "      <td>160-169</td>\n",
       "      <td>2</td>\n",
       "      <td>0.5</td>\n",
       "    </tr>\n",
       "    <tr>\n",
       "      <th>2</th>\n",
       "      <td>348</td>\n",
       "      <td>398</td>\n",
       "      <td>18-39</td>\n",
       "      <td>2003-2009</td>\n",
       "      <td></td>\n",
       "      <td>1</td>\n",
       "      <td>80-89</td>\n",
       "      <td>170-179</td>\n",
       "      <td>2</td>\n",
       "      <td>0.5</td>\n",
       "    </tr>\n",
       "    <tr>\n",
       "      <th>3</th>\n",
       "      <td>7392</td>\n",
       "      <td>8573</td>\n",
       "      <td>18-39</td>\n",
       "      <td>2003-2009</td>\n",
       "      <td></td>\n",
       "      <td>1</td>\n",
       "      <td>80-89</td>\n",
       "      <td>170-179</td>\n",
       "      <td>2</td>\n",
       "      <td>0.5</td>\n",
       "    </tr>\n",
       "    <tr>\n",
       "      <th>4</th>\n",
       "      <td>9841</td>\n",
       "      <td>11402</td>\n",
       "      <td>18-39</td>\n",
       "      <td>2003-2009</td>\n",
       "      <td></td>\n",
       "      <td>1</td>\n",
       "      <td>80-89</td>\n",
       "      <td>190+</td>\n",
       "      <td>2</td>\n",
       "      <td>0.5</td>\n",
       "    </tr>\n",
       "  </tbody>\n",
       "</table>\n",
       "</div>"
      ],
      "text/plain": [
       "   patientid  admissionid agegroup admissionyeargroup gender  alive  \\\n",
       "0       9527        11035    18-39          2003-2009             1   \n",
       "1      14196        16454    18-39          2003-2009             1   \n",
       "2        348          398    18-39          2003-2009             1   \n",
       "3       7392         8573    18-39          2003-2009             1   \n",
       "4       9841        11402    18-39          2003-2009             1   \n",
       "\n",
       "  weightgroup heightgroup  k_anonymity  Pr(re-id)  \n",
       "0       60-69     160-169            2        0.5  \n",
       "1       60-69     160-169            2        0.5  \n",
       "2       80-89     170-179            2        0.5  \n",
       "3       80-89     170-179            2        0.5  \n",
       "4       80-89        190+            2        0.5  "
      ]
     },
     "execution_count": 5,
     "metadata": {},
     "output_type": "execute_result"
    }
   ],
   "source": [
    "# Extended matching (NULL included in separating groups) - individual patients and admissions\n",
    "sql_k_researcher_ids = \"\"\"\n",
    "WITH admissions_cleaned AS (\n",
    "    SELECT patientid, \n",
    "        admissionid,\n",
    "        agegroup, \n",
    "        admissionyeargroup,\n",
    "        gender,\n",
    "        CASE\n",
    "            WHEN destination = 'Overleden' THEN 0\n",
    "            ELSE 1\n",
    "        END as alive,\n",
    "        weightgroup,\n",
    "        heightgroup\n",
    "    FROM admissions\n",
    "),\n",
    "anonymity_groups AS (\n",
    "SELECT gender, agegroup, alive, admissionyeargroup, weightgroup, heightgroup, \n",
    "    COUNT(patientid) AS k_anonymity, \n",
    "    1.0/COUNT(patientid) AS \"Pr(re-id)\"\n",
    "FROM admissions_cleaned\n",
    "GROUP BY gender, agegroup, alive, admissionyeargroup, weightgroup, heightgroup\n",
    ")\n",
    "SELECT a.*, k_anonymity, \"Pr(re-id)\"\n",
    "FROM admissions_cleaned a\n",
    "LEFT JOIN anonymity_groups k ON \n",
    "    a.agegroup = k.agegroup  AND \n",
    "    a.admissionyeargroup = k.admissionyeargroup AND\n",
    "    a.gender = k.gender AND \n",
    "    a.alive = k.alive AND \n",
    "    (a.weightgroup = k.weightgroup OR (a.weightgroup IS NULL AND k.weightgroup IS NULL)) AND\n",
    "    (a.heightgroup = k.heightgroup OR (a.heightgroup IS NULL AND k.heightgroup IS NULL))\n",
    "ORDER BY k_anonymity, agegroup, admissionyeargroup, gender, alive, weightgroup, heightgroup, patientid\n",
    "\"\"\"\n",
    "k_reseachers_ids = pd.read_sql(sql_k_researcher_ids,con)\n",
    "k_reseachers_ids.head()"
   ]
  },
  {
   "cell_type": "markdown",
   "metadata": {},
   "source": [
    "### Determine equivalence classes and *l*-diversity based on diagnoses in listitems"
   ]
  },
  {
   "cell_type": "code",
   "execution_count": 6,
   "metadata": {},
   "outputs": [
    {
     "data": {
      "text/html": [
       "<div>\n",
       "<style scoped>\n",
       "    .dataframe tbody tr th:only-of-type {\n",
       "        vertical-align: middle;\n",
       "    }\n",
       "\n",
       "    .dataframe tbody tr th {\n",
       "        vertical-align: top;\n",
       "    }\n",
       "\n",
       "    .dataframe thead th {\n",
       "        text-align: right;\n",
       "    }\n",
       "</style>\n",
       "<table border=\"1\" class=\"dataframe\">\n",
       "  <thead>\n",
       "    <tr style=\"text-align: right;\">\n",
       "      <th></th>\n",
       "      <th>admissionid</th>\n",
       "      <th>patientid</th>\n",
       "      <th>lengthofstay</th>\n",
       "      <th>agegroup</th>\n",
       "      <th>admissionyeargroup</th>\n",
       "      <th>gender</th>\n",
       "      <th>alive</th>\n",
       "      <th>weightgroup</th>\n",
       "      <th>heightgroup</th>\n",
       "      <th>diagnosis</th>\n",
       "      <th>diagnosis_subgroup</th>\n",
       "      <th>diagnosis_group</th>\n",
       "      <th>l_diversity</th>\n",
       "      <th>l_diversity_diags</th>\n",
       "      <th>k_anonymity</th>\n",
       "    </tr>\n",
       "  </thead>\n",
       "  <tbody>\n",
       "    <tr>\n",
       "      <th>0</th>\n",
       "      <td>1059</td>\n",
       "      <td>919</td>\n",
       "      <td>23</td>\n",
       "      <td>70-79</td>\n",
       "      <td>2003-2009</td>\n",
       "      <td></td>\n",
       "      <td>1</td>\n",
       "      <td>70-79</td>\n",
       "      <td>170-179</td>\n",
       "      <td>None</td>\n",
       "      <td>None</td>\n",
       "      <td>None</td>\n",
       "      <td>1</td>\n",
       "      <td>N/A</td>\n",
       "      <td>27</td>\n",
       "    </tr>\n",
       "    <tr>\n",
       "      <th>1</th>\n",
       "      <td>1342</td>\n",
       "      <td>1161</td>\n",
       "      <td>1464</td>\n",
       "      <td>70-79</td>\n",
       "      <td>2003-2009</td>\n",
       "      <td></td>\n",
       "      <td>1</td>\n",
       "      <td>70-79</td>\n",
       "      <td>170-179</td>\n",
       "      <td>None</td>\n",
       "      <td>None</td>\n",
       "      <td>None</td>\n",
       "      <td>1</td>\n",
       "      <td>N/A</td>\n",
       "      <td>27</td>\n",
       "    </tr>\n",
       "    <tr>\n",
       "      <th>2</th>\n",
       "      <td>1405</td>\n",
       "      <td>1212</td>\n",
       "      <td>22</td>\n",
       "      <td>70-79</td>\n",
       "      <td>2003-2009</td>\n",
       "      <td></td>\n",
       "      <td>1</td>\n",
       "      <td>70-79</td>\n",
       "      <td>170-179</td>\n",
       "      <td>None</td>\n",
       "      <td>None</td>\n",
       "      <td>None</td>\n",
       "      <td>1</td>\n",
       "      <td>N/A</td>\n",
       "      <td>27</td>\n",
       "    </tr>\n",
       "    <tr>\n",
       "      <th>3</th>\n",
       "      <td>1742</td>\n",
       "      <td>1513</td>\n",
       "      <td>1056</td>\n",
       "      <td>70-79</td>\n",
       "      <td>2003-2009</td>\n",
       "      <td></td>\n",
       "      <td>1</td>\n",
       "      <td>70-79</td>\n",
       "      <td>170-179</td>\n",
       "      <td>None</td>\n",
       "      <td>None</td>\n",
       "      <td>None</td>\n",
       "      <td>1</td>\n",
       "      <td>N/A</td>\n",
       "      <td>27</td>\n",
       "    </tr>\n",
       "    <tr>\n",
       "      <th>4</th>\n",
       "      <td>2383</td>\n",
       "      <td>2075</td>\n",
       "      <td>96</td>\n",
       "      <td>70-79</td>\n",
       "      <td>2003-2009</td>\n",
       "      <td></td>\n",
       "      <td>1</td>\n",
       "      <td>70-79</td>\n",
       "      <td>170-179</td>\n",
       "      <td>None</td>\n",
       "      <td>None</td>\n",
       "      <td>None</td>\n",
       "      <td>1</td>\n",
       "      <td>N/A</td>\n",
       "      <td>27</td>\n",
       "    </tr>\n",
       "  </tbody>\n",
       "</table>\n",
       "</div>"
      ],
      "text/plain": [
       "   admissionid  patientid  lengthofstay agegroup admissionyeargroup gender  \\\n",
       "0         1059        919            23    70-79          2003-2009          \n",
       "1         1342       1161          1464    70-79          2003-2009          \n",
       "2         1405       1212            22    70-79          2003-2009          \n",
       "3         1742       1513          1056    70-79          2003-2009          \n",
       "4         2383       2075            96    70-79          2003-2009          \n",
       "\n",
       "   alive weightgroup heightgroup diagnosis diagnosis_subgroup diagnosis_group  \\\n",
       "0      1       70-79     170-179      None               None            None   \n",
       "1      1       70-79     170-179      None               None            None   \n",
       "2      1       70-79     170-179      None               None            None   \n",
       "3      1       70-79     170-179      None               None            None   \n",
       "4      1       70-79     170-179      None               None            None   \n",
       "\n",
       "   l_diversity l_diversity_diags  k_anonymity  \n",
       "0            1               N/A           27  \n",
       "1            1               N/A           27  \n",
       "2            1               N/A           27  \n",
       "3            1               N/A           27  \n",
       "4            1               N/A           27  "
      ]
     },
     "execution_count": 6,
     "metadata": {},
     "output_type": "execute_result"
    }
   ],
   "source": [
    "sql_l_researcher_ids = \"\"\"\n",
    "WITH diagnosis_groups AS (\n",
    "SELECT admissionid,\n",
    "        item, \n",
    "        value as diagnosis_group,\n",
    "        CASE\n",
    "            WHEN itemid = 13110 AND valueid BETWEEN 1 AND 3 THEN 1 --D_Hoofdgroep\n",
    "            WHEN itemid = 16651 AND valueid BETWEEN 7 AND 9 THEN 1 --DMC_Hoofdgroep\n",
    "            WHEN itemid = 16997 AND valueid BETWEEN 11 AND 20 THEN 1 --APACHE IV Groepen\n",
    "            WHEN itemid = 18588 AND valueid BETWEEN 1 AND 7 THEN 1 --Apache II Hoofdgroep\n",
    "            ELSE 0\n",
    "        END AS surgical,\n",
    "        ROW_NUMBER() OVER(PARTITION BY admissionid\n",
    "        ORDER BY measuredat DESC) AS rownum\n",
    "    FROM listitems\n",
    "    WHERE itemid IN (\n",
    "        --MAIN GROUP - LEVEL 0\n",
    "        13110, --D_Hoofdgroep\n",
    "        16651 --DMC_Hoofdgroep, Medium Care\n",
    "    )\n",
    "),diagnosis_subgroups AS (\n",
    "SELECT admissionid,\n",
    "        item, \n",
    "        value as diagnosis_subgroup,\n",
    "        ROW_NUMBER() OVER(PARTITION BY admissionid\n",
    "        ORDER BY measuredat DESC) AS rownum\n",
    "    FROM listitems\n",
    "    WHERE itemid IN (\n",
    "        --SUB GROUP - LEVEL 1\n",
    "        13111, --D_Subgroep_Thoraxchirurgie\n",
    "        16669, --DMC_Subgroep_Thoraxchirurgie\n",
    "        13112, --D_Subgroep_Algemene chirurgie\n",
    "        16665, --DMC_Subgroep_Algemene chirurgie\n",
    "        13113, --D_Subgroep_Neurochirurgie\n",
    "        16667, --DMC_Subgroep_Neurochirurgie\n",
    "        13114, --D_Subgroep_Neurologie\n",
    "        16668, --DMC_Subgroep_Neurologie\n",
    "        13115, --D_Subgroep_Interne geneeskunde\n",
    "        16666 --DMC_Subgroep_Interne geneeskunde\n",
    "    )\n",
    "), diagnoses AS (\n",
    "SELECT admissionid,\n",
    "        item, \n",
    "        value as diagnosis,\n",
    "        ROW_NUMBER() OVER(PARTITION BY admissionid\n",
    "        ORDER BY measuredat DESC) AS rownum\n",
    "FROM listitems\n",
    "WHERE itemid IN (\n",
    "        -- Diagnosis - LEVEL 2\n",
    "        --SURGICAL\n",
    "        13116, --D_Thoraxchirurgie_CABG en Klepchirurgie\n",
    "        16671, --DMC_Thoraxchirurgie_CABG en Klepchirurgie\n",
    "        13117, --D_Thoraxchirurgie_Cardio anders\n",
    "        16672, --DMC_Thoraxchirurgie_Cardio anders\n",
    "        13118, --D_Thoraxchirurgie_Aorta chirurgie\n",
    "        16670, --DMC_Thoraxchirurgie_Aorta chirurgie\n",
    "        13119, --D_Thoraxchirurgie_Pulmonale chirurgie\n",
    "        16673, --DMC_Thoraxchirurgie_Pulmonale chirurgie\n",
    "        13141, --D_Algemene chirurgie_Algemeen   \n",
    "        16642, --DMC_Algemene chirurgie_Algemeen\n",
    "        13121, --D_Algemene chirurgie_Buikchirurgie\n",
    "        16643, --DMC_Algemene chirurgie_Buikchirurgie\n",
    "        13123, --D_Algemene chirurgie_Endocrinologische chirurgie\n",
    "        16644, --DMC_Algemene chirurgie_Endocrinologische chirurgie\n",
    "        13145, --D_Algemene chirurgie_KNO/Overige\n",
    "        16645, --DMC_Algemene chirurgie_KNO/Overige\n",
    "        13125, --D_Algemene chirurgie_Orthopedische chirurgie\n",
    "        16646, --DMC_Algemene chirurgie_Orthopedische chirurgie\n",
    "        13122, --D_Algemene chirurgie_Transplantatie chirurgie\n",
    "        16647, --DMC_Algemene chirurgie_Transplantatie chirurgie\n",
    "        13124, --D_Algemene chirurgie_Trauma\n",
    "        16648, --DMC_Algemene chirurgie_Trauma\n",
    "        13126, --D_Algemene chirurgie_Urogenitaal\n",
    "        16649, --DMC_Algemene chirurgie_Urogenitaal\n",
    "        13120, --D_Algemene chirurgie_Vaatchirurgie\n",
    "        16650, --DMC_Algemene chirurgie_Vaatchirurgie\n",
    "        13128, --D_Neurochirurgie _Vasculair chirurgisch\n",
    "        16661, --DMC_Neurochirurgie _Vasculair chirurgisch\n",
    "        13129, --D_Neurochirurgie _Tumor chirurgie\n",
    "        16660, --DMC_Neurochirurgie _Tumor chirurgie\n",
    "        13130, --D_Neurochirurgie_Overige\n",
    "        16662, --DMC_Neurochirurgie_Overige\n",
    "\n",
    "        --MEDICAL\n",
    "        13133, --D_Interne Geneeskunde_Cardiovasculair\n",
    "        16653, --DMC_Interne Geneeskunde_Cardiovasculair\n",
    "        13134, --D_Interne Geneeskunde_Pulmonaal\n",
    "        16658, --DMC_Interne Geneeskunde_Pulmonaal\n",
    "        13135, --D_Interne Geneeskunde_Abdominaal\n",
    "        16652, --DMC_Interne Geneeskunde_Abdominaal\n",
    "        13136, --D_Interne Geneeskunde_Infectieziekten\n",
    "        16655, --DMC_Interne Geneeskunde_Infectieziekten\n",
    "        13137, --D_Interne Geneeskunde_Metabool\n",
    "        16656, --DMC_Interne Geneeskunde_Metabool\n",
    "        13138, --D_Interne Geneeskunde_Renaal\n",
    "        16659, --DMC_Interne Geneeskunde_Renaal\n",
    "        13139, --D_Interne Geneeskunde_Hematologisch\n",
    "        16654, --DMC_Interne Geneeskunde_Hematologisch\n",
    "        13140, --D_Interne Geneeskunde_Overige\n",
    "        16657, --DMC_Interne Geneeskunde_Overige\n",
    "        13131, --D_Neurologie_Vasculair neurologisch\n",
    "        16664, --DMC_Neurologie_Vasculair neurologisch\n",
    "        13132, --D_Neurologie_Overige\n",
    "        16663, --DMC_Neurologie_Overige \n",
    "        13127 --D_KNO/Overige\n",
    "        )\n",
    "),\n",
    "admissions_cleaned AS (\n",
    "    SELECT \n",
    "        admissionid, \n",
    "        patientid,\n",
    "        lengthofstay,\n",
    "        agegroup, \n",
    "        admissionyeargroup,\n",
    "        gender,\n",
    "        CASE\n",
    "            WHEN destination = 'Overleden' THEN 0\n",
    "            ELSE 1\n",
    "        END as alive,\n",
    "        weightgroup,\n",
    "        heightgroup\n",
    "    FROM admissions\n",
    "),\n",
    "anonymity_groups AS (\n",
    "    -- possible diagnosis grouping: diagnosis, diagnosis_subgroup, diagnosis_group, \n",
    "    SELECT \n",
    "        gender, \n",
    "        agegroup, \n",
    "        alive,\n",
    "        admissionyeargroup,\n",
    "        weightgroup, \n",
    "        heightgroup, \n",
    "        COUNT(DISTINCT COALESCE(diagnosis,'N/A')) as l_diversity, \n",
    "        STRING_AGG(DISTINCT COALESCE(diagnosis,'N/A'), '\\n') as l_diversity_diags,\n",
    "        COUNT(patientid) AS k_anonymity \n",
    "    FROM admissions_cleaned\n",
    "    LEFT JOIN diagnoses ON admissions_cleaned.admissionid = diagnoses.admissionid\n",
    "    LEFT JOIN diagnosis_subgroups ON admissions_cleaned.admissionid = diagnosis_subgroups.admissionid\n",
    "    LEFT JOIN diagnosis_groups ON admissions_cleaned.admissionid = diagnosis_groups.admissionid         \n",
    "    WHERE (diagnoses.rownum = 1 OR diagnoses.rownum IS NULL) AND \n",
    "        (diagnosis_subgroups.rownum = 1 OR diagnosis_subgroups.rownum IS NULL) AND\n",
    "        (diagnosis_groups.rownum = 1 OR diagnosis_groups.rownum IS NULL) --only last updated record\n",
    "    GROUP BY \n",
    "        agegroup, \n",
    "        admissionyeargroup,\n",
    "        gender,\n",
    "        alive,\n",
    "        weightgroup, \n",
    "        heightgroup\n",
    ")\n",
    "SELECT \n",
    "    a.*, \n",
    "    diagnosis, \n",
    "    diagnosis_subgroup, \n",
    "    diagnosis_group, \n",
    "    l_diversity,\n",
    "    l_diversity_diags,\n",
    "    k_anonymity\n",
    "FROM admissions_cleaned a\n",
    "LEFT JOIN \n",
    "    anonymity_groups k ON \n",
    "    a.agegroup = k.agegroup  AND \n",
    "    a.admissionyeargroup = k.admissionyeargroup AND\n",
    "    a.gender = k.gender AND \n",
    "    a.alive = k.alive AND \n",
    "    (a.weightgroup = k.weightgroup OR (a.weightgroup IS NULL AND k.weightgroup IS NULL)) AND\n",
    "    (a.heightgroup = k.heightgroup OR (a.heightgroup IS NULL AND k.heightgroup IS NULL))\n",
    "LEFT JOIN \n",
    "    diagnoses ON a.admissionid = diagnoses.admissionid\n",
    "LEFT JOIN \n",
    "    diagnosis_subgroups ON a.admissionid = diagnosis_subgroups.admissionid\n",
    "LEFT JOIN \n",
    "    diagnosis_groups ON a.admissionid = diagnosis_groups.admissionid         \n",
    "WHERE \n",
    "    (diagnoses.rownum = 1 OR diagnoses.rownum IS NULL) AND \n",
    "    (diagnosis_subgroups.rownum = 1 OR diagnosis_subgroups.rownum IS NULL) AND\n",
    "    (diagnosis_groups.rownum = 1 OR diagnosis_groups.rownum IS NULL) --only last updated record\n",
    "ORDER BY \n",
    "    l_diversity, \n",
    "    k_anonymity DESC, \n",
    "    agegroup, \n",
    "    admissionyeargroup, \n",
    "    gender, \n",
    "    alive, \n",
    "    weightgroup, \n",
    "    heightgroup, \n",
    "    patientid,\n",
    "    admissionid;\n",
    "\"\"\"\n",
    "l_diversity_researcher_ids = pd.read_sql(sql_l_researcher_ids,con)\n",
    "l_diversity_researcher_ids.head()"
   ]
  },
  {
   "cell_type": "code",
   "execution_count": 7,
   "metadata": {},
   "outputs": [
    {
     "data": {
      "text/html": [
       "<div>\n",
       "<style scoped>\n",
       "    .dataframe tbody tr th:only-of-type {\n",
       "        vertical-align: middle;\n",
       "    }\n",
       "\n",
       "    .dataframe tbody tr th {\n",
       "        vertical-align: top;\n",
       "    }\n",
       "\n",
       "    .dataframe thead th {\n",
       "        text-align: right;\n",
       "    }\n",
       "</style>\n",
       "<table border=\"1\" class=\"dataframe\">\n",
       "  <thead>\n",
       "    <tr style=\"text-align: right;\">\n",
       "      <th></th>\n",
       "      <th>admissionid</th>\n",
       "      <th>patientid</th>\n",
       "      <th>lengthofstay</th>\n",
       "      <th>agegroup</th>\n",
       "      <th>admissionyeargroup</th>\n",
       "      <th>gender</th>\n",
       "      <th>alive</th>\n",
       "      <th>weightgroup</th>\n",
       "      <th>heightgroup</th>\n",
       "      <th>diagnosis</th>\n",
       "      <th>diagnosis_subgroup</th>\n",
       "      <th>diagnosis_group</th>\n",
       "      <th>l_diversity</th>\n",
       "      <th>l_diversity_diags</th>\n",
       "      <th>k_anonymity</th>\n",
       "    </tr>\n",
       "  </thead>\n",
       "  <tbody>\n",
       "    <tr>\n",
       "      <th>0</th>\n",
       "      <td>1059</td>\n",
       "      <td>919</td>\n",
       "      <td>23</td>\n",
       "      <td>70-79</td>\n",
       "      <td>2003-2009</td>\n",
       "      <td></td>\n",
       "      <td>1</td>\n",
       "      <td>70-79</td>\n",
       "      <td>170-179</td>\n",
       "      <td>None</td>\n",
       "      <td>None</td>\n",
       "      <td>None</td>\n",
       "      <td>1</td>\n",
       "      <td>N/A</td>\n",
       "      <td>27</td>\n",
       "    </tr>\n",
       "    <tr>\n",
       "      <th>1</th>\n",
       "      <td>1342</td>\n",
       "      <td>1161</td>\n",
       "      <td>1464</td>\n",
       "      <td>70-79</td>\n",
       "      <td>2003-2009</td>\n",
       "      <td></td>\n",
       "      <td>1</td>\n",
       "      <td>70-79</td>\n",
       "      <td>170-179</td>\n",
       "      <td>None</td>\n",
       "      <td>None</td>\n",
       "      <td>None</td>\n",
       "      <td>1</td>\n",
       "      <td>N/A</td>\n",
       "      <td>27</td>\n",
       "    </tr>\n",
       "    <tr>\n",
       "      <th>2</th>\n",
       "      <td>1405</td>\n",
       "      <td>1212</td>\n",
       "      <td>22</td>\n",
       "      <td>70-79</td>\n",
       "      <td>2003-2009</td>\n",
       "      <td></td>\n",
       "      <td>1</td>\n",
       "      <td>70-79</td>\n",
       "      <td>170-179</td>\n",
       "      <td>None</td>\n",
       "      <td>None</td>\n",
       "      <td>None</td>\n",
       "      <td>1</td>\n",
       "      <td>N/A</td>\n",
       "      <td>27</td>\n",
       "    </tr>\n",
       "    <tr>\n",
       "      <th>3</th>\n",
       "      <td>1742</td>\n",
       "      <td>1513</td>\n",
       "      <td>1056</td>\n",
       "      <td>70-79</td>\n",
       "      <td>2003-2009</td>\n",
       "      <td></td>\n",
       "      <td>1</td>\n",
       "      <td>70-79</td>\n",
       "      <td>170-179</td>\n",
       "      <td>None</td>\n",
       "      <td>None</td>\n",
       "      <td>None</td>\n",
       "      <td>1</td>\n",
       "      <td>N/A</td>\n",
       "      <td>27</td>\n",
       "    </tr>\n",
       "    <tr>\n",
       "      <th>4</th>\n",
       "      <td>2383</td>\n",
       "      <td>2075</td>\n",
       "      <td>96</td>\n",
       "      <td>70-79</td>\n",
       "      <td>2003-2009</td>\n",
       "      <td></td>\n",
       "      <td>1</td>\n",
       "      <td>70-79</td>\n",
       "      <td>170-179</td>\n",
       "      <td>None</td>\n",
       "      <td>None</td>\n",
       "      <td>None</td>\n",
       "      <td>1</td>\n",
       "      <td>N/A</td>\n",
       "      <td>27</td>\n",
       "    </tr>\n",
       "  </tbody>\n",
       "</table>\n",
       "</div>"
      ],
      "text/plain": [
       "   admissionid  patientid  lengthofstay agegroup admissionyeargroup gender  \\\n",
       "0         1059        919            23    70-79          2003-2009          \n",
       "1         1342       1161          1464    70-79          2003-2009          \n",
       "2         1405       1212            22    70-79          2003-2009          \n",
       "3         1742       1513          1056    70-79          2003-2009          \n",
       "4         2383       2075            96    70-79          2003-2009          \n",
       "\n",
       "   alive weightgroup heightgroup diagnosis diagnosis_subgroup diagnosis_group  \\\n",
       "0      1       70-79     170-179      None               None            None   \n",
       "1      1       70-79     170-179      None               None            None   \n",
       "2      1       70-79     170-179      None               None            None   \n",
       "3      1       70-79     170-179      None               None            None   \n",
       "4      1       70-79     170-179      None               None            None   \n",
       "\n",
       "   l_diversity l_diversity_diags  k_anonymity  \n",
       "0            1               N/A           27  \n",
       "1            1               N/A           27  \n",
       "2            1               N/A           27  \n",
       "3            1               N/A           27  \n",
       "4            1               N/A           27  "
      ]
     },
     "execution_count": 7,
     "metadata": {},
     "output_type": "execute_result"
    }
   ],
   "source": [
    "l_diversity_researcher_ids.head()"
   ]
  },
  {
   "cell_type": "markdown",
   "metadata": {},
   "source": [
    "## Friendly researcher\n",
    "### P(access)\n",
    "Access to the database is freely available for genuine researchers"
   ]
  },
  {
   "cell_type": "code",
   "execution_count": 8,
   "metadata": {},
   "outputs": [
    {
     "data": {
      "text/plain": [
       "1.0"
      ]
     },
     "execution_count": 8,
     "metadata": {},
     "output_type": "execute_result"
    }
   ],
   "source": [
    "p_access_friendly_researcher = 1.0\n",
    "p_access_friendly_researcher"
   ]
  },
  {
   "cell_type": "markdown",
   "metadata": {},
   "source": [
    "### P(acquaintance)\n",
    "Inadvertent recognition of acquaintance of the friendly researcher. Uses the Dunbar estimate (150) for the average number of people somebody knows.\n",
    "\n",
    "$P_{acquaintance} = 1 - (1 - \\rho)^{150}$, where $\\rho$ is the prevalence of ICU admissions in the population"
   ]
  },
  {
   "cell_type": "code",
   "execution_count": 9,
   "metadata": {},
   "outputs": [
    {
     "data": {
      "text/plain": [
       "20109"
      ]
     },
     "execution_count": 9,
     "metadata": {},
     "output_type": "execute_result"
    }
   ],
   "source": [
    "admissions['patientid'].nunique()"
   ]
  },
  {
   "cell_type": "markdown",
   "metadata": {},
   "source": [
    "Conservative estimate of $\\rho$ (prevalence of ICU admissions in the population):\n",
    "\n",
    "$\\rho = \\frac{\\text{number of patients in db}}{\\text{number of adult patients in the Netherlands}}$\n"
   ]
  },
  {
   "cell_type": "code",
   "execution_count": 10,
   "metadata": {},
   "outputs": [
    {
     "data": {
      "text/plain": [
       "0.19774861784974562"
      ]
     },
     "execution_count": 10,
     "metadata": {},
     "output_type": "execute_result"
    }
   ],
   "source": [
    "n_db_patients = admissions['patientid'].nunique()\n",
    "n_citizens_18yo = 13.7e6 #Dutch Citizens > 18 years: 13.7 million (Bron: CBS)\n",
    "p_prevalence = n_db_patients/n_citizens_18yo\n",
    "\n",
    "\n",
    "p_acquaintance_friendly_researcher = 1 - (1 - p_prevalence)**150\n",
    "p_acquaintance_friendly_researcher"
   ]
  },
  {
   "cell_type": "markdown",
   "metadata": {},
   "source": [
    "### P(re-id) - re-identification risk based on dataset and background knowledge\n",
    "Using strict average risk"
   ]
  },
  {
   "cell_type": "code",
   "execution_count": 11,
   "metadata": {},
   "outputs": [
    {
     "data": {
      "text/plain": [
       "0.04661126980005371"
      ]
     },
     "execution_count": 11,
     "metadata": {},
     "output_type": "execute_result"
    }
   ],
   "source": [
    "p_re_id_friendly_researcher_avg = k_reseachers_ids['Pr(re-id)'].mean()\n",
    "p_re_id_friendly_researcher_avg"
   ]
  },
  {
   "cell_type": "code",
   "execution_count": 12,
   "metadata": {},
   "outputs": [
    {
     "data": {
      "text/plain": [
       "88.62901410888946"
      ]
     },
     "execution_count": 12,
     "metadata": {},
     "output_type": "execute_result"
    }
   ],
   "source": [
    "k_friendly_researcher_avg = k_reseachers_ids['k_anonymity'].mean()\n",
    "k_friendly_researcher_avg"
   ]
  },
  {
   "cell_type": "code",
   "execution_count": 13,
   "metadata": {},
   "outputs": [
    {
     "data": {
      "text/plain": [
       "26.111676040494938"
      ]
     },
     "execution_count": 13,
     "metadata": {},
     "output_type": "execute_result"
    }
   ],
   "source": [
    "l_friendly_researcher_avg = l_diversity_researcher_ids[~(l_diversity_researcher_ids['l_diversity_diags']\n",
    "                                                          .isin(['N/A','Diagnose anders']))]['l_diversity'].mean()\n",
    "l_friendly_researcher_avg"
   ]
  },
  {
   "cell_type": "code",
   "execution_count": 14,
   "metadata": {},
   "outputs": [
    {
     "data": {
      "text/plain": [
       "0.5"
      ]
     },
     "execution_count": 14,
     "metadata": {},
     "output_type": "execute_result"
    }
   ],
   "source": [
    "p_re_id_friendly_researcher_max = k_reseachers_ids['Pr(re-id)'].max()\n",
    "p_re_id_friendly_researcher_max"
   ]
  },
  {
   "cell_type": "code",
   "execution_count": 15,
   "metadata": {},
   "outputs": [
    {
     "data": {
      "text/plain": [
       "2"
      ]
     },
     "execution_count": 15,
     "metadata": {},
     "output_type": "execute_result"
    }
   ],
   "source": [
    "k_friendly_researcher_min = k_reseachers_ids['k_anonymity'].min()\n",
    "k_friendly_researcher_min"
   ]
  },
  {
   "cell_type": "code",
   "execution_count": 16,
   "metadata": {},
   "outputs": [
    {
     "data": {
      "text/plain": [
       "2"
      ]
     },
     "execution_count": 16,
     "metadata": {},
     "output_type": "execute_result"
    }
   ],
   "source": [
    "#checks l-diversity but ignores groups without any real diagnoses\n",
    "l_friendly_researcher_min =  l_diversity_researcher_ids[~(l_diversity_researcher_ids['l_diversity_diags']\n",
    "                                                          .isin(['N/A','Diagnose anders']))]['l_diversity'].min()\n",
    "l_friendly_researcher_min"
   ]
  },
  {
   "cell_type": "markdown",
   "metadata": {},
   "source": [
    "### P(final risk)\n",
    "Risk of re-identification given access to the database, knowing any patient and the strict average risk of identification in the dataset."
   ]
  },
  {
   "cell_type": "code",
   "execution_count": 17,
   "metadata": {},
   "outputs": [
    {
     "data": {
      "text/plain": [
       "0.00921731417918221"
      ]
     },
     "execution_count": 17,
     "metadata": {},
     "output_type": "execute_result"
    }
   ],
   "source": [
    "p_final_risk_friendly_researcher = p_access_friendly_researcher * p_acquaintance_friendly_researcher * p_re_id_friendly_researcher_avg\n",
    "p_final_risk_friendly_researcher"
   ]
  },
  {
   "cell_type": "markdown",
   "metadata": {},
   "source": [
    "## Alternate risk calculation\n",
    "Based on estimation of P(acquaintance) using citizens in Noord-Holland province"
   ]
  },
  {
   "cell_type": "markdown",
   "metadata": {},
   "source": [
    "A worst case scenario estimate of $\\rho$ (prevalence of ICU admissions in the population):\n",
    "\n",
    "$\\rho = \\frac{\\text{number of patients in db}}{\\text{number of adult patients in Noord-Holland province}}$"
   ]
  },
  {
   "cell_type": "code",
   "execution_count": 18,
   "metadata": {},
   "outputs": [
    {
     "data": {
      "text/plain": [
       "0.7383222246822686"
      ]
     },
     "execution_count": 18,
     "metadata": {},
     "output_type": "execute_result"
    }
   ],
   "source": [
    "n_db_patients = admissions['patientid'].nunique()\n",
    "n_citizens_province_NH = 2.26e6 #Dutch Citizens > 20 years in Noord-Holland province: 2.4 million (Bron: CBS)\n",
    "p_prevalence = n_db_patients/n_citizens_province_NH\n",
    "\n",
    "\n",
    "p_acquaintance_friendly_researcher_province = 1 - (1 - p_prevalence)**150\n",
    "p_acquaintance_friendly_researcher_province"
   ]
  },
  {
   "cell_type": "markdown",
   "metadata": {},
   "source": [
    "### Alternate: P(final risk)\n",
    "Worst case P(final risk) for *friendly researcher*: < 0.05"
   ]
  },
  {
   "cell_type": "code",
   "execution_count": 19,
   "metadata": {},
   "outputs": [
    {
     "data": {
      "text/plain": [
       "0.0344141364140411"
      ]
     },
     "execution_count": 19,
     "metadata": {},
     "output_type": "execute_result"
    }
   ],
   "source": [
    "p_final_risk_friendly_researcher_province = p_access_friendly_researcher * p_acquaintance_friendly_researcher_province * p_re_id_friendly_researcher_avg\n",
    "p_final_risk_friendly_researcher_province"
   ]
  },
  {
   "cell_type": "markdown",
   "metadata": {},
   "source": [
    "## Rogue researcher\n",
    "### P(access)\n",
    "Access to the database is freely available for genuine researchers"
   ]
  },
  {
   "cell_type": "code",
   "execution_count": 20,
   "metadata": {},
   "outputs": [
    {
     "data": {
      "text/plain": [
       "1.0"
      ]
     },
     "execution_count": 20,
     "metadata": {},
     "output_type": "execute_result"
    }
   ],
   "source": [
    "p_access_rogue_researcher = 1.0\n",
    "p_access_rogue_researcher"
   ]
  },
  {
   "cell_type": "markdown",
   "metadata": {},
   "source": [
    "### P(intention)\n",
    "Intentionally re-identifying patients, even though there is data agreement in place. Low risk: 0.01-0.10."
   ]
  },
  {
   "cell_type": "code",
   "execution_count": 21,
   "metadata": {},
   "outputs": [
    {
     "data": {
      "text/plain": [
       "0.1"
      ]
     },
     "execution_count": 21,
     "metadata": {},
     "output_type": "execute_result"
    }
   ],
   "source": [
    "p_intention_rogue_researcher = 0.10 #conservative estimate\n",
    "p_intention_rogue_researcher"
   ]
  },
  {
   "cell_type": "markdown",
   "metadata": {},
   "source": [
    "### P(re-id) - re-identification risk based on dataset and background knowledge\n",
    "Using strict average risk"
   ]
  },
  {
   "cell_type": "code",
   "execution_count": 22,
   "metadata": {},
   "outputs": [
    {
     "data": {
      "text/plain": [
       "0.04661126980005371"
      ]
     },
     "execution_count": 22,
     "metadata": {},
     "output_type": "execute_result"
    }
   ],
   "source": [
    "p_re_id_rogue_researcher_avg = k_reseachers_ids['Pr(re-id)'].mean()\n",
    "p_re_id_rogue_researcher_avg"
   ]
  },
  {
   "cell_type": "code",
   "execution_count": 23,
   "metadata": {},
   "outputs": [
    {
     "data": {
      "text/plain": [
       "88.62901410888946"
      ]
     },
     "execution_count": 23,
     "metadata": {},
     "output_type": "execute_result"
    }
   ],
   "source": [
    "k_rogue_researcher_avg = k_reseachers_ids['k_anonymity'].mean()\n",
    "k_rogue_researcher_avg"
   ]
  },
  {
   "cell_type": "code",
   "execution_count": 24,
   "metadata": {},
   "outputs": [
    {
     "data": {
      "text/plain": [
       "26.111676040494938"
      ]
     },
     "execution_count": 24,
     "metadata": {},
     "output_type": "execute_result"
    }
   ],
   "source": [
    "#checks l-diversity but ignores groups without any real diagnoses\n",
    "l_rogue_researcher_avg =  l_diversity_researcher_ids[~(l_diversity_researcher_ids['l_diversity_diags']\n",
    "                                                          .isin(['N/A','Diagnose anders']))]['l_diversity'].mean()\n",
    "l_rogue_researcher_avg"
   ]
  },
  {
   "cell_type": "code",
   "execution_count": 25,
   "metadata": {},
   "outputs": [
    {
     "data": {
      "text/plain": [
       "0.5"
      ]
     },
     "execution_count": 25,
     "metadata": {},
     "output_type": "execute_result"
    }
   ],
   "source": [
    "p_re_id_rogue_researcher_max = k_reseachers_ids['Pr(re-id)'].max()\n",
    "p_re_id_rogue_researcher_max"
   ]
  },
  {
   "cell_type": "code",
   "execution_count": 26,
   "metadata": {},
   "outputs": [
    {
     "data": {
      "text/plain": [
       "2"
      ]
     },
     "execution_count": 26,
     "metadata": {},
     "output_type": "execute_result"
    }
   ],
   "source": [
    "k_rogue_researcher_min = k_reseachers_ids['k_anonymity'].min()\n",
    "k_rogue_researcher_min"
   ]
  },
  {
   "cell_type": "code",
   "execution_count": 27,
   "metadata": {},
   "outputs": [
    {
     "data": {
      "text/plain": [
       "2"
      ]
     },
     "execution_count": 27,
     "metadata": {},
     "output_type": "execute_result"
    }
   ],
   "source": [
    "#checks l-diversity but ignores groups without any real diagnoses\n",
    "l_rogue_researcher_min =  l_diversity_researcher_ids[~(l_diversity_researcher_ids['l_diversity_diags']\n",
    "                                                          .isin(['N/A','Diagnose anders']))]['l_diversity'].min()\n",
    "l_rogue_researcher_min"
   ]
  },
  {
   "cell_type": "markdown",
   "metadata": {},
   "source": [
    "### P(final risk)\n",
    "Risk of re-identification given access to the database, ignoring data agreements and using the strict average risk of identification any patient in the dataset."
   ]
  },
  {
   "cell_type": "code",
   "execution_count": 28,
   "metadata": {},
   "outputs": [
    {
     "data": {
      "text/plain": [
       "0.05"
      ]
     },
     "execution_count": 28,
     "metadata": {},
     "output_type": "execute_result"
    }
   ],
   "source": [
    "p_final_risk_rogue_researcher = p_access_rogue_researcher * p_intention_rogue_researcher * p_re_id_rogue_researcher_max\n",
    "p_final_risk_rogue_researcher"
   ]
  },
  {
   "cell_type": "markdown",
   "metadata": {},
   "source": [
    "## Rogue insurance company with assumed background knowledge:\n",
    "Exclusively for ICU patients (billing)\n",
    "- age\n",
    "- gender\n",
    "- admission year\n",
    "- alive at discharge\n",
    "- admissioncount"
   ]
  },
  {
   "cell_type": "markdown",
   "metadata": {},
   "source": [
    "### Determine equivalence classes and *k*-anonymity "
   ]
  },
  {
   "cell_type": "code",
   "execution_count": 29,
   "metadata": {},
   "outputs": [
    {
     "data": {
      "text/html": [
       "<div>\n",
       "<style scoped>\n",
       "    .dataframe tbody tr th:only-of-type {\n",
       "        vertical-align: middle;\n",
       "    }\n",
       "\n",
       "    .dataframe tbody tr th {\n",
       "        vertical-align: top;\n",
       "    }\n",
       "\n",
       "    .dataframe thead th {\n",
       "        text-align: right;\n",
       "    }\n",
       "</style>\n",
       "<table border=\"1\" class=\"dataframe\">\n",
       "  <thead>\n",
       "    <tr style=\"text-align: right;\">\n",
       "      <th></th>\n",
       "      <th>admissionid</th>\n",
       "      <th>patientid</th>\n",
       "      <th>agegroup</th>\n",
       "      <th>admissionyeargroup</th>\n",
       "      <th>gender</th>\n",
       "      <th>alive</th>\n",
       "      <th>icu_admissioncount</th>\n",
       "      <th>k_anonymity</th>\n",
       "      <th>Pr(re-id)</th>\n",
       "    </tr>\n",
       "  </thead>\n",
       "  <tbody>\n",
       "    <tr>\n",
       "      <th>0</th>\n",
       "      <td>7819</td>\n",
       "      <td>6740</td>\n",
       "      <td>18-39</td>\n",
       "      <td>2003-2009</td>\n",
       "      <td>Man</td>\n",
       "      <td>1</td>\n",
       "      <td>4</td>\n",
       "      <td>2</td>\n",
       "      <td>0.5</td>\n",
       "    </tr>\n",
       "    <tr>\n",
       "      <th>1</th>\n",
       "      <td>20817</td>\n",
       "      <td>17968</td>\n",
       "      <td>18-39</td>\n",
       "      <td>2003-2009</td>\n",
       "      <td>Man</td>\n",
       "      <td>1</td>\n",
       "      <td>4</td>\n",
       "      <td>2</td>\n",
       "      <td>0.5</td>\n",
       "    </tr>\n",
       "    <tr>\n",
       "      <th>2</th>\n",
       "      <td>1632</td>\n",
       "      <td>1417</td>\n",
       "      <td>18-39</td>\n",
       "      <td>2003-2009</td>\n",
       "      <td>Vrouw</td>\n",
       "      <td>0</td>\n",
       "      <td>2</td>\n",
       "      <td>2</td>\n",
       "      <td>0.5</td>\n",
       "    </tr>\n",
       "    <tr>\n",
       "      <th>3</th>\n",
       "      <td>20858</td>\n",
       "      <td>18003</td>\n",
       "      <td>18-39</td>\n",
       "      <td>2003-2009</td>\n",
       "      <td>Vrouw</td>\n",
       "      <td>0</td>\n",
       "      <td>2</td>\n",
       "      <td>2</td>\n",
       "      <td>0.5</td>\n",
       "    </tr>\n",
       "    <tr>\n",
       "      <th>4</th>\n",
       "      <td>7015</td>\n",
       "      <td>6055</td>\n",
       "      <td>18-39</td>\n",
       "      <td>2003-2009</td>\n",
       "      <td>Vrouw</td>\n",
       "      <td>1</td>\n",
       "      <td>5</td>\n",
       "      <td>2</td>\n",
       "      <td>0.5</td>\n",
       "    </tr>\n",
       "  </tbody>\n",
       "</table>\n",
       "</div>"
      ],
      "text/plain": [
       "   admissionid  patientid agegroup admissionyeargroup gender  alive  \\\n",
       "0         7819       6740    18-39          2003-2009    Man      1   \n",
       "1        20817      17968    18-39          2003-2009    Man      1   \n",
       "2         1632       1417    18-39          2003-2009  Vrouw      0   \n",
       "3        20858      18003    18-39          2003-2009  Vrouw      0   \n",
       "4         7015       6055    18-39          2003-2009  Vrouw      1   \n",
       "\n",
       "   icu_admissioncount  k_anonymity  Pr(re-id)  \n",
       "0                   4            2        0.5  \n",
       "1                   4            2        0.5  \n",
       "2                   2            2        0.5  \n",
       "3                   2            2        0.5  \n",
       "4                   5            2        0.5  "
      ]
     },
     "execution_count": 29,
     "metadata": {},
     "output_type": "execute_result"
    }
   ],
   "source": [
    "sql_k_insurance_ids = \"\"\"\n",
    "WITH admissions_cleaned AS (\n",
    "    SELECT\n",
    "        admissionid,\n",
    "        patientid,\n",
    "        agegroup, \n",
    "        admissionyeargroup,\n",
    "        gender,\n",
    "        CASE \n",
    "            WHEN destination = 'Overleden' THEN 0\n",
    "            ELSE 1\n",
    "        END as alive,\n",
    "        ROW_NUMBER() OVER\n",
    "            (PARTITION BY patientid ORDER BY admittedat) AS icu_admissioncount\n",
    "        FROM admissions\n",
    "        WHERE location LIKE '%IC%'\n",
    "),\n",
    "anonymity_groups AS (\n",
    "    SELECT \n",
    "        gender, \n",
    "        agegroup, \n",
    "        alive,\n",
    "        admissionyeargroup,\n",
    "        icu_admissioncount,\n",
    "        COUNT(patientid) AS k_anonymity, \n",
    "        1.0/COUNT(patientid) AS \"Pr(re-id)\"\n",
    "    FROM admissions_cleaned\n",
    "    GROUP BY \n",
    "        gender,\n",
    "        agegroup, \n",
    "        alive,\n",
    "        admissionyeargroup,\n",
    "        icu_admissioncount\n",
    ")\n",
    "SELECT a.*, k_anonymity, \"Pr(re-id)\"\n",
    "FROM admissions_cleaned a\n",
    "LEFT JOIN anonymity_groups k ON \n",
    "    a.agegroup = k.agegroup AND \n",
    "    a.admissionyeargroup = k.admissionyeargroup AND\n",
    "    a.gender = k.gender AND \n",
    "    a.alive = k.alive AND \n",
    "    a.icu_admissioncount = k.icu_admissioncount\n",
    "ORDER BY k_anonymity, \n",
    "    agegroup,\n",
    "    admissionyeargroup,\n",
    "    gender, \n",
    "    alive,\n",
    "    icu_admissioncount,\n",
    "    patientid\n",
    "\"\"\"\n",
    "k_insurance_ids = pd.read_sql(sql_k_insurance_ids,con)\n",
    "k_insurance_ids.head()"
   ]
  },
  {
   "cell_type": "markdown",
   "metadata": {},
   "source": [
    "### Determine equivalence classes and *l*-diversity based on diagnoses in listitems"
   ]
  },
  {
   "cell_type": "code",
   "execution_count": 30,
   "metadata": {},
   "outputs": [
    {
     "data": {
      "text/html": [
       "<div>\n",
       "<style scoped>\n",
       "    .dataframe tbody tr th:only-of-type {\n",
       "        vertical-align: middle;\n",
       "    }\n",
       "\n",
       "    .dataframe tbody tr th {\n",
       "        vertical-align: top;\n",
       "    }\n",
       "\n",
       "    .dataframe thead th {\n",
       "        text-align: right;\n",
       "    }\n",
       "</style>\n",
       "<table border=\"1\" class=\"dataframe\">\n",
       "  <thead>\n",
       "    <tr style=\"text-align: right;\">\n",
       "      <th></th>\n",
       "      <th>admissionid</th>\n",
       "      <th>patientid</th>\n",
       "      <th>lengthofstay</th>\n",
       "      <th>agegroup</th>\n",
       "      <th>admissionyeargroup</th>\n",
       "      <th>gender</th>\n",
       "      <th>alive</th>\n",
       "      <th>icu_admissioncount</th>\n",
       "      <th>diagnosis</th>\n",
       "      <th>diagnosis_subgroup</th>\n",
       "      <th>diagnosis_group</th>\n",
       "      <th>l_diversity</th>\n",
       "      <th>l_diversity_diags</th>\n",
       "      <th>k_anonymity</th>\n",
       "    </tr>\n",
       "  </thead>\n",
       "  <tbody>\n",
       "    <tr>\n",
       "      <th>0</th>\n",
       "      <td>23</td>\n",
       "      <td>22</td>\n",
       "      <td>24</td>\n",
       "      <td>70-79</td>\n",
       "      <td>2003-2009</td>\n",
       "      <td></td>\n",
       "      <td>1</td>\n",
       "      <td>1</td>\n",
       "      <td>None</td>\n",
       "      <td>None</td>\n",
       "      <td>None</td>\n",
       "      <td>1</td>\n",
       "      <td>N/A</td>\n",
       "      <td>122</td>\n",
       "    </tr>\n",
       "    <tr>\n",
       "      <th>1</th>\n",
       "      <td>551</td>\n",
       "      <td>477</td>\n",
       "      <td>22</td>\n",
       "      <td>70-79</td>\n",
       "      <td>2003-2009</td>\n",
       "      <td></td>\n",
       "      <td>1</td>\n",
       "      <td>1</td>\n",
       "      <td>None</td>\n",
       "      <td>None</td>\n",
       "      <td>None</td>\n",
       "      <td>1</td>\n",
       "      <td>N/A</td>\n",
       "      <td>122</td>\n",
       "    </tr>\n",
       "    <tr>\n",
       "      <th>2</th>\n",
       "      <td>681</td>\n",
       "      <td>594</td>\n",
       "      <td>22</td>\n",
       "      <td>70-79</td>\n",
       "      <td>2003-2009</td>\n",
       "      <td></td>\n",
       "      <td>1</td>\n",
       "      <td>1</td>\n",
       "      <td>None</td>\n",
       "      <td>None</td>\n",
       "      <td>None</td>\n",
       "      <td>1</td>\n",
       "      <td>N/A</td>\n",
       "      <td>122</td>\n",
       "    </tr>\n",
       "    <tr>\n",
       "      <th>3</th>\n",
       "      <td>1022</td>\n",
       "      <td>891</td>\n",
       "      <td>52</td>\n",
       "      <td>70-79</td>\n",
       "      <td>2003-2009</td>\n",
       "      <td></td>\n",
       "      <td>1</td>\n",
       "      <td>1</td>\n",
       "      <td>None</td>\n",
       "      <td>None</td>\n",
       "      <td>None</td>\n",
       "      <td>1</td>\n",
       "      <td>N/A</td>\n",
       "      <td>122</td>\n",
       "    </tr>\n",
       "    <tr>\n",
       "      <th>4</th>\n",
       "      <td>1059</td>\n",
       "      <td>919</td>\n",
       "      <td>23</td>\n",
       "      <td>70-79</td>\n",
       "      <td>2003-2009</td>\n",
       "      <td></td>\n",
       "      <td>1</td>\n",
       "      <td>1</td>\n",
       "      <td>None</td>\n",
       "      <td>None</td>\n",
       "      <td>None</td>\n",
       "      <td>1</td>\n",
       "      <td>N/A</td>\n",
       "      <td>122</td>\n",
       "    </tr>\n",
       "  </tbody>\n",
       "</table>\n",
       "</div>"
      ],
      "text/plain": [
       "   admissionid  patientid  lengthofstay agegroup admissionyeargroup gender  \\\n",
       "0           23         22            24    70-79          2003-2009          \n",
       "1          551        477            22    70-79          2003-2009          \n",
       "2          681        594            22    70-79          2003-2009          \n",
       "3         1022        891            52    70-79          2003-2009          \n",
       "4         1059        919            23    70-79          2003-2009          \n",
       "\n",
       "   alive  icu_admissioncount diagnosis diagnosis_subgroup diagnosis_group  \\\n",
       "0      1                   1      None               None            None   \n",
       "1      1                   1      None               None            None   \n",
       "2      1                   1      None               None            None   \n",
       "3      1                   1      None               None            None   \n",
       "4      1                   1      None               None            None   \n",
       "\n",
       "   l_diversity l_diversity_diags  k_anonymity  \n",
       "0            1               N/A          122  \n",
       "1            1               N/A          122  \n",
       "2            1               N/A          122  \n",
       "3            1               N/A          122  \n",
       "4            1               N/A          122  "
      ]
     },
     "execution_count": 30,
     "metadata": {},
     "output_type": "execute_result"
    }
   ],
   "source": [
    "sql_l_insurance_ids = \"\"\"\n",
    "WITH diagnosis_groups AS (\n",
    "SELECT admissionid,\n",
    "        item, \n",
    "        value as diagnosis_group,\n",
    "        CASE\n",
    "            WHEN itemid = 13110 AND valueid BETWEEN 1 AND 3 THEN 1 --D_Hoofdgroep\n",
    "            WHEN itemid = 16651 AND valueid BETWEEN 7 AND 9 THEN 1 --DMC_Hoofdgroep\n",
    "            WHEN itemid = 16997 AND valueid BETWEEN 11 AND 20 THEN 1 --APACHE IV Groepen\n",
    "            WHEN itemid = 18588 AND valueid BETWEEN 1 AND 7 THEN 1 --Apache II Hoofdgroep\n",
    "            ELSE 0\n",
    "        END AS surgical,\n",
    "        ROW_NUMBER() OVER(PARTITION BY admissionid\n",
    "        ORDER BY measuredat DESC) AS rownum\n",
    "    FROM listitems\n",
    "    WHERE itemid IN (\n",
    "        --MAIN GROUP - LEVEL 0\n",
    "        13110, --D_Hoofdgroep\n",
    "        16651 --DMC_Hoofdgroep, Medium Care\n",
    "    )\n",
    "),diagnosis_subgroups AS (\n",
    "SELECT admissionid,\n",
    "        item, \n",
    "        value as diagnosis_subgroup,\n",
    "        ROW_NUMBER() OVER(PARTITION BY admissionid\n",
    "        ORDER BY measuredat DESC) AS rownum\n",
    "    FROM listitems\n",
    "    WHERE itemid IN (\n",
    "        --SUB GROUP - LEVEL 1\n",
    "        13111, --D_Subgroep_Thoraxchirurgie\n",
    "        16669, --DMC_Subgroep_Thoraxchirurgie\n",
    "        13112, --D_Subgroep_Algemene chirurgie\n",
    "        16665, --DMC_Subgroep_Algemene chirurgie\n",
    "        13113, --D_Subgroep_Neurochirurgie\n",
    "        16667, --DMC_Subgroep_Neurochirurgie\n",
    "        13114, --D_Subgroep_Neurologie\n",
    "        16668, --DMC_Subgroep_Neurologie\n",
    "        13115, --D_Subgroep_Interne geneeskunde\n",
    "        16666 --DMC_Subgroep_Interne geneeskunde\n",
    "    )\n",
    "),diagnoses AS (\n",
    "SELECT admissionid,\n",
    "        item, \n",
    "        value as diagnosis,\n",
    "        ROW_NUMBER() OVER(PARTITION BY admissionid\n",
    "        ORDER BY measuredat DESC) AS rownum\n",
    "FROM listitems\n",
    "WHERE itemid IN (\n",
    "        -- Diagnosis - LEVEL 2\n",
    "        --SURGICAL\n",
    "        13116, --D_Thoraxchirurgie_CABG en Klepchirurgie\n",
    "        16671, --DMC_Thoraxchirurgie_CABG en Klepchirurgie\n",
    "        13117, --D_Thoraxchirurgie_Cardio anders\n",
    "        16672, --DMC_Thoraxchirurgie_Cardio anders\n",
    "        13118, --D_Thoraxchirurgie_Aorta chirurgie\n",
    "        16670, --DMC_Thoraxchirurgie_Aorta chirurgie\n",
    "        13119, --D_Thoraxchirurgie_Pulmonale chirurgie\n",
    "        16673, --DMC_Thoraxchirurgie_Pulmonale chirurgie\n",
    "        \n",
    "        \n",
    "        13141, --D_Algemene chirurgie_Algemeen   \n",
    "        16642, --DMC_Algemene chirurgie_Algemeen\n",
    "        13121, --D_Algemene chirurgie_Buikchirurgie\n",
    "        16643, --DMC_Algemene chirurgie_Buikchirurgie\n",
    "        13123, --D_Algemene chirurgie_Endocrinologische chirurgie\n",
    "        16644, --DMC_Algemene chirurgie_Endocrinologische chirurgie\n",
    "        13145, --D_Algemene chirurgie_KNO/Overige\n",
    "        16645, --DMC_Algemene chirurgie_KNO/Overige\n",
    "        13125, --D_Algemene chirurgie_Orthopedische chirurgie\n",
    "        16646, --DMC_Algemene chirurgie_Orthopedische chirurgie\n",
    "        13122, --D_Algemene chirurgie_Transplantatie chirurgie\n",
    "        16647, --DMC_Algemene chirurgie_Transplantatie chirurgie\n",
    "        13124, --D_Algemene chirurgie_Trauma\n",
    "        16648, --DMC_Algemene chirurgie_Trauma\n",
    "        13126, --D_Algemene chirurgie_Urogenitaal\n",
    "        16649, --DMC_Algemene chirurgie_Urogenitaal\n",
    "        13120, --D_Algemene chirurgie_Vaatchirurgie\n",
    "        16650, --DMC_Algemene chirurgie_Vaatchirurgie\n",
    "        13128, --D_Neurochirurgie _Vasculair chirurgisch\n",
    "        16661, --DMC_Neurochirurgie _Vasculair chirurgisch\n",
    "        13129, --D_Neurochirurgie _Tumor chirurgie\n",
    "        16660, --DMC_Neurochirurgie _Tumor chirurgie\n",
    "        13130, --D_Neurochirurgie_Overige\n",
    "        16662, --DMC_Neurochirurgie_Overige\n",
    "\n",
    "        --MEDICAL\n",
    "        13133, --D_Interne Geneeskunde_Cardiovasculair\n",
    "        16653, --DMC_Interne Geneeskunde_Cardiovasculair\n",
    "        13134, --D_Interne Geneeskunde_Pulmonaal\n",
    "        16658, --DMC_Interne Geneeskunde_Pulmonaal\n",
    "        13135, --D_Interne Geneeskunde_Abdominaal\n",
    "        16652, --DMC_Interne Geneeskunde_Abdominaal\n",
    "        13136, --D_Interne Geneeskunde_Infectieziekten\n",
    "        16655, --DMC_Interne Geneeskunde_Infectieziekten\n",
    "        13137, --D_Interne Geneeskunde_Metabool\n",
    "        16656, --DMC_Interne Geneeskunde_Metabool\n",
    "        13138, --D_Interne Geneeskunde_Renaal\n",
    "        16659, --DMC_Interne Geneeskunde_Renaal\n",
    "        13139, --D_Interne Geneeskunde_Hematologisch\n",
    "        16654, --DMC_Interne Geneeskunde_Hematologisch\n",
    "        13140, --D_Interne Geneeskunde_Overige\n",
    "        16657, --DMC_Interne Geneeskunde_Overige\n",
    "        13131, --D_Neurologie_Vasculair neurologisch\n",
    "        16664, --DMC_Neurologie_Vasculair neurologisch\n",
    "        13132, --D_Neurologie_Overige\n",
    "        16663, --DMC_Neurologie_Overige \n",
    "        13127 --D_KNO/Overige\n",
    "        )\n",
    "),\n",
    "admissions_cleaned AS (\n",
    "    SELECT\n",
    "        admissionid,\n",
    "        patientid,\n",
    "        lengthofstay,\n",
    "        agegroup, \n",
    "        admissionyeargroup,\n",
    "        gender,\n",
    "        CASE \n",
    "            WHEN destination = 'Overleden' THEN 0\n",
    "            ELSE 1\n",
    "        END as alive,\n",
    "        ROW_NUMBER() OVER\n",
    "            (PARTITION BY patientid ORDER BY admittedat) AS icu_admissioncount\n",
    "        FROM admissions\n",
    "        WHERE location LIKE '%IC%'\n",
    "),\n",
    "anonymity_groups AS (\n",
    "    -- possible diagnosis grouping: diagnosis, diagnosis_subgroup, diagnosis_group, \n",
    "    SELECT \n",
    "        gender, \n",
    "        agegroup, \n",
    "        alive,\n",
    "        admissionyeargroup,\n",
    "        icu_admissioncount,\n",
    "        COUNT(DISTINCT COALESCE(diagnosis,'N/A')) AS l_diversity, \n",
    "        STRING_AGG(DISTINCT COALESCE(diagnosis,'N/A'), '\\n') AS l_diversity_diags,\n",
    "        COUNT(patientid) AS k_anonymity \n",
    "    FROM admissions_cleaned\n",
    "    LEFT JOIN diagnoses ON \n",
    "        admissions_cleaned.admissionid = diagnoses.admissionid\n",
    "    LEFT JOIN diagnosis_subgroups ON\n",
    "        admissions_cleaned.admissionid = diagnosis_subgroups.admissionid\n",
    "    LEFT JOIN diagnosis_groups ON \n",
    "        admissions_cleaned.admissionid = diagnosis_groups.admissionid         \n",
    "    WHERE (diagnoses.rownum = 1 OR diagnoses.rownum IS NULL) AND \n",
    "        (diagnosis_subgroups.rownum = 1 OR diagnosis_subgroups.rownum IS NULL) AND\n",
    "        (diagnosis_groups.rownum = 1 OR diagnosis_groups.rownum IS NULL) --only last updated record\n",
    "    GROUP BY \n",
    "        gender,\n",
    "        agegroup, \n",
    "        alive,\n",
    "        admissionyeargroup,\n",
    "        icu_admissioncount  \n",
    ")\n",
    "SELECT \n",
    "    a.*, \n",
    "    diagnosis, \n",
    "    diagnosis_subgroup, \n",
    "    diagnosis_group, \n",
    "    l_diversity,\n",
    "    l_diversity_diags,\n",
    "    k_anonymity \n",
    "FROM admissions_cleaned a\n",
    "LEFT JOIN anonymity_groups k ON \n",
    "    a.agegroup = k.agegroup  AND \n",
    "    a.admissionyeargroup = k.admissionyeargroup AND\n",
    "    a.gender = k.gender AND \n",
    "    a.alive = k.alive AND \n",
    "    a.icu_admissioncount = k.icu_admissioncount\n",
    "LEFT JOIN diagnoses ON \n",
    "    a.admissionid = diagnoses.admissionid\n",
    "LEFT JOIN diagnosis_subgroups ON \n",
    "    a.admissionid = diagnosis_subgroups.admissionid\n",
    "LEFT JOIN diagnosis_groups ON \n",
    "    a.admissionid = diagnosis_groups.admissionid         \n",
    "WHERE \n",
    "    (diagnoses.rownum = 1 OR diagnoses.rownum IS NULL) AND \n",
    "    (diagnosis_subgroups.rownum = 1 OR diagnosis_subgroups.rownum IS NULL) AND\n",
    "    (diagnosis_groups.rownum = 1 OR diagnosis_groups.rownum IS NULL) --only last updated record\n",
    "ORDER BY \n",
    "    l_diversity, \n",
    "    k_anonymity DESC, \n",
    "    agegroup,\n",
    "    admissionyeargroup,\n",
    "    gender, \n",
    "    alive,\n",
    "    icu_admissioncount,\n",
    "    patientid,\n",
    "    admissionid;\n",
    "\"\"\"\n",
    "l_diversity_insurance_ids = pd.read_sql(sql_l_insurance_ids,con)\n",
    "l_diversity_insurance_ids.head()"
   ]
  },
  {
   "cell_type": "markdown",
   "metadata": {},
   "source": [
    "### P(access)\n",
    "Only after a data breach insurance companies might be able to access the data. Based on historical data this appears to be \n",
    "0.27."
   ]
  },
  {
   "cell_type": "code",
   "execution_count": 31,
   "metadata": {},
   "outputs": [
    {
     "data": {
      "text/plain": [
       "0.27"
      ]
     },
     "execution_count": 31,
     "metadata": {},
     "output_type": "execute_result"
    }
   ],
   "source": [
    "p_access_rogue_insurance = 0.27\n",
    "p_access_rogue_insurance"
   ]
  },
  {
   "cell_type": "markdown",
   "metadata": {},
   "source": [
    "### P(intention)\n",
    "Based on conservative assumptions: 0.10"
   ]
  },
  {
   "cell_type": "code",
   "execution_count": 32,
   "metadata": {},
   "outputs": [
    {
     "data": {
      "text/plain": [
       "0.1"
      ]
     },
     "execution_count": 32,
     "metadata": {},
     "output_type": "execute_result"
    }
   ],
   "source": [
    "p_intention_rogue_insurance = 0.10\n",
    "p_intention_rogue_insurance"
   ]
  },
  {
   "cell_type": "markdown",
   "metadata": {},
   "source": [
    "## P(re-id) - re-identification risk based on dataset and background knowledge\n",
    "Using strict average risk"
   ]
  },
  {
   "cell_type": "code",
   "execution_count": 33,
   "metadata": {},
   "outputs": [
    {
     "data": {
      "text/plain": [
       "0.009028608724030307"
      ]
     },
     "execution_count": 33,
     "metadata": {},
     "output_type": "execute_result"
    }
   ],
   "source": [
    "p_re_id_rogue_insurance_avg = k_insurance_ids['Pr(re-id)'].mean()\n",
    "p_re_id_rogue_insurance_avg"
   ]
  },
  {
   "cell_type": "code",
   "execution_count": 34,
   "metadata": {},
   "outputs": [
    {
     "data": {
      "text/plain": [
       "682.3492875013598"
      ]
     },
     "execution_count": 34,
     "metadata": {},
     "output_type": "execute_result"
    }
   ],
   "source": [
    "k_rogue_insurance_avg = k_insurance_ids['k_anonymity'].mean()\n",
    "k_rogue_insurance_avg"
   ]
  },
  {
   "cell_type": "code",
   "execution_count": 35,
   "metadata": {},
   "outputs": [
    {
     "data": {
      "text/plain": [
       "65.10749512398996"
      ]
     },
     "execution_count": 35,
     "metadata": {},
     "output_type": "execute_result"
    }
   ],
   "source": [
    "l_rogue_insurance_avg = l_diversity_insurance_ids[~(l_diversity_insurance_ids['l_diversity_diags']\n",
    "                                                          .isin(['N/A','Diagnose anders']))]['l_diversity'].mean()\n",
    "l_rogue_insurance_avg"
   ]
  },
  {
   "cell_type": "code",
   "execution_count": 36,
   "metadata": {},
   "outputs": [
    {
     "data": {
      "text/plain": [
       "0.5"
      ]
     },
     "execution_count": 36,
     "metadata": {},
     "output_type": "execute_result"
    }
   ],
   "source": [
    "p_re_id_rogue_insurance_max = k_insurance_ids['Pr(re-id)'].max()\n",
    "p_re_id_rogue_insurance_max"
   ]
  },
  {
   "cell_type": "code",
   "execution_count": 37,
   "metadata": {},
   "outputs": [
    {
     "data": {
      "text/plain": [
       "2"
      ]
     },
     "execution_count": 37,
     "metadata": {},
     "output_type": "execute_result"
    }
   ],
   "source": [
    "k_rogue_insurance_min = k_insurance_ids['k_anonymity'].min()\n",
    "k_rogue_insurance_min"
   ]
  },
  {
   "cell_type": "code",
   "execution_count": 38,
   "metadata": {},
   "outputs": [
    {
     "data": {
      "text/plain": [
       "2"
      ]
     },
     "execution_count": 38,
     "metadata": {},
     "output_type": "execute_result"
    }
   ],
   "source": [
    "l_rogue_insurance_min = l_diversity_insurance_ids[~(l_diversity_insurance_ids['l_diversity_diags']\n",
    "                                                          .isin(['N/A','Diagnose anders']))]['l_diversity'].min()\n",
    "l_rogue_insurance_min"
   ]
  },
  {
   "cell_type": "markdown",
   "metadata": {},
   "source": [
    "## P(final risk)\n",
    "Risk of re-identification given data breach of the database, rogue employee using the company database and the strict average risk of identification in the dataset."
   ]
  },
  {
   "cell_type": "code",
   "execution_count": 39,
   "metadata": {},
   "outputs": [
    {
     "data": {
      "text/plain": [
       "0.00024377243554881832"
      ]
     },
     "execution_count": 39,
     "metadata": {},
     "output_type": "execute_result"
    }
   ],
   "source": [
    "p_final_risk_rogue_insurance = p_access_rogue_insurance * p_intention_rogue_insurance * p_re_id_rogue_insurance_avg\n",
    "p_final_risk_rogue_insurance"
   ]
  },
  {
   "cell_type": "code",
   "execution_count": 40,
   "metadata": {
    "scrolled": true
   },
   "outputs": [
    {
     "data": {
      "text/html": [
       "\n",
       "<table style=\"border-spacing: 0.5em; border-collapse: separate\">\n",
       "    <thead style=\"border-spacing: 1em; border-collapse: separate\">\n",
       "        <tr style=\"border-spacing: 1em;\">\n",
       "            <th style=\"text-align:center; border: solid 0; border-bottom-width:2px;\" colspan=3>Chance or risk</th>                        \n",
       "            <th style=\"text-align:center; border: solid 0; border-bottom-width:2px;\" colspan=3>Average risk based</th>\n",
       "            <th style=\"text-align:center; border: solid 0; border-bottom-width:2px;\" colspan=3>Maximum risk based</th>\n",
       "        </tr>\n",
       "        <tr>\n",
       "            <th style=\"text-align:left\">Adversary</th>\n",
       "            <th>P(access)</th>\n",
       "            <th>P(intention)</th>\n",
       "            <th>P(re-id)</th>\n",
       "            <th><i>k</i>-anonymity</th>\n",
       "            <th><i>l</i>-diversity</th>\n",
       "            <th>P(re-id)</th>\n",
       "            <th><i>k</i>-anonymity</th>\n",
       "            <th><i>l</i>-diversity</th>\n",
       "            <th>P(final risk)</th>\n",
       "        </tr>\n",
       "    </thead>\n",
       "    <tbody>\n",
       "        <tr>\n",
       "            <td style=\"text-align:left\">Friendly Researcher</td>\n",
       "            <td>1.00</td>\n",
       "            <td>0.20 <sup>*</sup>\n",
       "            <td>0.047\n",
       "            <td>89\n",
       "            <td>26\n",
       "            <td>0.50\n",
       "            <td>2\n",
       "            <td>2\n",
       "            <td>0.01 <sup>&dagger;</sup>\n",
       "        </tr>\n",
       "        <tr>\n",
       "            <td style=\"text-align:left\">Rogue Researcher\n",
       "            <td>1.00\n",
       "            <td>0.10\n",
       "            <td>0.047 \n",
       "            <td>89\n",
       "            <td>26\n",
       "            <td>0.50\n",
       "            <td>2\n",
       "            <td>2\n",
       "            <td>0.05 <sup>&Dagger;</sup>\n",
       "        </tr>\n",
       "        <tr>\n",
       "            <td style=\"text-align:left\">Rogue Insurance Company\n",
       "            <td>0.27\n",
       "            <td>0.10\n",
       "            <td><b>0.009</b>\n",
       "            <td>682\n",
       "            <td>65       \n",
       "            <td>0.50 \n",
       "            <td>2\n",
       "            <td>2\n",
       "            <td>0.0002 <sup>&dagger;</sup>\n",
       "        </tr>\n",
       "    </tbody>\n",
       "</table>\n",
       "\n",
       "* acquaintance risk, the risk of knowing somebody in the database. &dagger; using strict average risk. &Dagger; using maximum risk. \n"
      ],
      "text/plain": [
       "<IPython.core.display.HTML object>"
      ]
     },
     "metadata": {},
     "output_type": "display_data"
    }
   ],
   "source": [
    "display(HTML(\"\"\"\n",
    "<table style=\"border-spacing: 0.5em; border-collapse: separate\">\n",
    "    <thead style=\"border-spacing: 1em; border-collapse: separate\">\n",
    "        <tr style=\"border-spacing: 1em;\">\n",
    "            <th style=\"text-align:center; border: solid 0; border-bottom-width:2px;\" colspan=3>Chance or risk</th>                        \n",
    "            <th style=\"text-align:center; border: solid 0; border-bottom-width:2px;\" colspan=3>Average risk based</th>\n",
    "            <th style=\"text-align:center; border: solid 0; border-bottom-width:2px;\" colspan=3>Maximum risk based</th>\n",
    "        </tr>\n",
    "        <tr>\n",
    "            <th style=\"text-align:left\">Adversary</th>\n",
    "            <th>P(access)</th>\n",
    "            <th>P(intention)</th>\n",
    "            <th>P(re-id)</th>\n",
    "            <th><i>k</i>-anonymity</th>\n",
    "            <th><i>l</i>-diversity</th>\n",
    "            <th>P(re-id)</th>\n",
    "            <th><i>k</i>-anonymity</th>\n",
    "            <th><i>l</i>-diversity</th>\n",
    "            <th>P(final risk)</th>\n",
    "        </tr>\n",
    "    </thead>\n",
    "    <tbody>\n",
    "        <tr>\n",
    "            <td style=\"text-align:left\">Friendly Researcher</td>\n",
    "            <td>{p_access_friendly_researcher:.2f}</td>\n",
    "            <td>{p_acquaintance_friendly_researcher:.2f} <sup>*</sup>\n",
    "            <td>{p_re_id_friendly_researcher_avg:.3f}\n",
    "            <td>{k_friendly_researcher_avg:.0f}\n",
    "            <td>{l_friendly_researcher_avg:.0f}\n",
    "            <td>{p_re_id_friendly_researcher_max:.2f}\n",
    "            <td>{k_friendly_researcher_min:.0f}\n",
    "            <td>{l_friendly_researcher_min:.0f}\n",
    "            <td>{p_final_risk_friendly_researcher:.2f} <sup>&dagger;</sup>\n",
    "        </tr>\n",
    "        <tr>\n",
    "            <td style=\"text-align:left\">Rogue Researcher\n",
    "            <td>{p_access_rogue_researcher:.2f}\n",
    "            <td>{p_intention_rogue_researcher:.2f}\n",
    "            <td>{p_re_id_rogue_researcher_avg:.3f} \n",
    "            <td>{k_rogue_researcher_avg:.0f}\n",
    "            <td>{l_rogue_researcher_avg:.0f}\n",
    "            <td>{p_re_id_rogue_researcher_max:.2f}\n",
    "            <td>{k_rogue_researcher_min:.0f}\n",
    "            <td>{l_rogue_researcher_min:.0f}\n",
    "            <td>{p_final_risk_rogue_researcher:.2f} <sup>&Dagger;</sup>\n",
    "        </tr>\n",
    "        <tr>\n",
    "            <td style=\"text-align:left\">Rogue Insurance Company\n",
    "            <td>{p_access_rogue_insurance:.2f}\n",
    "            <td>{p_intention_rogue_insurance:.2f}\n",
    "            <td><b>{p_re_id_rogue_insurance_avg:.3f}</b>\n",
    "            <td>{k_rogue_insurance_avg:.0f}\n",
    "            <td>{l_rogue_insurance_avg:.0f}       \n",
    "            <td>{p_re_id_rogue_insurance_max:.2f} \n",
    "            <td>{k_rogue_insurance_min:.0f}\n",
    "            <td>{l_rogue_insurance_min:.0f}\n",
    "            <td>{p_final_risk_rogue_insurance:.4f} <sup>&dagger;</sup>\n",
    "        </tr>\n",
    "    </tbody>\n",
    "</table>\n",
    "\n",
    "* acquaintance risk, the risk of knowing somebody in the database. &dagger; using strict average risk. &Dagger; using maximum risk. \n",
    "\"\"\".format(\n",
    "            p_access_friendly_researcher = p_access_friendly_researcher,\n",
    "            p_acquaintance_friendly_researcher = p_acquaintance_friendly_researcher,\n",
    "            p_re_id_friendly_researcher_avg = p_re_id_friendly_researcher_avg,\n",
    "            k_friendly_researcher_avg = k_friendly_researcher_avg,\n",
    "            l_friendly_researcher_avg = l_friendly_researcher_avg,\n",
    "            p_re_id_friendly_researcher_max = p_re_id_friendly_researcher_max,\n",
    "            k_friendly_researcher_min = k_friendly_researcher_min,\n",
    "            l_friendly_researcher_min = l_friendly_researcher_min,\n",
    "            p_final_risk_friendly_researcher = p_final_risk_friendly_researcher,\n",
    "\n",
    "            p_access_rogue_researcher = p_access_rogue_researcher,\n",
    "            p_intention_rogue_researcher = p_intention_rogue_researcher,\n",
    "            p_re_id_rogue_researcher_avg = p_re_id_rogue_researcher_avg,\n",
    "            k_rogue_researcher_avg = k_rogue_researcher_avg,\n",
    "            l_rogue_researcher_avg = l_rogue_researcher_avg,\n",
    "            p_re_id_rogue_researcher_max = p_re_id_rogue_researcher_max,\n",
    "            k_rogue_researcher_min = k_rogue_researcher_min,\n",
    "            l_rogue_researcher_min = l_rogue_researcher_min,\n",
    "            p_final_risk_rogue_researcher = p_final_risk_rogue_researcher,\n",
    "\n",
    "            p_access_rogue_insurance = p_access_rogue_insurance,\n",
    "            p_intention_rogue_insurance = p_intention_rogue_insurance,\n",
    "            p_re_id_rogue_insurance_avg = p_re_id_rogue_insurance_avg,\n",
    "            k_rogue_insurance_avg = k_rogue_insurance_avg,\n",
    "            l_rogue_insurance_avg = l_rogue_insurance_avg,\n",
    "            p_re_id_rogue_insurance_max = p_re_id_rogue_insurance_max,\n",
    "            k_rogue_insurance_min = k_rogue_insurance_min,\n",
    "            l_rogue_insurance_min = l_rogue_insurance_min,\n",
    "            p_final_risk_rogue_insurance = p_final_risk_rogue_insurance\n",
    "        )\n",
    "    )\n",
    ")"
   ]
  }
 ],
 "metadata": {
  "kernelspec": {
   "display_name": "Python 3",
   "language": "python",
   "name": "python3"
  },
  "language_info": {
   "codemirror_mode": {
    "name": "ipython",
    "version": 3
   },
   "file_extension": ".py",
   "mimetype": "text/x-python",
   "name": "python",
   "nbconvert_exporter": "python",
   "pygments_lexer": "ipython3",
   "version": "3.7.4"
  }
 },
 "nbformat": 4,
 "nbformat_minor": 2
}
