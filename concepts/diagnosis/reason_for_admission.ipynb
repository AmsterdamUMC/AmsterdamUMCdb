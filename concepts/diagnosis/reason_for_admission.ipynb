{
 "cells": [
  {
   "cell_type": "markdown",
   "metadata": {},
   "source": [
    "<img src=\"https://github.com/AmsterdamUMC/AmsterdamUMCdb/blob/master/img/logos_combined_lccci_amds.png?raw=1\" alt=\"Logos Laboratory for Critical Care Computational Intelligence / Amsterdam Medical Data Science\" width=256px>\n",
    "\n",
    "# AmsterdamUMCdb - Freely Accessible ICU Database\n",
    "\n",
    "version 1.0.2 March 2020  \n",
    "Copyright &copy; 2003-2022 Amsterdam UMC - Amsterdam Medical Data Science"
   ]
  },
  {
   "cell_type": "markdown",
   "metadata": {},
   "source": [
    "## Reason for admission\n",
    "The reason for admission is the primary diagnosis leading to ICU admission. In AmsterdamUMCdb different classification systems were used to document the reason for admission.\n",
    "\n",
    "### Reason for admission diagnosis systems\n",
    "- an internally used diagnosis list, that shows similarity with the APACHE II admission diagnosis ('legacy' diagnosis system)\n",
    "- APACHE II admission (primary) diagnosis\n",
    "- APACHE IV admission diagnosis\n",
    "- NICE, the Foundation Dutch Intensive Care Evaluation (Stichting NICE), a national registry which uses APACHE II and IV for primary and secondary diagnosis\n",
    "\n",
    "In addition, reason for admission has been documented as a free text description for many patients as well, but this is currently not available in the freely accessible version due to re-identification risks.\n",
    "\n",
    "### Use cases\n",
    "- Differentiating between surgical and medical admissions\n",
    "- Selecting specific types of patients (e.g. trauma, cardiac arrest) e.g. 'cohorts'.\n",
    "\n",
    "### Specific categories\n",
    "#### Sepsis\n",
    "Sepsis is a common reason for ICU admission. However, even though all reason for admission coding systems have a sepsis category, it has often not been documented on that category, but instead other conditions were chosen (e.g. sepsis due to intestinal perforation will have the abdominal surgery category selected). In addition, the definition of sepsis has changed over time. Currently, the most recent Sepsis-3 definition has been implemented for AmsterdamUMCdb. You can create the Sepsis-3 cohort by following the code [below](#sepsis3)."
   ]
  },
  {
   "cell_type": "markdown",
   "metadata": {},
   "source": [
    "## Imports"
   ]
  },
  {
   "cell_type": "code",
   "execution_count": 1,
   "metadata": {},
   "outputs": [],
   "source": [
    "%matplotlib inline\n",
    "import amsterdamumcdb as adb\n",
    "import psycopg2\n",
    "import sqlalchemy\n",
    "import pandas as pd\n",
    "import numpy as np\n",
    "import re\n",
    "\n",
    "import matplotlib.pyplot as plt\n",
    "import matplotlib.gridspec as gridspec\n",
    "import matplotlib as mpl\n",
    "\n",
    "import io\n",
    "from IPython.display import display, HTML, Markdown"
   ]
  },
  {
   "cell_type": "markdown",
   "metadata": {},
   "source": [
    "## Display settings"
   ]
  },
  {
   "cell_type": "code",
   "execution_count": 2,
   "metadata": {},
   "outputs": [],
   "source": [
    "#matplotlib settings for image size\n",
    "#needs to be in a different cell from %matplotlib inline\n",
    "plt.style.use('seaborn-v0_8-darkgrid')\n",
    "plt.rcParams[\"figure.dpi\"] = 288\n",
    "plt.rcParams[\"figure.figsize\"] = [16, 12]\n",
    "plt.rcParams[\"font.size\"] = 12\n",
    "\n",
    "pd.options.display.max_columns = None\n",
    "pd.options.display.max_rows = None\n",
    "pd.options.display.max_colwidth = 1000"
   ]
  },
  {
   "cell_type": "markdown",
   "metadata": {},
   "source": [
    "## Connection settings"
   ]
  },
  {
   "cell_type": "code",
   "execution_count": 3,
   "metadata": {},
   "outputs": [],
   "source": [
    "#Modify config.ini in the root folder of the repository to change the settings to connect to your postgreSQL database\n",
    "import configparser\n",
    "import os\n",
    "config = configparser.ConfigParser()\n",
    "\n",
    "if os.path.isfile('../../config.ini'):\n",
    "    config.read('../../config.ini')\n",
    "else:\n",
    "    config.read('../../config.SAMPLE.ini')\n",
    "\n",
    "#Open a connection to the postgres database:\n",
    "pg_con = psycopg2.connect(database=config['psycopg2']['database'], \n",
    "                       user=config['psycopg2']['username'], password=config['psycopg2']['password'], \n",
    "                       host=config['psycopg2']['host'], port=config['psycopg2']['port'])\n",
    "pg_con.set_client_encoding('WIN1252') #Uses code page for Dutch accented characters.\n",
    "pg_con.set_session(autocommit=True)\n",
    "\n",
    "cursor = pg_con.cursor()\n",
    "cursor.execute('SET SCHEMA \\'amsterdamumcdb\\''); #set search_path to amsterdamumcdb schema\n",
    "\n",
    "# create SQLAlchemy engine for official pandas database support\n",
    "engine = sqlalchemy.create_engine('postgresql+psycopg2://', creator=lambda: pg_con)\n",
    "con = engine.connect()"
   ]
  },
  {
   "cell_type": "code",
   "execution_count": 4,
   "metadata": {},
   "outputs": [],
   "source": [
    "#loads the admissions table for stratification on admission unit \n",
    "sql = \"\"\"\n",
    "SELECT * FROM admissions;\n",
    "\"\"\"\n",
    "admissions = pd.read_sql(sql,con)"
   ]
  },
  {
   "cell_type": "code",
   "execution_count": 5,
   "metadata": {},
   "outputs": [],
   "source": [
    "#No. patients\n",
    "no_patients_total = admissions.patientid.nunique()\n",
    "no_patients_ICU = admissions[admissions['location'].str.contains('IC')].patientid.nunique()\n",
    "no_patients_MCU = admissions[admissions['location'].str.contains('^MC$')].patientid.nunique()\n",
    "\n",
    "#No. admissions\n",
    "no_admissions_total = admissions.admissionid.nunique()\n",
    "no_admissions_ICU = admissions[admissions['location'].str.contains('IC')].admissionid.nunique()\n",
    "no_admissions_MCU = admissions[admissions['location'].str.contains('^MC$')].admissionid.nunique()"
   ]
  },
  {
   "cell_type": "markdown",
   "metadata": {},
   "source": [
    "## Admission types\n",
    "- Surgical\n",
    "- Medical\n",
    "- Urgent\n",
    "- Elective"
   ]
  },
  {
   "cell_type": "markdown",
   "metadata": {},
   "source": [
    "## Admissions with reasons for admission\n",
    "Creates a combined_diagnoses dataframe containing the admissions table joined with the diagnoses from the listitems table. The SQL query can be found [here](https://github.com/AmsterdamUMC/AmsterdamUMCdb/blob/master/amsterdamumcdb/sql/diagnosis/reason_for_admission.sql)."
   ]
  },
  {
   "cell_type": "code",
   "execution_count": 6,
   "metadata": {},
   "outputs": [
    {
     "data": {
      "text/html": [
       "<div>\n",
       "<style scoped>\n",
       "    .dataframe tbody tr th:only-of-type {\n",
       "        vertical-align: middle;\n",
       "    }\n",
       "\n",
       "    .dataframe tbody tr th {\n",
       "        vertical-align: top;\n",
       "    }\n",
       "\n",
       "    .dataframe thead th {\n",
       "        text-align: right;\n",
       "    }\n",
       "</style>\n",
       "<table border=\"1\" class=\"dataframe\">\n",
       "  <thead>\n",
       "    <tr style=\"text-align: right;\">\n",
       "      <th></th>\n",
       "      <th>patientid</th>\n",
       "      <th>admissionid</th>\n",
       "      <th>admissioncount</th>\n",
       "      <th>location</th>\n",
       "      <th>urgency</th>\n",
       "      <th>origin</th>\n",
       "      <th>admittedat</th>\n",
       "      <th>admissionyeargroup</th>\n",
       "      <th>dischargedat</th>\n",
       "      <th>lengthofstay</th>\n",
       "      <th>destination</th>\n",
       "      <th>gender</th>\n",
       "      <th>agegroup</th>\n",
       "      <th>dateofdeath</th>\n",
       "      <th>weightgroup</th>\n",
       "      <th>weightsource</th>\n",
       "      <th>heightgroup</th>\n",
       "      <th>heightsource</th>\n",
       "      <th>specialty</th>\n",
       "      <th>diagnosis_type</th>\n",
       "      <th>diagnosis</th>\n",
       "      <th>diagnosis_id</th>\n",
       "      <th>diagnosis_subgroup</th>\n",
       "      <th>diagnosis_subgroup_id</th>\n",
       "      <th>diagnosis_group</th>\n",
       "      <th>diagnosis_group_id</th>\n",
       "      <th>surgical</th>\n",
       "      <th>sepsis_at_admission</th>\n",
       "      <th>sepsis_antibiotics_bool</th>\n",
       "      <th>sepsis_antibiotics_given</th>\n",
       "      <th>other_antibiotics_bool</th>\n",
       "      <th>other_antibiotics_given</th>\n",
       "      <th>sepsis_cultures_bool</th>\n",
       "      <th>sepsis_cultures_drawn</th>\n",
       "    </tr>\n",
       "  </thead>\n",
       "  <tbody>\n",
       "    <tr>\n",
       "      <th>0</th>\n",
       "      <td>0</td>\n",
       "      <td>0</td>\n",
       "      <td>1</td>\n",
       "      <td>IC</td>\n",
       "      <td>0</td>\n",
       "      <td>None</td>\n",
       "      <td>0</td>\n",
       "      <td>2003-2009</td>\n",
       "      <td>148800000</td>\n",
       "      <td>42</td>\n",
       "      <td>16</td>\n",
       "      <td>Vrouw</td>\n",
       "      <td>80+</td>\n",
       "      <td>NaN</td>\n",
       "      <td>60-69</td>\n",
       "      <td>Anamnestisch</td>\n",
       "      <td>160-169</td>\n",
       "      <td>Anamnestisch</td>\n",
       "      <td>Cardiochirurgie</td>\n",
       "      <td>Legacy ICU</td>\n",
       "      <td>CABG</td>\n",
       "      <td>1.0</td>\n",
       "      <td>CABG en Klepchirurgie</td>\n",
       "      <td>1.0</td>\n",
       "      <td>Thoraxchirurgie</td>\n",
       "      <td>1.0</td>\n",
       "      <td>1.0</td>\n",
       "      <td>NaN</td>\n",
       "      <td>NaN</td>\n",
       "      <td>None</td>\n",
       "      <td>1.0</td>\n",
       "      <td>Cefazoline (Kefzol)</td>\n",
       "      <td>NaN</td>\n",
       "      <td>None</td>\n",
       "    </tr>\n",
       "    <tr>\n",
       "      <th>1</th>\n",
       "      <td>1</td>\n",
       "      <td>1</td>\n",
       "      <td>1</td>\n",
       "      <td>IC</td>\n",
       "      <td>0</td>\n",
       "      <td>None</td>\n",
       "      <td>0</td>\n",
       "      <td>2010-2016</td>\n",
       "      <td>96120000</td>\n",
       "      <td>26</td>\n",
       "      <td>15</td>\n",
       "      <td>Man</td>\n",
       "      <td>60-69</td>\n",
       "      <td>NaN</td>\n",
       "      <td>70-79</td>\n",
       "      <td>Anamnestisch</td>\n",
       "      <td>170-179</td>\n",
       "      <td>Anamnestisch</td>\n",
       "      <td>Cardiochirurgie</td>\n",
       "      <td>Legacy ICU</td>\n",
       "      <td>Bentall</td>\n",
       "      <td>5.0</td>\n",
       "      <td>Aorta chirurgie</td>\n",
       "      <td>3.0</td>\n",
       "      <td>Thoraxchirurgie</td>\n",
       "      <td>1.0</td>\n",
       "      <td>1.0</td>\n",
       "      <td>0.0</td>\n",
       "      <td>NaN</td>\n",
       "      <td>None</td>\n",
       "      <td>1.0</td>\n",
       "      <td>Cefazoline (Kefzol); Vancomycine</td>\n",
       "      <td>NaN</td>\n",
       "      <td>None</td>\n",
       "    </tr>\n",
       "    <tr>\n",
       "      <th>2</th>\n",
       "      <td>2</td>\n",
       "      <td>2</td>\n",
       "      <td>1</td>\n",
       "      <td>IC</td>\n",
       "      <td>1</td>\n",
       "      <td>Eerste Hulp afdeling zelfde ziekenhuis</td>\n",
       "      <td>0</td>\n",
       "      <td>2010-2016</td>\n",
       "      <td>84240000</td>\n",
       "      <td>23</td>\n",
       "      <td>15</td>\n",
       "      <td>Man</td>\n",
       "      <td>60-69</td>\n",
       "      <td>NaN</td>\n",
       "      <td>90-99</td>\n",
       "      <td>Anamnestisch</td>\n",
       "      <td>180-189</td>\n",
       "      <td>Anamnestisch</td>\n",
       "      <td>Cardiochirurgie</td>\n",
       "      <td>NICE APACHE IV</td>\n",
       "      <td>CABG with aortic valve replacement</td>\n",
       "      <td>237.0</td>\n",
       "      <td>CABG en Klepchirurgie</td>\n",
       "      <td>1.0</td>\n",
       "      <td>Post-operative cardiovascular</td>\n",
       "      <td>237.0</td>\n",
       "      <td>1.0</td>\n",
       "      <td>0.0</td>\n",
       "      <td>NaN</td>\n",
       "      <td>None</td>\n",
       "      <td>1.0</td>\n",
       "      <td>Cefazoline (Kefzol); Vancomycine</td>\n",
       "      <td>NaN</td>\n",
       "      <td>None</td>\n",
       "    </tr>\n",
       "    <tr>\n",
       "      <th>3</th>\n",
       "      <td>3</td>\n",
       "      <td>3</td>\n",
       "      <td>1</td>\n",
       "      <td>IC</td>\n",
       "      <td>0</td>\n",
       "      <td>None</td>\n",
       "      <td>0</td>\n",
       "      <td>2003-2009</td>\n",
       "      <td>84900000</td>\n",
       "      <td>23</td>\n",
       "      <td>14</td>\n",
       "      <td>Man</td>\n",
       "      <td>50-59</td>\n",
       "      <td>NaN</td>\n",
       "      <td>90-99</td>\n",
       "      <td>None</td>\n",
       "      <td>180-189</td>\n",
       "      <td>Gemeten</td>\n",
       "      <td>Cardiochirurgie</td>\n",
       "      <td>None</td>\n",
       "      <td>None</td>\n",
       "      <td>NaN</td>\n",
       "      <td>None</td>\n",
       "      <td>NaN</td>\n",
       "      <td>None</td>\n",
       "      <td>NaN</td>\n",
       "      <td>NaN</td>\n",
       "      <td>NaN</td>\n",
       "      <td>NaN</td>\n",
       "      <td>None</td>\n",
       "      <td>1.0</td>\n",
       "      <td>Cefazoline (Kefzol)</td>\n",
       "      <td>NaN</td>\n",
       "      <td>None</td>\n",
       "    </tr>\n",
       "    <tr>\n",
       "      <th>4</th>\n",
       "      <td>4</td>\n",
       "      <td>4</td>\n",
       "      <td>1</td>\n",
       "      <td>IC&amp;MC</td>\n",
       "      <td>0</td>\n",
       "      <td>Verpleegafdeling zelfde ziekenhuis</td>\n",
       "      <td>0</td>\n",
       "      <td>2010-2016</td>\n",
       "      <td>180900000</td>\n",
       "      <td>50</td>\n",
       "      <td>19</td>\n",
       "      <td>Man</td>\n",
       "      <td>70-79</td>\n",
       "      <td>NaN</td>\n",
       "      <td>70-79</td>\n",
       "      <td>Anamnestisch</td>\n",
       "      <td>170-179</td>\n",
       "      <td>Anamnestisch</td>\n",
       "      <td>Cardiochirurgie</td>\n",
       "      <td>NICE APACHE IV</td>\n",
       "      <td>CABG alone, coronary artery bypass grafting</td>\n",
       "      <td>233.0</td>\n",
       "      <td>CABG en Klepchirurgie</td>\n",
       "      <td>1.0</td>\n",
       "      <td>Post-operative cardiovascular</td>\n",
       "      <td>233.0</td>\n",
       "      <td>1.0</td>\n",
       "      <td>0.0</td>\n",
       "      <td>NaN</td>\n",
       "      <td>None</td>\n",
       "      <td>1.0</td>\n",
       "      <td>Cefazoline (Kefzol)</td>\n",
       "      <td>NaN</td>\n",
       "      <td>None</td>\n",
       "    </tr>\n",
       "  </tbody>\n",
       "</table>\n",
       "</div>"
      ],
      "text/plain": [
       "   patientid  admissionid  admissioncount location urgency  \\\n",
       "0          0            0               1       IC       0   \n",
       "1          1            1               1       IC       0   \n",
       "2          2            2               1       IC       1   \n",
       "3          3            3               1       IC       0   \n",
       "4          4            4               1    IC&MC       0   \n",
       "\n",
       "                                   origin  admittedat admissionyeargroup  \\\n",
       "0                                    None           0          2003-2009   \n",
       "1                                    None           0          2010-2016   \n",
       "2  Eerste Hulp afdeling zelfde ziekenhuis           0          2010-2016   \n",
       "3                                    None           0          2003-2009   \n",
       "4      Verpleegafdeling zelfde ziekenhuis           0          2010-2016   \n",
       "\n",
       "   dischargedat  lengthofstay destination gender agegroup  dateofdeath  \\\n",
       "0     148800000            42          16  Vrouw      80+          NaN   \n",
       "1      96120000            26          15    Man    60-69          NaN   \n",
       "2      84240000            23          15    Man    60-69          NaN   \n",
       "3      84900000            23          14    Man    50-59          NaN   \n",
       "4     180900000            50          19    Man    70-79          NaN   \n",
       "\n",
       "  weightgroup  weightsource heightgroup  heightsource        specialty  \\\n",
       "0       60-69  Anamnestisch     160-169  Anamnestisch  Cardiochirurgie   \n",
       "1       70-79  Anamnestisch     170-179  Anamnestisch  Cardiochirurgie   \n",
       "2       90-99  Anamnestisch     180-189  Anamnestisch  Cardiochirurgie   \n",
       "3       90-99          None     180-189       Gemeten  Cardiochirurgie   \n",
       "4       70-79  Anamnestisch     170-179  Anamnestisch  Cardiochirurgie   \n",
       "\n",
       "   diagnosis_type                                    diagnosis  diagnosis_id  \\\n",
       "0      Legacy ICU                                         CABG           1.0   \n",
       "1      Legacy ICU                                      Bentall           5.0   \n",
       "2  NICE APACHE IV           CABG with aortic valve replacement         237.0   \n",
       "3            None                                         None           NaN   \n",
       "4  NICE APACHE IV  CABG alone, coronary artery bypass grafting         233.0   \n",
       "\n",
       "      diagnosis_subgroup  diagnosis_subgroup_id  \\\n",
       "0  CABG en Klepchirurgie                    1.0   \n",
       "1        Aorta chirurgie                    3.0   \n",
       "2  CABG en Klepchirurgie                    1.0   \n",
       "3                   None                    NaN   \n",
       "4  CABG en Klepchirurgie                    1.0   \n",
       "\n",
       "                 diagnosis_group  diagnosis_group_id  surgical  \\\n",
       "0                Thoraxchirurgie                 1.0       1.0   \n",
       "1                Thoraxchirurgie                 1.0       1.0   \n",
       "2  Post-operative cardiovascular               237.0       1.0   \n",
       "3                           None                 NaN       NaN   \n",
       "4  Post-operative cardiovascular               233.0       1.0   \n",
       "\n",
       "   sepsis_at_admission  sepsis_antibiotics_bool sepsis_antibiotics_given  \\\n",
       "0                  NaN                      NaN                     None   \n",
       "1                  0.0                      NaN                     None   \n",
       "2                  0.0                      NaN                     None   \n",
       "3                  NaN                      NaN                     None   \n",
       "4                  0.0                      NaN                     None   \n",
       "\n",
       "   other_antibiotics_bool           other_antibiotics_given  \\\n",
       "0                     1.0               Cefazoline (Kefzol)   \n",
       "1                     1.0  Cefazoline (Kefzol); Vancomycine   \n",
       "2                     1.0  Cefazoline (Kefzol); Vancomycine   \n",
       "3                     1.0               Cefazoline (Kefzol)   \n",
       "4                     1.0               Cefazoline (Kefzol)   \n",
       "\n",
       "   sepsis_cultures_bool sepsis_cultures_drawn  \n",
       "0                   NaN                  None  \n",
       "1                   NaN                  None  \n",
       "2                   NaN                  None  \n",
       "3                   NaN                  None  \n",
       "4                   NaN                  None  "
      ]
     },
     "execution_count": 6,
     "metadata": {},
     "output_type": "execute_result"
    }
   ],
   "source": [
    "combined_diagnoses = adb.get_reason_for_admission(con)\n",
    "combined_diagnoses.head()"
   ]
  },
  {
   "cell_type": "code",
   "execution_count": 7,
   "metadata": {},
   "outputs": [],
   "source": [
    "#surgical\n",
    "surgical_total = len(combined_diagnoses[combined_diagnoses['surgical'] == 1])\n",
    "surgical_pct_total = 100*surgical_total/no_admissions_total\n",
    "\n",
    "surgical_ICU = len(combined_diagnoses[(combined_diagnoses['surgical'] == 1)  & combined_diagnoses['location'].str.contains('IC')])\n",
    "surgical_pct_ICU = 100*surgical_ICU/no_admissions_ICU\n",
    "\n",
    "surgical_MCU = len(combined_diagnoses[(combined_diagnoses['surgical'] == 1)  & combined_diagnoses['location'].str.contains('^MC$')])\n",
    "surgical_pct_MCU = 100*surgical_MCU/no_admissions_MCU\n",
    "\n",
    "#medical\n",
    "medical_total = len(combined_diagnoses[combined_diagnoses['surgical'] == 0])\n",
    "medical_pct_total = 100*medical_total/no_admissions_total\n",
    "\n",
    "medical_ICU = len(combined_diagnoses[(combined_diagnoses['surgical'] == 0)  & combined_diagnoses['location'].str.contains('IC')])\n",
    "medical_pct_ICU = 100*medical_ICU/no_admissions_ICU\n",
    "\n",
    "medical_MCU = len(combined_diagnoses[(combined_diagnoses['surgical'] == 0)  & combined_diagnoses['location'].str.contains('^MC$')])\n",
    "medical_pct_MCU = 100*medical_MCU/no_admissions_MCU\n",
    "\n",
    "#surgical/medical unknown\n",
    "medical_surgical_na_total = len(combined_diagnoses[pd.isnull(combined_diagnoses['surgical'])])\n",
    "medical_surgical_na_pct_total = 100*medical_surgical_na_total/no_admissions_total\n",
    "\n",
    "medical_surgical_na_ICU = len(combined_diagnoses[pd.isnull(combined_diagnoses['surgical']) & combined_diagnoses['location'].str.contains('IC')])\n",
    "medical_surgical_na_pct_ICU = 100*medical_surgical_na_ICU/no_admissions_ICU\n",
    "\n",
    "medical_surgical_na_MCU = len(combined_diagnoses[pd.isnull(combined_diagnoses['surgical']) & combined_diagnoses['location'].str.contains('^MC$')])\n",
    "medical_surgical_na_pct_MCU = 100*medical_surgical_na_MCU/no_admissions_MCU\n",
    "\n",
    "#urgency\n",
    "urgency_total = len(combined_diagnoses[combined_diagnoses['urgency'] == '1']) #apparently the postgresql bit become an object\n",
    "urgency_pct_total = 100*urgency_total/no_admissions_total\n",
    "\n",
    "urgency_ICU = len(combined_diagnoses[(combined_diagnoses['urgency'] == '1')  & combined_diagnoses['location'].str.contains('IC')])\n",
    "urgency_pct_ICU = 100*urgency_ICU/no_admissions_ICU\n",
    "\n",
    "urgency_MCU = len(combined_diagnoses[(combined_diagnoses['urgency'] == '1')  & combined_diagnoses['location'].str.contains('^MC$')])\n",
    "urgency_pct_MCU = 100*urgency_MCU/no_admissions_MCU"
   ]
  },
  {
   "cell_type": "markdown",
   "metadata": {},
   "source": [
    "## Reason for admission based on Legacy/APACHE II or IV diagnosis"
   ]
  },
  {
   "cell_type": "markdown",
   "metadata": {},
   "source": [
    "## Admission diagnoses\n",
    "Uses regular expression pattern matching for classification. The regular expressions and cohort definitions can be found [here](https://github.com/AmsterdamUMC/AmsterdamUMCdb/blob/master/amsterdamumcdb/cohorts.py)."
   ]
  },
  {
   "cell_type": "markdown",
   "metadata": {},
   "source": [
    "### Surgical"
   ]
  },
  {
   "cell_type": "code",
   "execution_count": 8,
   "metadata": {},
   "outputs": [
    {
     "data": {
      "text/html": [
       "<div>\n",
       "<style scoped>\n",
       "    .dataframe tbody tr th:only-of-type {\n",
       "        vertical-align: middle;\n",
       "    }\n",
       "\n",
       "    .dataframe tbody tr th {\n",
       "        vertical-align: top;\n",
       "    }\n",
       "\n",
       "    .dataframe thead th {\n",
       "        text-align: right;\n",
       "    }\n",
       "</style>\n",
       "<table border=\"1\" class=\"dataframe\">\n",
       "  <thead>\n",
       "    <tr style=\"text-align: right;\">\n",
       "      <th></th>\n",
       "      <th>diagnosis</th>\n",
       "      <th>n_admissions</th>\n",
       "    </tr>\n",
       "  </thead>\n",
       "  <tbody>\n",
       "    <tr>\n",
       "      <th>0</th>\n",
       "      <td>CABG alone, coronary artery bypass grafting</td>\n",
       "      <td>1534</td>\n",
       "    </tr>\n",
       "    <tr>\n",
       "      <th>1</th>\n",
       "      <td>CABG</td>\n",
       "      <td>1389</td>\n",
       "    </tr>\n",
       "    <tr>\n",
       "      <th>2</th>\n",
       "      <td>Diagnose anders</td>\n",
       "      <td>484</td>\n",
       "    </tr>\n",
       "    <tr>\n",
       "      <th>3</th>\n",
       "      <td>AVR</td>\n",
       "      <td>458</td>\n",
       "    </tr>\n",
       "    <tr>\n",
       "      <th>4</th>\n",
       "      <td>Aortic valve replacement (isolated)</td>\n",
       "      <td>431</td>\n",
       "    </tr>\n",
       "  </tbody>\n",
       "</table>\n",
       "</div>"
      ],
      "text/plain": [
       "                                     diagnosis  n_admissions\n",
       "0  CABG alone, coronary artery bypass grafting          1534\n",
       "1                                         CABG          1389\n",
       "2                              Diagnose anders           484\n",
       "3                                          AVR           458\n",
       "4          Aortic valve replacement (isolated)           431"
      ]
     },
     "execution_count": 8,
     "metadata": {},
     "output_type": "execute_result"
    }
   ],
   "source": [
    "surgical_patients = combined_diagnoses[(combined_diagnoses['surgical'] == 1)]\n",
    "\n",
    "surgical_patients_counts = surgical_patients.groupby(\n",
    "    ['diagnosis']).size().to_frame('n_admissions').sort_values(\n",
    "    'n_admissions', ascending=False).reset_index()\n",
    "surgical_patients_counts.head()"
   ]
  },
  {
   "cell_type": "code",
   "execution_count": 9,
   "metadata": {},
   "outputs": [
    {
     "data": {
      "text/plain": [
       "11293"
      ]
     },
     "execution_count": 9,
     "metadata": {},
     "output_type": "execute_result"
    }
   ],
   "source": [
    "surgical_patients_counts['n_admissions'].sum()"
   ]
  },
  {
   "cell_type": "markdown",
   "metadata": {},
   "source": [
    "## medical"
   ]
  },
  {
   "cell_type": "code",
   "execution_count": 10,
   "metadata": {},
   "outputs": [
    {
     "data": {
      "text/html": [
       "<div>\n",
       "<style scoped>\n",
       "    .dataframe tbody tr th:only-of-type {\n",
       "        vertical-align: middle;\n",
       "    }\n",
       "\n",
       "    .dataframe tbody tr th {\n",
       "        vertical-align: top;\n",
       "    }\n",
       "\n",
       "    .dataframe thead th {\n",
       "        text-align: right;\n",
       "    }\n",
       "</style>\n",
       "<table border=\"1\" class=\"dataframe\">\n",
       "  <thead>\n",
       "    <tr style=\"text-align: right;\">\n",
       "      <th></th>\n",
       "      <th>diagnosis</th>\n",
       "      <th>n_admissions</th>\n",
       "    </tr>\n",
       "  </thead>\n",
       "  <tbody>\n",
       "    <tr>\n",
       "      <th>0</th>\n",
       "      <td>Cardiac arrest (with or without respiratory arrest;</td>\n",
       "      <td>514</td>\n",
       "    </tr>\n",
       "    <tr>\n",
       "      <th>1</th>\n",
       "      <td>Na reanimatie</td>\n",
       "      <td>439</td>\n",
       "    </tr>\n",
       "    <tr>\n",
       "      <th>2</th>\n",
       "      <td>Respiratoire insufficiëntie</td>\n",
       "      <td>327</td>\n",
       "    </tr>\n",
       "    <tr>\n",
       "      <th>3</th>\n",
       "      <td>Diagnose anders</td>\n",
       "      <td>280</td>\n",
       "    </tr>\n",
       "    <tr>\n",
       "      <th>4</th>\n",
       "      <td>Pneumonia, bacterial</td>\n",
       "      <td>204</td>\n",
       "    </tr>\n",
       "  </tbody>\n",
       "</table>\n",
       "</div>"
      ],
      "text/plain": [
       "                                             diagnosis  n_admissions\n",
       "0  Cardiac arrest (with or without respiratory arrest;           514\n",
       "1                                        Na reanimatie           439\n",
       "2                          Respiratoire insufficiëntie           327\n",
       "3                                      Diagnose anders           280\n",
       "4                                 Pneumonia, bacterial           204"
      ]
     },
     "execution_count": 10,
     "metadata": {},
     "output_type": "execute_result"
    }
   ],
   "source": [
    "medical_patients = combined_diagnoses[(combined_diagnoses['surgical'] == 0)]\n",
    "medical_patients_counts = medical_patients.groupby(\n",
    "    ['diagnosis']).size().to_frame('n_admissions').sort_values(\n",
    "    'n_admissions', ascending=False).reset_index()\n",
    "medical_patients_counts.head()"
   ]
  },
  {
   "cell_type": "code",
   "execution_count": 11,
   "metadata": {},
   "outputs": [
    {
     "data": {
      "text/plain": [
       "5819"
      ]
     },
     "execution_count": 11,
     "metadata": {},
     "output_type": "execute_result"
    }
   ],
   "source": [
    "medical_patients_counts['n_admissions'].sum()"
   ]
  },
  {
   "cell_type": "markdown",
   "metadata": {},
   "source": [
    "### Cardiothoracic surgery"
   ]
  },
  {
   "cell_type": "code",
   "execution_count": 12,
   "metadata": {
    "scrolled": true
   },
   "outputs": [
    {
     "data": {
      "text/html": [
       "<div>\n",
       "<style scoped>\n",
       "    .dataframe tbody tr th:only-of-type {\n",
       "        vertical-align: middle;\n",
       "    }\n",
       "\n",
       "    .dataframe tbody tr th {\n",
       "        vertical-align: top;\n",
       "    }\n",
       "\n",
       "    .dataframe thead th {\n",
       "        text-align: right;\n",
       "    }\n",
       "</style>\n",
       "<table border=\"1\" class=\"dataframe\">\n",
       "  <thead>\n",
       "    <tr style=\"text-align: right;\">\n",
       "      <th></th>\n",
       "      <th>diagnosis</th>\n",
       "      <th>n_admissions</th>\n",
       "    </tr>\n",
       "  </thead>\n",
       "  <tbody>\n",
       "    <tr>\n",
       "      <th>0</th>\n",
       "      <td>CABG alone, coronary artery bypass grafting</td>\n",
       "      <td>1534</td>\n",
       "    </tr>\n",
       "    <tr>\n",
       "      <th>1</th>\n",
       "      <td>CABG</td>\n",
       "      <td>1389</td>\n",
       "    </tr>\n",
       "    <tr>\n",
       "      <th>2</th>\n",
       "      <td>AVR</td>\n",
       "      <td>458</td>\n",
       "    </tr>\n",
       "    <tr>\n",
       "      <th>3</th>\n",
       "      <td>Aortic valve replacement (isolated)</td>\n",
       "      <td>431</td>\n",
       "    </tr>\n",
       "    <tr>\n",
       "      <th>4</th>\n",
       "      <td>Gecombineerde hartchirurgie</td>\n",
       "      <td>366</td>\n",
       "    </tr>\n",
       "  </tbody>\n",
       "</table>\n",
       "</div>"
      ],
      "text/plain": [
       "                                     diagnosis  n_admissions\n",
       "0  CABG alone, coronary artery bypass grafting          1534\n",
       "1                                         CABG          1389\n",
       "2                                          AVR           458\n",
       "3          Aortic valve replacement (isolated)           431\n",
       "4                  Gecombineerde hartchirurgie           366"
      ]
     },
     "execution_count": 12,
     "metadata": {},
     "output_type": "execute_result"
    }
   ],
   "source": [
    "cardiosurg = adb.get_cardiothoracic_surgery_patients(con)\n",
    "\n",
    "cardiosurg_counts = cardiosurg.groupby(\n",
    "    ['diagnosis'], dropna=False).size().to_frame('n_admissions').sort_values(\n",
    "    'n_admissions', ascending=False).reset_index()\n",
    "cardiosurg_counts.head()"
   ]
  },
  {
   "cell_type": "code",
   "execution_count": 13,
   "metadata": {},
   "outputs": [
    {
     "data": {
      "text/plain": [
       "5938"
      ]
     },
     "execution_count": 13,
     "metadata": {},
     "output_type": "execute_result"
    }
   ],
   "source": [
    "cardiosurg_counts['n_admissions'].sum()"
   ]
  },
  {
   "cell_type": "markdown",
   "metadata": {},
   "source": [
    "### Respiratory failure\n",
    "This group contains patients with a primary reason of admission of respiratory failure, airway obstructie and pulmonary disorders requiring ICU admission."
   ]
  },
  {
   "cell_type": "code",
   "execution_count": 14,
   "metadata": {},
   "outputs": [
    {
     "data": {
      "text/html": [
       "<div>\n",
       "<style scoped>\n",
       "    .dataframe tbody tr th:only-of-type {\n",
       "        vertical-align: middle;\n",
       "    }\n",
       "\n",
       "    .dataframe tbody tr th {\n",
       "        vertical-align: top;\n",
       "    }\n",
       "\n",
       "    .dataframe thead th {\n",
       "        text-align: right;\n",
       "    }\n",
       "</style>\n",
       "<table border=\"1\" class=\"dataframe\">\n",
       "  <thead>\n",
       "    <tr style=\"text-align: right;\">\n",
       "      <th></th>\n",
       "      <th>diagnosis</th>\n",
       "      <th>n_admissions</th>\n",
       "    </tr>\n",
       "  </thead>\n",
       "  <tbody>\n",
       "    <tr>\n",
       "      <th>0</th>\n",
       "      <td>Respiratoire insufficiëntie</td>\n",
       "      <td>327</td>\n",
       "    </tr>\n",
       "    <tr>\n",
       "      <th>1</th>\n",
       "      <td>Pneumonia, bacterial</td>\n",
       "      <td>204</td>\n",
       "    </tr>\n",
       "    <tr>\n",
       "      <th>2</th>\n",
       "      <td>Pneumonie</td>\n",
       "      <td>147</td>\n",
       "    </tr>\n",
       "    <tr>\n",
       "      <th>3</th>\n",
       "      <td>Respiratory- medical, other</td>\n",
       "      <td>116</td>\n",
       "    </tr>\n",
       "    <tr>\n",
       "      <th>4</th>\n",
       "      <td>Obstruction-airway (acute epiglottitis, post-extubation edema, foreign body, etc.)</td>\n",
       "      <td>69</td>\n",
       "    </tr>\n",
       "  </tbody>\n",
       "</table>\n",
       "</div>"
      ],
      "text/plain": [
       "                                                                            diagnosis  \\\n",
       "0                                                         Respiratoire insufficiëntie   \n",
       "1                                                                Pneumonia, bacterial   \n",
       "2                                                                           Pneumonie   \n",
       "3                                                         Respiratory- medical, other   \n",
       "4  Obstruction-airway (acute epiglottitis, post-extubation edema, foreign body, etc.)   \n",
       "\n",
       "   n_admissions  \n",
       "0           327  \n",
       "1           204  \n",
       "2           147  \n",
       "3           116  \n",
       "4            69  "
      ]
     },
     "execution_count": 14,
     "metadata": {},
     "output_type": "execute_result"
    }
   ],
   "source": [
    "respfailure = adb.get_respiratory_failure_patients(con)\n",
    "\n",
    "respfailure_counts = respfailure.groupby(\n",
    "    ['diagnosis']).size().to_frame('n_admissions').sort_values(\n",
    "    'n_admissions', ascending=False).reset_index()\n",
    "respfailure_counts.head()"
   ]
  },
  {
   "cell_type": "code",
   "execution_count": 15,
   "metadata": {},
   "outputs": [
    {
     "data": {
      "text/plain": [
       "1517"
      ]
     },
     "execution_count": 15,
     "metadata": {},
     "output_type": "execute_result"
    }
   ],
   "source": [
    "respfailure_counts['n_admissions'].sum()"
   ]
  },
  {
   "cell_type": "markdown",
   "metadata": {},
   "source": [
    "### Neurosurgery"
   ]
  },
  {
   "cell_type": "code",
   "execution_count": 16,
   "metadata": {},
   "outputs": [
    {
     "data": {
      "text/html": [
       "<div>\n",
       "<style scoped>\n",
       "    .dataframe tbody tr th:only-of-type {\n",
       "        vertical-align: middle;\n",
       "    }\n",
       "\n",
       "    .dataframe tbody tr th {\n",
       "        vertical-align: top;\n",
       "    }\n",
       "\n",
       "    .dataframe thead th {\n",
       "        text-align: right;\n",
       "    }\n",
       "</style>\n",
       "<table border=\"1\" class=\"dataframe\">\n",
       "  <thead>\n",
       "    <tr style=\"text-align: right;\">\n",
       "      <th></th>\n",
       "      <th>diagnosis</th>\n",
       "      <th>n_admissions</th>\n",
       "    </tr>\n",
       "  </thead>\n",
       "  <tbody>\n",
       "    <tr>\n",
       "      <th>0</th>\n",
       "      <td>Neoplasm-cranial, surgery for (excluding transphenoidal)</td>\n",
       "      <td>308</td>\n",
       "    </tr>\n",
       "    <tr>\n",
       "      <th>1</th>\n",
       "      <td>Neurochirurgisch Trauma</td>\n",
       "      <td>175</td>\n",
       "    </tr>\n",
       "    <tr>\n",
       "      <th>2</th>\n",
       "      <td>TC supra tentorieel</td>\n",
       "      <td>167</td>\n",
       "    </tr>\n",
       "    <tr>\n",
       "      <th>3</th>\n",
       "      <td>Overige neurologie/neurochirurgie</td>\n",
       "      <td>106</td>\n",
       "    </tr>\n",
       "    <tr>\n",
       "      <th>4</th>\n",
       "      <td>Hemorrhage/hematoma-intracranial, surgery for</td>\n",
       "      <td>97</td>\n",
       "    </tr>\n",
       "  </tbody>\n",
       "</table>\n",
       "</div>"
      ],
      "text/plain": [
       "                                                  diagnosis  n_admissions\n",
       "0  Neoplasm-cranial, surgery for (excluding transphenoidal)           308\n",
       "1                                   Neurochirurgisch Trauma           175\n",
       "2                                       TC supra tentorieel           167\n",
       "3                         Overige neurologie/neurochirurgie           106\n",
       "4             Hemorrhage/hematoma-intracranial, surgery for            97"
      ]
     },
     "execution_count": 16,
     "metadata": {},
     "output_type": "execute_result"
    }
   ],
   "source": [
    "neurosurg = adb.get_neurosurgery_patients(con)\n",
    "\n",
    "neurosurg_counts = neurosurg.groupby(\n",
    "    ['diagnosis']).size().to_frame('n_admissions').sort_values(\n",
    "    'n_admissions', ascending=False).reset_index()\n",
    "neurosurg_counts.head()"
   ]
  },
  {
   "cell_type": "code",
   "execution_count": 17,
   "metadata": {},
   "outputs": [
    {
     "data": {
      "text/plain": [
       "1618"
      ]
     },
     "execution_count": 17,
     "metadata": {},
     "output_type": "execute_result"
    }
   ],
   "source": [
    "neurosurg_counts['n_admissions'].sum()"
   ]
  },
  {
   "cell_type": "markdown",
   "metadata": {},
   "source": [
    "### Gastro-intestinal surgery"
   ]
  },
  {
   "cell_type": "code",
   "execution_count": 18,
   "metadata": {},
   "outputs": [
    {
     "data": {
      "text/html": [
       "<div>\n",
       "<style scoped>\n",
       "    .dataframe tbody tr th:only-of-type {\n",
       "        vertical-align: middle;\n",
       "    }\n",
       "\n",
       "    .dataframe tbody tr th {\n",
       "        vertical-align: top;\n",
       "    }\n",
       "\n",
       "    .dataframe thead th {\n",
       "        text-align: right;\n",
       "    }\n",
       "</style>\n",
       "<table border=\"1\" class=\"dataframe\">\n",
       "  <thead>\n",
       "    <tr style=\"text-align: right;\">\n",
       "      <th></th>\n",
       "      <th>diagnosis</th>\n",
       "      <th>n_admissions</th>\n",
       "    </tr>\n",
       "  </thead>\n",
       "  <tbody>\n",
       "    <tr>\n",
       "      <th>0</th>\n",
       "      <td>Oesophagus/maag chirurgie</td>\n",
       "      <td>171</td>\n",
       "    </tr>\n",
       "    <tr>\n",
       "      <th>1</th>\n",
       "      <td>Dunne/dikkedarm chirurgie (perforatie of obstructie)</td>\n",
       "      <td>169</td>\n",
       "    </tr>\n",
       "    <tr>\n",
       "      <th>2</th>\n",
       "      <td>Cancer-esophageal, surgery for (abdominal approach)</td>\n",
       "      <td>110</td>\n",
       "    </tr>\n",
       "    <tr>\n",
       "      <th>3</th>\n",
       "      <td>Cancer-colon/rectal, surgery for (including abdominoperineal resections)</td>\n",
       "      <td>70</td>\n",
       "    </tr>\n",
       "    <tr>\n",
       "      <th>4</th>\n",
       "      <td>Cancer-other GI tract, surgery for (i.e. hepatoma, gallbladder etc.)</td>\n",
       "      <td>67</td>\n",
       "    </tr>\n",
       "  </tbody>\n",
       "</table>\n",
       "</div>"
      ],
      "text/plain": [
       "                                                                  diagnosis  \\\n",
       "0                                                 Oesophagus/maag chirurgie   \n",
       "1                      Dunne/dikkedarm chirurgie (perforatie of obstructie)   \n",
       "2                       Cancer-esophageal, surgery for (abdominal approach)   \n",
       "3  Cancer-colon/rectal, surgery for (including abdominoperineal resections)   \n",
       "4      Cancer-other GI tract, surgery for (i.e. hepatoma, gallbladder etc.)   \n",
       "\n",
       "   n_admissions  \n",
       "0           171  \n",
       "1           169  \n",
       "2           110  \n",
       "3            70  \n",
       "4            67  "
      ]
     },
     "execution_count": 18,
     "metadata": {},
     "output_type": "execute_result"
    }
   ],
   "source": [
    "gisurg = adb.get_gastrointestinal_surgery_patients(con)\n",
    "\n",
    "gisurg_counts = gisurg.groupby(\n",
    "    ['diagnosis']).size().to_frame('n_admissions').sort_values(\n",
    "    'n_admissions', ascending=False).reset_index()\n",
    "gisurg_counts.head()"
   ]
  },
  {
   "cell_type": "code",
   "execution_count": 19,
   "metadata": {},
   "outputs": [
    {
     "data": {
      "text/plain": [
       "1149"
      ]
     },
     "execution_count": 19,
     "metadata": {},
     "output_type": "execute_result"
    }
   ],
   "source": [
    "gisurg_counts['n_admissions'].sum()"
   ]
  },
  {
   "cell_type": "markdown",
   "metadata": {},
   "source": [
    "### Cardiac arrest"
   ]
  },
  {
   "cell_type": "code",
   "execution_count": 20,
   "metadata": {},
   "outputs": [
    {
     "data": {
      "text/html": [
       "<div>\n",
       "<style scoped>\n",
       "    .dataframe tbody tr th:only-of-type {\n",
       "        vertical-align: middle;\n",
       "    }\n",
       "\n",
       "    .dataframe tbody tr th {\n",
       "        vertical-align: top;\n",
       "    }\n",
       "\n",
       "    .dataframe thead th {\n",
       "        text-align: right;\n",
       "    }\n",
       "</style>\n",
       "<table border=\"1\" class=\"dataframe\">\n",
       "  <thead>\n",
       "    <tr style=\"text-align: right;\">\n",
       "      <th></th>\n",
       "      <th>diagnosis</th>\n",
       "      <th>n_admissions</th>\n",
       "    </tr>\n",
       "  </thead>\n",
       "  <tbody>\n",
       "    <tr>\n",
       "      <th>0</th>\n",
       "      <td>Cardiac arrest (with or without respiratory arrest;</td>\n",
       "      <td>514</td>\n",
       "    </tr>\n",
       "    <tr>\n",
       "      <th>1</th>\n",
       "      <td>Na reanimatie</td>\n",
       "      <td>439</td>\n",
       "    </tr>\n",
       "    <tr>\n",
       "      <th>2</th>\n",
       "      <td>Cardiac arrest (with or without respiratory arrest; for respiratory arrest see</td>\n",
       "      <td>8</td>\n",
       "    </tr>\n",
       "  </tbody>\n",
       "</table>\n",
       "</div>"
      ],
      "text/plain": [
       "                                                                        diagnosis  \\\n",
       "0                             Cardiac arrest (with or without respiratory arrest;   \n",
       "1                                                                   Na reanimatie   \n",
       "2  Cardiac arrest (with or without respiratory arrest; for respiratory arrest see   \n",
       "\n",
       "   n_admissions  \n",
       "0           514  \n",
       "1           439  \n",
       "2             8  "
      ]
     },
     "execution_count": 20,
     "metadata": {},
     "output_type": "execute_result"
    }
   ],
   "source": [
    "cardiacarrest = adb.get_cardiac_arrest_patients(con)\n",
    "\n",
    "cardiacarrest_counts = cardiacarrest.groupby(\n",
    "    ['diagnosis']).size().to_frame('n_admissions').sort_values(\n",
    "    'n_admissions', ascending=False).reset_index()\n",
    "cardiacarrest_counts.head()"
   ]
  },
  {
   "cell_type": "code",
   "execution_count": 21,
   "metadata": {},
   "outputs": [
    {
     "data": {
      "text/plain": [
       "961"
      ]
     },
     "execution_count": 21,
     "metadata": {},
     "output_type": "execute_result"
    }
   ],
   "source": [
    "cardiacarrest_counts['n_admissions'].sum()"
   ]
  },
  {
   "cell_type": "markdown",
   "metadata": {},
   "source": [
    "### Vascular surgery"
   ]
  },
  {
   "cell_type": "code",
   "execution_count": 22,
   "metadata": {},
   "outputs": [
    {
     "data": {
      "text/html": [
       "<div>\n",
       "<style scoped>\n",
       "    .dataframe tbody tr th:only-of-type {\n",
       "        vertical-align: middle;\n",
       "    }\n",
       "\n",
       "    .dataframe tbody tr th {\n",
       "        vertical-align: top;\n",
       "    }\n",
       "\n",
       "    .dataframe thead th {\n",
       "        text-align: right;\n",
       "    }\n",
       "</style>\n",
       "<table border=\"1\" class=\"dataframe\">\n",
       "  <thead>\n",
       "    <tr style=\"text-align: right;\">\n",
       "      <th></th>\n",
       "      <th>diagnosis</th>\n",
       "      <th>n_admissions</th>\n",
       "    </tr>\n",
       "  </thead>\n",
       "  <tbody>\n",
       "    <tr>\n",
       "      <th>0</th>\n",
       "      <td>Vaatchirurgie abdominaal</td>\n",
       "      <td>212</td>\n",
       "    </tr>\n",
       "    <tr>\n",
       "      <th>1</th>\n",
       "      <td>Aneurysm, thoracic aortic</td>\n",
       "      <td>94</td>\n",
       "    </tr>\n",
       "    <tr>\n",
       "      <th>2</th>\n",
       "      <td>Aneurysm, abdominal aortic</td>\n",
       "      <td>75</td>\n",
       "    </tr>\n",
       "    <tr>\n",
       "      <th>3</th>\n",
       "      <td>Thoraco-abdominale aorta vervanging</td>\n",
       "      <td>68</td>\n",
       "    </tr>\n",
       "    <tr>\n",
       "      <th>4</th>\n",
       "      <td>Aneurysm, thoracic aortic; with dissection</td>\n",
       "      <td>68</td>\n",
       "    </tr>\n",
       "  </tbody>\n",
       "</table>\n",
       "</div>"
      ],
      "text/plain": [
       "                                    diagnosis  n_admissions\n",
       "0                    Vaatchirurgie abdominaal           212\n",
       "1                   Aneurysm, thoracic aortic            94\n",
       "2                  Aneurysm, abdominal aortic            75\n",
       "3         Thoraco-abdominale aorta vervanging            68\n",
       "4  Aneurysm, thoracic aortic; with dissection            68"
      ]
     },
     "execution_count": 22,
     "metadata": {},
     "output_type": "execute_result"
    }
   ],
   "source": [
    "vascsurg = adb.get_vascular_surgery_patients(con)\n",
    "\n",
    "vascsurg_counts = vascsurg.groupby(\n",
    "    ['diagnosis']).size().to_frame('n_admissions').sort_values(\n",
    "    'n_admissions', ascending=False).reset_index()\n",
    "vascsurg_counts.head()"
   ]
  },
  {
   "cell_type": "code",
   "execution_count": 23,
   "metadata": {},
   "outputs": [
    {
     "data": {
      "text/plain": [
       "1037"
      ]
     },
     "execution_count": 23,
     "metadata": {},
     "output_type": "execute_result"
    }
   ],
   "source": [
    "vascsurg_counts['n_admissions'].sum()"
   ]
  },
  {
   "cell_type": "markdown",
   "metadata": {},
   "source": [
    "### Trauma"
   ]
  },
  {
   "cell_type": "code",
   "execution_count": 24,
   "metadata": {},
   "outputs": [
    {
     "data": {
      "text/html": [
       "<div>\n",
       "<style scoped>\n",
       "    .dataframe tbody tr th:only-of-type {\n",
       "        vertical-align: middle;\n",
       "    }\n",
       "\n",
       "    .dataframe tbody tr th {\n",
       "        vertical-align: top;\n",
       "    }\n",
       "\n",
       "    .dataframe thead th {\n",
       "        text-align: right;\n",
       "    }\n",
       "</style>\n",
       "<table border=\"1\" class=\"dataframe\">\n",
       "  <thead>\n",
       "    <tr style=\"text-align: right;\">\n",
       "      <th></th>\n",
       "      <th>diagnosis_group</th>\n",
       "      <th>diagnosis</th>\n",
       "      <th>n_admissions</th>\n",
       "    </tr>\n",
       "  </thead>\n",
       "  <tbody>\n",
       "    <tr>\n",
       "      <th>0</th>\n",
       "      <td>Neurochirurgie</td>\n",
       "      <td>Neurochirurgisch Trauma</td>\n",
       "      <td>175</td>\n",
       "    </tr>\n",
       "    <tr>\n",
       "      <th>1</th>\n",
       "      <td>Algemene chirurgie</td>\n",
       "      <td>Multi trauma (operatief)</td>\n",
       "      <td>102</td>\n",
       "    </tr>\n",
       "    <tr>\n",
       "      <th>2</th>\n",
       "      <td>Algemene chirurgie</td>\n",
       "      <td>Multi trauma (niet operatief)</td>\n",
       "      <td>82</td>\n",
       "    </tr>\n",
       "    <tr>\n",
       "      <th>3</th>\n",
       "      <td>Non-operative trauma</td>\n",
       "      <td>Head (CNS) only trauma</td>\n",
       "      <td>70</td>\n",
       "    </tr>\n",
       "    <tr>\n",
       "      <th>4</th>\n",
       "      <td>Non-operative trauma</td>\n",
       "      <td>Chest/thorax only trauma</td>\n",
       "      <td>64</td>\n",
       "    </tr>\n",
       "  </tbody>\n",
       "</table>\n",
       "</div>"
      ],
      "text/plain": [
       "        diagnosis_group                      diagnosis  n_admissions\n",
       "0        Neurochirurgie        Neurochirurgisch Trauma           175\n",
       "1    Algemene chirurgie       Multi trauma (operatief)           102\n",
       "2    Algemene chirurgie  Multi trauma (niet operatief)            82\n",
       "3  Non-operative trauma         Head (CNS) only trauma            70\n",
       "4  Non-operative trauma       Chest/thorax only trauma            64"
      ]
     },
     "execution_count": 24,
     "metadata": {},
     "output_type": "execute_result"
    }
   ],
   "source": [
    "trauma = adb.get_trauma_patients(con)\n",
    "\n",
    "trauma_counts = trauma.groupby(['diagnosis_group','diagnosis']).size().to_frame('n_admissions').sort_values(\n",
    "    'n_admissions', ascending=False).reset_index()\n",
    "trauma_counts.head()"
   ]
  },
  {
   "cell_type": "code",
   "execution_count": 25,
   "metadata": {},
   "outputs": [
    {
     "data": {
      "text/plain": [
       "1242"
      ]
     },
     "execution_count": 25,
     "metadata": {},
     "output_type": "execute_result"
    }
   ],
   "source": [
    "trauma_counts['n_admissions'].sum()"
   ]
  },
  {
   "cell_type": "markdown",
   "metadata": {},
   "source": [
    "### <a id=sepsis3></a><a href=#sepsis></a><a id=#sepsis></a><a href=#sepsis></a> <a id=#sepsis></a><a href=#sepsis></a><a id=#sepsis></a><a href=#sepsis></a>  Sepsis\n",
    "The [Sepsis-3 definition](https://jamanetwork-com.vu-nl.idm.oclc.org/journals/jama/fullarticle/2492881)\n",
    "requires, in addition to a presumed infection, a Sequential (Sepsis-related) Organ Failure Assessment\n",
    "(SOFA) score of 2 points or more.\n",
    "\n",
    "Operationalization:\n",
    "* presumed infection (with dysregulated host response), based on:\n",
    "    - sepsis_at_admission flagged in the admission form by the attending physician\n",
    "    - the admission diagnosis, medical or surgical, is considered a severe infection, e.g., gastro-intestinal perforation, cholangitis, meningitis\n",
    "    - use of antibiotics that are not used prophylactically after surgery\n",
    "    - use of antibiotics and cultures drawn within 6 hours of admission\n",
    "\n",
    "AND\n",
    "\n",
    "* organ dysfunction based on change in total SOFA score ≥2 points\n",
    "    - baseline SOFA score assumed to be 0\n",
    "    - uses data from first 24 hours of ICU admission    \"\"\"Returns a dataframe containing patients with a diagnosis of sepsis at admission.\n",
    "\n",
    "In previous versions of the `reason_for_admission.ipynb` only an diagnosis of infection was required to be included in the Sepsis cohort. This group can be re-created using: `amsterdamumcdb.get_infection_patients(con)`. However, since most patients that were admitted for an infection to the ICU already fulfilled the Sepsis-3 definition, the difference is small between these two cohorts: 3152 *vs.* 3019 patients. \n",
    "\n",
    "**Note**: calculating SOFA scores require a considerable amount of time."
   ]
  },
  {
   "cell_type": "code",
   "execution_count": null,
   "outputs": [],
   "source": [
    "sepsis = adb.get_sepsis_patients(con)\n",
    "\n",
    "sepsis_counts = sepsis.fillna('N/A').groupby(\n",
    "    ['diagnosis']).size().to_frame('n_admissions').sort_values(\n",
    "    'n_admissions', ascending=False).reset_index()\n",
    "sepsis_counts.head()"
   ],
   "metadata": {
    "collapsed": false,
    "pycharm": {
     "name": "#%%\n"
    }
   }
  },
  {
   "cell_type": "code",
   "execution_count": null,
   "outputs": [],
   "source": [
    "sepsis_counts['n_admissions'].sum()"
   ],
   "metadata": {
    "collapsed": false,
    "pycharm": {
     "name": "#%%\n"
    }
   }
  },
  {
   "cell_type": "markdown",
   "source": [
    "### Neurologic disorders"
   ],
   "metadata": {
    "collapsed": false,
    "pycharm": {
     "name": "#%% md\n"
    }
   }
  },
  {
   "cell_type": "code",
   "execution_count": null,
   "outputs": [],
   "source": [
    "neuro = adb.get_neuro_patients(con)\n",
    "\n",
    "neuro_counts = neuro.groupby(\n",
    "    ['diagnosis']).size().to_frame('n_admissions').sort_values(\n",
    "    'n_admissions', ascending=False).reset_index()\n",
    "neuro_counts.head()"
   ],
   "metadata": {
    "collapsed": false,
    "pycharm": {
     "name": "#%%\n"
    }
   }
  },
  {
   "cell_type": "code",
   "execution_count": null,
   "outputs": [],
   "source": [
    "neuro_counts['n_admissions'].sum()"
   ],
   "metadata": {
    "collapsed": false,
    "pycharm": {
     "name": "#%%\n"
    }
   }
  },
  {
   "cell_type": "markdown",
   "source": [
    "### Cardiac disorders"
   ],
   "metadata": {
    "collapsed": false,
    "pycharm": {
     "name": "#%% md\n"
    }
   }
  },
  {
   "cell_type": "code",
   "execution_count": null,
   "outputs": [],
   "source": [
    "cardio = adb.get_cardio_patients(con)\n",
    "\n",
    "cardio_counts = cardio.groupby([\n",
    "    'diagnosis_group','diagnosis']).size().to_frame('n_admissions').sort_values(\n",
    "    'n_admissions', ascending=False).reset_index()\n",
    "cardio_counts.head()"
   ],
   "metadata": {
    "collapsed": false,
    "pycharm": {
     "name": "#%%\n"
    }
   }
  },
  {
   "cell_type": "code",
   "execution_count": null,
   "outputs": [],
   "source": [
    "cardio_counts['n_admissions'].sum()"
   ],
   "metadata": {
    "collapsed": false,
    "pycharm": {
     "name": "#%%\n"
    }
   }
  },
  {
   "cell_type": "code",
   "execution_count": null,
   "outputs": [],
   "source": [
    "#reason for admission\n",
    "\n",
    "## cardiac surgery\n",
    "reason_car_surg_total = len(cardiosurg)\n",
    "reason_car_surg_pct_total = 100*reason_car_surg_total/no_admissions_total\n",
    "reason_car_surg_ICU = len(cardiosurg[cardiosurg['location'].str.contains('IC')])\n",
    "reason_car_surg_pct_ICU = 100*reason_car_surg_ICU/no_admissions_ICU\n",
    "reason_car_surg_MCU = len(cardiosurg[cardiosurg['location'].str.contains('^MC$')])\n",
    "reason_car_surg_pct_MCU = 100*reason_car_surg_MCU/no_admissions_MCU\n",
    "\n",
    "## neurosurgery\n",
    "reason_neu_surg_total = len(neurosurg)\n",
    "reason_neu_surg_pct_total =  100*reason_neu_surg_total/no_admissions_total\n",
    "reason_neu_surg_ICU = len(neurosurg[neurosurg['location'].str.contains('IC')])\n",
    "reason_neu_surg_pct_ICU =  100*reason_neu_surg_ICU/no_admissions_ICU\n",
    "reason_neu_surg_MCU = len(neurosurg[neurosurg['location'].str.contains('^MC$')])\n",
    "reason_neu_surg_pct_MCU =  100*reason_neu_surg_MCU/no_admissions_MCU\n",
    "\n",
    "## gastro-intestinal surgery\n",
    "reason_gi_surg_total = len(gisurg)\n",
    "reason_gi_surg_pct_total = 100*reason_gi_surg_total/no_admissions_total\n",
    "reason_gi_surg_ICU = len(gisurg[gisurg['location'].str.contains('IC')])\n",
    "reason_gi_surg_pct_ICU = 100*reason_gi_surg_ICU/no_admissions_ICU\n",
    "reason_gi_surg_MCU = len(gisurg[gisurg['location'].str.contains('^MC$')])\n",
    "reason_gi_surg_pct_MCU = 100*reason_gi_surg_MCU/no_admissions_MCU\n",
    "\n",
    "## cardiac arrest\n",
    "reason_car_arrest_total = len(cardiacarrest)\n",
    "reason_car_arrest_pct_total = 100*reason_car_arrest_total/no_admissions_total\n",
    "reason_car_arrest_ICU = len(cardiacarrest[cardiacarrest['location'].str.contains('IC')])\n",
    "reason_car_arrest_pct_ICU = 100*reason_car_arrest_ICU/no_admissions_ICU\n",
    "reason_car_arrest_MCU = len(cardiacarrest[cardiacarrest['location'].str.contains('^MC$')])\n",
    "reason_car_arrest_pct_MCU = 100*reason_car_arrest_MCU/no_admissions_MCU\n",
    "\n",
    "## vascular surgery\n",
    "reason_vasc_surg_total = len(vascsurg)\n",
    "reason_vasc_surg_pct_total = 100*reason_vasc_surg_total/no_admissions_total\n",
    "reason_vasc_surg_ICU = len(vascsurg[vascsurg['location'].str.contains('IC')])\n",
    "reason_vasc_surg_pct_ICU = 100*reason_vasc_surg_ICU/no_admissions_ICU\n",
    "reason_vasc_surg_MCU = len(vascsurg[vascsurg['location'].str.contains('^MC$')])\n",
    "reason_vasc_surg_pct_MCU = 100*reason_vasc_surg_MCU/no_admissions_MCU\n",
    "\n",
    "## trauma\n",
    "reason_trauma_total = len(trauma)\n",
    "reason_trauma_pct_total = 100*reason_trauma_total/no_admissions_total\n",
    "reason_trauma_ICU = len(trauma[trauma['location'].str.contains('IC')])\n",
    "reason_trauma_pct_ICU = 100*reason_trauma_ICU/no_admissions_ICU\n",
    "reason_trauma_MCU = len(trauma[trauma['location'].str.contains('^MC$')])\n",
    "reason_trauma_pct_MCU = 100*reason_trauma_MCU/no_admissions_MCU\n",
    "\n",
    "## sepsis\n",
    "reason_sepsis_total = len(sepsis)\n",
    "reason_sepsis_pct_total = 100*reason_sepsis_total/no_admissions_total\n",
    "reason_sepsis_ICU = len(sepsis[sepsis['location'].str.contains('IC')])\n",
    "reason_sepsis_pct_ICU = 100*reason_sepsis_ICU/no_admissions_ICU\n",
    "reason_sepsis_MCU = len(sepsis[sepsis['location'].str.contains('^MC$')])\n",
    "reason_sepsis_pct_MCU = 100*reason_sepsis_MCU/no_admissions_MCU\n",
    "\n",
    "## respiratory failure\n",
    "reason_resp_failure_total = len(respfailure)\n",
    "reason_resp_failure_pct_total = 100*reason_resp_failure_total/no_admissions_total\n",
    "reason_resp_failure_ICU = len(respfailure[respfailure['location'].str.contains('IC')])\n",
    "reason_resp_failure_pct_ICU = 100*reason_resp_failure_ICU/no_admissions_ICU\n",
    "reason_resp_failure_MCU = len(respfailure[respfailure['location'].str.contains('^MC$')])\n",
    "reason_resp_failure_pct_MCU = 100*reason_resp_failure_MCU/no_admissions_MCU\n",
    "\n",
    "## cardio\n",
    "reason_cardio_total = len(cardio)\n",
    "reason_cardio_pct_total = 100*reason_cardio_total/no_admissions_total\n",
    "reason_cardio_ICU = len(cardio[cardio['location'].str.contains('IC')])\n",
    "reason_cardio_pct_ICU = 100*reason_cardio_ICU/no_admissions_ICU\n",
    "reason_cardio_MCU = len(cardio[cardio['location'].str.contains('^MC$')])\n",
    "reason_cardio_pct_MCU = 100*reason_cardio_MCU/no_admissions_MCU\n",
    "\n",
    "## neuro\n",
    "reason_neuro_total = len(neuro)\n",
    "reason_neuro_pct_total = 100*reason_neuro_total/no_admissions_total\n",
    "reason_neuro_ICU = len(neuro[neuro['location'].str.contains('IC')])\n",
    "reason_neuro_pct_ICU = 100*reason_neuro_ICU/no_admissions_ICU\n",
    "reason_neuro_MCU = len(neuro[neuro['location'].str.contains('^MC$')])\n",
    "reason_neuro_pct_MCU = 100*reason_neuro_MCU/no_admissions_MCU"
   ],
   "metadata": {
    "collapsed": false,
    "pycharm": {
     "name": "#%%\n"
    }
   }
  },
  {
   "cell_type": "markdown",
   "source": [
    "## Create a table in html"
   ],
   "metadata": {
    "collapsed": false,
    "pycharm": {
     "name": "#%% md\n"
    }
   }
  },
  {
   "cell_type": "code",
   "execution_count": null,
   "outputs": [],
   "source": [
    "display(Markdown(\"\"\"\n",
    "<table>\n",
    "    <thead>\n",
    "        <tr>\n",
    "            <th style=\"text-align:left;\">Patient Characteristics</th>\n",
    "            <th style=\"text-align:right;\">Total</th>\n",
    "            <th style=\"text-align:right;\">ICU</th>\n",
    "            <th style=\"text-align:right;\">MCU</th>\n",
    "        </tr>\n",
    "        <tr>\n",
    "    </thead>\n",
    "    <tbody>\n",
    "        <tr>\n",
    "            <td style=\"text-align:left\">Distinct patients, no.</td>\n",
    "            <td>{no_patients_total}</td>\n",
    "            <td>{no_patients_ICU}</td>\n",
    "            <td>{no_patients_MCU}</td>\n",
    "        </tr>    \n",
    "        <tr>\n",
    "            <td style=\"text-align:left\">ICU admissions, no.</td>\n",
    "            <td>{no_admissions_total}</td>\n",
    "            <td>{no_admissions_ICU}</td>\n",
    "            <td>{no_admissions_MCU}</td>\n",
    "        </tr>    \n",
    "        <tr>\n",
    "            <td style=\"text-align:left\">Surgical admissions, no. (%)</td>\n",
    "            <td>{surgical_total} ({surgical_pct_total:.2f})</td>\n",
    "            <td>{surgical_ICU} ({surgical_pct_ICU:.2f})</td>\n",
    "            <td>{surgical_MCU} ({surgical_pct_MCU:.2f})</td>\n",
    "        </tr>\n",
    "        <tr>\n",
    "            <td style=\"text-align:left\">Medical admissions, no. (%)</td>\n",
    "            <td>{medical_total} ({medical_pct_total:.2f})</td>\n",
    "            <td>{medical_ICU} ({medical_pct_ICU:.2f})</td>\n",
    "            <td>{medical_MCU} ({medical_pct_MCU:.2f})</td>\n",
    "        </tr>\n",
    "        <tr>\n",
    "            <td style=\"text-align:left\">Surgical/Medical Unknown, no. (%)</td>\n",
    "            <td>{medical_surgical_na_total} ({medical_surgical_na_pct_total:.2f})</td>\n",
    "            <td>{medical_surgical_na_ICU} ({medical_surgical_na_pct_ICU:.2f})</td>\n",
    "            <td>{medical_surgical_na_MCU} ({medical_surgical_na_pct_MCU:.2f})</td>\n",
    "        </tr>\n",
    "        <tr>\n",
    "            <td style=\"text-align:left\">Urgent admissions, no. (%)</td>\n",
    "            <td>{urgency_total} ({urgency_pct_total:.2f})</td>\n",
    "            <td>{urgency_ICU} ({urgency_pct_ICU:.2f})</td>\n",
    "            <td>{urgency_MCU} ({urgency_pct_MCU:.2f})</td>\n",
    "        </tr>\n",
    "        <tr>\n",
    "            <th style=\"text-align:left\" colspan=4>Reason for admission</td>\n",
    "        </tr>\n",
    "        <tr>\n",
    "            <td style=\"text-align:left\">Cardiothoracic surgery, no. (%)</td>\n",
    "            <td>{reason_car_surg_total} ({reason_car_surg_pct_total:.2f})</td>\n",
    "            <td>{reason_car_surg_ICU} ({reason_car_surg_pct_ICU:.2f})</td>\n",
    "            <td>{reason_car_surg_MCU} ({reason_car_surg_pct_MCU:.2f})</td>\n",
    "        </tr>\n",
    "       <tr>\n",
    "            <td style=\"text-align:left\">Sepsis, no. (%)</td>\n",
    "            <td>{reason_sepsis_total} ({reason_sepsis_pct_total:.2f})</td>\n",
    "            <td>{reason_sepsis_ICU} ({reason_sepsis_pct_ICU:.2f})</td>\n",
    "            <td>{reason_sepsis_MCU} ({reason_sepsis_pct_MCU:.2f})</td>\n",
    "        </tr>\n",
    "         <tr>\n",
    "            <td style=\"text-align:left\">Respiratory failure, no. (%)</td>\n",
    "            <td>{reason_resp_failure_total} ({reason_resp_failure_pct_total:.2f})</td>\n",
    "            <td>{reason_resp_failure_ICU} ({reason_resp_failure_pct_ICU:.2f})</td>\n",
    "            <td>{reason_resp_failure_MCU} ({reason_resp_failure_pct_MCU:.2f})</td>\n",
    "        </tr>\n",
    "        <tr>\n",
    "            <td style=\"text-align:left\">Neurosurgery, no. (%)</td>\n",
    "            <td>{reason_neu_surg_total} ({reason_neu_surg_pct_total:.2f})</td>\n",
    "            <td>{reason_neu_surg_ICU} ({reason_neu_surg_pct_ICU:.2f})</td>\n",
    "            <td>{reason_neu_surg_MCU} ({reason_neu_surg_pct_MCU:.2f})</td>\n",
    "        </tr>\n",
    "        <tr>\n",
    "            <td style=\"text-align:left\">Trauma, no. (%)</td>\n",
    "            <td>{reason_trauma_total} ({reason_trauma_pct_total:.2f})</td>\n",
    "            <td>{reason_trauma_ICU} ({reason_trauma_pct_ICU:.2f})</td>\n",
    "            <td>{reason_trauma_MCU} ({reason_trauma_pct_MCU:.2f})</td>\n",
    "        </tr>\n",
    "        <tr>\n",
    "            <td style=\"text-align:left\">Gastro-intestinal surgery, no. (%)</td>\n",
    "            <td>{reason_gi_surg_total} ({reason_gi_surg_pct_total:.2f})</td>\n",
    "            <td>{reason_gi_surg_ICU} ({reason_gi_surg_pct_ICU:.2f})</td>\n",
    "            <td>{reason_gi_surg_MCU} ({reason_gi_surg_pct_MCU:.2f})</td>\n",
    "        </tr>\n",
    "        <tr>\n",
    "            <td style=\"text-align:left\">Vascular surgery, no. (%)</td>\n",
    "            <td>{reason_vasc_surg_total} ({reason_vasc_surg_pct_total:.2f})</td>\n",
    "            <td>{reason_vasc_surg_ICU} ({reason_vasc_surg_pct_ICU:.2f})</td>\n",
    "            <td>{reason_vasc_surg_MCU} ({reason_vasc_surg_pct_MCU:.2f})</td>\n",
    "        </tr>\n",
    "        <tr>\n",
    "            <td style=\"text-align:left\">Cardiac arrest, no. (%)</td>\n",
    "            <td>{reason_car_arrest_total} ({reason_car_arrest_pct_total:.2f})</td>\n",
    "            <td>{reason_car_arrest_ICU} ({reason_car_arrest_pct_ICU:.2f})</td>\n",
    "            <td>{reason_car_arrest_MCU} ({reason_car_arrest_pct_MCU:.2f})</td>\n",
    "        </tr>\n",
    "        <tr>\n",
    "            <td style=\"text-align:left\">Neurologic disorders (non-traumatic), no. (%)</td>\n",
    "            <td>{reason_neuro_total} ({reason_neuro_pct_total:.2f})</td>\n",
    "            <td>{reason_neuro_ICU} ({reason_neuro_pct_ICU:.2f})</td>\n",
    "            <td>{reason_neuro_MCU} ({reason_neuro_pct_MCU:.2f})</td>\n",
    "        </tr>\n",
    "        <tr>\n",
    "            <td style=\"text-align:left\">Cardiac disorders (incl. cardiogenic shock) no. (%)</td>\n",
    "            <td>{reason_cardio_total} ({reason_cardio_pct_total:.2f})</td>\n",
    "            <td>{reason_cardio_ICU} ({reason_cardio_pct_ICU:.2f})</td>\n",
    "            <td>{reason_cardio_MCU} ({reason_cardio_pct_MCU:.2f})</td>\n",
    "        </tr>\n",
    "    </tbody>\n",
    "</table>\n",
    "\"\"\".format(\n",
    "            #No. patients\n",
    "            no_patients_total = no_patients_total,\n",
    "            no_patients_ICU = no_patients_ICU,\n",
    "            no_patients_MCU = no_patients_MCU,\n",
    "\n",
    "            #No. admissions\n",
    "            no_admissions_total = no_admissions_total,\n",
    "            no_admissions_ICU = no_admissions_ICU,\n",
    "            no_admissions_MCU = no_admissions_MCU,\n",
    "    \n",
    "            #surgical\n",
    "            surgical_total = surgical_total,\n",
    "            surgical_pct_total = surgical_pct_total,\n",
    "\n",
    "            surgical_ICU = surgical_ICU,\n",
    "            surgical_pct_ICU = surgical_pct_ICU,\n",
    "\n",
    "            surgical_MCU = surgical_MCU,\n",
    "            surgical_pct_MCU = surgical_pct_MCU,\n",
    "\n",
    "\n",
    "            #medical\n",
    "            medical_total = medical_total,\n",
    "            medical_pct_total = medical_pct_total,\n",
    "\n",
    "            medical_ICU = medical_ICU,\n",
    "            medical_pct_ICU = medical_pct_ICU,\n",
    "\n",
    "            medical_MCU = medical_MCU,\n",
    "            medical_pct_MCU = medical_pct_MCU,\n",
    "\n",
    "            #surgical/medical unknown\n",
    "            medical_surgical_na_total = medical_surgical_na_total,\n",
    "            medical_surgical_na_pct_total = medical_surgical_na_pct_total,\n",
    "\n",
    "            medical_surgical_na_ICU = medical_surgical_na_ICU,\n",
    "            medical_surgical_na_pct_ICU = medical_surgical_na_pct_ICU,\n",
    "\n",
    "            medical_surgical_na_MCU = medical_surgical_na_MCU,\n",
    "            medical_surgical_na_pct_MCU = medical_surgical_na_pct_MCU,\n",
    "\n",
    "            #urgency\n",
    "            urgency_total = urgency_total,\n",
    "            urgency_pct_total = urgency_pct_total,\n",
    "\n",
    "            urgency_ICU = urgency_ICU,\n",
    "            urgency_pct_ICU = urgency_pct_ICU,\n",
    "\n",
    "            urgency_MCU = urgency_MCU,\n",
    "            urgency_pct_MCU = urgency_pct_MCU,\n",
    "\n",
    "            #reason for admission\n",
    "\n",
    "            ## cardiac surgery\n",
    "            reason_car_surg_total = reason_car_surg_total,\n",
    "            reason_car_surg_pct_total = reason_car_surg_pct_total,\n",
    "            reason_car_surg_ICU = reason_car_surg_ICU,\n",
    "            reason_car_surg_pct_ICU = reason_car_surg_pct_ICU,\n",
    "            reason_car_surg_MCU = reason_car_surg_MCU,\n",
    "            reason_car_surg_pct_MCU = reason_car_surg_pct_MCU,\n",
    "\n",
    "            ## neurosurgery\n",
    "            reason_neu_surg_total = reason_neu_surg_total,\n",
    "            reason_neu_surg_pct_total = reason_neu_surg_pct_total,\n",
    "            reason_neu_surg_ICU = reason_neu_surg_ICU,\n",
    "            reason_neu_surg_pct_ICU = reason_neu_surg_pct_ICU,\n",
    "            reason_neu_surg_MCU = reason_neu_surg_MCU,\n",
    "            reason_neu_surg_pct_MCU = reason_neu_surg_pct_MCU,\n",
    "\n",
    "            ## gastro-intestinal surgery\n",
    "            reason_gi_surg_total = reason_gi_surg_total,\n",
    "            reason_gi_surg_pct_total = reason_gi_surg_pct_total,\n",
    "            reason_gi_surg_ICU = reason_gi_surg_ICU,\n",
    "            reason_gi_surg_pct_ICU = reason_gi_surg_pct_ICU,\n",
    "            reason_gi_surg_MCU = reason_gi_surg_MCU,\n",
    "            reason_gi_surg_pct_MCU = reason_gi_surg_pct_MCU,\n",
    "\n",
    "            ## cardiac arrest\n",
    "            reason_car_arrest_total = reason_car_arrest_total,\n",
    "            reason_car_arrest_pct_total = reason_car_arrest_pct_total,\n",
    "            reason_car_arrest_ICU = reason_car_arrest_ICU,\n",
    "            reason_car_arrest_pct_ICU = reason_car_arrest_pct_ICU,\n",
    "            reason_car_arrest_MCU = reason_car_arrest_MCU,\n",
    "            reason_car_arrest_pct_MCU = reason_car_arrest_pct_MCU,\n",
    "\n",
    "            ## vascular surgery\n",
    "            reason_vasc_surg_total = reason_vasc_surg_total,\n",
    "            reason_vasc_surg_pct_total = reason_vasc_surg_pct_total,\n",
    "            reason_vasc_surg_ICU = reason_vasc_surg_ICU,\n",
    "            reason_vasc_surg_pct_ICU = reason_vasc_surg_pct_ICU,\n",
    "            reason_vasc_surg_MCU = reason_vasc_surg_MCU,\n",
    "            reason_vasc_surg_pct_MCU = reason_vasc_surg_pct_MCU,\n",
    "\n",
    "            ## trauma\n",
    "            reason_trauma_total = reason_trauma_total,\n",
    "            reason_trauma_pct_total = reason_trauma_pct_total,\n",
    "            reason_trauma_ICU = reason_trauma_ICU,\n",
    "            reason_trauma_pct_ICU = reason_trauma_pct_ICU,\n",
    "            reason_trauma_MCU = reason_trauma_MCU,\n",
    "            reason_trauma_pct_MCU = reason_trauma_pct_MCU,\n",
    "\n",
    "            ## sepsis\n",
    "            reason_sepsis_total = reason_sepsis_total,\n",
    "            reason_sepsis_pct_total = reason_sepsis_pct_total,\n",
    "            reason_sepsis_ICU = reason_sepsis_ICU,\n",
    "            reason_sepsis_pct_ICU = reason_sepsis_pct_ICU,\n",
    "            reason_sepsis_MCU = reason_sepsis_MCU,\n",
    "            reason_sepsis_pct_MCU = reason_sepsis_pct_MCU,\n",
    "\n",
    "            ## respiratory failure\n",
    "            reason_resp_failure_total = reason_resp_failure_total,\n",
    "            reason_resp_failure_pct_total = reason_resp_failure_pct_total,\n",
    "            reason_resp_failure_ICU = reason_resp_failure_ICU,\n",
    "            reason_resp_failure_pct_ICU = reason_resp_failure_pct_ICU,\n",
    "            reason_resp_failure_MCU = reason_resp_failure_MCU,\n",
    "            reason_resp_failure_pct_MCU = reason_resp_failure_pct_MCU,\n",
    "    \n",
    "            ## neurologic disorders\n",
    "            reason_neuro_total = reason_neuro_total,\n",
    "            reason_neuro_pct_total = reason_neuro_pct_total,\n",
    "            reason_neuro_ICU = reason_neuro_ICU,\n",
    "            reason_neuro_pct_ICU = reason_neuro_pct_ICU,\n",
    "            reason_neuro_MCU = reason_neuro_MCU,\n",
    "            reason_neuro_pct_MCU = reason_neuro_pct_MCU,\n",
    "    \n",
    "            ## cardiologic disorders\n",
    "            reason_cardio_total = reason_cardio_total,\n",
    "            reason_cardio_pct_total = reason_cardio_pct_total,\n",
    "            reason_cardio_ICU = reason_cardio_ICU,\n",
    "            reason_cardio_pct_ICU = reason_cardio_pct_ICU,\n",
    "            reason_cardio_MCU = reason_cardio_MCU,\n",
    "            reason_cardio_pct_MCU = reason_cardio_pct_MCU\n",
    "        )\n",
    "    )\n",
    ")"
   ],
   "metadata": {
    "collapsed": false,
    "pycharm": {
     "name": "#%%\n"
    }
   }
  }
 ],
 "metadata": {
  "kernelspec": {
   "display_name": "Python 3 (ipykernel)",
   "language": "python",
   "name": "python3"
  },
  "language_info": {
   "codemirror_mode": {
    "name": "ipython",
    "version": 3
   },
   "file_extension": ".py",
   "mimetype": "text/x-python",
   "name": "python",
   "nbconvert_exporter": "python",
   "pygments_lexer": "ipython3",
   "version": "3.10.0"
  }
 },
 "nbformat": 4,
 "nbformat_minor": 4
}