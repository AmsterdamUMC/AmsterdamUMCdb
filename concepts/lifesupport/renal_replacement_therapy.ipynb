{
 "cells": [
  {
   "cell_type": "markdown",
   "metadata": {},
   "source": [
    "<img src=\"../../img/logo_amds.png\" alt=\"Logo\" style=\"width: 128px;\"/>\n",
    "\n",
    "# AmsterdamUMCdb - Freely Accessible ICU Database\n",
    "\n",
    "version 1.0.2 March 2020  \n",
    "Copyright &copy; 2003-2020 Amsterdam UMC - Amsterdam Medical Data Science"
   ]
  },
  {
   "cell_type": "markdown",
   "metadata": {},
   "source": [
    "# Renal replacement therapy\n",
    "Shows the mode or types of renal replacement therapy (artificial kidney), if any, a patient received. Includes common renal replacement therapy (RRT) parameters: RRT mode, blood flow rate, substitution fluid, substitution flow rate, net, ultrafiltration rate, filter session time and circuit pressures (arterial, venous, pre-filter, ultrafiltration, transmembrane).\n",
    "\n",
    "**Note**: Requires creating the [dictionaries](../../dictionaries/create_dictionaries.ipynb) before running this notebook."
   ]
  },
  {
   "cell_type": "markdown",
   "metadata": {},
   "source": [
    "## Imports"
   ]
  },
  {
   "cell_type": "code",
   "execution_count": 1,
   "metadata": {},
   "outputs": [],
   "source": [
    "%matplotlib inline\n",
    "import amsterdamumcdb\n",
    "import psycopg2\n",
    "import pandas as pd\n",
    "import numpy as np\n",
    "import re\n",
    "\n",
    "import matplotlib.pyplot as plt\n",
    "import matplotlib.gridspec as gridspec\n",
    "import matplotlib as mpl\n",
    "\n",
    "import io\n",
    "from IPython.display import display, HTML, Markdown"
   ]
  },
  {
   "cell_type": "markdown",
   "metadata": {},
   "source": [
    "## Display settings"
   ]
  },
  {
   "cell_type": "code",
   "execution_count": 2,
   "metadata": {},
   "outputs": [],
   "source": [
    "#matplotlib settings for image size\n",
    "#needs to be in a different cell from %matplotlib inline\n",
    "plt.style.use('seaborn-darkgrid')\n",
    "plt.rcParams[\"figure.dpi\"] = 288\n",
    "plt.rcParams[\"figure.figsize\"] = [16, 12]\n",
    "plt.rcParams[\"font.size\"] = 12\n",
    "\n",
    "pd.options.display.max_columns = None\n",
    "pd.options.display.max_rows = None\n",
    "pd.options.display.max_colwidth = 1000"
   ]
  },
  {
   "cell_type": "markdown",
   "metadata": {},
   "source": [
    "## Connection settings"
   ]
  },
  {
   "cell_type": "code",
   "execution_count": 3,
   "metadata": {},
   "outputs": [],
   "source": [
    "#Modify config.ini in the root folder of the repository to change the settings to connect to your postgreSQL database\n",
    "import configparser\n",
    "import os\n",
    "config = configparser.ConfigParser()\n",
    "\n",
    "if os.path.isfile('../../config.ini'):\n",
    "    config.read('../../config.ini')\n",
    "else:\n",
    "    config.read('../../config.SAMPLE.ini')\n",
    "\n",
    "#Open a connection to the postgres database:\n",
    "con = psycopg2.connect(database=config['psycopg2']['database'], \n",
    "                       user=config['psycopg2']['username'], password=config['psycopg2']['password'], \n",
    "                       host=config['psycopg2']['host'], port=config['psycopg2']['port'])\n",
    "con.set_client_encoding('WIN1252') #Uses code page for Dutch accented characters.\n",
    "con.set_session(autocommit=True)\n",
    "\n",
    "cursor = con.cursor()\n",
    "cursor.execute('SET SCHEMA \\'amsterdamumcdb\\''); #set search_path to amsterdamumcdb schema"
   ]
  },
  {
   "cell_type": "code",
   "execution_count": 4,
   "metadata": {},
   "outputs": [],
   "source": [
    "#loads the dictionary for fast lookup\n",
    "listitems_itemids = pd.read_csv('../../dictionaries/listitems_itemids.csv')\n",
    "numericitems_itemids = pd.read_csv('../../dictionaries/numericitems_itemids.csv')"
   ]
  },
  {
   "cell_type": "markdown",
   "metadata": {},
   "source": [
    "## Common renal replacement therapy parameters"
   ]
  },
  {
   "cell_type": "markdown",
   "metadata": {},
   "source": [
    "### renal replacement mode"
   ]
  },
  {
   "cell_type": "code",
   "execution_count": 5,
   "metadata": {},
   "outputs": [
    {
     "data": {
      "text/html": [
       "<div>\n",
       "<style scoped>\n",
       "    .dataframe tbody tr th:only-of-type {\n",
       "        vertical-align: middle;\n",
       "    }\n",
       "\n",
       "    .dataframe tbody tr th {\n",
       "        vertical-align: top;\n",
       "    }\n",
       "\n",
       "    .dataframe thead th {\n",
       "        text-align: right;\n",
       "    }\n",
       "</style>\n",
       "<table border=\"1\" class=\"dataframe\">\n",
       "  <thead>\n",
       "    <tr style=\"text-align: right;\">\n",
       "      <th></th>\n",
       "      <th>itemid</th>\n",
       "      <th>item</th>\n",
       "      <th>valueid</th>\n",
       "      <th>value</th>\n",
       "    </tr>\n",
       "  </thead>\n",
       "  <tbody>\n",
       "    <tr>\n",
       "      <th>1478</th>\n",
       "      <td>14846</td>\n",
       "      <td>MFT_Behandeling</td>\n",
       "      <td>1</td>\n",
       "      <td>SCUF</td>\n",
       "    </tr>\n",
       "    <tr>\n",
       "      <th>1479</th>\n",
       "      <td>14846</td>\n",
       "      <td>MFT_Behandeling</td>\n",
       "      <td>2</td>\n",
       "      <td>CVVH</td>\n",
       "    </tr>\n",
       "    <tr>\n",
       "      <th>1480</th>\n",
       "      <td>14846</td>\n",
       "      <td>MFT_Behandeling</td>\n",
       "      <td>3</td>\n",
       "      <td>HVCVVH</td>\n",
       "    </tr>\n",
       "    <tr>\n",
       "      <th>1481</th>\n",
       "      <td>14846</td>\n",
       "      <td>MFT_Behandeling</td>\n",
       "      <td>4</td>\n",
       "      <td>CVVHDF</td>\n",
       "    </tr>\n",
       "    <tr>\n",
       "      <th>1482</th>\n",
       "      <td>14846</td>\n",
       "      <td>MFT_Behandeling</td>\n",
       "      <td>6</td>\n",
       "      <td>MPS</td>\n",
       "    </tr>\n",
       "  </tbody>\n",
       "</table>\n",
       "</div>"
      ],
      "text/plain": [
       "      itemid             item  valueid   value\n",
       "1478   14846  MFT_Behandeling        1    SCUF\n",
       "1479   14846  MFT_Behandeling        2    CVVH\n",
       "1480   14846  MFT_Behandeling        3  HVCVVH\n",
       "1481   14846  MFT_Behandeling        4  CVVHDF\n",
       "1482   14846  MFT_Behandeling        6     MPS"
      ]
     },
     "execution_count": 5,
     "metadata": {},
     "output_type": "execute_result"
    }
   ],
   "source": [
    "listitems_itemids[listitems_itemids['item'].str.contains('MFT', flags=re.IGNORECASE)]"
   ]
  },
  {
   "cell_type": "markdown",
   "metadata": {},
   "source": [
    "### substitution fluids used\n",
    "Also known as replacement fluids."
   ]
  },
  {
   "cell_type": "code",
   "execution_count": 6,
   "metadata": {},
   "outputs": [
    {
     "data": {
      "text/html": [
       "<div>\n",
       "<style scoped>\n",
       "    .dataframe tbody tr th:only-of-type {\n",
       "        vertical-align: middle;\n",
       "    }\n",
       "\n",
       "    .dataframe tbody tr th {\n",
       "        vertical-align: top;\n",
       "    }\n",
       "\n",
       "    .dataframe thead th {\n",
       "        text-align: right;\n",
       "    }\n",
       "</style>\n",
       "<table border=\"1\" class=\"dataframe\">\n",
       "  <thead>\n",
       "    <tr style=\"text-align: right;\">\n",
       "      <th></th>\n",
       "      <th>itemid</th>\n",
       "      <th>item</th>\n",
       "      <th>valueid</th>\n",
       "      <th>value</th>\n",
       "    </tr>\n",
       "  </thead>\n",
       "  <tbody>\n",
       "    <tr>\n",
       "      <th>70</th>\n",
       "      <td>7672</td>\n",
       "      <td>Substitutie vloeistof</td>\n",
       "      <td>1</td>\n",
       "      <td>BH504</td>\n",
       "    </tr>\n",
       "    <tr>\n",
       "      <th>71</th>\n",
       "      <td>7672</td>\n",
       "      <td>Substitutie vloeistof</td>\n",
       "      <td>2</td>\n",
       "      <td>Citraat</td>\n",
       "    </tr>\n",
       "    <tr>\n",
       "      <th>72</th>\n",
       "      <td>7672</td>\n",
       "      <td>Substitutie vloeistof</td>\n",
       "      <td>4</td>\n",
       "      <td>HF32bic</td>\n",
       "    </tr>\n",
       "    <tr>\n",
       "      <th>73</th>\n",
       "      <td>7672</td>\n",
       "      <td>Substitutie vloeistof</td>\n",
       "      <td>6</td>\n",
       "      <td>BH504/HF32bic</td>\n",
       "    </tr>\n",
       "    <tr>\n",
       "      <th>4427</th>\n",
       "      <td>20548</td>\n",
       "      <td>CVVH behandel afspraken Substitutie PostDilutie</td>\n",
       "      <td>1</td>\n",
       "      <td>Bicarbonaat</td>\n",
       "    </tr>\n",
       "  </tbody>\n",
       "</table>\n",
       "</div>"
      ],
      "text/plain": [
       "      itemid                                             item  valueid  \\\n",
       "70      7672                            Substitutie vloeistof        1   \n",
       "71      7672                            Substitutie vloeistof        2   \n",
       "72      7672                            Substitutie vloeistof        4   \n",
       "73      7672                            Substitutie vloeistof        6   \n",
       "4427   20548  CVVH behandel afspraken Substitutie PostDilutie        1   \n",
       "\n",
       "              value  \n",
       "70            BH504  \n",
       "71          Citraat  \n",
       "72          HF32bic  \n",
       "73    BH504/HF32bic  \n",
       "4427    Bicarbonaat  "
      ]
     },
     "execution_count": 6,
     "metadata": {},
     "output_type": "execute_result"
    }
   ],
   "source": [
    "listitems_itemids[listitems_itemids['item'].str.contains(r'subst', flags=re.IGNORECASE)]"
   ]
  },
  {
   "cell_type": "markdown",
   "metadata": {},
   "source": [
    "### blood flow rate"
   ]
  },
  {
   "cell_type": "code",
   "execution_count": 7,
   "metadata": {},
   "outputs": [
    {
     "data": {
      "text/html": [
       "<div>\n",
       "<style scoped>\n",
       "    .dataframe tbody tr th:only-of-type {\n",
       "        vertical-align: middle;\n",
       "    }\n",
       "\n",
       "    .dataframe tbody tr th {\n",
       "        vertical-align: top;\n",
       "    }\n",
       "\n",
       "    .dataframe thead th {\n",
       "        text-align: right;\n",
       "    }\n",
       "</style>\n",
       "<table border=\"1\" class=\"dataframe\">\n",
       "  <thead>\n",
       "    <tr style=\"text-align: right;\">\n",
       "      <th></th>\n",
       "      <th>itemid</th>\n",
       "      <th>item</th>\n",
       "      <th>unitid</th>\n",
       "      <th>unit</th>\n",
       "    </tr>\n",
       "  </thead>\n",
       "  <tbody>\n",
       "    <tr>\n",
       "      <th>587</th>\n",
       "      <td>10736</td>\n",
       "      <td>Bloed-flow</td>\n",
       "      <td>24</td>\n",
       "      <td>ml/min</td>\n",
       "    </tr>\n",
       "    <tr>\n",
       "      <th>951</th>\n",
       "      <td>12444</td>\n",
       "      <td>Bloedflow ingesteld</td>\n",
       "      <td>24</td>\n",
       "      <td>ml/min</td>\n",
       "    </tr>\n",
       "    <tr>\n",
       "      <th>966</th>\n",
       "      <td>12460</td>\n",
       "      <td>Bloedflow</td>\n",
       "      <td>24</td>\n",
       "      <td>ml/min</td>\n",
       "    </tr>\n",
       "    <tr>\n",
       "      <th>1176</th>\n",
       "      <td>14850</td>\n",
       "      <td>MFT_Bloedflow (ingesteld)</td>\n",
       "      <td>24</td>\n",
       "      <td>ml/min</td>\n",
       "    </tr>\n",
       "    <tr>\n",
       "      <th>1637</th>\n",
       "      <td>20538</td>\n",
       "      <td>CVVH behandel afspraken Bloedflow</td>\n",
       "      <td>24</td>\n",
       "      <td>ml/min</td>\n",
       "    </tr>\n",
       "  </tbody>\n",
       "</table>\n",
       "</div>"
      ],
      "text/plain": [
       "      itemid                               item  unitid    unit\n",
       "587    10736                         Bloed-flow      24  ml/min\n",
       "951    12444                Bloedflow ingesteld      24  ml/min\n",
       "966    12460                          Bloedflow      24  ml/min\n",
       "1176   14850          MFT_Bloedflow (ingesteld)      24  ml/min\n",
       "1637   20538  CVVH behandel afspraken Bloedflow      24  ml/min"
      ]
     },
     "execution_count": 7,
     "metadata": {},
     "output_type": "execute_result"
    }
   ],
   "source": [
    "#possible renal replacement parameters from, numericitems\n",
    "numericitems_itemids[numericitems_itemids['item'].str.contains('(?<!ECMO.-.)bloed.*flow', flags=re.IGNORECASE)]"
   ]
  },
  {
   "cell_type": "markdown",
   "metadata": {},
   "source": [
    "### substitution flow rate (prescribed)\n",
    "Substitution flow rate,  predilution (=pre-filter substitution) flow rate, postdilution (=post-filter substitution) flow rate. Expressed as 'ml/h' or just 'ml'."
   ]
  },
  {
   "cell_type": "code",
   "execution_count": 8,
   "metadata": {},
   "outputs": [
    {
     "data": {
      "text/html": [
       "<div>\n",
       "<style scoped>\n",
       "    .dataframe tbody tr th:only-of-type {\n",
       "        vertical-align: middle;\n",
       "    }\n",
       "\n",
       "    .dataframe tbody tr th {\n",
       "        vertical-align: top;\n",
       "    }\n",
       "\n",
       "    .dataframe thead th {\n",
       "        text-align: right;\n",
       "    }\n",
       "</style>\n",
       "<table border=\"1\" class=\"dataframe\">\n",
       "  <thead>\n",
       "    <tr style=\"text-align: right;\">\n",
       "      <th></th>\n",
       "      <th>itemid</th>\n",
       "      <th>item</th>\n",
       "      <th>unitid</th>\n",
       "      <th>unit</th>\n",
       "    </tr>\n",
       "  </thead>\n",
       "  <tbody>\n",
       "    <tr>\n",
       "      <th>586</th>\n",
       "      <td>10735</td>\n",
       "      <td>Substitutie-flow</td>\n",
       "      <td>46</td>\n",
       "      <td>ml/uur</td>\n",
       "    </tr>\n",
       "    <tr>\n",
       "      <th>958</th>\n",
       "      <td>12451</td>\n",
       "      <td>Substitutie vloeistof volume ingesteld</td>\n",
       "      <td>6</td>\n",
       "      <td>ml</td>\n",
       "    </tr>\n",
       "    <tr>\n",
       "      <th>959</th>\n",
       "      <td>12452</td>\n",
       "      <td>Substitutieflow ingesteld</td>\n",
       "      <td>46</td>\n",
       "      <td>ml/uur</td>\n",
       "    </tr>\n",
       "    <tr>\n",
       "      <th>967</th>\n",
       "      <td>12461</td>\n",
       "      <td>Substitutieflow</td>\n",
       "      <td>46</td>\n",
       "      <td>ml/uur</td>\n",
       "    </tr>\n",
       "    <tr>\n",
       "      <th>1174</th>\n",
       "      <td>14848</td>\n",
       "      <td>MFT_Substituaat (ingesteld)</td>\n",
       "      <td>46</td>\n",
       "      <td>ml/uur</td>\n",
       "    </tr>\n",
       "    <tr>\n",
       "      <th>1640</th>\n",
       "      <td>20544</td>\n",
       "      <td>CVVH behandel afspraken PostDilutie Volume</td>\n",
       "      <td>6</td>\n",
       "      <td>ml</td>\n",
       "    </tr>\n",
       "    <tr>\n",
       "      <th>1641</th>\n",
       "      <td>20547</td>\n",
       "      <td>CVVH behandel afspraken PreDilutie Volume</td>\n",
       "      <td>6</td>\n",
       "      <td>ml</td>\n",
       "    </tr>\n",
       "    <tr>\n",
       "      <th>1660</th>\n",
       "      <td>20710</td>\n",
       "      <td>MFT_Predilutieflow (ingesteld)</td>\n",
       "      <td>46</td>\n",
       "      <td>ml/uur</td>\n",
       "    </tr>\n",
       "    <tr>\n",
       "      <th>1661</th>\n",
       "      <td>20716</td>\n",
       "      <td>MFT_Postdilutieflow (ingesteld)</td>\n",
       "      <td>46</td>\n",
       "      <td>ml/uur</td>\n",
       "    </tr>\n",
       "  </tbody>\n",
       "</table>\n",
       "</div>"
      ],
      "text/plain": [
       "      itemid                                        item  unitid    unit\n",
       "586    10735                            Substitutie-flow      46  ml/uur\n",
       "958    12451      Substitutie vloeistof volume ingesteld       6      ml\n",
       "959    12452                   Substitutieflow ingesteld      46  ml/uur\n",
       "967    12461                             Substitutieflow      46  ml/uur\n",
       "1174   14848                 MFT_Substituaat (ingesteld)      46  ml/uur\n",
       "1640   20544  CVVH behandel afspraken PostDilutie Volume       6      ml\n",
       "1641   20547   CVVH behandel afspraken PreDilutie Volume       6      ml\n",
       "1660   20710              MFT_Predilutieflow (ingesteld)      46  ml/uur\n",
       "1661   20716             MFT_Postdilutieflow (ingesteld)      46  ml/uur"
      ]
     },
     "execution_count": 8,
     "metadata": {},
     "output_type": "execute_result"
    }
   ],
   "source": [
    "numericitems_itemids[numericitems_itemids['item'].str.contains('(?:substituaat|substitutie|dilutie)(?!volume_totaal)(?!volume_huidig)', flags=re.IGNORECASE)]"
   ]
  },
  {
   "cell_type": "markdown",
   "metadata": {},
   "source": [
    "### substitution volume (delivered)"
   ]
  },
  {
   "cell_type": "code",
   "execution_count": 9,
   "metadata": {},
   "outputs": [
    {
     "data": {
      "text/html": [
       "<div>\n",
       "<style scoped>\n",
       "    .dataframe tbody tr th:only-of-type {\n",
       "        vertical-align: middle;\n",
       "    }\n",
       "\n",
       "    .dataframe tbody tr th {\n",
       "        vertical-align: top;\n",
       "    }\n",
       "\n",
       "    .dataframe thead th {\n",
       "        text-align: right;\n",
       "    }\n",
       "</style>\n",
       "<table border=\"1\" class=\"dataframe\">\n",
       "  <thead>\n",
       "    <tr style=\"text-align: right;\">\n",
       "      <th></th>\n",
       "      <th>itemid</th>\n",
       "      <th>item</th>\n",
       "      <th>unitid</th>\n",
       "      <th>unit</th>\n",
       "    </tr>\n",
       "  </thead>\n",
       "  <tbody>\n",
       "    <tr>\n",
       "      <th>1617</th>\n",
       "      <td>20076</td>\n",
       "      <td>MFT_Substitutievolume_totaal</td>\n",
       "      <td>8</td>\n",
       "      <td>l</td>\n",
       "    </tr>\n",
       "    <tr>\n",
       "      <th>1618</th>\n",
       "      <td>20077</td>\n",
       "      <td>MFT_Substitutievolume_huidig</td>\n",
       "      <td>8</td>\n",
       "      <td>l</td>\n",
       "    </tr>\n",
       "    <tr>\n",
       "      <th>1656</th>\n",
       "      <td>20706</td>\n",
       "      <td>MFT_Predilutievolume_huidig</td>\n",
       "      <td>8</td>\n",
       "      <td>l</td>\n",
       "    </tr>\n",
       "    <tr>\n",
       "      <th>1657</th>\n",
       "      <td>20707</td>\n",
       "      <td>MFT_Predilutievolume_totaal</td>\n",
       "      <td>8</td>\n",
       "      <td>l</td>\n",
       "    </tr>\n",
       "    <tr>\n",
       "      <th>1658</th>\n",
       "      <td>20708</td>\n",
       "      <td>MFT_Postdilutievolume_huidig</td>\n",
       "      <td>8</td>\n",
       "      <td>l</td>\n",
       "    </tr>\n",
       "    <tr>\n",
       "      <th>1659</th>\n",
       "      <td>20709</td>\n",
       "      <td>MFT_Postdilutievolume_totaal</td>\n",
       "      <td>8</td>\n",
       "      <td>l</td>\n",
       "    </tr>\n",
       "  </tbody>\n",
       "</table>\n",
       "</div>"
      ],
      "text/plain": [
       "      itemid                          item  unitid unit\n",
       "1617   20076  MFT_Substitutievolume_totaal       8    l\n",
       "1618   20077  MFT_Substitutievolume_huidig       8    l\n",
       "1656   20706   MFT_Predilutievolume_huidig       8    l\n",
       "1657   20707   MFT_Predilutievolume_totaal       8    l\n",
       "1658   20708  MFT_Postdilutievolume_huidig       8    l\n",
       "1659   20709  MFT_Postdilutievolume_totaal       8    l"
      ]
     },
     "execution_count": 9,
     "metadata": {},
     "output_type": "execute_result"
    }
   ],
   "source": [
    "numericitems_itemids[numericitems_itemids['item'].str.contains('(?:substituaat|substitutie|dilutie).*(?:_huidig|_totaal)', flags=re.IGNORECASE)]"
   ]
  },
  {
   "cell_type": "markdown",
   "metadata": {},
   "source": [
    "### Ultrafiltration rate (prescribed)"
   ]
  },
  {
   "cell_type": "code",
   "execution_count": 10,
   "metadata": {},
   "outputs": [
    {
     "data": {
      "text/html": [
       "<div>\n",
       "<style scoped>\n",
       "    .dataframe tbody tr th:only-of-type {\n",
       "        vertical-align: middle;\n",
       "    }\n",
       "\n",
       "    .dataframe tbody tr th {\n",
       "        vertical-align: top;\n",
       "    }\n",
       "\n",
       "    .dataframe thead th {\n",
       "        text-align: right;\n",
       "    }\n",
       "</style>\n",
       "<table border=\"1\" class=\"dataframe\">\n",
       "  <thead>\n",
       "    <tr style=\"text-align: right;\">\n",
       "      <th></th>\n",
       "      <th>itemid</th>\n",
       "      <th>item</th>\n",
       "      <th>unitid</th>\n",
       "      <th>unit</th>\n",
       "    </tr>\n",
       "  </thead>\n",
       "  <tbody>\n",
       "    <tr>\n",
       "      <th>1175</th>\n",
       "      <td>14849</td>\n",
       "      <td>MFT_Ultrafiltratie (ingesteld)</td>\n",
       "      <td>46</td>\n",
       "      <td>ml/uur</td>\n",
       "    </tr>\n",
       "    <tr>\n",
       "      <th>1177</th>\n",
       "      <td>14851</td>\n",
       "      <td>MFT_UF Totaal (ingesteld)</td>\n",
       "      <td>6</td>\n",
       "      <td>ml</td>\n",
       "    </tr>\n",
       "  </tbody>\n",
       "</table>\n",
       "</div>"
      ],
      "text/plain": [
       "      itemid                            item  unitid    unit\n",
       "1175   14849  MFT_Ultrafiltratie (ingesteld)      46  ml/uur\n",
       "1177   14851       MFT_UF Totaal (ingesteld)       6      ml"
      ]
     },
     "execution_count": 10,
     "metadata": {},
     "output_type": "execute_result"
    }
   ],
   "source": [
    "numericitems_itemids[numericitems_itemids['item'].str.contains('(?:UF\\s|ultrafiltratie|filtraatvolume)(?!_totaal)(?!_huidig)', flags=re.IGNORECASE)]"
   ]
  },
  {
   "cell_type": "markdown",
   "metadata": {},
   "source": [
    "### Ultrafiltration achieved"
   ]
  },
  {
   "cell_type": "code",
   "execution_count": 11,
   "metadata": {},
   "outputs": [
    {
     "data": {
      "text/html": [
       "<div>\n",
       "<style scoped>\n",
       "    .dataframe tbody tr th:only-of-type {\n",
       "        vertical-align: middle;\n",
       "    }\n",
       "\n",
       "    .dataframe tbody tr th {\n",
       "        vertical-align: top;\n",
       "    }\n",
       "\n",
       "    .dataframe thead th {\n",
       "        text-align: right;\n",
       "    }\n",
       "</style>\n",
       "<table border=\"1\" class=\"dataframe\">\n",
       "  <thead>\n",
       "    <tr style=\"text-align: right;\">\n",
       "      <th></th>\n",
       "      <th>itemid</th>\n",
       "      <th>item</th>\n",
       "      <th>unitid</th>\n",
       "      <th>unit</th>\n",
       "    </tr>\n",
       "  </thead>\n",
       "  <tbody>\n",
       "    <tr>\n",
       "      <th>1619</th>\n",
       "      <td>20078</td>\n",
       "      <td>MFT_Filtraatvolume_huidig</td>\n",
       "      <td>8</td>\n",
       "      <td>l</td>\n",
       "    </tr>\n",
       "    <tr>\n",
       "      <th>1620</th>\n",
       "      <td>20079</td>\n",
       "      <td>MFT_Filtraatvolume_totaal</td>\n",
       "      <td>8</td>\n",
       "      <td>l</td>\n",
       "    </tr>\n",
       "  </tbody>\n",
       "</table>\n",
       "</div>"
      ],
      "text/plain": [
       "      itemid                       item  unitid unit\n",
       "1619   20078  MFT_Filtraatvolume_huidig       8    l\n",
       "1620   20079  MFT_Filtraatvolume_totaal       8    l"
      ]
     },
     "execution_count": 11,
     "metadata": {},
     "output_type": "execute_result"
    }
   ],
   "source": [
    "numericitems_itemids[numericitems_itemids['item'].str.contains(r'(?:UF\\s|ultrafiltratie|filtraatvolume).*(?:_huidig|_totaal)', flags=re.IGNORECASE)]"
   ]
  },
  {
   "cell_type": "markdown",
   "metadata": {},
   "source": [
    "### Filter session time"
   ]
  },
  {
   "cell_type": "code",
   "execution_count": 12,
   "metadata": {},
   "outputs": [
    {
     "data": {
      "text/html": [
       "<div>\n",
       "<style scoped>\n",
       "    .dataframe tbody tr th:only-of-type {\n",
       "        vertical-align: middle;\n",
       "    }\n",
       "\n",
       "    .dataframe tbody tr th {\n",
       "        vertical-align: top;\n",
       "    }\n",
       "\n",
       "    .dataframe thead th {\n",
       "        text-align: right;\n",
       "    }\n",
       "</style>\n",
       "<table border=\"1\" class=\"dataframe\">\n",
       "  <thead>\n",
       "    <tr style=\"text-align: right;\">\n",
       "      <th></th>\n",
       "      <th>itemid</th>\n",
       "      <th>item</th>\n",
       "      <th>unitid</th>\n",
       "      <th>unit</th>\n",
       "    </tr>\n",
       "  </thead>\n",
       "  <tbody>\n",
       "    <tr>\n",
       "      <th>1630</th>\n",
       "      <td>20340</td>\n",
       "      <td>MFT_FilterLooptijd</td>\n",
       "      <td>5</td>\n",
       "      <td>uur</td>\n",
       "    </tr>\n",
       "  </tbody>\n",
       "</table>\n",
       "</div>"
      ],
      "text/plain": [
       "      itemid                item  unitid unit\n",
       "1630   20340  MFT_FilterLooptijd       5  uur"
      ]
     },
     "execution_count": 12,
     "metadata": {},
     "output_type": "execute_result"
    }
   ],
   "source": [
    "numericitems_itemids[numericitems_itemids['item'].str.contains('MFT_FilterLooptijd', flags=re.IGNORECASE)]"
   ]
  },
  {
   "cell_type": "markdown",
   "metadata": {},
   "source": [
    "### Pre-filter pressure\n",
    "Also known as Pre-blood entry (PBE) pressure"
   ]
  },
  {
   "cell_type": "code",
   "execution_count": 13,
   "metadata": {},
   "outputs": [
    {
     "data": {
      "text/html": [
       "<div>\n",
       "<style scoped>\n",
       "    .dataframe tbody tr th:only-of-type {\n",
       "        vertical-align: middle;\n",
       "    }\n",
       "\n",
       "    .dataframe tbody tr th {\n",
       "        vertical-align: top;\n",
       "    }\n",
       "\n",
       "    .dataframe thead th {\n",
       "        text-align: right;\n",
       "    }\n",
       "</style>\n",
       "<table border=\"1\" class=\"dataframe\">\n",
       "  <thead>\n",
       "    <tr style=\"text-align: right;\">\n",
       "      <th></th>\n",
       "      <th>itemid</th>\n",
       "      <th>item</th>\n",
       "      <th>unitid</th>\n",
       "      <th>unit</th>\n",
       "    </tr>\n",
       "  </thead>\n",
       "  <tbody>\n",
       "    <tr>\n",
       "      <th>123</th>\n",
       "      <td>7667</td>\n",
       "      <td>Pre Filter PBE</td>\n",
       "      <td>173</td>\n",
       "      <td>mmHg</td>\n",
       "    </tr>\n",
       "    <tr>\n",
       "      <th>953</th>\n",
       "      <td>12446</td>\n",
       "      <td>PBE max ingesteld</td>\n",
       "      <td>173</td>\n",
       "      <td>mmHg</td>\n",
       "    </tr>\n",
       "    <tr>\n",
       "      <th>1167</th>\n",
       "      <td>14839</td>\n",
       "      <td>MFT_Pre-filter druk</td>\n",
       "      <td>173</td>\n",
       "      <td>mmHg</td>\n",
       "    </tr>\n",
       "  </tbody>\n",
       "</table>\n",
       "</div>"
      ],
      "text/plain": [
       "      itemid                 item  unitid  unit\n",
       "123     7667       Pre Filter PBE     173  mmHg\n",
       "953    12446    PBE max ingesteld     173  mmHg\n",
       "1167   14839  MFT_Pre-filter druk     173  mmHg"
      ]
     },
     "execution_count": 13,
     "metadata": {},
     "output_type": "execute_result"
    }
   ],
   "source": [
    "numericitems_itemids[numericitems_itemids['item'].str.contains(r'Pre-filter|PBE', flags=re.IGNORECASE)]"
   ]
  },
  {
   "cell_type": "markdown",
   "metadata": {},
   "source": [
    "### Arterial pressure\n",
    "Also known as access pressure, pressure at circuit entry (negative pressure)"
   ]
  },
  {
   "cell_type": "code",
   "execution_count": 14,
   "metadata": {},
   "outputs": [
    {
     "data": {
      "text/html": [
       "<div>\n",
       "<style scoped>\n",
       "    .dataframe tbody tr th:only-of-type {\n",
       "        vertical-align: middle;\n",
       "    }\n",
       "\n",
       "    .dataframe tbody tr th {\n",
       "        vertical-align: top;\n",
       "    }\n",
       "\n",
       "    .dataframe thead th {\n",
       "        text-align: right;\n",
       "    }\n",
       "</style>\n",
       "<table border=\"1\" class=\"dataframe\">\n",
       "  <thead>\n",
       "    <tr style=\"text-align: right;\">\n",
       "      <th></th>\n",
       "      <th>itemid</th>\n",
       "      <th>item</th>\n",
       "      <th>unitid</th>\n",
       "      <th>unit</th>\n",
       "    </tr>\n",
       "  </thead>\n",
       "  <tbody>\n",
       "    <tr>\n",
       "      <th>122</th>\n",
       "      <td>7666</td>\n",
       "      <td>Arteriele druk</td>\n",
       "      <td>173</td>\n",
       "      <td>mmHg</td>\n",
       "    </tr>\n",
       "    <tr>\n",
       "      <th>1163</th>\n",
       "      <td>14835</td>\n",
       "      <td>MFT_Arteriele druk</td>\n",
       "      <td>173</td>\n",
       "      <td>mmHg</td>\n",
       "    </tr>\n",
       "  </tbody>\n",
       "</table>\n",
       "</div>"
      ],
      "text/plain": [
       "      itemid                item  unitid  unit\n",
       "122     7666      Arteriele druk     173  mmHg\n",
       "1163   14835  MFT_Arteriele druk     173  mmHg"
      ]
     },
     "execution_count": 14,
     "metadata": {},
     "output_type": "execute_result"
    }
   ],
   "source": [
    "numericitems_itemids[numericitems_itemids['item'].str.contains('art.*druk', flags=re.IGNORECASE)]"
   ]
  },
  {
   "cell_type": "markdown",
   "metadata": {},
   "source": [
    "### Venous pressure\n",
    "Also known as return pressure, pressure at circuit exit"
   ]
  },
  {
   "cell_type": "code",
   "execution_count": 15,
   "metadata": {},
   "outputs": [
    {
     "data": {
      "text/html": [
       "<div>\n",
       "<style scoped>\n",
       "    .dataframe tbody tr th:only-of-type {\n",
       "        vertical-align: middle;\n",
       "    }\n",
       "\n",
       "    .dataframe tbody tr th {\n",
       "        vertical-align: top;\n",
       "    }\n",
       "\n",
       "    .dataframe thead th {\n",
       "        text-align: right;\n",
       "    }\n",
       "</style>\n",
       "<table border=\"1\" class=\"dataframe\">\n",
       "  <thead>\n",
       "    <tr style=\"text-align: right;\">\n",
       "      <th></th>\n",
       "      <th>itemid</th>\n",
       "      <th>item</th>\n",
       "      <th>unitid</th>\n",
       "      <th>unit</th>\n",
       "    </tr>\n",
       "  </thead>\n",
       "  <tbody>\n",
       "    <tr>\n",
       "      <th>124</th>\n",
       "      <td>7668</td>\n",
       "      <td>Veneuze druk braun</td>\n",
       "      <td>173</td>\n",
       "      <td>mmHg</td>\n",
       "    </tr>\n",
       "    <tr>\n",
       "      <th>1165</th>\n",
       "      <td>14837</td>\n",
       "      <td>MFT_Veneuze druk</td>\n",
       "      <td>173</td>\n",
       "      <td>mmHg</td>\n",
       "    </tr>\n",
       "  </tbody>\n",
       "</table>\n",
       "</div>"
      ],
      "text/plain": [
       "      itemid                item  unitid  unit\n",
       "124     7668  Veneuze druk braun     173  mmHg\n",
       "1165   14837    MFT_Veneuze druk     173  mmHg"
      ]
     },
     "execution_count": 15,
     "metadata": {},
     "output_type": "execute_result"
    }
   ],
   "source": [
    "numericitems_itemids[numericitems_itemids['item'].str.contains(r'veneu.*druk', flags=re.IGNORECASE)]"
   ]
  },
  {
   "cell_type": "markdown",
   "metadata": {},
   "source": [
    "### Ultrafiltration pressure\n",
    "Also known as effluent pressure (or PD2)"
   ]
  },
  {
   "cell_type": "code",
   "execution_count": 16,
   "metadata": {},
   "outputs": [
    {
     "data": {
      "text/html": [
       "<div>\n",
       "<style scoped>\n",
       "    .dataframe tbody tr th:only-of-type {\n",
       "        vertical-align: middle;\n",
       "    }\n",
       "\n",
       "    .dataframe tbody tr th {\n",
       "        vertical-align: top;\n",
       "    }\n",
       "\n",
       "    .dataframe thead th {\n",
       "        text-align: right;\n",
       "    }\n",
       "</style>\n",
       "<table border=\"1\" class=\"dataframe\">\n",
       "  <thead>\n",
       "    <tr style=\"text-align: right;\">\n",
       "      <th></th>\n",
       "      <th>itemid</th>\n",
       "      <th>item</th>\n",
       "      <th>unitid</th>\n",
       "      <th>unit</th>\n",
       "    </tr>\n",
       "  </thead>\n",
       "  <tbody>\n",
       "    <tr>\n",
       "      <th>125</th>\n",
       "      <td>7671</td>\n",
       "      <td>Negatieve filterdruk</td>\n",
       "      <td>173</td>\n",
       "      <td>mmHg</td>\n",
       "    </tr>\n",
       "    <tr>\n",
       "      <th>1164</th>\n",
       "      <td>14836</td>\n",
       "      <td>MFT_Filtraat druk</td>\n",
       "      <td>173</td>\n",
       "      <td>mmHg</td>\n",
       "    </tr>\n",
       "  </tbody>\n",
       "</table>\n",
       "</div>"
      ],
      "text/plain": [
       "      itemid                  item  unitid  unit\n",
       "125     7671  Negatieve filterdruk     173  mmHg\n",
       "1164   14836     MFT_Filtraat druk     173  mmHg"
      ]
     },
     "execution_count": 16,
     "metadata": {},
     "output_type": "execute_result"
    }
   ],
   "source": [
    "numericitems_itemids[numericitems_itemids['item'].str.contains('(?<!pre-)filt.*druk', flags=re.IGNORECASE)]"
   ]
  },
  {
   "cell_type": "markdown",
   "metadata": {},
   "source": [
    "### Transmembrane pressure"
   ]
  },
  {
   "cell_type": "code",
   "execution_count": 17,
   "metadata": {},
   "outputs": [
    {
     "data": {
      "text/html": [
       "<div>\n",
       "<style scoped>\n",
       "    .dataframe tbody tr th:only-of-type {\n",
       "        vertical-align: middle;\n",
       "    }\n",
       "\n",
       "    .dataframe tbody tr th {\n",
       "        vertical-align: top;\n",
       "    }\n",
       "\n",
       "    .dataframe thead th {\n",
       "        text-align: right;\n",
       "    }\n",
       "</style>\n",
       "<table border=\"1\" class=\"dataframe\">\n",
       "  <thead>\n",
       "    <tr style=\"text-align: right;\">\n",
       "      <th></th>\n",
       "      <th>itemid</th>\n",
       "      <th>item</th>\n",
       "      <th>unitid</th>\n",
       "      <th>unit</th>\n",
       "    </tr>\n",
       "  </thead>\n",
       "  <tbody>\n",
       "    <tr>\n",
       "      <th>960</th>\n",
       "      <td>12453</td>\n",
       "      <td>TMP max ingesteld</td>\n",
       "      <td>173</td>\n",
       "      <td>mmHg</td>\n",
       "    </tr>\n",
       "    <tr>\n",
       "      <th>965</th>\n",
       "      <td>12459</td>\n",
       "      <td>TMP</td>\n",
       "      <td>173</td>\n",
       "      <td>mmHg</td>\n",
       "    </tr>\n",
       "    <tr>\n",
       "      <th>1166</th>\n",
       "      <td>14838</td>\n",
       "      <td>MFT_TMP</td>\n",
       "      <td>173</td>\n",
       "      <td>mmHg</td>\n",
       "    </tr>\n",
       "    <tr>\n",
       "      <th>1168</th>\n",
       "      <td>14840</td>\n",
       "      <td>MFT_TMP bovengrens</td>\n",
       "      <td>173</td>\n",
       "      <td>mmHg</td>\n",
       "    </tr>\n",
       "    <tr>\n",
       "      <th>1173</th>\n",
       "      <td>14845</td>\n",
       "      <td>MFT_TMP ondergrens</td>\n",
       "      <td>173</td>\n",
       "      <td>mmHg</td>\n",
       "    </tr>\n",
       "  </tbody>\n",
       "</table>\n",
       "</div>"
      ],
      "text/plain": [
       "      itemid                item  unitid  unit\n",
       "960    12453   TMP max ingesteld     173  mmHg\n",
       "965    12459                 TMP     173  mmHg\n",
       "1166   14838             MFT_TMP     173  mmHg\n",
       "1168   14840  MFT_TMP bovengrens     173  mmHg\n",
       "1173   14845  MFT_TMP ondergrens     173  mmHg"
      ]
     },
     "execution_count": 17,
     "metadata": {},
     "output_type": "execute_result"
    }
   ],
   "source": [
    "numericitems_itemids[numericitems_itemids['item'].str.contains('tmp', flags=re.IGNORECASE)]"
   ]
  },
  {
   "cell_type": "markdown",
   "metadata": {},
   "source": [
    "## Renal replacement therapy: summary per admission"
   ]
  },
  {
   "cell_type": "code",
   "execution_count": 18,
   "metadata": {},
   "outputs": [
    {
     "data": {
      "text/html": [
       "<div>\n",
       "<style scoped>\n",
       "    .dataframe tbody tr th:only-of-type {\n",
       "        vertical-align: middle;\n",
       "    }\n",
       "\n",
       "    .dataframe tbody tr th {\n",
       "        vertical-align: top;\n",
       "    }\n",
       "\n",
       "    .dataframe thead th {\n",
       "        text-align: right;\n",
       "    }\n",
       "</style>\n",
       "<table border=\"1\" class=\"dataframe\">\n",
       "  <thead>\n",
       "    <tr style=\"text-align: right;\">\n",
       "      <th></th>\n",
       "      <th>admissionid</th>\n",
       "      <th>renal_replacement_bool</th>\n",
       "      <th>renal_replacement_max_blood_flow</th>\n",
       "      <th>renal_replacement_modes</th>\n",
       "    </tr>\n",
       "  </thead>\n",
       "  <tbody>\n",
       "    <tr>\n",
       "      <th>0</th>\n",
       "      <td>37</td>\n",
       "      <td>True</td>\n",
       "      <td>180.0</td>\n",
       "      <td>HVCVVH</td>\n",
       "    </tr>\n",
       "    <tr>\n",
       "      <th>1</th>\n",
       "      <td>47</td>\n",
       "      <td>True</td>\n",
       "      <td>180.0</td>\n",
       "      <td>HVCVVH</td>\n",
       "    </tr>\n",
       "    <tr>\n",
       "      <th>2</th>\n",
       "      <td>54</td>\n",
       "      <td>True</td>\n",
       "      <td>180.0</td>\n",
       "      <td>CVVH</td>\n",
       "    </tr>\n",
       "    <tr>\n",
       "      <th>3</th>\n",
       "      <td>194</td>\n",
       "      <td>True</td>\n",
       "      <td>250.0</td>\n",
       "      <td>CVVH</td>\n",
       "    </tr>\n",
       "    <tr>\n",
       "      <th>4</th>\n",
       "      <td>197</td>\n",
       "      <td>True</td>\n",
       "      <td>220.0</td>\n",
       "      <td>CVVH</td>\n",
       "    </tr>\n",
       "  </tbody>\n",
       "</table>\n",
       "</div>"
      ],
      "text/plain": [
       "   admissionid  renal_replacement_bool  renal_replacement_max_blood_flow  \\\n",
       "0           37                    True                             180.0   \n",
       "1           47                    True                             180.0   \n",
       "2           54                    True                             180.0   \n",
       "3          194                    True                             250.0   \n",
       "4          197                    True                             220.0   \n",
       "\n",
       "  renal_replacement_modes  \n",
       "0                  HVCVVH  \n",
       "1                  HVCVVH  \n",
       "2                    CVVH  \n",
       "3                    CVVH  \n",
       "4                    CVVH  "
      ]
     },
     "execution_count": 18,
     "metadata": {},
     "output_type": "execute_result"
    }
   ],
   "source": [
    "sql_renal_replacement = \"\"\"\n",
    "WITH rrt_bloodflow AS (\n",
    "    SELECT \n",
    "        n.admissionid,\n",
    "    CASE\n",
    "        WHEN COUNT(*) > 0 THEN TRUE\n",
    "        ELSE FALSE\n",
    "    END AS renal_replacement_bool,\n",
    "    MAX(n.value) AS renal_replacement_max_blood_flow\n",
    "    FROM numericitems n\n",
    "    WHERE n.itemid IN (\n",
    "            10736, --Bloed-flow\n",
    "            12460, --Bloedflow\n",
    "            14850 --MFT_Bloedflow (ingesteld): Fresenius multiFiltrate blood flow\n",
    "        )\n",
    "        AND n.value > 0\n",
    "    GROUP BY n.admissionid\n",
    "), rrt_mode AS (    \n",
    "    SELECT \n",
    "    admissionid,\n",
    "    STRING_AGG(DISTINCT value, '; ') AS renal_replacement_modes\n",
    "    FROM listitems l \n",
    "    WHERE l.itemid IN (\n",
    "            14846 -- MFT_Behandeling: Fresenius multiFiltrate mode\n",
    "        )\n",
    "    GROUP BY l.admissionid\n",
    ")\n",
    "SELECT bf.*, m.renal_replacement_modes\n",
    "FROM rrt_bloodflow bf\n",
    "LEFT JOIN rrt_mode m ON\n",
    "    bf.admissionid = m.admissionid\n",
    "\"\"\"            \n",
    "renal_replacement = pd.read_sql(sql_renal_replacement,con)\n",
    "renal_replacement.head()"
   ]
  }
 ],
 "metadata": {
  "kernelspec": {
   "display_name": "Python 3",
   "language": "python",
   "name": "python3"
  },
  "language_info": {
   "codemirror_mode": {
    "name": "ipython",
    "version": 3
   },
   "file_extension": ".py",
   "mimetype": "text/x-python",
   "name": "python",
   "nbconvert_exporter": "python",
   "pygments_lexer": "ipython3",
   "version": "3.7.4"
  }
 },
 "nbformat": 4,
 "nbformat_minor": 2
}
