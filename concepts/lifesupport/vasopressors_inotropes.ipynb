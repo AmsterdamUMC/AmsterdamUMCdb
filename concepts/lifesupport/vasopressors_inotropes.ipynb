{
 "cells": [
  {
   "cell_type": "markdown",
   "metadata": {},
   "source": [
    "<img src=\"../../img/logo_amds.png\" alt=\"Logo\" style=\"width: 128px;\"/>\n",
    "\n",
    "# AmsterdamUMCdb - Freely Accessible ICU Database\n",
    "\n",
    "version 1.0.2 March 2020  \n",
    "Copyright &copy; 2003-2020 Amsterdam UMC - Amsterdam Medical Data Science"
   ]
  },
  {
   "cell_type": "markdown",
   "metadata": {},
   "source": [
    "# Vasopressors and inotropes\n",
    "Shows medication for artificially increasing blood pressure (vasopressors) or stimulating heart function (inotropes), if any, a patient received."
   ]
  },
  {
   "cell_type": "markdown",
   "metadata": {},
   "source": [
    "## Imports"
   ]
  },
  {
   "cell_type": "code",
   "execution_count": 1,
   "metadata": {},
   "outputs": [],
   "source": [
    "%matplotlib inline\n",
    "import amsterdamumcdb\n",
    "import psycopg2\n",
    "import pandas as pd\n",
    "import numpy as np\n",
    "import re\n",
    "\n",
    "import matplotlib.pyplot as plt\n",
    "import matplotlib.gridspec as gridspec\n",
    "import matplotlib as mpl\n",
    "\n",
    "import io\n",
    "from IPython.display import display, HTML, Markdown"
   ]
  },
  {
   "cell_type": "markdown",
   "metadata": {},
   "source": [
    "## Display settings"
   ]
  },
  {
   "cell_type": "code",
   "execution_count": 2,
   "metadata": {},
   "outputs": [],
   "source": [
    "#matplotlib settings for image size\n",
    "#needs to be in a different cell from %matplotlib inline\n",
    "plt.style.use('seaborn-darkgrid')\n",
    "plt.rcParams[\"figure.dpi\"] = 288\n",
    "plt.rcParams[\"figure.figsize\"] = [16, 12]\n",
    "plt.rcParams[\"font.size\"] = 12\n",
    "\n",
    "pd.options.display.max_columns = None\n",
    "pd.options.display.max_rows = None\n",
    "pd.options.display.max_colwidth = 1000"
   ]
  },
  {
   "cell_type": "markdown",
   "metadata": {},
   "source": [
    "## Connection settings"
   ]
  },
  {
   "cell_type": "code",
   "execution_count": 3,
   "metadata": {},
   "outputs": [],
   "source": [
    "#Modify config.ini in the root folder of the repository to change the settings to connect to your postgreSQL database\n",
    "import configparser\n",
    "import os\n",
    "config = configparser.ConfigParser()\n",
    "\n",
    "if os.path.isfile('../../config.ini'):\n",
    "    config.read('../../config.ini')\n",
    "else:\n",
    "    config.read('../../config.SAMPLE.ini')\n",
    "\n",
    "#Open a connection to the postgres database:\n",
    "con = psycopg2.connect(database=config['psycopg2']['database'], \n",
    "                       user=config['psycopg2']['username'], password=config['psycopg2']['password'], \n",
    "                       host=config['psycopg2']['host'], port=config['psycopg2']['port'])\n",
    "con.set_client_encoding('WIN1252') #Uses code page for Dutch accented characters.\n",
    "con.set_session(autocommit=True)\n",
    "\n",
    "cursor = con.cursor()\n",
    "cursor.execute('SET SCHEMA \\'amsterdamumcdb\\''); #set search_path to amsterdamumcdb schema"
   ]
  },
  {
   "cell_type": "markdown",
   "metadata": {},
   "source": [
    "## Vasopressors and inotropes\n",
    "from drugitems"
   ]
  },
  {
   "cell_type": "code",
   "execution_count": 4,
   "metadata": {},
   "outputs": [
    {
     "data": {
      "text/html": [
       "<div>\n",
       "<style scoped>\n",
       "    .dataframe tbody tr th:only-of-type {\n",
       "        vertical-align: middle;\n",
       "    }\n",
       "\n",
       "    .dataframe tbody tr th {\n",
       "        vertical-align: top;\n",
       "    }\n",
       "\n",
       "    .dataframe thead th {\n",
       "        text-align: right;\n",
       "    }\n",
       "</style>\n",
       "<table border=\"1\" class=\"dataframe\">\n",
       "  <thead>\n",
       "    <tr style=\"text-align: right;\">\n",
       "      <th></th>\n",
       "      <th>admissionid</th>\n",
       "      <th>location</th>\n",
       "      <th>vasopressors_inotropes_bool</th>\n",
       "      <th>vasopressors_inotropes_given</th>\n",
       "    </tr>\n",
       "  </thead>\n",
       "  <tbody>\n",
       "    <tr>\n",
       "      <th>23101</th>\n",
       "      <td>23548</td>\n",
       "      <td>IC&amp;MC</td>\n",
       "      <td>True</td>\n",
       "      <td>Noradrenaline (Norepinefrine)</td>\n",
       "    </tr>\n",
       "    <tr>\n",
       "      <th>23102</th>\n",
       "      <td>23549</td>\n",
       "      <td>MC</td>\n",
       "      <td>True</td>\n",
       "      <td>Noradrenaline (Norepinefrine)</td>\n",
       "    </tr>\n",
       "    <tr>\n",
       "      <th>23103</th>\n",
       "      <td>23550</td>\n",
       "      <td>IC</td>\n",
       "      <td>False</td>\n",
       "      <td>None</td>\n",
       "    </tr>\n",
       "    <tr>\n",
       "      <th>23104</th>\n",
       "      <td>23551</td>\n",
       "      <td>IC</td>\n",
       "      <td>True</td>\n",
       "      <td>Noradrenaline (Norepinefrine)</td>\n",
       "    </tr>\n",
       "    <tr>\n",
       "      <th>23105</th>\n",
       "      <td>23552</td>\n",
       "      <td>MC</td>\n",
       "      <td>False</td>\n",
       "      <td>None</td>\n",
       "    </tr>\n",
       "  </tbody>\n",
       "</table>\n",
       "</div>"
      ],
      "text/plain": [
       "       admissionid location  vasopressors_inotropes_bool  \\\n",
       "23101        23548    IC&MC                         True   \n",
       "23102        23549       MC                         True   \n",
       "23103        23550       IC                        False   \n",
       "23104        23551       IC                         True   \n",
       "23105        23552       MC                        False   \n",
       "\n",
       "        vasopressors_inotropes_given  \n",
       "23101  Noradrenaline (Norepinefrine)  \n",
       "23102  Noradrenaline (Norepinefrine)  \n",
       "23103                           None  \n",
       "23104  Noradrenaline (Norepinefrine)  \n",
       "23105                           None  "
      ]
     },
     "execution_count": 4,
     "metadata": {},
     "output_type": "execute_result"
    }
   ],
   "source": [
    "sql_vaso_ino = \"\"\"\n",
    "WITH vasopressor_inotropes AS (\n",
    "    SELECT\n",
    "        admissionid,\n",
    "        CASE \n",
    "            WHEN COUNT(*) > 0 THEN TRUE\n",
    "            ELSE FALSE\n",
    "        END AS vasopressors_inotropes_bool,\n",
    "        STRING_AGG(DISTINCT item, '; ') AS vasopressors_inotropes_given\n",
    "    FROM drugitems\n",
    "    WHERE \n",
    "        ordercategoryid = 65 -- continuous i.v. perfusor\n",
    "        AND itemid IN (\n",
    "            6818, -- Adrenaline (Epinefrine)\n",
    "            7135, -- Isoprenaline (Isuprel)\n",
    "            7178, -- Dobutamine (Dobutrex)\n",
    "            7179, -- Dopamine (Inotropin)\n",
    "            7196, -- Enoximon (Perfan)\n",
    "            7229, -- Noradrenaline (Norepinefrine)\n",
    "            12467, -- Terlipressine (Glypressin)\n",
    "            13490, -- Methyleenblauw IV (Methylthionide cloride)\n",
    "            19929 -- Fenylefrine\n",
    "        )\n",
    "        AND rate > 0.1\n",
    "    GROUP BY admissionid\n",
    ")\n",
    "SELECT\n",
    "    a.admissionid, location, \n",
    "    CASE \n",
    "        WHEN vi.vasopressors_inotropes_bool Then TRUE\n",
    "        ELSE FALSE\n",
    "    END AS vasopressors_inotropes_bool,\n",
    "    vasopressors_inotropes_given\n",
    "FROM admissions a\n",
    "LEFT JOIN vasopressor_inotropes vi ON\n",
    "    a.admissionid = vi.admissionid\n",
    "\"\"\"\n",
    "vaso_ino = pd.read_sql(sql_vaso_ino,con)\n",
    "vaso_ino.tail()"
   ]
  }
 ],
 "metadata": {
  "kernelspec": {
   "display_name": "Python 3",
   "language": "python",
   "name": "python3"
  },
  "language_info": {
   "codemirror_mode": {
    "name": "ipython",
    "version": 3
   },
   "file_extension": ".py",
   "mimetype": "text/x-python",
   "name": "python",
   "nbconvert_exporter": "python",
   "pygments_lexer": "ipython3",
   "version": "3.7.4"
  }
 },
 "nbformat": 4,
 "nbformat_minor": 2
}